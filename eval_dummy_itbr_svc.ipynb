{
 "cells": [
  {
   "cell_type": "code",
   "execution_count": 1,
   "metadata": {},
   "outputs": [],
   "source": [
    "from config import *\n",
    "from utilities import get_model_name\n",
    "from dataset import ClassificationDataset\n",
    "\n",
    "import functools\n",
    "import numpy as np\n",
    "import pandas as pd\n",
    "\n",
    "results_dict = {}\n",
    "internal, external = 11, 12\n",
    "encode_method = \"dummy\"\n",
    "impute_method = \"itbr\"\n",
    "fs_method, fs_ratio = \"svc\", 0.5\n",
    "norm_method = \"maxmin\"\n",
    "classification_dataset = ClassificationDataset(\n",
    "    internal, external, encode_method, impute_method, fs_method, fs_ratio, norm_method, random_state=SEED)"
   ]
  },
  {
   "cell_type": "code",
   "execution_count": 2,
   "metadata": {},
   "outputs": [
    {
     "name": "stdout",
     "output_type": "stream",
     "text": [
      "SVC\n",
      "model(kernel=linear, C=0.01)\n",
      "Valid:         AUC: 0.9159 | AUPR: 0.6215 | Acc: 94.97%\n",
      "model(kernel=linear, C=0.1)\n",
      "Valid:         AUC: 0.9197 | AUPR: 0.6300 | Acc: 95.08%\n",
      "model(kernel=linear, C=1)\n",
      "Valid:         AUC: 0.9199 | AUPR: 0.6280 | Acc: 95.06%\n",
      "=======================================================\n",
      "best model(kernel=linear, C=1)\n",
      "Valid:         AUC: 0.9199 | AUPR: 0.6280 | Acc: 95.06%\n",
      "Internal test: AUC: 0.9257 | AUPR: 0.6636 | Acc: 94.91%\n",
      "External test: AUC: 0.9142 | AUPR: 0.6010 | Acc: 94.54%\n"
     ]
    }
   ],
   "source": [
    "from sklearn.svm import SVC\n",
    "\n",
    "model_fn = functools.partial(\n",
    "    SVC, random_state=SEED, probability=True,\n",
    "    class_weight='balanced')\n",
    "param_grid_list = [{\n",
    "    'kernel': ['linear'],\n",
    "    'C': [0.01, 0.1, 1],\n",
    "}]\n",
    "best_metrics, best_params, best_model = classification_dataset.perform_grid_search(model_fn, param_grid_list)\n",
    "metrics_internal, metrics_external = classification_dataset.evaluate_test_sets(best_model)\n",
    "results_dict[get_model_name(model_fn)] = np.concatenate([best_metrics, metrics_internal, metrics_external], axis=0)"
   ]
  },
  {
   "cell_type": "code",
   "execution_count": 3,
   "metadata": {},
   "outputs": [
    {
     "name": "stdout",
     "output_type": "stream",
     "text": [
      "KNeighborsClassifier\n",
      "model(n_neighbors=3)\n",
      "Valid:         AUC: 0.7499 | AUPR: 0.4168 | Acc: 94.73%\n",
      "model(n_neighbors=5)\n",
      "Valid:         AUC: 0.7774 | AUPR: 0.4612 | Acc: 94.93%\n",
      "model(n_neighbors=7)\n",
      "Valid:         AUC: 0.7963 | AUPR: 0.4858 | Acc: 95.08%\n",
      "=======================================================\n",
      "best model(n_neighbors=7)\n",
      "Valid:         AUC: 0.7963 | AUPR: 0.4858 | Acc: 95.08%\n",
      "Internal test: AUC: 0.8111 | AUPR: 0.5083 | Acc: 94.79%\n",
      "External test: AUC: 0.7984 | AUPR: 0.4830 | Acc: 94.67%\n"
     ]
    }
   ],
   "source": [
    "from sklearn.neighbors import KNeighborsClassifier\n",
    "\n",
    "model_fn = functools.partial(\n",
    "    KNeighborsClassifier, n_jobs=-1, algorithm='auto', p=2)\n",
    "param_grid_list = [{\n",
    "    'n_neighbors': [3, 5, 7],\n",
    "}]\n",
    "best_metrics, best_params, best_model = classification_dataset.perform_grid_search(model_fn, param_grid_list)\n",
    "metrics_internal, metrics_external = classification_dataset.evaluate_test_sets(best_model)\n",
    "results_dict[get_model_name(model_fn)] = np.concatenate([best_metrics, metrics_internal, metrics_external], axis=0)"
   ]
  },
  {
   "cell_type": "code",
   "execution_count": 4,
   "metadata": {},
   "outputs": [
    {
     "name": "stdout",
     "output_type": "stream",
     "text": [
      "GaussianNB\n",
      "model()\n",
      "Valid:         AUC: 0.8852 | AUPR: 0.4819 | Acc: 86.28%\n",
      "=======================================================\n",
      "best model()\n",
      "Valid:         AUC: 0.8852 | AUPR: 0.4819 | Acc: 86.28%\n",
      "Internal test: AUC: 0.8983 | AUPR: 0.5336 | Acc: 88.76%\n",
      "External test: AUC: 0.8872 | AUPR: 0.4804 | Acc: 87.62%\n"
     ]
    }
   ],
   "source": [
    "from sklearn.naive_bayes import GaussianNB\n",
    "\n",
    "model_fn = GaussianNB\n",
    "param_grid_list = [{}]\n",
    "best_metrics, best_params, best_model = classification_dataset.perform_grid_search(model_fn, param_grid_list)\n",
    "metrics_internal, metrics_external = classification_dataset.evaluate_test_sets(best_model)\n",
    "results_dict[get_model_name(model_fn)] = np.concatenate([best_metrics, metrics_internal, metrics_external], axis=0)"
   ]
  },
  {
   "cell_type": "code",
   "execution_count": 5,
   "metadata": {},
   "outputs": [
    {
     "name": "stdout",
     "output_type": "stream",
     "text": [
      "LogisticRegression\n",
      "model(C=1.0)\n",
      "Valid:         AUC: 0.9198 | AUPR: 0.6545 | Acc: 95.47%\n",
      "model(C=10.0)\n",
      "Valid:         AUC: 0.9204 | AUPR: 0.6551 | Acc: 95.43%\n",
      "model(C=100.0)\n",
      "Valid:         AUC: 0.9206 | AUPR: 0.6555 | Acc: 95.39%\n",
      "=======================================================\n",
      "best model(C=100.0)\n",
      "Valid:         AUC: 0.9206 | AUPR: 0.6555 | Acc: 95.39%\n",
      "Internal test: AUC: 0.9287 | AUPR: 0.6764 | Acc: 95.28%\n",
      "External test: AUC: 0.9146 | AUPR: 0.6212 | Acc: 94.94%\n"
     ]
    }
   ],
   "source": [
    "# from sklearn.exceptions import ConvergenceWarning\n",
    "# import warnings\n",
    "# warnings.filterwarnings(\"ignore\", category=ConvergenceWarning)\n",
    "from sklearn.linear_model import LogisticRegression\n",
    "\n",
    "model_fn = functools.partial(\n",
    "    LogisticRegression, random_state=SEED, n_jobs=-1, \n",
    "    max_iter=2000, solver='saga', penalty='l2',\n",
    "    )\n",
    "param_grid_list = [{\n",
    "    'C': [1.0, 10.0, 100.0],\n",
    "}]\n",
    "best_metrics, best_params, best_model = classification_dataset.perform_grid_search(\n",
    "    model_fn, param_grid_list)\n",
    "metrics_internal, metrics_external = classification_dataset.evaluate_test_sets(\n",
    "    best_model)\n",
    "results_dict[get_model_name(model_fn)] = np.concatenate([best_metrics, metrics_internal, metrics_external], axis=0)"
   ]
  },
  {
   "cell_type": "code",
   "execution_count": 6,
   "metadata": {},
   "outputs": [
    {
     "name": "stdout",
     "output_type": "stream",
     "text": [
      "MLPClassifier\n",
      "model(hidden_layer_sizes=(50, 50), learning_rate_init=0.0003)\n",
      "Valid:         AUC: 0.9070 | AUPR: 0.6226 | Acc: 95.19%\n",
      "model(hidden_layer_sizes=(50, 50), learning_rate_init=0.001)\n",
      "Valid:         AUC: 0.9172 | AUPR: 0.6560 | Acc: 95.46%\n",
      "=======================================================\n",
      "best model(hidden_layer_sizes=(50, 50), learning_rate_init=0.001)\n",
      "Valid:         AUC: 0.9172 | AUPR: 0.6560 | Acc: 95.46%\n",
      "Internal test: AUC: 0.9230 | AUPR: 0.6701 | Acc: 95.18%\n",
      "External test: AUC: 0.9127 | AUPR: 0.6344 | Acc: 94.95%\n"
     ]
    }
   ],
   "source": [
    "from sklearn.neural_network import MLPClassifier\n",
    "\n",
    "model_fn = functools.partial(\n",
    "    MLPClassifier, random_state=SEED, max_iter=1000,\n",
    "    activation='relu',\n",
    "    solver='sgd', nesterovs_momentum=True, momentum=0.9)\n",
    "param_grid_list = [{\n",
    "    # 'hidden_layer_sizes': [(100,), (50, 50), (50, 100, 50)],\n",
    "    'hidden_layer_sizes': [(50, 50)],\n",
    "    'learning_rate_init': [0.0003, 0.001],\n",
    "}]\n",
    "best_metrics, best_params, best_model = classification_dataset.perform_grid_search(model_fn, param_grid_list)\n",
    "metrics_internal, metrics_external = classification_dataset.evaluate_test_sets(best_model)\n",
    "results_dict[get_model_name(model_fn)] = np.concatenate([best_metrics, metrics_internal, metrics_external], axis=0)"
   ]
  },
  {
   "cell_type": "code",
   "execution_count": 7,
   "metadata": {},
   "outputs": [
    {
     "name": "stdout",
     "output_type": "stream",
     "text": [
      "DecisionTreeClassifier\n",
      "model(criterion=gini)\n",
      "Valid:         AUC: 0.8755 | AUPR: 0.5615 | Acc: 85.38%\n",
      "model(criterion=log_loss)\n",
      "Valid:         AUC: 0.8779 | AUPR: 0.5724 | Acc: 84.65%\n",
      "model(criterion=entropy)\n",
      "Valid:         AUC: 0.8779 | AUPR: 0.5724 | Acc: 84.65%\n",
      "=======================================================\n",
      "best model(criterion=log_loss)\n",
      "Valid:         AUC: 0.8779 | AUPR: 0.5724 | Acc: 84.65%\n",
      "Internal test: AUC: 0.8823 | AUPR: 0.6033 | Acc: 88.91%\n",
      "External test: AUC: 0.8744 | AUPR: 0.5694 | Acc: 88.15%\n"
     ]
    }
   ],
   "source": [
    "from sklearn.tree import DecisionTreeClassifier\n",
    "\n",
    "model_fn = functools.partial(\n",
    "    DecisionTreeClassifier, random_state=SEED,\n",
    "    ccp_alpha=0.0, class_weight='balanced', max_depth=5)\n",
    "param_grid_list = [{\n",
    "        'criterion': ['gini', 'log_loss', 'entropy'],\n",
    "    }\n",
    "]\n",
    "best_metrics, best_params, best_model = classification_dataset.perform_grid_search(model_fn, param_grid_list)\n",
    "metrics_internal, metrics_external = classification_dataset.evaluate_test_sets(best_model)\n",
    "results_dict[get_model_name(model_fn)] = np.concatenate([best_metrics, metrics_internal, metrics_external], axis=0)"
   ]
  },
  {
   "cell_type": "code",
   "execution_count": 8,
   "metadata": {},
   "outputs": [
    {
     "name": "stdout",
     "output_type": "stream",
     "text": [
      "RandomForestClassifier\n",
      "model(criterion=gini, n_estimators=50)\n",
      "Valid:         AUC: 0.9174 | AUPR: 0.6603 | Acc: 89.44%\n",
      "model(criterion=gini, n_estimators=100)\n",
      "Valid:         AUC: 0.9171 | AUPR: 0.6595 | Acc: 89.67%\n",
      "model(criterion=gini, n_estimators=200)\n",
      "Valid:         AUC: 0.9174 | AUPR: 0.6600 | Acc: 89.76%\n",
      "model(criterion=log_loss, n_estimators=50)\n",
      "Valid:         AUC: 0.9168 | AUPR: 0.6606 | Acc: 89.43%\n",
      "model(criterion=log_loss, n_estimators=100)\n",
      "Valid:         AUC: 0.9171 | AUPR: 0.6610 | Acc: 89.75%\n",
      "model(criterion=log_loss, n_estimators=200)\n",
      "Valid:         AUC: 0.9170 | AUPR: 0.6611 | Acc: 89.81%\n",
      "model(criterion=entropy, n_estimators=50)\n",
      "Valid:         AUC: 0.9168 | AUPR: 0.6606 | Acc: 89.43%\n",
      "model(criterion=entropy, n_estimators=100)\n",
      "Valid:         AUC: 0.9171 | AUPR: 0.6610 | Acc: 89.75%\n",
      "model(criterion=entropy, n_estimators=200)\n",
      "Valid:         AUC: 0.9170 | AUPR: 0.6611 | Acc: 89.81%\n",
      "=======================================================\n",
      "best model(criterion=gini, n_estimators=50)\n",
      "Valid:         AUC: 0.9174 | AUPR: 0.6603 | Acc: 89.44%\n",
      "Internal test: AUC: 0.9268 | AUPR: 0.6999 | Acc: 89.61%\n",
      "External test: AUC: 0.9117 | AUPR: 0.6560 | Acc: 88.64%\n"
     ]
    }
   ],
   "source": [
    "from sklearn.ensemble import RandomForestClassifier\n",
    "\n",
    "model_fn = functools.partial(\n",
    "    RandomForestClassifier, random_state=SEED, n_jobs=-1,\n",
    "    ccp_alpha=0.0, class_weight='balanced', max_depth=5, bootstrap=False)\n",
    "param_grid_list = [{\n",
    "        'criterion': ['gini', 'log_loss', 'entropy'],\n",
    "        'n_estimators': [50, 100, 200],\n",
    "    }\n",
    "]\n",
    "best_metrics, best_params, best_model = classification_dataset.perform_grid_search(model_fn, param_grid_list)\n",
    "metrics_internal, metrics_external = classification_dataset.evaluate_test_sets(best_model)\n",
    "results_dict[get_model_name(model_fn)] = np.concatenate([best_metrics, metrics_internal, metrics_external], axis=0)"
   ]
  },
  {
   "cell_type": "code",
   "execution_count": 9,
   "metadata": {},
   "outputs": [
    {
     "name": "stdout",
     "output_type": "stream",
     "text": [
      "GradientBoostingClassifier\n",
      "model(criterion=friedman_mse)\n",
      "Valid:         AUC: 0.9204 | AUPR: 0.6527 | Acc: 95.10%\n",
      "model(criterion=squared_error)\n",
      "Valid:         AUC: 0.9201 | AUPR: 0.6413 | Acc: 95.02%\n",
      "=======================================================\n",
      "best model(criterion=friedman_mse)\n",
      "Valid:         AUC: 0.9204 | AUPR: 0.6527 | Acc: 95.10%\n",
      "Internal test: AUC: 0.9247 | AUPR: 0.6833 | Acc: 95.30%\n",
      "External test: AUC: 0.9182 | AUPR: 0.6504 | Acc: 94.99%\n"
     ]
    }
   ],
   "source": [
    "from sklearn.ensemble import GradientBoostingClassifier\n",
    "\n",
    "model = functools.partial(\n",
    "    GradientBoostingClassifier, random_state=SEED,\n",
    "    learning_rate=0.1, max_depth=5, loss='log_loss', \n",
    "    n_estimators=100)\n",
    "param_grid_list = [{\n",
    "        'criterion': ['friedman_mse', 'squared_error'],\n",
    "    }\n",
    "]\n",
    "best_metrics, best_params, best_model = classification_dataset.perform_grid_search(model, param_grid_list)\n",
    "metrics_internal, metrics_external = classification_dataset.evaluate_test_sets(best_model)\n",
    "results_dict[get_model_name(model_fn)] = np.concatenate([best_metrics, metrics_internal, metrics_external], axis=0)"
   ]
  },
  {
   "cell_type": "code",
   "execution_count": 10,
   "metadata": {},
   "outputs": [
    {
     "name": "stdout",
     "output_type": "stream",
     "text": [
      "AdaBoostClassifier\n",
      "model(n_estimators=100, learning_rate=1.0)\n",
      "Valid:         AUC: 0.9141 | AUPR: 0.6356 | Acc: 95.27%\n",
      "model(n_estimators=200, learning_rate=1.0)\n",
      "Valid:         AUC: 0.9160 | AUPR: 0.6425 | Acc: 95.30%\n",
      "model(n_estimators=500, learning_rate=1.0)\n",
      "Valid:         AUC: 0.9162 | AUPR: 0.6443 | Acc: 95.31%\n",
      "=======================================================\n",
      "best model(n_estimators=500, learning_rate=1.0)\n",
      "Valid:         AUC: 0.9162 | AUPR: 0.6443 | Acc: 95.31%\n",
      "Internal test: AUC: 0.9191 | AUPR: 0.6794 | Acc: 95.30%\n",
      "External test: AUC: 0.9110 | AUPR: 0.6314 | Acc: 94.98%\n"
     ]
    }
   ],
   "source": [
    "from sklearn.ensemble import AdaBoostClassifier\n",
    "model = functools.partial(AdaBoostClassifier, random_state=SEED, algorithm=\"SAMME\")\n",
    "param_grid_list = [{\n",
    "    'n_estimators': [100, 200, 500],\n",
    "    'learning_rate': [1.0],\n",
    "}]\n",
    "best_metrics, best_params, best_model = classification_dataset.perform_grid_search(model, param_grid_list)\n",
    "metrics_internal, metrics_external = classification_dataset.evaluate_test_sets(best_model)\n",
    "results_dict[get_model_name(model_fn)] = np.concatenate([best_metrics, metrics_internal, metrics_external], axis=0)"
   ]
  },
  {
   "cell_type": "code",
   "execution_count": 11,
   "metadata": {},
   "outputs": [],
   "source": [
    "dataframe = pd.DataFrame(results_dict).transpose().reset_index()\n",
    "dataframe.columns = ['model', 'val_auc', 'val_aupr', 'val_acc', 'intest_auc', 'intest_aupr', 'intest_acc', 'extest_auc', 'extest_aupr', 'extest_acc']\n",
    "# dataframe.to_csv()\n",
    "filename = os.path.join(RESULTS_DIR, encode_method, impute_method, f'{fs_method}{int(fs_ratio * 142)}.csv')\n",
    "dirname = os.path.dirname(filename)\n",
    "if not os.path.exists(dirname):\n",
    "    os.makedirs(dirname)\n",
    "dataframe.to_csv(filename, index=False)"
   ]
  },
  {
   "cell_type": "code",
   "execution_count": null,
   "metadata": {},
   "outputs": [],
   "source": []
  }
 ],
 "metadata": {
  "kernelspec": {
   "display_name": "py310",
   "language": "python",
   "name": "python3"
  },
  "language_info": {
   "codemirror_mode": {
    "name": "ipython",
    "version": 3
   },
   "file_extension": ".py",
   "mimetype": "text/x-python",
   "name": "python",
   "nbconvert_exporter": "python",
   "pygments_lexer": "ipython3",
   "version": "3.10.13"
  }
 },
 "nbformat": 4,
 "nbformat_minor": 2
}
