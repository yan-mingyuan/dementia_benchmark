{
 "cells": [
  {
   "cell_type": "code",
   "execution_count": 1,
   "metadata": {},
   "outputs": [],
   "source": [
    "from config import *\n",
    "from dataset import ClassificationDataset\n",
    "\n",
    "import functools\n",
    "\n",
    "internal, external = 11, 12\n",
    "encode_method = \"dummy\"\n",
    "impute_method = \"itbr\"\n",
    "fs_method, fs_ratio = \"svc\", 0.5\n",
    "norm_method = \"maxmin\"\n",
    "classification_dataset = ClassificationDataset(\n",
    "    internal, external, encode_method, impute_method, fs_method, fs_ratio, norm_method, random_state=SEED)"
   ]
  },
  {
   "cell_type": "code",
   "execution_count": 2,
   "metadata": {},
   "outputs": [
    {
     "name": "stdout",
     "output_type": "stream",
     "text": [
      "model()\n",
      "Valid:         AUC: 0.7970 | AUPR: 0.2469 | Acc: 86.28%\n",
      "=======================================================\n",
      "best model()\n",
      "Valid:         AUC: 0.7970 | AUPR: 0.2469 | Acc: 86.28%\n",
      "Internal test: AUC: 0.8223 | AUPR: 0.3026 | Acc: 88.76%\n",
      "External test: AUC: 0.7924 | AUPR: 0.2554 | Acc: 87.62%\n"
     ]
    }
   ],
   "source": [
    "from sklearn.naive_bayes import GaussianNB\n",
    "\n",
    "model_fn = GaussianNB\n",
    "param_grid_list = [{}]\n",
    "best_metrics, best_params, best_model = classification_dataset.perform_grid_search(model_fn, param_grid_list)\n",
    "metrics_internal, metrics_external = classification_dataset.evaluate_test_sets(best_model)"
   ]
  },
  {
   "cell_type": "code",
   "execution_count": 3,
   "metadata": {},
   "outputs": [
    {
     "name": "stdout",
     "output_type": "stream",
     "text": [
      "model()\n",
      "Valid:         AUC: 0.7763 | AUPR: 0.1950 | Acc: 82.05%\n",
      "=======================================================\n",
      "best model()\n",
      "Valid:         AUC: 0.7763 | AUPR: 0.1950 | Acc: 82.05%\n",
      "Internal test: AUC: 0.7800 | AUPR: 0.2108 | Acc: 82.02%\n",
      "External test: AUC: 0.7692 | AUPR: 0.1917 | Acc: 80.78%\n"
     ]
    }
   ],
   "source": [
    "from sklearn.naive_bayes import ComplementNB\n",
    "\n",
    "model_fn = ComplementNB\n",
    "param_grid_list = [{}]\n",
    "best_metrics, best_params, best_model = classification_dataset.perform_grid_search(model_fn, param_grid_list)\n",
    "metrics_internal, metrics_external = classification_dataset.evaluate_test_sets(best_model)"
   ]
  },
  {
   "cell_type": "code",
   "execution_count": 4,
   "metadata": {},
   "outputs": [
    {
     "name": "stdout",
     "output_type": "stream",
     "text": [
      "model(p=1)\n",
      "Valid:         AUC: 0.7009 | AUPR: 0.2715 | Acc: 93.36%\n",
      "model(p=2)\n",
      "Valid:         AUC: 0.6937 | AUPR: 0.2518 | Acc: 92.97%\n",
      "=======================================================\n",
      "best model(p=1)\n",
      "Valid:         AUC: 0.7009 | AUPR: 0.2715 | Acc: 93.36%\n",
      "Internal test: AUC: 0.6867 | AUPR: 0.2637 | Acc: 92.85%\n",
      "External test: AUC: 0.7113 | AUPR: 0.2980 | Acc: 93.48%\n"
     ]
    }
   ],
   "source": [
    "from sklearn.neighbors import KNeighborsClassifier\n",
    "\n",
    "model_fn = functools.partial(\n",
    "    KNeighborsClassifier, n_jobs=-1, algorithm='auto',\n",
    "    n_neighbors=1, )\n",
    "param_grid_list = [{\n",
    "    'p': [1, 2],\n",
    "}]\n",
    "best_metrics, best_params, best_model = classification_dataset.perform_grid_search(model_fn, param_grid_list)\n",
    "metrics_internal, metrics_external = classification_dataset.evaluate_test_sets(best_model)"
   ]
  },
  {
   "cell_type": "code",
   "execution_count": 5,
   "metadata": {},
   "outputs": [
    {
     "name": "stdout",
     "output_type": "stream",
     "text": [
      "model(C=1.0)\n",
      "Valid:         AUC: 0.7301 | AUPR: 0.4172 | Acc: 95.47%\n",
      "model(C=10.0)\n",
      "Valid:         AUC: 0.7347 | AUPR: 0.4159 | Acc: 95.43%\n",
      "model(C=100.0)\n",
      "Valid:         AUC: 0.7320 | AUPR: 0.4107 | Acc: 95.39%\n",
      "=======================================================\n",
      "best model(C=10.0)\n",
      "Valid:         AUC: 0.7347 | AUPR: 0.4159 | Acc: 95.43%\n",
      "Internal test: AUC: 0.7352 | AUPR: 0.4425 | Acc: 95.33%\n",
      "External test: AUC: 0.7216 | AUPR: 0.3876 | Acc: 94.95%\n"
     ]
    }
   ],
   "source": [
    "# from sklearn.exceptions import ConvergenceWarning\n",
    "# import warnings\n",
    "# warnings.filterwarnings(\"ignore\", category=ConvergenceWarning)\n",
    "from sklearn.linear_model import LogisticRegression\n",
    "\n",
    "model_fn = functools.partial(\n",
    "    LogisticRegression, random_state=SEED, n_jobs=-1, \n",
    "    max_iter=2000, solver='saga', penalty='l2',\n",
    "    )\n",
    "param_grid_list = [{\n",
    "    'C': [1.0, 10.0, 100.0],\n",
    "}]\n",
    "best_metrics, best_params, best_model = classification_dataset.perform_grid_search(\n",
    "    model_fn, param_grid_list)\n",
    "metrics_internal, metrics_external = classification_dataset.evaluate_test_sets(\n",
    "    best_model)"
   ]
  },
  {
   "cell_type": "code",
   "execution_count": 6,
   "metadata": {},
   "outputs": [
    {
     "name": "stdout",
     "output_type": "stream",
     "text": [
      "model(C=0.01)\n",
      "Valid:         AUC: 0.8308 | AUPR: 0.2586 | Acc: 85.76%\n",
      "model(C=0.1)\n",
      "Valid:         AUC: 0.8345 | AUPR: 0.2640 | Acc: 86.03%\n",
      "model(C=1)\n",
      "Valid:         AUC: 0.8375 | AUPR: 0.2686 | Acc: 86.27%\n",
      "=======================================================\n",
      "best model(C=1)\n",
      "Valid:         AUC: 0.8375 | AUPR: 0.2686 | Acc: 86.27%\n",
      "Internal test: AUC: 0.8329 | AUPR: 0.2827 | Acc: 86.40%\n",
      "External test: AUC: 0.8371 | AUPR: 0.2649 | Acc: 84.97%\n"
     ]
    }
   ],
   "source": [
    "from sklearn.svm import SVC\n",
    "\n",
    "model_fn = functools.partial(\n",
    "    SVC, random_state=SEED, \n",
    "    class_weight='balanced', kernel='linear',\n",
    "    )\n",
    "param_grid_list = [{\n",
    "    'C': [0.01, 0.1, 1],\n",
    "}]\n",
    "best_metrics, best_params, best_model = classification_dataset.perform_grid_search(model_fn, param_grid_list)\n",
    "metrics_internal, metrics_external = classification_dataset.evaluate_test_sets(best_model)"
   ]
  },
  {
   "cell_type": "code",
   "execution_count": 7,
   "metadata": {},
   "outputs": [],
   "source": [
    "# from sklearn.neural_network import MLPClassifier\n",
    "\n",
    "# model_fn = functools.partial(MLPClassifier, random_state=SEED, max_iter=1000)\n",
    "# param_grid_list = [{\n",
    "#     'hidden_layer_sizes': [(100,), (50, 50), (50, 100, 50)],\n",
    "#     'activation': ['logistic', 'relu'],\n",
    "#     'solver': ['adam', 'sgd'],\n",
    "#     'alpha': [0.0001, 0.001, 0.01],\n",
    "# }]\n",
    "# best_metrics, best_params, best_model = classification_dataset.perform_grid_search(model_fn, param_grid_list)\n",
    "# metrics_internal, metrics_external = classification_dataset.evaluate_test_sets(best_model)"
   ]
  },
  {
   "cell_type": "code",
   "execution_count": 8,
   "metadata": {},
   "outputs": [
    {
     "name": "stdout",
     "output_type": "stream",
     "text": [
      "model(criterion=gini)\n",
      "Valid:         AUC: 0.8000 | AUPR: 0.2368 | Acc: 85.38%\n",
      "model(criterion=log_loss)\n",
      "Valid:         AUC: 0.8031 | AUPR: 0.2318 | Acc: 84.65%\n",
      "model(criterion=entropy)\n",
      "Valid:         AUC: 0.8031 | AUPR: 0.2318 | Acc: 84.65%\n",
      "=======================================================\n",
      "best model(criterion=log_loss)\n",
      "Valid:         AUC: 0.8031 | AUPR: 0.2318 | Acc: 84.65%\n",
      "Internal test: AUC: 0.8026 | AUPR: 0.2877 | Acc: 88.91%\n",
      "External test: AUC: 0.7886 | AUPR: 0.2582 | Acc: 88.15%\n"
     ]
    }
   ],
   "source": [
    "from sklearn.tree import DecisionTreeClassifier\n",
    "\n",
    "model_fn = functools.partial(\n",
    "    DecisionTreeClassifier, random_state=SEED,\n",
    "    ccp_alpha=0.0, class_weight='balanced', max_depth=5)\n",
    "param_grid_list = [{\n",
    "        'criterion': ['gini', 'log_loss', 'entropy'],\n",
    "    }\n",
    "]\n",
    "best_metrics, best_params, best_model = classification_dataset.perform_grid_search(model_fn, param_grid_list)\n",
    "metrics_internal, metrics_external = classification_dataset.evaluate_test_sets(best_model)"
   ]
  },
  {
   "cell_type": "code",
   "execution_count": 9,
   "metadata": {},
   "outputs": [
    {
     "name": "stdout",
     "output_type": "stream",
     "text": [
      "model(criterion=gini, n_estimators=50)\n",
      "Valid:         AUC: 0.8242 | AUPR: 0.2965 | Acc: 89.44%\n",
      "model(criterion=gini, n_estimators=100)\n",
      "Valid:         AUC: 0.8231 | AUPR: 0.2993 | Acc: 89.67%\n",
      "model(criterion=gini, n_estimators=200)\n",
      "Valid:         AUC: 0.8248 | AUPR: 0.3022 | Acc: 89.76%\n",
      "model(criterion=log_loss, n_estimators=50)\n",
      "Valid:         AUC: 0.8227 | AUPR: 0.2950 | Acc: 89.43%\n",
      "model(criterion=log_loss, n_estimators=100)\n",
      "Valid:         AUC: 0.8223 | AUPR: 0.2999 | Acc: 89.75%\n",
      "model(criterion=log_loss, n_estimators=200)\n",
      "Valid:         AUC: 0.8243 | AUPR: 0.3027 | Acc: 89.81%\n",
      "model(criterion=entropy, n_estimators=50)\n",
      "Valid:         AUC: 0.8227 | AUPR: 0.2950 | Acc: 89.43%\n",
      "model(criterion=entropy, n_estimators=100)\n",
      "Valid:         AUC: 0.8223 | AUPR: 0.2999 | Acc: 89.75%\n",
      "model(criterion=entropy, n_estimators=200)\n",
      "Valid:         AUC: 0.8243 | AUPR: 0.3027 | Acc: 89.81%\n",
      "=======================================================\n",
      "best model(criterion=gini, n_estimators=200)\n",
      "Valid:         AUC: 0.8248 | AUPR: 0.3022 | Acc: 89.76%\n",
      "Internal test: AUC: 0.8371 | AUPR: 0.3286 | Acc: 89.61%\n",
      "External test: AUC: 0.8144 | AUPR: 0.2888 | Acc: 88.85%\n"
     ]
    }
   ],
   "source": [
    "from sklearn.ensemble import RandomForestClassifier\n",
    "\n",
    "model_fn = functools.partial(\n",
    "    RandomForestClassifier, random_state=SEED, n_jobs=-1,\n",
    "    ccp_alpha=0.0, class_weight='balanced', max_depth=5, bootstrap=False)\n",
    "param_grid_list = [{\n",
    "        'criterion': ['gini', 'log_loss', 'entropy'],\n",
    "        'n_estimators': [50, 100, 200],\n",
    "    }\n",
    "]\n",
    "best_metrics, best_params, best_model = classification_dataset.perform_grid_search(model_fn, param_grid_list)\n",
    "metrics_internal, metrics_external = classification_dataset.evaluate_test_sets(best_model)"
   ]
  },
  {
   "cell_type": "code",
   "execution_count": 10,
   "metadata": {},
   "outputs": [
    {
     "name": "stdout",
     "output_type": "stream",
     "text": [
      "model(criterion=friedman_mse)\n",
      "Valid:         AUC: 0.7289 | AUPR: 0.3870 | Acc: 95.10%\n",
      "model(criterion=squared_error)\n",
      "Valid:         AUC: 0.7272 | AUPR: 0.3789 | Acc: 95.02%\n",
      "=======================================================\n",
      "best model(criterion=friedman_mse)\n",
      "Valid:         AUC: 0.7289 | AUPR: 0.3870 | Acc: 95.10%\n",
      "Internal test: AUC: 0.7438 | AUPR: 0.4442 | Acc: 95.30%\n",
      "External test: AUC: 0.7358 | AUPR: 0.3995 | Acc: 94.99%\n"
     ]
    }
   ],
   "source": [
    "from sklearn.ensemble import GradientBoostingClassifier\n",
    "\n",
    "model = functools.partial(\n",
    "    GradientBoostingClassifier, random_state=SEED,\n",
    "    learning_rate=0.1, max_depth=5, loss='log_loss', \n",
    "    n_estimators=100)\n",
    "param_grid_list = [{\n",
    "        'criterion': ['friedman_mse', 'squared_error'],\n",
    "    }\n",
    "]\n",
    "best_metrics, best_params, best_model = classification_dataset.perform_grid_search(model, param_grid_list)\n",
    "metrics_internal, metrics_external = classification_dataset.evaluate_test_sets(best_model)"
   ]
  },
  {
   "cell_type": "code",
   "execution_count": 11,
   "metadata": {},
   "outputs": [
    {
     "name": "stdout",
     "output_type": "stream",
     "text": [
      "model(n_estimators=100, learning_rate=1.0)\n",
      "Valid:         AUC: 0.7372 | AUPR: 0.4037 | Acc: 95.27%\n",
      "model(n_estimators=200, learning_rate=1.0)\n",
      "Valid:         AUC: 0.7353 | AUPR: 0.4049 | Acc: 95.30%\n",
      "model(n_estimators=500, learning_rate=1.0)\n",
      "Valid:         AUC: 0.7354 | AUPR: 0.4059 | Acc: 95.31%\n",
      "=======================================================\n",
      "best model(n_estimators=100, learning_rate=1.0)\n",
      "Valid:         AUC: 0.7372 | AUPR: 0.4037 | Acc: 95.27%\n",
      "Internal test: AUC: 0.7386 | AUPR: 0.4295 | Acc: 95.16%\n",
      "External test: AUC: 0.7288 | AUPR: 0.3894 | Acc: 94.91%\n"
     ]
    }
   ],
   "source": [
    "from sklearn.ensemble import AdaBoostClassifier\n",
    "model = functools.partial(AdaBoostClassifier, random_state=SEED, algorithm=\"SAMME\")\n",
    "param_grid_list = [{\n",
    "    'n_estimators': [100, 200, 500],\n",
    "    'learning_rate': [1.0],\n",
    "}]\n",
    "best_metrics, best_params, best_model = classification_dataset.perform_grid_search(model, param_grid_list)\n",
    "metrics_internal, metrics_external = classification_dataset.evaluate_test_sets(best_model)"
   ]
  },
  {
   "cell_type": "code",
   "execution_count": null,
   "metadata": {},
   "outputs": [],
   "source": []
  }
 ],
 "metadata": {
  "kernelspec": {
   "display_name": "py310",
   "language": "python",
   "name": "python3"
  },
  "language_info": {
   "codemirror_mode": {
    "name": "ipython",
    "version": 3
   },
   "file_extension": ".py",
   "mimetype": "text/x-python",
   "name": "python",
   "nbconvert_exporter": "python",
   "pygments_lexer": "ipython3",
   "version": "3.10.13"
  }
 },
 "nbformat": 4,
 "nbformat_minor": 2
}
