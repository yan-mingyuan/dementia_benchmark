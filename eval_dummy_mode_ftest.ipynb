{
 "cells": [
  {
   "cell_type": "code",
   "execution_count": 1,
   "metadata": {},
   "outputs": [],
   "source": [
    "from config import *\n",
    "from dataset import ClassificationDataset\n",
    "\n",
    "import functools\n",
    "\n",
    "internal, external = 11, 12\n",
    "encode_method = \"dummy\"\n",
    "impute_method = \"mode\"\n",
    "fs_method, fs_ratio = \"ftest\", 0.5\n",
    "norm_method = \"maxmin\"\n",
    "classification_dataset = ClassificationDataset(\n",
    "    internal, external, encode_method, impute_method, fs_method, fs_ratio, norm_method, random_state=SEED)"
   ]
  },
  {
   "cell_type": "code",
   "execution_count": 2,
   "metadata": {},
   "outputs": [
    {
     "name": "stdout",
     "output_type": "stream",
     "text": [
      "model()\n",
      "Valid:         AUC: 0.7923 | AUPR: 0.2318 | Acc: 86.03%\n",
      "=======================================================\n",
      "best model()\n",
      "Valid:         AUC: 0.7923 | AUPR: 0.2318 | Acc: 86.03%\n",
      "Internal test: AUC: 0.7989 | AUPR: 0.2501 | Acc: 85.79%\n",
      "External test: AUC: 0.7866 | AUPR: 0.2232 | Acc: 84.43%\n"
     ]
    }
   ],
   "source": [
    "from sklearn.naive_bayes import GaussianNB\n",
    "\n",
    "model_fn = GaussianNB\n",
    "param_grid_list = [{}]\n",
    "best_metrics, best_params, best_model = classification_dataset.perform_grid_search(model_fn, param_grid_list)\n",
    "metrics_internal, metrics_external = classification_dataset.evaluate_test_sets(best_model)"
   ]
  },
  {
   "cell_type": "code",
   "execution_count": 3,
   "metadata": {},
   "outputs": [
    {
     "name": "stdout",
     "output_type": "stream",
     "text": [
      "model()\n",
      "Valid:         AUC: 0.7635 | AUPR: 0.1819 | Acc: 80.92%\n",
      "=======================================================\n",
      "best model()\n",
      "Valid:         AUC: 0.7635 | AUPR: 0.1819 | Acc: 80.92%\n",
      "Internal test: AUC: 0.7613 | AUPR: 0.1926 | Acc: 80.73%\n",
      "External test: AUC: 0.7586 | AUPR: 0.1797 | Acc: 79.31%\n"
     ]
    }
   ],
   "source": [
    "from sklearn.naive_bayes import ComplementNB\n",
    "\n",
    "model_fn = ComplementNB\n",
    "param_grid_list = [{}]\n",
    "best_metrics, best_params, best_model = classification_dataset.perform_grid_search(model_fn, param_grid_list)\n",
    "metrics_internal, metrics_external = classification_dataset.evaluate_test_sets(best_model)"
   ]
  },
  {
   "cell_type": "code",
   "execution_count": 4,
   "metadata": {},
   "outputs": [
    {
     "name": "stdout",
     "output_type": "stream",
     "text": [
      "model(p=1)\n",
      "Valid:         AUC: 0.6879 | AUPR: 0.2563 | Acc: 93.28%\n",
      "model(p=2)\n",
      "Valid:         AUC: 0.6893 | AUPR: 0.2553 | Acc: 93.20%\n",
      "=======================================================\n",
      "best model(p=2)\n",
      "Valid:         AUC: 0.6893 | AUPR: 0.2553 | Acc: 93.20%\n",
      "Internal test: AUC: 0.6970 | AUPR: 0.2941 | Acc: 93.41%\n",
      "External test: AUC: 0.7035 | AUPR: 0.2894 | Acc: 93.44%\n"
     ]
    }
   ],
   "source": [
    "from sklearn.neighbors import KNeighborsClassifier\n",
    "\n",
    "model_fn = functools.partial(\n",
    "    KNeighborsClassifier, n_jobs=-1, algorithm='auto',\n",
    "    n_neighbors=1, )\n",
    "param_grid_list = [{\n",
    "    'p': [1, 2],\n",
    "}]\n",
    "best_metrics, best_params, best_model = classification_dataset.perform_grid_search(model_fn, param_grid_list)\n",
    "metrics_internal, metrics_external = classification_dataset.evaluate_test_sets(best_model)"
   ]
  },
  {
   "cell_type": "code",
   "execution_count": 5,
   "metadata": {},
   "outputs": [
    {
     "name": "stdout",
     "output_type": "stream",
     "text": [
      "model(C=1.0)\n",
      "Valid:         AUC: 0.7259 | AUPR: 0.3920 | Acc: 95.20%\n",
      "model(C=10.0)\n",
      "Valid:         AUC: 0.7268 | AUPR: 0.3931 | Acc: 95.21%\n",
      "model(C=100.0)\n",
      "Valid:         AUC: 0.7251 | AUPR: 0.3905 | Acc: 95.19%\n",
      "=======================================================\n",
      "best model(C=10.0)\n",
      "Valid:         AUC: 0.7268 | AUPR: 0.3931 | Acc: 95.21%\n",
      "Internal test: AUC: 0.7244 | AUPR: 0.4292 | Acc: 95.23%\n",
      "External test: AUC: 0.7133 | AUPR: 0.3684 | Acc: 94.76%\n"
     ]
    }
   ],
   "source": [
    "# from sklearn.exceptions import ConvergenceWarning\n",
    "# import warnings\n",
    "# warnings.filterwarnings(\"ignore\", category=ConvergenceWarning)\n",
    "from sklearn.linear_model import LogisticRegression\n",
    "\n",
    "model_fn = functools.partial(\n",
    "    LogisticRegression, random_state=SEED, n_jobs=-1, \n",
    "    max_iter=2000, solver='saga', penalty='l2',\n",
    "    )\n",
    "param_grid_list = [{\n",
    "    'C': [1.0, 10.0, 100.0],\n",
    "}]\n",
    "best_metrics, best_params, best_model = classification_dataset.perform_grid_search(\n",
    "    model_fn, param_grid_list)\n",
    "metrics_internal, metrics_external = classification_dataset.evaluate_test_sets(\n",
    "    best_model)"
   ]
  },
  {
   "cell_type": "code",
   "execution_count": 6,
   "metadata": {},
   "outputs": [
    {
     "name": "stdout",
     "output_type": "stream",
     "text": [
      "model(C=0.01)\n",
      "Valid:         AUC: 0.8302 | AUPR: 0.2638 | Acc: 86.35%\n",
      "model(C=0.1)\n",
      "Valid:         AUC: 0.8324 | AUPR: 0.2613 | Acc: 85.92%\n",
      "model(C=1)\n",
      "Valid:         AUC: 0.8305 | AUPR: 0.2580 | Acc: 85.74%\n",
      "=======================================================\n",
      "best model(C=0.1)\n",
      "Valid:         AUC: 0.8324 | AUPR: 0.2613 | Acc: 85.92%\n",
      "Internal test: AUC: 0.8430 | AUPR: 0.2935 | Acc: 86.64%\n",
      "External test: AUC: 0.8336 | AUPR: 0.2668 | Acc: 85.49%\n"
     ]
    }
   ],
   "source": [
    "from sklearn.svm import SVC\n",
    "\n",
    "model_fn = functools.partial(\n",
    "    SVC, random_state=SEED, \n",
    "    class_weight='balanced', kernel='linear',\n",
    "    )\n",
    "param_grid_list = [{\n",
    "    'C': [0.01, 0.1, 1],\n",
    "}]\n",
    "best_metrics, best_params, best_model = classification_dataset.perform_grid_search(model_fn, param_grid_list)\n",
    "metrics_internal, metrics_external = classification_dataset.evaluate_test_sets(best_model)"
   ]
  },
  {
   "cell_type": "code",
   "execution_count": 7,
   "metadata": {},
   "outputs": [],
   "source": [
    "# from sklearn.neural_network import MLPClassifier\n",
    "\n",
    "# model_fn = functools.partial(MLPClassifier, random_state=SEED, max_iter=1000)\n",
    "# param_grid_list = [{\n",
    "#     'hidden_layer_sizes': [(100,), (50, 50), (50, 100, 50)],\n",
    "#     'activation': ['logistic', 'relu'],\n",
    "#     'solver': ['adam', 'sgd'],\n",
    "#     'alpha': [0.0001, 0.001, 0.01],\n",
    "# }]\n",
    "# best_metrics, best_params, best_model = classification_dataset.perform_grid_search(model_fn, param_grid_list)\n",
    "# metrics_internal, metrics_external = classification_dataset.evaluate_test_sets(best_model)"
   ]
  },
  {
   "cell_type": "code",
   "execution_count": 8,
   "metadata": {},
   "outputs": [
    {
     "name": "stdout",
     "output_type": "stream",
     "text": [
      "model(criterion=gini)\n",
      "Valid:         AUC: 0.7827 | AUPR: 0.1942 | Acc: 80.90%\n",
      "model(criterion=log_loss)\n",
      "Valid:         AUC: 0.7870 | AUPR: 0.1859 | Acc: 78.17%\n",
      "model(criterion=entropy)\n",
      "Valid:         AUC: 0.7870 | AUPR: 0.1859 | Acc: 78.17%\n",
      "=======================================================\n",
      "best model(criterion=log_loss)\n",
      "Valid:         AUC: 0.7870 | AUPR: 0.1859 | Acc: 78.17%\n",
      "Internal test: AUC: 0.7847 | AUPR: 0.2029 | Acc: 79.66%\n",
      "External test: AUC: 0.7858 | AUPR: 0.1984 | Acc: 79.90%\n"
     ]
    }
   ],
   "source": [
    "from sklearn.tree import DecisionTreeClassifier\n",
    "\n",
    "model_fn = functools.partial(\n",
    "    DecisionTreeClassifier, random_state=SEED,\n",
    "    ccp_alpha=0.0, class_weight='balanced', max_depth=5)\n",
    "param_grid_list = [{\n",
    "        'criterion': ['gini', 'log_loss', 'entropy'],\n",
    "    }\n",
    "]\n",
    "best_metrics, best_params, best_model = classification_dataset.perform_grid_search(model_fn, param_grid_list)\n",
    "metrics_internal, metrics_external = classification_dataset.evaluate_test_sets(best_model)"
   ]
  },
  {
   "cell_type": "code",
   "execution_count": 9,
   "metadata": {},
   "outputs": [
    {
     "name": "stdout",
     "output_type": "stream",
     "text": [
      "model(criterion=gini, n_estimators=50)\n",
      "Valid:         AUC: 0.8173 | AUPR: 0.2810 | Acc: 88.76%\n",
      "model(criterion=gini, n_estimators=100)\n",
      "Valid:         AUC: 0.8150 | AUPR: 0.2793 | Acc: 88.78%\n",
      "model(criterion=gini, n_estimators=200)\n",
      "Valid:         AUC: 0.8127 | AUPR: 0.2756 | Acc: 88.64%\n",
      "model(criterion=log_loss, n_estimators=50)\n",
      "Valid:         AUC: 0.8184 | AUPR: 0.2917 | Acc: 89.41%\n",
      "model(criterion=log_loss, n_estimators=100)\n",
      "Valid:         AUC: 0.8154 | AUPR: 0.2866 | Acc: 89.26%\n",
      "model(criterion=log_loss, n_estimators=200)\n",
      "Valid:         AUC: 0.8148 | AUPR: 0.2821 | Acc: 88.98%\n",
      "model(criterion=entropy, n_estimators=50)\n",
      "Valid:         AUC: 0.8184 | AUPR: 0.2917 | Acc: 89.41%\n",
      "model(criterion=entropy, n_estimators=100)\n",
      "Valid:         AUC: 0.8154 | AUPR: 0.2866 | Acc: 89.26%\n",
      "model(criterion=entropy, n_estimators=200)\n",
      "Valid:         AUC: 0.8148 | AUPR: 0.2821 | Acc: 88.98%\n",
      "=======================================================\n",
      "best model(criterion=log_loss, n_estimators=50)\n",
      "Valid:         AUC: 0.8184 | AUPR: 0.2917 | Acc: 89.41%\n",
      "Internal test: AUC: 0.8231 | AUPR: 0.2979 | Acc: 88.37%\n",
      "External test: AUC: 0.8093 | AUPR: 0.2703 | Acc: 87.72%\n"
     ]
    }
   ],
   "source": [
    "from sklearn.ensemble import RandomForestClassifier\n",
    "\n",
    "model_fn = functools.partial(\n",
    "    RandomForestClassifier, random_state=SEED, n_jobs=-1,\n",
    "    ccp_alpha=0.0, class_weight='balanced', max_depth=5, bootstrap=False)\n",
    "param_grid_list = [{\n",
    "        'criterion': ['gini', 'log_loss', 'entropy'],\n",
    "        'n_estimators': [50, 100, 200],\n",
    "    }\n",
    "]\n",
    "best_metrics, best_params, best_model = classification_dataset.perform_grid_search(model_fn, param_grid_list)\n",
    "metrics_internal, metrics_external = classification_dataset.evaluate_test_sets(best_model)"
   ]
  },
  {
   "cell_type": "code",
   "execution_count": 10,
   "metadata": {},
   "outputs": [
    {
     "name": "stdout",
     "output_type": "stream",
     "text": [
      "model(criterion=friedman_mse)\n",
      "Valid:         AUC: 0.7345 | AUPR: 0.3965 | Acc: 95.18%\n",
      "model(criterion=squared_error)\n",
      "Valid:         AUC: 0.7340 | AUPR: 0.3949 | Acc: 95.16%\n",
      "=======================================================\n",
      "best model(criterion=friedman_mse)\n",
      "Valid:         AUC: 0.7345 | AUPR: 0.3965 | Acc: 95.18%\n",
      "Internal test: AUC: 0.7378 | AUPR: 0.4176 | Acc: 95.01%\n",
      "External test: AUC: 0.7408 | AUPR: 0.4070 | Acc: 95.05%\n"
     ]
    }
   ],
   "source": [
    "from sklearn.ensemble import GradientBoostingClassifier\n",
    "\n",
    "model = functools.partial(\n",
    "    GradientBoostingClassifier, random_state=SEED,\n",
    "    learning_rate=0.1, max_depth=5, loss='log_loss', \n",
    "    n_estimators=100)\n",
    "param_grid_list = [{\n",
    "        'criterion': ['friedman_mse', 'squared_error'],\n",
    "    }\n",
    "]\n",
    "best_metrics, best_params, best_model = classification_dataset.perform_grid_search(model, param_grid_list)\n",
    "metrics_internal, metrics_external = classification_dataset.evaluate_test_sets(best_model)"
   ]
  },
  {
   "cell_type": "code",
   "execution_count": 11,
   "metadata": {},
   "outputs": [
    {
     "name": "stdout",
     "output_type": "stream",
     "text": [
      "model(n_estimators=100, learning_rate=1.0)\n",
      "Valid:         AUC: 0.7276 | AUPR: 0.3884 | Acc: 95.13%\n",
      "model(n_estimators=200, learning_rate=1.0)\n",
      "Valid:         AUC: 0.7299 | AUPR: 0.3938 | Acc: 95.19%\n",
      "model(n_estimators=500, learning_rate=1.0)\n",
      "Valid:         AUC: 0.7297 | AUPR: 0.3905 | Acc: 95.15%\n",
      "=======================================================\n",
      "best model(n_estimators=200, learning_rate=1.0)\n",
      "Valid:         AUC: 0.7299 | AUPR: 0.3938 | Acc: 95.19%\n",
      "Internal test: AUC: 0.7393 | AUPR: 0.4400 | Acc: 95.28%\n",
      "External test: AUC: 0.7149 | AUPR: 0.3642 | Acc: 94.69%\n"
     ]
    }
   ],
   "source": [
    "from sklearn.ensemble import AdaBoostClassifier\n",
    "model = functools.partial(AdaBoostClassifier, random_state=SEED, algorithm=\"SAMME\")\n",
    "param_grid_list = [{\n",
    "    'n_estimators': [100, 200, 500],\n",
    "    'learning_rate': [1.0],\n",
    "}]\n",
    "best_metrics, best_params, best_model = classification_dataset.perform_grid_search(model, param_grid_list)\n",
    "metrics_internal, metrics_external = classification_dataset.evaluate_test_sets(best_model)"
   ]
  },
  {
   "cell_type": "code",
   "execution_count": null,
   "metadata": {},
   "outputs": [],
   "source": []
  }
 ],
 "metadata": {
  "kernelspec": {
   "display_name": "py310",
   "language": "python",
   "name": "python3"
  },
  "language_info": {
   "codemirror_mode": {
    "name": "ipython",
    "version": 3
   },
   "file_extension": ".py",
   "mimetype": "text/x-python",
   "name": "python",
   "nbconvert_exporter": "python",
   "pygments_lexer": "ipython3",
   "version": "3.10.13"
  }
 },
 "nbformat": 4,
 "nbformat_minor": 2
}
