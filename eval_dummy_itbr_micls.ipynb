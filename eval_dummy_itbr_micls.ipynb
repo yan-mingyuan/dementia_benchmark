{
 "cells": [
  {
   "cell_type": "code",
   "execution_count": 1,
   "metadata": {},
   "outputs": [],
   "source": [
    "from config import *\n",
    "from utilities import get_model_name\n",
    "from dataset import ClassificationDataset\n",
    "\n",
    "import functools\n",
    "import numpy as np\n",
    "import pandas as pd\n",
    "\n",
    "results_dict = {}\n",
    "internal, external = 11, 12\n",
    "encode_method = \"dummy\"\n",
    "impute_method = \"itbr\"\n",
    "fs_method, fs_ratio = \"micls\", 0.5\n",
    "norm_method = \"maxmin\"\n",
    "classification_dataset = ClassificationDataset(\n",
    "    internal, external, encode_method, impute_method, fs_method, fs_ratio, norm_method, random_state=SEED)"
   ]
  },
  {
   "cell_type": "code",
   "execution_count": 2,
   "metadata": {},
   "outputs": [
    {
     "name": "stdout",
     "output_type": "stream",
     "text": [
      "SVC\n",
      "model(kernel=linear, C=0.01)\n",
      "Valid:         AUC: 0.9132 | AUPR: 0.6221 | Acc: 95.11%\n",
      "model(kernel=linear, C=0.1)\n",
      "Valid:         AUC: 0.9144 | AUPR: 0.6274 | Acc: 95.08%\n",
      "model(kernel=linear, C=1)\n",
      "Valid:         AUC: 0.9130 | AUPR: 0.6225 | Acc: 95.07%\n",
      "=======================================================\n",
      "best model(kernel=linear, C=0.1)\n",
      "Valid:         AUC: 0.9144 | AUPR: 0.6274 | Acc: 95.08%\n",
      "Internal test: AUC: 0.9228 | AUPR: 0.6687 | Acc: 94.84%\n",
      "External test: AUC: 0.9140 | AUPR: 0.6134 | Acc: 94.63%\n"
     ]
    }
   ],
   "source": [
    "from sklearn.svm import SVC\n",
    "\n",
    "model_fn = functools.partial(\n",
    "    SVC, random_state=SEED, probability=True,\n",
    "    class_weight='balanced')\n",
    "param_grid_list = [{\n",
    "    'kernel': ['linear'],\n",
    "    'C': [0.01, 0.1, 1],\n",
    "}]\n",
    "best_metrics, best_params, best_model = classification_dataset.perform_grid_search(model_fn, param_grid_list)\n",
    "metrics_internal, metrics_external = classification_dataset.evaluate_test_sets(best_model)\n",
    "results_dict[get_model_name(model_fn)] = np.concatenate([best_metrics, metrics_internal, metrics_external], axis=0)"
   ]
  },
  {
   "cell_type": "code",
   "execution_count": 3,
   "metadata": {},
   "outputs": [
    {
     "name": "stdout",
     "output_type": "stream",
     "text": [
      "KNeighborsClassifier\n",
      "model(n_neighbors=3)\n",
      "Valid:         AUC: 0.7575 | AUPR: 0.4220 | Acc: 94.62%\n",
      "model(n_neighbors=5)\n",
      "Valid:         AUC: 0.7870 | AUPR: 0.4715 | Acc: 94.94%\n",
      "model(n_neighbors=7)\n",
      "Valid:         AUC: 0.8039 | AUPR: 0.4955 | Acc: 95.03%\n",
      "=======================================================\n",
      "best model(n_neighbors=7)\n",
      "Valid:         AUC: 0.8039 | AUPR: 0.4955 | Acc: 95.03%\n",
      "Internal test: AUC: 0.7965 | AUPR: 0.5010 | Acc: 94.53%\n",
      "External test: AUC: 0.8028 | AUPR: 0.4904 | Acc: 94.71%\n"
     ]
    }
   ],
   "source": [
    "from sklearn.neighbors import KNeighborsClassifier\n",
    "\n",
    "model_fn = functools.partial(\n",
    "    KNeighborsClassifier, n_jobs=-1, algorithm='auto', p=2)\n",
    "param_grid_list = [{\n",
    "    'n_neighbors': [3, 5, 7],\n",
    "}]\n",
    "best_metrics, best_params, best_model = classification_dataset.perform_grid_search(model_fn, param_grid_list)\n",
    "metrics_internal, metrics_external = classification_dataset.evaluate_test_sets(best_model)\n",
    "results_dict[get_model_name(model_fn)] = np.concatenate([best_metrics, metrics_internal, metrics_external], axis=0)"
   ]
  },
  {
   "cell_type": "code",
   "execution_count": 4,
   "metadata": {},
   "outputs": [
    {
     "name": "stdout",
     "output_type": "stream",
     "text": [
      "GaussianNB\n",
      "model()\n",
      "Valid:         AUC: 0.8736 | AUPR: 0.4085 | Acc: 86.82%\n",
      "=======================================================\n",
      "best model()\n",
      "Valid:         AUC: 0.8736 | AUPR: 0.4085 | Acc: 86.82%\n",
      "Internal test: AUC: 0.8830 | AUPR: 0.4387 | Acc: 86.74%\n",
      "External test: AUC: 0.8710 | AUPR: 0.3900 | Acc: 85.28%\n"
     ]
    }
   ],
   "source": [
    "from sklearn.naive_bayes import GaussianNB\n",
    "\n",
    "model_fn = GaussianNB\n",
    "param_grid_list = [{}]\n",
    "best_metrics, best_params, best_model = classification_dataset.perform_grid_search(model_fn, param_grid_list)\n",
    "metrics_internal, metrics_external = classification_dataset.evaluate_test_sets(best_model)\n",
    "results_dict[get_model_name(model_fn)] = np.concatenate([best_metrics, metrics_internal, metrics_external], axis=0)"
   ]
  },
  {
   "cell_type": "code",
   "execution_count": 5,
   "metadata": {},
   "outputs": [
    {
     "name": "stdout",
     "output_type": "stream",
     "text": [
      "LogisticRegression\n",
      "model(C=1.0)\n",
      "Valid:         AUC: 0.9158 | AUPR: 0.6511 | Acc: 95.32%\n",
      "model(C=10.0)\n",
      "Valid:         AUC: 0.9155 | AUPR: 0.6519 | Acc: 95.33%\n"
     ]
    },
    {
     "name": "stderr",
     "output_type": "stream",
     "text": [
      "/home/yan/anaconda3/envs/py310/lib/python3.10/site-packages/sklearn/linear_model/_sag.py:350: ConvergenceWarning: The max_iter was reached which means the coef_ did not converge\n",
      "  warnings.warn(\n"
     ]
    },
    {
     "name": "stdout",
     "output_type": "stream",
     "text": [
      "model(C=100.0)\n",
      "Valid:         AUC: 0.9152 | AUPR: 0.6515 | Acc: 95.32%\n",
      "=======================================================\n",
      "best model(C=1.0)\n",
      "Valid:         AUC: 0.9158 | AUPR: 0.6511 | Acc: 95.32%\n",
      "Internal test: AUC: 0.9250 | AUPR: 0.6914 | Acc: 95.18%\n",
      "External test: AUC: 0.9146 | AUPR: 0.6396 | Acc: 94.93%\n"
     ]
    },
    {
     "name": "stderr",
     "output_type": "stream",
     "text": [
      "/home/yan/anaconda3/envs/py310/lib/python3.10/site-packages/sklearn/linear_model/_sag.py:350: ConvergenceWarning: The max_iter was reached which means the coef_ did not converge\n",
      "  warnings.warn(\n"
     ]
    }
   ],
   "source": [
    "# from sklearn.exceptions import ConvergenceWarning\n",
    "# import warnings\n",
    "# warnings.filterwarnings(\"ignore\", category=ConvergenceWarning)\n",
    "from sklearn.linear_model import LogisticRegression\n",
    "\n",
    "model_fn = functools.partial(\n",
    "    LogisticRegression, random_state=SEED, n_jobs=-1, \n",
    "    max_iter=2000, solver='saga', penalty='l2',\n",
    "    )\n",
    "param_grid_list = [{\n",
    "    'C': [1.0, 10.0, 100.0],\n",
    "}]\n",
    "best_metrics, best_params, best_model = classification_dataset.perform_grid_search(\n",
    "    model_fn, param_grid_list)\n",
    "metrics_internal, metrics_external = classification_dataset.evaluate_test_sets(\n",
    "    best_model)\n",
    "results_dict[get_model_name(model_fn)] = np.concatenate([best_metrics, metrics_internal, metrics_external], axis=0)"
   ]
  },
  {
   "cell_type": "code",
   "execution_count": 6,
   "metadata": {},
   "outputs": [
    {
     "name": "stdout",
     "output_type": "stream",
     "text": [
      "MLPClassifier\n",
      "model(hidden_layer_sizes=(50, 50), learning_rate_init=0.0003)\n",
      "Valid:         AUC: 0.9022 | AUPR: 0.6179 | Acc: 95.15%\n",
      "model(hidden_layer_sizes=(50, 50), learning_rate_init=0.001)\n",
      "Valid:         AUC: 0.9133 | AUPR: 0.6479 | Acc: 95.33%\n",
      "=======================================================\n",
      "best model(hidden_layer_sizes=(50, 50), learning_rate_init=0.001)\n",
      "Valid:         AUC: 0.9133 | AUPR: 0.6479 | Acc: 95.33%\n",
      "Internal test: AUC: 0.9241 | AUPR: 0.6747 | Acc: 95.16%\n",
      "External test: AUC: 0.9143 | AUPR: 0.6355 | Acc: 94.84%\n"
     ]
    }
   ],
   "source": [
    "from sklearn.neural_network import MLPClassifier\n",
    "\n",
    "model_fn = functools.partial(\n",
    "    MLPClassifier, random_state=SEED, max_iter=1000,\n",
    "    activation='relu',\n",
    "    solver='sgd', nesterovs_momentum=True, momentum=0.9)\n",
    "param_grid_list = [{\n",
    "    # 'hidden_layer_sizes': [(100,), (50, 50), (50, 100, 50)],\n",
    "    'hidden_layer_sizes': [(50, 50)],\n",
    "    'learning_rate_init': [0.0003, 0.001],\n",
    "}]\n",
    "best_metrics, best_params, best_model = classification_dataset.perform_grid_search(model_fn, param_grid_list)\n",
    "metrics_internal, metrics_external = classification_dataset.evaluate_test_sets(best_model)\n",
    "results_dict[get_model_name(model_fn)] = np.concatenate([best_metrics, metrics_internal, metrics_external], axis=0)"
   ]
  },
  {
   "cell_type": "code",
   "execution_count": 7,
   "metadata": {},
   "outputs": [
    {
     "name": "stdout",
     "output_type": "stream",
     "text": [
      "DecisionTreeClassifier\n",
      "model(criterion=gini)\n",
      "Valid:         AUC: 0.8756 | AUPR: 0.5590 | Acc: 86.22%\n",
      "model(criterion=log_loss)\n",
      "Valid:         AUC: 0.8726 | AUPR: 0.5550 | Acc: 84.14%\n",
      "model(criterion=entropy)\n",
      "Valid:         AUC: 0.8726 | AUPR: 0.5550 | Acc: 84.14%\n",
      "=======================================================\n",
      "best model(criterion=gini)\n",
      "Valid:         AUC: 0.8756 | AUPR: 0.5590 | Acc: 86.22%\n",
      "Internal test: AUC: 0.8915 | AUPR: 0.6281 | Acc: 83.80%\n",
      "External test: AUC: 0.8765 | AUPR: 0.5759 | Acc: 83.14%\n"
     ]
    }
   ],
   "source": [
    "from sklearn.tree import DecisionTreeClassifier\n",
    "\n",
    "model_fn = functools.partial(\n",
    "    DecisionTreeClassifier, random_state=SEED,\n",
    "    ccp_alpha=0.0, class_weight='balanced', max_depth=5)\n",
    "param_grid_list = [{\n",
    "        'criterion': ['gini', 'log_loss', 'entropy'],\n",
    "    }\n",
    "]\n",
    "best_metrics, best_params, best_model = classification_dataset.perform_grid_search(model_fn, param_grid_list)\n",
    "metrics_internal, metrics_external = classification_dataset.evaluate_test_sets(best_model)\n",
    "results_dict[get_model_name(model_fn)] = np.concatenate([best_metrics, metrics_internal, metrics_external], axis=0)"
   ]
  },
  {
   "cell_type": "code",
   "execution_count": 8,
   "metadata": {},
   "outputs": [
    {
     "name": "stdout",
     "output_type": "stream",
     "text": [
      "RandomForestClassifier\n",
      "model(criterion=gini, n_estimators=50)\n",
      "Valid:         AUC: 0.9184 | AUPR: 0.6590 | Acc: 89.74%\n",
      "model(criterion=gini, n_estimators=100)\n",
      "Valid:         AUC: 0.9195 | AUPR: 0.6598 | Acc: 90.12%\n",
      "model(criterion=gini, n_estimators=200)\n",
      "Valid:         AUC: 0.9199 | AUPR: 0.6610 | Acc: 90.24%\n",
      "model(criterion=log_loss, n_estimators=50)\n",
      "Valid:         AUC: 0.9173 | AUPR: 0.6580 | Acc: 89.86%\n",
      "model(criterion=log_loss, n_estimators=100)\n",
      "Valid:         AUC: 0.9187 | AUPR: 0.6615 | Acc: 90.25%\n",
      "model(criterion=log_loss, n_estimators=200)\n",
      "Valid:         AUC: 0.9193 | AUPR: 0.6631 | Acc: 90.31%\n",
      "model(criterion=entropy, n_estimators=50)\n",
      "Valid:         AUC: 0.9173 | AUPR: 0.6580 | Acc: 89.86%\n",
      "model(criterion=entropy, n_estimators=100)\n",
      "Valid:         AUC: 0.9187 | AUPR: 0.6615 | Acc: 90.25%\n",
      "model(criterion=entropy, n_estimators=200)\n",
      "Valid:         AUC: 0.9193 | AUPR: 0.6631 | Acc: 90.31%\n",
      "=======================================================\n",
      "best model(criterion=gini, n_estimators=200)\n",
      "Valid:         AUC: 0.9199 | AUPR: 0.6610 | Acc: 90.24%\n",
      "Internal test: AUC: 0.9248 | AUPR: 0.7028 | Acc: 90.00%\n",
      "External test: AUC: 0.9151 | AUPR: 0.6604 | Acc: 89.16%\n"
     ]
    }
   ],
   "source": [
    "from sklearn.ensemble import RandomForestClassifier\n",
    "\n",
    "model_fn = functools.partial(\n",
    "    RandomForestClassifier, random_state=SEED, n_jobs=-1,\n",
    "    ccp_alpha=0.0, class_weight='balanced', max_depth=5, bootstrap=False)\n",
    "param_grid_list = [{\n",
    "        'criterion': ['gini', 'log_loss', 'entropy'],\n",
    "        'n_estimators': [50, 100, 200],\n",
    "    }\n",
    "]\n",
    "best_metrics, best_params, best_model = classification_dataset.perform_grid_search(model_fn, param_grid_list)\n",
    "metrics_internal, metrics_external = classification_dataset.evaluate_test_sets(best_model)\n",
    "results_dict[get_model_name(model_fn)] = np.concatenate([best_metrics, metrics_internal, metrics_external], axis=0)"
   ]
  },
  {
   "cell_type": "code",
   "execution_count": 9,
   "metadata": {},
   "outputs": [
    {
     "name": "stdout",
     "output_type": "stream",
     "text": [
      "GradientBoostingClassifier\n",
      "model(criterion=friedman_mse)\n",
      "Valid:         AUC: 0.9194 | AUPR: 0.6422 | Acc: 95.09%\n",
      "model(criterion=squared_error)\n",
      "Valid:         AUC: 0.9200 | AUPR: 0.6412 | Acc: 95.11%\n",
      "=======================================================\n",
      "best model(criterion=squared_error)\n",
      "Valid:         AUC: 0.9200 | AUPR: 0.6412 | Acc: 95.11%\n",
      "Internal test: AUC: 0.9277 | AUPR: 0.6789 | Acc: 95.40%\n",
      "External test: AUC: 0.9200 | AUPR: 0.6398 | Acc: 95.02%\n"
     ]
    }
   ],
   "source": [
    "from sklearn.ensemble import GradientBoostingClassifier\n",
    "\n",
    "model = functools.partial(\n",
    "    GradientBoostingClassifier, random_state=SEED,\n",
    "    learning_rate=0.1, max_depth=5, loss='log_loss', \n",
    "    n_estimators=100)\n",
    "param_grid_list = [{\n",
    "        'criterion': ['friedman_mse', 'squared_error'],\n",
    "    }\n",
    "]\n",
    "best_metrics, best_params, best_model = classification_dataset.perform_grid_search(model, param_grid_list)\n",
    "metrics_internal, metrics_external = classification_dataset.evaluate_test_sets(best_model)\n",
    "results_dict[get_model_name(model_fn)] = np.concatenate([best_metrics, metrics_internal, metrics_external], axis=0)"
   ]
  },
  {
   "cell_type": "code",
   "execution_count": 10,
   "metadata": {},
   "outputs": [
    {
     "name": "stdout",
     "output_type": "stream",
     "text": [
      "AdaBoostClassifier\n",
      "model(n_estimators=100, learning_rate=1.0)\n",
      "Valid:         AUC: 0.9152 | AUPR: 0.6447 | Acc: 95.32%\n",
      "model(n_estimators=200, learning_rate=1.0)\n",
      "Valid:         AUC: 0.9156 | AUPR: 0.6465 | Acc: 95.32%\n",
      "model(n_estimators=500, learning_rate=1.0)\n",
      "Valid:         AUC: 0.9165 | AUPR: 0.6501 | Acc: 95.32%\n",
      "=======================================================\n",
      "best model(n_estimators=500, learning_rate=1.0)\n",
      "Valid:         AUC: 0.9165 | AUPR: 0.6501 | Acc: 95.32%\n",
      "Internal test: AUC: 0.9217 | AUPR: 0.6845 | Acc: 95.38%\n",
      "External test: AUC: 0.9122 | AUPR: 0.6357 | Acc: 94.91%\n"
     ]
    }
   ],
   "source": [
    "from sklearn.ensemble import AdaBoostClassifier\n",
    "model = functools.partial(AdaBoostClassifier, random_state=SEED, algorithm=\"SAMME\")\n",
    "param_grid_list = [{\n",
    "    'n_estimators': [100, 200, 500],\n",
    "    'learning_rate': [1.0],\n",
    "}]\n",
    "best_metrics, best_params, best_model = classification_dataset.perform_grid_search(model, param_grid_list)\n",
    "metrics_internal, metrics_external = classification_dataset.evaluate_test_sets(best_model)\n",
    "results_dict[get_model_name(model_fn)] = np.concatenate([best_metrics, metrics_internal, metrics_external], axis=0)"
   ]
  },
  {
   "cell_type": "code",
   "execution_count": 11,
   "metadata": {},
   "outputs": [],
   "source": [
    "dataframe = pd.DataFrame(results_dict).transpose().reset_index()\n",
    "dataframe.columns = ['model', 'val_auc', 'val_aupr', 'val_acc', 'intest_auc', 'intest_aupr', 'intest_acc', 'extest_auc', 'extest_aupr', 'extest_acc']\n",
    "# dataframe.to_csv()\n",
    "filename = os.path.join(RESULTS_DIR, encode_method, impute_method, f'{fs_method}{int(fs_ratio * 142)}.csv')\n",
    "dirname = os.path.dirname(filename)\n",
    "if not os.path.exists(dirname):\n",
    "    os.makedirs(dirname)\n",
    "dataframe.to_csv(filename, index=False)"
   ]
  },
  {
   "cell_type": "code",
   "execution_count": null,
   "metadata": {},
   "outputs": [],
   "source": []
  }
 ],
 "metadata": {
  "kernelspec": {
   "display_name": "py310",
   "language": "python",
   "name": "python3"
  },
  "language_info": {
   "codemirror_mode": {
    "name": "ipython",
    "version": 3
   },
   "file_extension": ".py",
   "mimetype": "text/x-python",
   "name": "python",
   "nbconvert_exporter": "python",
   "pygments_lexer": "ipython3",
   "version": "3.10.13"
  }
 },
 "nbformat": 4,
 "nbformat_minor": 2
}
