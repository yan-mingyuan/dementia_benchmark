{
 "cells": [
  {
   "cell_type": "code",
   "execution_count": 1,
   "metadata": {},
   "outputs": [],
   "source": [
    "from config import *\n",
    "from dataset import ClassificationDataset\n",
    "\n",
    "import functools\n",
    "\n",
    "internal, external = 11, 12\n",
    "encode_method = \"dummy\"\n",
    "impute_method = \"itbr\"\n",
    "fs_method, fs_ratio = \"micls\", 0.5\n",
    "norm_method = \"maxmin\"\n",
    "classification_dataset = ClassificationDataset(\n",
    "    internal, external, encode_method, impute_method, fs_method, fs_ratio, norm_method, random_state=SEED)"
   ]
  },
  {
   "cell_type": "code",
   "execution_count": 2,
   "metadata": {},
   "outputs": [
    {
     "name": "stdout",
     "output_type": "stream",
     "text": [
      "model()\n",
      "Valid:         AUC: 0.7917 | AUPR: 0.2382 | Acc: 86.82%\n",
      "=======================================================\n",
      "best model()\n",
      "Valid:         AUC: 0.7917 | AUPR: 0.2382 | Acc: 86.82%\n",
      "Internal test: AUC: 0.7982 | AUPR: 0.2584 | Acc: 86.74%\n",
      "External test: AUC: 0.7845 | AUPR: 0.2278 | Acc: 85.28%\n"
     ]
    }
   ],
   "source": [
    "from sklearn.naive_bayes import GaussianNB\n",
    "\n",
    "model_fn = GaussianNB\n",
    "param_grid_list = [{}]\n",
    "best_metrics, best_params, best_model = classification_dataset.perform_grid_search(model_fn, param_grid_list)\n",
    "metrics_internal, metrics_external = classification_dataset.evaluate_test_sets(best_model)"
   ]
  },
  {
   "cell_type": "code",
   "execution_count": 3,
   "metadata": {},
   "outputs": [
    {
     "name": "stdout",
     "output_type": "stream",
     "text": [
      "model()\n",
      "Valid:         AUC: 0.7740 | AUPR: 0.1959 | Acc: 82.53%\n",
      "=======================================================\n",
      "best model()\n",
      "Valid:         AUC: 0.7740 | AUPR: 0.1959 | Acc: 82.53%\n",
      "Internal test: AUC: 0.7716 | AUPR: 0.2069 | Acc: 82.36%\n",
      "External test: AUC: 0.7635 | AUPR: 0.1900 | Acc: 81.21%\n"
     ]
    }
   ],
   "source": [
    "from sklearn.naive_bayes import ComplementNB\n",
    "\n",
    "model_fn = ComplementNB\n",
    "param_grid_list = [{}]\n",
    "best_metrics, best_params, best_model = classification_dataset.perform_grid_search(model_fn, param_grid_list)\n",
    "metrics_internal, metrics_external = classification_dataset.evaluate_test_sets(best_model)"
   ]
  },
  {
   "cell_type": "code",
   "execution_count": 4,
   "metadata": {},
   "outputs": [
    {
     "name": "stdout",
     "output_type": "stream",
     "text": [
      "model(p=1)\n",
      "Valid:         AUC: 0.6926 | AUPR: 0.2575 | Acc: 93.19%\n",
      "model(p=2)\n",
      "Valid:         AUC: 0.6868 | AUPR: 0.2387 | Acc: 92.76%\n",
      "=======================================================\n",
      "best model(p=1)\n",
      "Valid:         AUC: 0.6926 | AUPR: 0.2575 | Acc: 93.19%\n",
      "Internal test: AUC: 0.6978 | AUPR: 0.2707 | Acc: 92.75%\n",
      "External test: AUC: 0.6997 | AUPR: 0.2804 | Acc: 93.30%\n"
     ]
    }
   ],
   "source": [
    "from sklearn.neighbors import KNeighborsClassifier\n",
    "\n",
    "model_fn = functools.partial(\n",
    "    KNeighborsClassifier, n_jobs=-1, algorithm='auto',\n",
    "    n_neighbors=1, )\n",
    "param_grid_list = [{\n",
    "    'p': [1, 2],\n",
    "}]\n",
    "best_metrics, best_params, best_model = classification_dataset.perform_grid_search(model_fn, param_grid_list)\n",
    "metrics_internal, metrics_external = classification_dataset.evaluate_test_sets(best_model)"
   ]
  },
  {
   "cell_type": "code",
   "execution_count": 5,
   "metadata": {},
   "outputs": [
    {
     "name": "stdout",
     "output_type": "stream",
     "text": [
      "model(C=1.0)\n",
      "Valid:         AUC: 0.7263 | AUPR: 0.4017 | Acc: 95.32%\n",
      "model(C=10.0)\n",
      "Valid:         AUC: 0.7304 | AUPR: 0.4047 | Acc: 95.33%\n"
     ]
    },
    {
     "name": "stderr",
     "output_type": "stream",
     "text": [
      "/home/yan/anaconda3/envs/py310/lib/python3.10/site-packages/sklearn/linear_model/_sag.py:350: ConvergenceWarning: The max_iter was reached which means the coef_ did not converge\n",
      "  warnings.warn(\n"
     ]
    },
    {
     "name": "stdout",
     "output_type": "stream",
     "text": [
      "model(C=100.0)\n",
      "Valid:         AUC: 0.7316 | AUPR: 0.4049 | Acc: 95.32%\n",
      "=======================================================\n",
      "best model(C=100.0)\n",
      "Valid:         AUC: 0.7316 | AUPR: 0.4049 | Acc: 95.32%\n",
      "Internal test: AUC: 0.7332 | AUPR: 0.4329 | Acc: 95.23%\n",
      "External test: AUC: 0.7194 | AUPR: 0.3838 | Acc: 94.92%\n"
     ]
    },
    {
     "name": "stderr",
     "output_type": "stream",
     "text": [
      "/home/yan/anaconda3/envs/py310/lib/python3.10/site-packages/sklearn/linear_model/_sag.py:350: ConvergenceWarning: The max_iter was reached which means the coef_ did not converge\n",
      "  warnings.warn(\n"
     ]
    }
   ],
   "source": [
    "# from sklearn.exceptions import ConvergenceWarning\n",
    "# import warnings\n",
    "# warnings.filterwarnings(\"ignore\", category=ConvergenceWarning)\n",
    "from sklearn.linear_model import LogisticRegression\n",
    "\n",
    "model_fn = functools.partial(\n",
    "    LogisticRegression, random_state=SEED, n_jobs=-1, \n",
    "    max_iter=2000, solver='saga', penalty='l2',\n",
    "    )\n",
    "param_grid_list = [{\n",
    "    'C': [1.0, 10.0, 100.0],\n",
    "}]\n",
    "best_metrics, best_params, best_model = classification_dataset.perform_grid_search(\n",
    "    model_fn, param_grid_list)\n",
    "metrics_internal, metrics_external = classification_dataset.evaluate_test_sets(\n",
    "    best_model)"
   ]
  },
  {
   "cell_type": "code",
   "execution_count": 6,
   "metadata": {},
   "outputs": [
    {
     "name": "stdout",
     "output_type": "stream",
     "text": [
      "model(C=0.01)\n",
      "Valid:         AUC: 0.8255 | AUPR: 0.2496 | Acc: 85.16%\n",
      "model(C=0.1)\n",
      "Valid:         AUC: 0.8308 | AUPR: 0.2562 | Acc: 85.45%\n",
      "model(C=1)\n",
      "Valid:         AUC: 0.8323 | AUPR: 0.2584 | Acc: 85.59%\n",
      "=======================================================\n",
      "best model(C=1)\n",
      "Valid:         AUC: 0.8323 | AUPR: 0.2584 | Acc: 85.59%\n",
      "Internal test: AUC: 0.8474 | AUPR: 0.2942 | Acc: 86.37%\n",
      "External test: AUC: 0.8355 | AUPR: 0.2652 | Acc: 85.15%\n"
     ]
    }
   ],
   "source": [
    "from sklearn.svm import SVC\n",
    "\n",
    "model_fn = functools.partial(\n",
    "    SVC, random_state=SEED, \n",
    "    class_weight='balanced', kernel='linear',\n",
    "    )\n",
    "param_grid_list = [{\n",
    "    'C': [0.01, 0.1, 1],\n",
    "}]\n",
    "best_metrics, best_params, best_model = classification_dataset.perform_grid_search(model_fn, param_grid_list)\n",
    "metrics_internal, metrics_external = classification_dataset.evaluate_test_sets(best_model)"
   ]
  },
  {
   "cell_type": "code",
   "execution_count": 7,
   "metadata": {},
   "outputs": [],
   "source": [
    "# from sklearn.neural_network import MLPClassifier\n",
    "\n",
    "# model_fn = functools.partial(MLPClassifier, random_state=SEED, max_iter=1000)\n",
    "# param_grid_list = [{\n",
    "#     'hidden_layer_sizes': [(100,), (50, 50), (50, 100, 50)],\n",
    "#     'activation': ['logistic', 'relu'],\n",
    "#     'solver': ['adam', 'sgd'],\n",
    "#     'alpha': [0.0001, 0.001, 0.01],\n",
    "# }]\n",
    "# best_metrics, best_params, best_model = classification_dataset.perform_grid_search(model_fn, param_grid_list)\n",
    "# metrics_internal, metrics_external = classification_dataset.evaluate_test_sets(best_model)"
   ]
  },
  {
   "cell_type": "code",
   "execution_count": 8,
   "metadata": {},
   "outputs": [
    {
     "name": "stdout",
     "output_type": "stream",
     "text": [
      "model(criterion=gini)\n",
      "Valid:         AUC: 0.8065 | AUPR: 0.2456 | Acc: 86.22%\n",
      "model(criterion=log_loss)\n",
      "Valid:         AUC: 0.8045 | AUPR: 0.2271 | Acc: 84.14%\n",
      "model(criterion=entropy)\n",
      "Valid:         AUC: 0.8045 | AUPR: 0.2271 | Acc: 84.14%\n",
      "=======================================================\n",
      "best model(criterion=gini)\n",
      "Valid:         AUC: 0.8065 | AUPR: 0.2456 | Acc: 86.22%\n",
      "Internal test: AUC: 0.8115 | AUPR: 0.2438 | Acc: 83.80%\n",
      "External test: AUC: 0.8063 | AUPR: 0.2287 | Acc: 83.14%\n"
     ]
    }
   ],
   "source": [
    "from sklearn.tree import DecisionTreeClassifier\n",
    "\n",
    "model_fn = functools.partial(\n",
    "    DecisionTreeClassifier, random_state=SEED,\n",
    "    ccp_alpha=0.0, class_weight='balanced', max_depth=5)\n",
    "param_grid_list = [{\n",
    "        'criterion': ['gini', 'log_loss', 'entropy'],\n",
    "    }\n",
    "]\n",
    "best_metrics, best_params, best_model = classification_dataset.perform_grid_search(model_fn, param_grid_list)\n",
    "metrics_internal, metrics_external = classification_dataset.evaluate_test_sets(best_model)"
   ]
  },
  {
   "cell_type": "code",
   "execution_count": 9,
   "metadata": {},
   "outputs": [
    {
     "name": "stdout",
     "output_type": "stream",
     "text": [
      "model(criterion=gini, n_estimators=50)\n",
      "Valid:         AUC: 0.8235 | AUPR: 0.3008 | Acc: 89.74%\n",
      "model(criterion=gini, n_estimators=100)\n",
      "Valid:         AUC: 0.8257 | AUPR: 0.3090 | Acc: 90.12%\n",
      "model(criterion=gini, n_estimators=200)\n",
      "Valid:         AUC: 0.8276 | AUPR: 0.3127 | Acc: 90.24%\n",
      "model(criterion=log_loss, n_estimators=50)\n",
      "Valid:         AUC: 0.8270 | AUPR: 0.3064 | Acc: 89.86%\n",
      "model(criterion=log_loss, n_estimators=100)\n",
      "Valid:         AUC: 0.8235 | AUPR: 0.3095 | Acc: 90.25%\n",
      "model(criterion=log_loss, n_estimators=200)\n",
      "Valid:         AUC: 0.8263 | AUPR: 0.3129 | Acc: 90.31%\n",
      "model(criterion=entropy, n_estimators=50)\n",
      "Valid:         AUC: 0.8270 | AUPR: 0.3064 | Acc: 89.86%\n",
      "model(criterion=entropy, n_estimators=100)\n",
      "Valid:         AUC: 0.8235 | AUPR: 0.3095 | Acc: 90.25%\n",
      "model(criterion=entropy, n_estimators=200)\n",
      "Valid:         AUC: 0.8263 | AUPR: 0.3129 | Acc: 90.31%\n",
      "=======================================================\n",
      "best model(criterion=gini, n_estimators=200)\n",
      "Valid:         AUC: 0.8276 | AUPR: 0.3127 | Acc: 90.24%\n",
      "Internal test: AUC: 0.8363 | AUPR: 0.3346 | Acc: 90.00%\n",
      "External test: AUC: 0.8194 | AUPR: 0.2976 | Acc: 89.16%\n"
     ]
    }
   ],
   "source": [
    "from sklearn.ensemble import RandomForestClassifier\n",
    "\n",
    "model_fn = functools.partial(\n",
    "    RandomForestClassifier, random_state=SEED, n_jobs=-1,\n",
    "    ccp_alpha=0.0, class_weight='balanced', max_depth=5, bootstrap=False)\n",
    "param_grid_list = [{\n",
    "        'criterion': ['gini', 'log_loss', 'entropy'],\n",
    "        'n_estimators': [50, 100, 200],\n",
    "    }\n",
    "]\n",
    "best_metrics, best_params, best_model = classification_dataset.perform_grid_search(model_fn, param_grid_list)\n",
    "metrics_internal, metrics_external = classification_dataset.evaluate_test_sets(best_model)"
   ]
  },
  {
   "cell_type": "code",
   "execution_count": 10,
   "metadata": {},
   "outputs": [
    {
     "name": "stdout",
     "output_type": "stream",
     "text": [
      "model(criterion=friedman_mse)\n",
      "Valid:         AUC: 0.7291 | AUPR: 0.3852 | Acc: 95.09%\n",
      "model(criterion=squared_error)\n",
      "Valid:         AUC: 0.7292 | AUPR: 0.3865 | Acc: 95.11%\n",
      "=======================================================\n",
      "best model(criterion=squared_error)\n",
      "Valid:         AUC: 0.7292 | AUPR: 0.3865 | Acc: 95.11%\n",
      "Internal test: AUC: 0.7604 | AUPR: 0.4607 | Acc: 95.40%\n",
      "External test: AUC: 0.7380 | AUPR: 0.4028 | Acc: 95.02%\n"
     ]
    }
   ],
   "source": [
    "from sklearn.ensemble import GradientBoostingClassifier\n",
    "\n",
    "model = functools.partial(\n",
    "    GradientBoostingClassifier, random_state=SEED,\n",
    "    learning_rate=0.1, max_depth=5, loss='log_loss', \n",
    "    n_estimators=100)\n",
    "param_grid_list = [{\n",
    "        'criterion': ['friedman_mse', 'squared_error'],\n",
    "    }\n",
    "]\n",
    "best_metrics, best_params, best_model = classification_dataset.perform_grid_search(model, param_grid_list)\n",
    "metrics_internal, metrics_external = classification_dataset.evaluate_test_sets(best_model)"
   ]
  },
  {
   "cell_type": "code",
   "execution_count": 11,
   "metadata": {},
   "outputs": [
    {
     "name": "stdout",
     "output_type": "stream",
     "text": [
      "model(n_estimators=100, learning_rate=1.0)\n",
      "Valid:         AUC: 0.7410 | AUPR: 0.4100 | Acc: 95.32%\n",
      "model(n_estimators=200, learning_rate=1.0)\n",
      "Valid:         AUC: 0.7390 | AUPR: 0.4089 | Acc: 95.32%\n",
      "model(n_estimators=500, learning_rate=1.0)\n",
      "Valid:         AUC: 0.7375 | AUPR: 0.4078 | Acc: 95.32%\n",
      "=======================================================\n",
      "best model(n_estimators=100, learning_rate=1.0)\n",
      "Valid:         AUC: 0.7410 | AUPR: 0.4100 | Acc: 95.32%\n",
      "Internal test: AUC: 0.7431 | AUPR: 0.4339 | Acc: 95.18%\n",
      "External test: AUC: 0.7300 | AUPR: 0.3850 | Acc: 94.84%\n"
     ]
    }
   ],
   "source": [
    "from sklearn.ensemble import AdaBoostClassifier\n",
    "model = functools.partial(AdaBoostClassifier, random_state=SEED, algorithm=\"SAMME\")\n",
    "param_grid_list = [{\n",
    "    'n_estimators': [100, 200, 500],\n",
    "    'learning_rate': [1.0],\n",
    "}]\n",
    "best_metrics, best_params, best_model = classification_dataset.perform_grid_search(model, param_grid_list)\n",
    "metrics_internal, metrics_external = classification_dataset.evaluate_test_sets(best_model)"
   ]
  },
  {
   "cell_type": "code",
   "execution_count": null,
   "metadata": {},
   "outputs": [],
   "source": []
  }
 ],
 "metadata": {
  "kernelspec": {
   "display_name": "py310",
   "language": "python",
   "name": "python3"
  },
  "language_info": {
   "codemirror_mode": {
    "name": "ipython",
    "version": 3
   },
   "file_extension": ".py",
   "mimetype": "text/x-python",
   "name": "python",
   "nbconvert_exporter": "python",
   "pygments_lexer": "ipython3",
   "version": "3.10.13"
  }
 },
 "nbformat": 4,
 "nbformat_minor": 2
}
