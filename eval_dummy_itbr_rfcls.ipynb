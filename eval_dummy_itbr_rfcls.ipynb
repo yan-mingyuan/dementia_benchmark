{
 "cells": [
  {
   "cell_type": "code",
   "execution_count": 1,
   "metadata": {},
   "outputs": [],
   "source": [
    "from config import *\n",
    "from dataset import ClassificationDataset\n",
    "\n",
    "import functools\n",
    "\n",
    "internal, external = 11, 12\n",
    "encode_method = \"dummy\"\n",
    "impute_method = \"itbr\"\n",
    "fs_method, fs_ratio = \"rfcls\", 0.5\n",
    "norm_method = \"maxmin\"\n",
    "classification_dataset = ClassificationDataset(\n",
    "    internal, external, encode_method, impute_method, fs_method, fs_ratio, norm_method, random_state=SEED)"
   ]
  },
  {
   "cell_type": "code",
   "execution_count": 2,
   "metadata": {},
   "outputs": [
    {
     "name": "stdout",
     "output_type": "stream",
     "text": [
      "model()\n",
      "Valid:         AUC: 0.7987 | AUPR: 0.2568 | Acc: 88.05%\n",
      "=======================================================\n",
      "best model()\n",
      "Valid:         AUC: 0.7987 | AUPR: 0.2568 | Acc: 88.05%\n",
      "Internal test: AUC: 0.8242 | AUPR: 0.3014 | Acc: 88.56%\n",
      "External test: AUC: 0.7922 | AUPR: 0.2507 | Acc: 87.20%\n"
     ]
    }
   ],
   "source": [
    "from sklearn.naive_bayes import GaussianNB\n",
    "\n",
    "model_fn = GaussianNB\n",
    "param_grid_list = [{}]\n",
    "best_metrics, best_params, best_model = classification_dataset.perform_grid_search(model_fn, param_grid_list)\n",
    "metrics_internal, metrics_external = classification_dataset.evaluate_test_sets(best_model)"
   ]
  },
  {
   "cell_type": "code",
   "execution_count": 3,
   "metadata": {},
   "outputs": [
    {
     "name": "stdout",
     "output_type": "stream",
     "text": [
      "model()\n",
      "Valid:         AUC: 0.7771 | AUPR: 0.2067 | Acc: 84.08%\n",
      "=======================================================\n",
      "best model()\n",
      "Valid:         AUC: 0.7771 | AUPR: 0.2067 | Acc: 84.08%\n",
      "Internal test: AUC: 0.7796 | AUPR: 0.2228 | Acc: 84.11%\n",
      "External test: AUC: 0.7609 | AUPR: 0.1957 | Acc: 82.77%\n"
     ]
    }
   ],
   "source": [
    "from sklearn.naive_bayes import ComplementNB\n",
    "\n",
    "model_fn = ComplementNB\n",
    "param_grid_list = [{}]\n",
    "best_metrics, best_params, best_model = classification_dataset.perform_grid_search(model_fn, param_grid_list)\n",
    "metrics_internal, metrics_external = classification_dataset.evaluate_test_sets(best_model)"
   ]
  },
  {
   "cell_type": "code",
   "execution_count": 4,
   "metadata": {},
   "outputs": [
    {
     "name": "stdout",
     "output_type": "stream",
     "text": [
      "model(p=1)\n",
      "Valid:         AUC: 0.7168 | AUPR: 0.2896 | Acc: 93.45%\n",
      "model(p=2)\n",
      "Valid:         AUC: 0.7080 | AUPR: 0.2688 | Acc: 93.08%\n",
      "=======================================================\n",
      "best model(p=1)\n",
      "Valid:         AUC: 0.7168 | AUPR: 0.2896 | Acc: 93.45%\n",
      "Internal test: AUC: 0.7042 | AUPR: 0.2713 | Acc: 92.58%\n",
      "External test: AUC: 0.7155 | AUPR: 0.2978 | Acc: 93.38%\n"
     ]
    }
   ],
   "source": [
    "from sklearn.neighbors import KNeighborsClassifier\n",
    "\n",
    "model_fn = functools.partial(\n",
    "    KNeighborsClassifier, n_jobs=-1, algorithm='auto',\n",
    "    n_neighbors=1, )\n",
    "param_grid_list = [{\n",
    "    'p': [1, 2],\n",
    "}]\n",
    "best_metrics, best_params, best_model = classification_dataset.perform_grid_search(model_fn, param_grid_list)\n",
    "metrics_internal, metrics_external = classification_dataset.evaluate_test_sets(best_model)"
   ]
  },
  {
   "cell_type": "code",
   "execution_count": 5,
   "metadata": {},
   "outputs": [
    {
     "name": "stdout",
     "output_type": "stream",
     "text": [
      "model(C=1.0)\n",
      "Valid:         AUC: 0.7265 | AUPR: 0.4074 | Acc: 95.38%\n",
      "model(C=10.0)\n",
      "Valid:         AUC: 0.7283 | AUPR: 0.4004 | Acc: 95.29%\n",
      "model(C=100.0)\n",
      "Valid:         AUC: 0.7299 | AUPR: 0.4014 | Acc: 95.29%\n",
      "=======================================================\n",
      "best model(C=100.0)\n",
      "Valid:         AUC: 0.7299 | AUPR: 0.4014 | Acc: 95.29%\n",
      "Internal test: AUC: 0.7321 | AUPR: 0.4390 | Acc: 95.30%\n",
      "External test: AUC: 0.7158 | AUPR: 0.3820 | Acc: 94.92%\n"
     ]
    }
   ],
   "source": [
    "# from sklearn.exceptions import ConvergenceWarning\n",
    "# import warnings\n",
    "# warnings.filterwarnings(\"ignore\", category=ConvergenceWarning)\n",
    "from sklearn.linear_model import LogisticRegression\n",
    "\n",
    "model_fn = functools.partial(\n",
    "    LogisticRegression, random_state=SEED, n_jobs=-1, \n",
    "    max_iter=2000, solver='saga', penalty='l2',\n",
    "    )\n",
    "param_grid_list = [{\n",
    "    'C': [1.0, 10.0, 100.0],\n",
    "}]\n",
    "best_metrics, best_params, best_model = classification_dataset.perform_grid_search(\n",
    "    model_fn, param_grid_list)\n",
    "metrics_internal, metrics_external = classification_dataset.evaluate_test_sets(\n",
    "    best_model)"
   ]
  },
  {
   "cell_type": "code",
   "execution_count": 6,
   "metadata": {},
   "outputs": [
    {
     "name": "stdout",
     "output_type": "stream",
     "text": [
      "model(C=0.01)\n",
      "Valid:         AUC: 0.8223 | AUPR: 0.2478 | Acc: 85.20%\n",
      "model(C=0.1)\n",
      "Valid:         AUC: 0.8290 | AUPR: 0.2571 | Acc: 85.70%\n",
      "model(C=1)\n",
      "Valid:         AUC: 0.8298 | AUPR: 0.2587 | Acc: 85.84%\n",
      "=======================================================\n",
      "best model(C=1)\n",
      "Valid:         AUC: 0.8298 | AUPR: 0.2587 | Acc: 85.84%\n",
      "Internal test: AUC: 0.8374 | AUPR: 0.2839 | Acc: 86.16%\n",
      "External test: AUC: 0.8362 | AUPR: 0.2686 | Acc: 85.47%\n"
     ]
    }
   ],
   "source": [
    "from sklearn.svm import SVC\n",
    "\n",
    "model_fn = functools.partial(\n",
    "    SVC, random_state=SEED, \n",
    "    class_weight='balanced', kernel='linear',\n",
    "    )\n",
    "param_grid_list = [{\n",
    "    'C': [0.01, 0.1, 1],\n",
    "}]\n",
    "best_metrics, best_params, best_model = classification_dataset.perform_grid_search(model_fn, param_grid_list)\n",
    "metrics_internal, metrics_external = classification_dataset.evaluate_test_sets(best_model)"
   ]
  },
  {
   "cell_type": "code",
   "execution_count": 7,
   "metadata": {},
   "outputs": [],
   "source": [
    "# from sklearn.neural_network import MLPClassifier\n",
    "\n",
    "# model_fn = functools.partial(MLPClassifier, random_state=SEED, max_iter=1000)\n",
    "# param_grid_list = [{\n",
    "#     'hidden_layer_sizes': [(100,), (50, 50), (50, 100, 50)],\n",
    "#     'activation': ['logistic', 'relu'],\n",
    "#     'solver': ['adam', 'sgd'],\n",
    "#     'alpha': [0.0001, 0.001, 0.01],\n",
    "# }]\n",
    "# best_metrics, best_params, best_model = classification_dataset.perform_grid_search(model_fn, param_grid_list)\n",
    "# metrics_internal, metrics_external = classification_dataset.evaluate_test_sets(best_model)"
   ]
  },
  {
   "cell_type": "code",
   "execution_count": 8,
   "metadata": {},
   "outputs": [
    {
     "name": "stdout",
     "output_type": "stream",
     "text": [
      "model(criterion=gini)\n",
      "Valid:         AUC: 0.7975 | AUPR: 0.2325 | Acc: 85.24%\n",
      "model(criterion=log_loss)\n",
      "Valid:         AUC: 0.8032 | AUPR: 0.2300 | Acc: 84.72%\n",
      "model(criterion=entropy)\n",
      "Valid:         AUC: 0.8032 | AUPR: 0.2300 | Acc: 84.72%\n",
      "=======================================================\n",
      "best model(criterion=log_loss)\n",
      "Valid:         AUC: 0.8032 | AUPR: 0.2300 | Acc: 84.72%\n",
      "Internal test: AUC: 0.8128 | AUPR: 0.2485 | Acc: 84.31%\n",
      "External test: AUC: 0.7960 | AUPR: 0.2279 | Acc: 84.13%\n"
     ]
    }
   ],
   "source": [
    "from sklearn.tree import DecisionTreeClassifier\n",
    "\n",
    "model_fn = functools.partial(\n",
    "    DecisionTreeClassifier, random_state=SEED,\n",
    "    ccp_alpha=0.0, class_weight='balanced', max_depth=5)\n",
    "param_grid_list = [{\n",
    "        'criterion': ['gini', 'log_loss', 'entropy'],\n",
    "    }\n",
    "]\n",
    "best_metrics, best_params, best_model = classification_dataset.perform_grid_search(model_fn, param_grid_list)\n",
    "metrics_internal, metrics_external = classification_dataset.evaluate_test_sets(best_model)"
   ]
  },
  {
   "cell_type": "code",
   "execution_count": 9,
   "metadata": {},
   "outputs": [
    {
     "name": "stdout",
     "output_type": "stream",
     "text": [
      "model(criterion=gini, n_estimators=50)\n",
      "Valid:         AUC: 0.8249 | AUPR: 0.2970 | Acc: 89.41%\n",
      "model(criterion=gini, n_estimators=100)\n",
      "Valid:         AUC: 0.8252 | AUPR: 0.3003 | Acc: 89.61%\n",
      "model(criterion=gini, n_estimators=200)\n",
      "Valid:         AUC: 0.8270 | AUPR: 0.3024 | Acc: 89.63%\n",
      "model(criterion=log_loss, n_estimators=50)\n",
      "Valid:         AUC: 0.8249 | AUPR: 0.2931 | Acc: 89.14%\n",
      "model(criterion=log_loss, n_estimators=100)\n",
      "Valid:         AUC: 0.8271 | AUPR: 0.2999 | Acc: 89.49%\n",
      "model(criterion=log_loss, n_estimators=200)\n",
      "Valid:         AUC: 0.8298 | AUPR: 0.3047 | Acc: 89.63%\n",
      "model(criterion=entropy, n_estimators=50)\n",
      "Valid:         AUC: 0.8249 | AUPR: 0.2931 | Acc: 89.14%\n",
      "model(criterion=entropy, n_estimators=100)\n",
      "Valid:         AUC: 0.8271 | AUPR: 0.2999 | Acc: 89.49%\n",
      "model(criterion=entropy, n_estimators=200)\n",
      "Valid:         AUC: 0.8298 | AUPR: 0.3047 | Acc: 89.63%\n",
      "=======================================================\n",
      "best model(criterion=log_loss, n_estimators=200)\n",
      "Valid:         AUC: 0.8298 | AUPR: 0.3047 | Acc: 89.63%\n",
      "Internal test: AUC: 0.8360 | AUPR: 0.3198 | Acc: 89.12%\n",
      "External test: AUC: 0.8196 | AUPR: 0.2895 | Acc: 88.57%\n"
     ]
    }
   ],
   "source": [
    "from sklearn.ensemble import RandomForestClassifier\n",
    "\n",
    "model_fn = functools.partial(\n",
    "    RandomForestClassifier, random_state=SEED, n_jobs=-1,\n",
    "    ccp_alpha=0.0, class_weight='balanced', max_depth=5, bootstrap=False)\n",
    "param_grid_list = [{\n",
    "        'criterion': ['gini', 'log_loss', 'entropy'],\n",
    "        'n_estimators': [50, 100, 200],\n",
    "    }\n",
    "]\n",
    "best_metrics, best_params, best_model = classification_dataset.perform_grid_search(model_fn, param_grid_list)\n",
    "metrics_internal, metrics_external = classification_dataset.evaluate_test_sets(best_model)"
   ]
  },
  {
   "cell_type": "code",
   "execution_count": 10,
   "metadata": {},
   "outputs": [
    {
     "name": "stdout",
     "output_type": "stream",
     "text": [
      "model(criterion=friedman_mse)\n",
      "Valid:         AUC: 0.7337 | AUPR: 0.3911 | Acc: 95.13%\n",
      "model(criterion=squared_error)\n",
      "Valid:         AUC: 0.7336 | AUPR: 0.3906 | Acc: 95.12%\n",
      "=======================================================\n",
      "best model(criterion=friedman_mse)\n",
      "Valid:         AUC: 0.7337 | AUPR: 0.3911 | Acc: 95.13%\n",
      "Internal test: AUC: 0.7466 | AUPR: 0.4436 | Acc: 95.28%\n",
      "External test: AUC: 0.7372 | AUPR: 0.4107 | Acc: 95.13%\n"
     ]
    }
   ],
   "source": [
    "from sklearn.ensemble import GradientBoostingClassifier\n",
    "\n",
    "model = functools.partial(\n",
    "    GradientBoostingClassifier, random_state=SEED,\n",
    "    learning_rate=0.1, max_depth=5, loss='log_loss', \n",
    "    n_estimators=100)\n",
    "param_grid_list = [{\n",
    "        'criterion': ['friedman_mse', 'squared_error'],\n",
    "    }\n",
    "]\n",
    "best_metrics, best_params, best_model = classification_dataset.perform_grid_search(model, param_grid_list)\n",
    "metrics_internal, metrics_external = classification_dataset.evaluate_test_sets(best_model)"
   ]
  },
  {
   "cell_type": "code",
   "execution_count": 11,
   "metadata": {},
   "outputs": [
    {
     "name": "stdout",
     "output_type": "stream",
     "text": [
      "model(n_estimators=100, learning_rate=1.0)\n",
      "Valid:         AUC: 0.7352 | AUPR: 0.4009 | Acc: 95.24%\n",
      "model(n_estimators=200, learning_rate=1.0)\n",
      "Valid:         AUC: 0.7359 | AUPR: 0.3999 | Acc: 95.22%\n",
      "model(n_estimators=500, learning_rate=1.0)\n",
      "Valid:         AUC: 0.7344 | AUPR: 0.4024 | Acc: 95.27%\n",
      "=======================================================\n",
      "best model(n_estimators=200, learning_rate=1.0)\n",
      "Valid:         AUC: 0.7359 | AUPR: 0.3999 | Acc: 95.22%\n",
      "Internal test: AUC: 0.7418 | AUPR: 0.4351 | Acc: 95.21%\n",
      "External test: AUC: 0.7337 | AUPR: 0.3962 | Acc: 94.96%\n"
     ]
    }
   ],
   "source": [
    "from sklearn.ensemble import AdaBoostClassifier\n",
    "model = functools.partial(AdaBoostClassifier, random_state=SEED, algorithm=\"SAMME\")\n",
    "param_grid_list = [{\n",
    "    'n_estimators': [100, 200, 500],\n",
    "    'learning_rate': [1.0],\n",
    "}]\n",
    "best_metrics, best_params, best_model = classification_dataset.perform_grid_search(model, param_grid_list)\n",
    "metrics_internal, metrics_external = classification_dataset.evaluate_test_sets(best_model)"
   ]
  },
  {
   "cell_type": "code",
   "execution_count": null,
   "metadata": {},
   "outputs": [],
   "source": []
  }
 ],
 "metadata": {
  "kernelspec": {
   "display_name": "py310",
   "language": "python",
   "name": "python3"
  },
  "language_info": {
   "codemirror_mode": {
    "name": "ipython",
    "version": 3
   },
   "file_extension": ".py",
   "mimetype": "text/x-python",
   "name": "python",
   "nbconvert_exporter": "python",
   "pygments_lexer": "ipython3",
   "version": "3.10.13"
  }
 },
 "nbformat": 4,
 "nbformat_minor": 2
}
