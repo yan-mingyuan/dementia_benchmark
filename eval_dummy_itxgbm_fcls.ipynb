{
 "cells": [
  {
   "cell_type": "code",
   "execution_count": 1,
   "metadata": {},
   "outputs": [
    {
     "name": "stderr",
     "output_type": "stream",
     "text": [
      "/home/yan/anaconda3/envs/py310/lib/python3.10/site-packages/sklearn/impute/_iterative.py:801: ConvergenceWarning: [IterativeImputer] Early stopping criterion not reached.\n",
      "  warnings.warn(\n"
     ]
    }
   ],
   "source": [
    "from config import *\n",
    "from dataset import ClassificationDataset\n",
    "\n",
    "import functools\n",
    "\n",
    "internal, external = 11, 12\n",
    "encode_method = \"dummy\"\n",
    "impute_method = \"itxgbm\"\n",
    "fs_method, fs_ratio = \"fcls\", 0.5\n",
    "norm_method = \"maxmin\"\n",
    "classification_dataset = ClassificationDataset(\n",
    "    internal, external, encode_method, impute_method, fs_method, fs_ratio, norm_method, random_state=SEED)"
   ]
  },
  {
   "cell_type": "code",
   "execution_count": 2,
   "metadata": {},
   "outputs": [
    {
     "name": "stdout",
     "output_type": "stream",
     "text": [
      "model()\n",
      "Valid:         AUC: 0.7620 | AUPR: 0.2096 | Acc: 86.06%\n",
      "=======================================================\n",
      "best model()\n",
      "Valid:         AUC: 0.7620 | AUPR: 0.2096 | Acc: 86.06%\n",
      "Internal test: AUC: 0.7539 | AUPR: 0.2163 | Acc: 85.84%\n",
      "External test: AUC: 0.7429 | AUPR: 0.1923 | Acc: 84.38%\n"
     ]
    }
   ],
   "source": [
    "from sklearn.naive_bayes import GaussianNB\n",
    "\n",
    "model_fn = GaussianNB\n",
    "param_grid_list = [{}]\n",
    "best_metrics, best_params, best_model = classification_dataset.perform_grid_search(model_fn, param_grid_list)\n",
    "metrics_internal, metrics_external = classification_dataset.evaluate_test_sets(best_model)"
   ]
  },
  {
   "cell_type": "code",
   "execution_count": 3,
   "metadata": {},
   "outputs": [
    {
     "name": "stdout",
     "output_type": "stream",
     "text": [
      "model()\n",
      "Valid:         AUC: 0.7702 | AUPR: 0.1924 | Acc: 82.32%\n",
      "=======================================================\n",
      "best model()\n",
      "Valid:         AUC: 0.7702 | AUPR: 0.1924 | Acc: 82.32%\n",
      "Internal test: AUC: 0.7708 | AUPR: 0.2070 | Acc: 82.48%\n",
      "External test: AUC: 0.7628 | AUPR: 0.1882 | Acc: 80.89%\n"
     ]
    }
   ],
   "source": [
    "from sklearn.naive_bayes import ComplementNB\n",
    "\n",
    "model_fn = ComplementNB\n",
    "param_grid_list = [{}]\n",
    "best_metrics, best_params, best_model = classification_dataset.perform_grid_search(model_fn, param_grid_list)\n",
    "metrics_internal, metrics_external = classification_dataset.evaluate_test_sets(best_model)"
   ]
  },
  {
   "cell_type": "code",
   "execution_count": 4,
   "metadata": {},
   "outputs": [
    {
     "name": "stdout",
     "output_type": "stream",
     "text": [
      "model(p=1)\n",
      "Valid:         AUC: 0.6924 | AUPR: 0.2527 | Acc: 93.05%\n",
      "model(p=2)\n",
      "Valid:         AUC: 0.6902 | AUPR: 0.2438 | Acc: 92.82%\n",
      "=======================================================\n",
      "best model(p=1)\n",
      "Valid:         AUC: 0.6924 | AUPR: 0.2527 | Acc: 93.05%\n",
      "Internal test: AUC: 0.7035 | AUPR: 0.2940 | Acc: 93.26%\n",
      "External test: AUC: 0.6974 | AUPR: 0.2742 | Acc: 93.18%\n"
     ]
    }
   ],
   "source": [
    "from sklearn.neighbors import KNeighborsClassifier\n",
    "\n",
    "model_fn = functools.partial(\n",
    "    KNeighborsClassifier, n_jobs=-1, algorithm='auto',\n",
    "    n_neighbors=1, )\n",
    "param_grid_list = [{\n",
    "    'p': [1, 2],\n",
    "}]\n",
    "best_metrics, best_params, best_model = classification_dataset.perform_grid_search(model_fn, param_grid_list)\n",
    "metrics_internal, metrics_external = classification_dataset.evaluate_test_sets(best_model)"
   ]
  },
  {
   "cell_type": "code",
   "execution_count": 5,
   "metadata": {},
   "outputs": [
    {
     "name": "stdout",
     "output_type": "stream",
     "text": [
      "model(C=1.0)\n",
      "Valid:         AUC: 0.7189 | AUPR: 0.3900 | Acc: 95.23%\n",
      "model(C=10.0)\n",
      "Valid:         AUC: 0.7212 | AUPR: 0.3893 | Acc: 95.21%\n",
      "model(C=100.0)\n",
      "Valid:         AUC: 0.7207 | AUPR: 0.3884 | Acc: 95.20%\n",
      "=======================================================\n",
      "best model(C=10.0)\n",
      "Valid:         AUC: 0.7212 | AUPR: 0.3893 | Acc: 95.21%\n",
      "Internal test: AUC: 0.7143 | AUPR: 0.4031 | Acc: 94.99%\n",
      "External test: AUC: 0.7129 | AUPR: 0.3674 | Acc: 94.75%\n"
     ]
    }
   ],
   "source": [
    "# from sklearn.exceptions import ConvergenceWarning\n",
    "# import warnings\n",
    "# warnings.filterwarnings(\"ignore\", category=ConvergenceWarning)\n",
    "from sklearn.linear_model import LogisticRegression\n",
    "\n",
    "model_fn = functools.partial(\n",
    "    LogisticRegression, random_state=SEED, n_jobs=-1, \n",
    "    max_iter=2000, solver='saga', penalty='l2',\n",
    "    )\n",
    "param_grid_list = [{\n",
    "    'C': [1.0, 10.0, 100.0],\n",
    "}]\n",
    "best_metrics, best_params, best_model = classification_dataset.perform_grid_search(\n",
    "    model_fn, param_grid_list)\n",
    "metrics_internal, metrics_external = classification_dataset.evaluate_test_sets(\n",
    "    best_model)"
   ]
  },
  {
   "cell_type": "code",
   "execution_count": 6,
   "metadata": {},
   "outputs": [
    {
     "name": "stdout",
     "output_type": "stream",
     "text": [
      "model(C=0.01)\n",
      "Valid:         AUC: 0.8262 | AUPR: 0.2486 | Acc: 85.00%\n",
      "model(C=0.1)\n",
      "Valid:         AUC: 0.8348 | AUPR: 0.2571 | Acc: 85.25%\n",
      "model(C=1)\n",
      "Valid:         AUC: 0.8328 | AUPR: 0.2557 | Acc: 85.25%\n",
      "=======================================================\n",
      "best model(C=0.1)\n",
      "Valid:         AUC: 0.8348 | AUPR: 0.2571 | Acc: 85.25%\n",
      "Internal test: AUC: 0.8358 | AUPR: 0.2797 | Acc: 85.86%\n",
      "External test: AUC: 0.8335 | AUPR: 0.2590 | Acc: 84.59%\n"
     ]
    }
   ],
   "source": [
    "from sklearn.svm import SVC\n",
    "\n",
    "model_fn = functools.partial(\n",
    "    SVC, random_state=SEED, \n",
    "    class_weight='balanced', kernel='linear',\n",
    "    )\n",
    "param_grid_list = [{\n",
    "    'C': [0.01, 0.1, 1],\n",
    "}]\n",
    "best_metrics, best_params, best_model = classification_dataset.perform_grid_search(model_fn, param_grid_list)\n",
    "metrics_internal, metrics_external = classification_dataset.evaluate_test_sets(best_model)"
   ]
  },
  {
   "cell_type": "code",
   "execution_count": 7,
   "metadata": {},
   "outputs": [],
   "source": [
    "# from sklearn.neural_network import MLPClassifier\n",
    "\n",
    "# model_fn = functools.partial(MLPClassifier, random_state=SEED, max_iter=1000)\n",
    "# param_grid_list = [{\n",
    "#     'hidden_layer_sizes': [(100,), (50, 50), (50, 100, 50)],\n",
    "#     'activation': ['logistic', 'relu'],\n",
    "#     'solver': ['adam', 'sgd'],\n",
    "#     'alpha': [0.0001, 0.001, 0.01],\n",
    "# }]\n",
    "# best_metrics, best_params, best_model = classification_dataset.perform_grid_search(model_fn, param_grid_list)\n",
    "# metrics_internal, metrics_external = classification_dataset.evaluate_test_sets(best_model)"
   ]
  },
  {
   "cell_type": "code",
   "execution_count": 8,
   "metadata": {},
   "outputs": [
    {
     "name": "stdout",
     "output_type": "stream",
     "text": [
      "model(criterion=gini)\n",
      "Valid:         AUC: 0.7853 | AUPR: 0.2201 | Acc: 83.98%\n",
      "model(criterion=log_loss)\n",
      "Valid:         AUC: 0.7879 | AUPR: 0.2193 | Acc: 84.02%\n",
      "model(criterion=entropy)\n",
      "Valid:         AUC: 0.7879 | AUPR: 0.2193 | Acc: 84.02%\n",
      "=======================================================\n",
      "best model(criterion=log_loss)\n",
      "Valid:         AUC: 0.7879 | AUPR: 0.2193 | Acc: 84.02%\n",
      "Internal test: AUC: 0.7885 | AUPR: 0.3135 | Acc: 91.14%\n",
      "External test: AUC: 0.7727 | AUPR: 0.2721 | Acc: 90.14%\n"
     ]
    }
   ],
   "source": [
    "from sklearn.tree import DecisionTreeClassifier\n",
    "\n",
    "model_fn = functools.partial(\n",
    "    DecisionTreeClassifier, random_state=SEED,\n",
    "    ccp_alpha=0.0, class_weight='balanced', max_depth=5)\n",
    "param_grid_list = [{\n",
    "        'criterion': ['gini', 'log_loss', 'entropy'],\n",
    "    }\n",
    "]\n",
    "best_metrics, best_params, best_model = classification_dataset.perform_grid_search(model_fn, param_grid_list)\n",
    "metrics_internal, metrics_external = classification_dataset.evaluate_test_sets(best_model)"
   ]
  },
  {
   "cell_type": "code",
   "execution_count": 9,
   "metadata": {},
   "outputs": [
    {
     "name": "stdout",
     "output_type": "stream",
     "text": [
      "model(criterion=gini, n_estimators=50)\n",
      "Valid:         AUC: 0.8161 | AUPR: 0.2888 | Acc: 89.35%\n",
      "model(criterion=gini, n_estimators=100)\n",
      "Valid:         AUC: 0.8158 | AUPR: 0.2872 | Acc: 89.30%\n",
      "model(criterion=gini, n_estimators=200)\n",
      "Valid:         AUC: 0.8163 | AUPR: 0.2898 | Acc: 89.42%\n",
      "model(criterion=log_loss, n_estimators=50)\n",
      "Valid:         AUC: 0.8126 | AUPR: 0.2892 | Acc: 89.60%\n",
      "model(criterion=log_loss, n_estimators=100)\n",
      "Valid:         AUC: 0.8158 | AUPR: 0.2902 | Acc: 89.48%\n",
      "model(criterion=log_loss, n_estimators=200)\n",
      "Valid:         AUC: 0.8153 | AUPR: 0.2889 | Acc: 89.41%\n",
      "model(criterion=entropy, n_estimators=50)\n",
      "Valid:         AUC: 0.8126 | AUPR: 0.2892 | Acc: 89.60%\n",
      "model(criterion=entropy, n_estimators=100)\n",
      "Valid:         AUC: 0.8158 | AUPR: 0.2902 | Acc: 89.48%\n",
      "model(criterion=entropy, n_estimators=200)\n",
      "Valid:         AUC: 0.8153 | AUPR: 0.2889 | Acc: 89.41%\n",
      "=======================================================\n",
      "best model(criterion=gini, n_estimators=200)\n",
      "Valid:         AUC: 0.8163 | AUPR: 0.2898 | Acc: 89.42%\n",
      "Internal test: AUC: 0.8244 | AUPR: 0.3061 | Acc: 88.88%\n",
      "External test: AUC: 0.8137 | AUPR: 0.2783 | Acc: 88.09%\n"
     ]
    }
   ],
   "source": [
    "from sklearn.ensemble import RandomForestClassifier\n",
    "\n",
    "model_fn = functools.partial(\n",
    "    RandomForestClassifier, random_state=SEED, n_jobs=-1,\n",
    "    ccp_alpha=0.0, class_weight='balanced', max_depth=5, bootstrap=False)\n",
    "param_grid_list = [{\n",
    "        'criterion': ['gini', 'log_loss', 'entropy'],\n",
    "        'n_estimators': [50, 100, 200],\n",
    "    }\n",
    "]\n",
    "best_metrics, best_params, best_model = classification_dataset.perform_grid_search(model_fn, param_grid_list)\n",
    "metrics_internal, metrics_external = classification_dataset.evaluate_test_sets(best_model)"
   ]
  },
  {
   "cell_type": "code",
   "execution_count": 10,
   "metadata": {},
   "outputs": [
    {
     "name": "stdout",
     "output_type": "stream",
     "text": [
      "model(criterion=friedman_mse)\n",
      "Valid:         AUC: 0.7379 | AUPR: 0.4111 | Acc: 95.35%\n",
      "model(criterion=squared_error)\n",
      "Valid:         AUC: 0.7387 | AUPR: 0.4110 | Acc: 95.34%\n",
      "=======================================================\n",
      "best model(criterion=squared_error)\n",
      "Valid:         AUC: 0.7387 | AUPR: 0.4110 | Acc: 95.34%\n",
      "Internal test: AUC: 0.7534 | AUPR: 0.4612 | Acc: 95.45%\n",
      "External test: AUC: 0.7393 | AUPR: 0.4084 | Acc: 95.08%\n"
     ]
    }
   ],
   "source": [
    "from sklearn.ensemble import GradientBoostingClassifier\n",
    "\n",
    "model = functools.partial(\n",
    "    GradientBoostingClassifier, random_state=SEED,\n",
    "    learning_rate=0.1, max_depth=5, loss='log_loss', \n",
    "    n_estimators=100)\n",
    "param_grid_list = [{\n",
    "        'criterion': ['friedman_mse', 'squared_error'],\n",
    "    }\n",
    "]\n",
    "best_metrics, best_params, best_model = classification_dataset.perform_grid_search(model, param_grid_list)\n",
    "metrics_internal, metrics_external = classification_dataset.evaluate_test_sets(best_model)"
   ]
  },
  {
   "cell_type": "code",
   "execution_count": 11,
   "metadata": {},
   "outputs": [
    {
     "name": "stdout",
     "output_type": "stream",
     "text": [
      "model(n_estimators=100, learning_rate=1.0)\n",
      "Valid:         AUC: 0.7287 | AUPR: 0.3820 | Acc: 95.05%\n",
      "model(n_estimators=200, learning_rate=1.0)\n",
      "Valid:         AUC: 0.7305 | AUPR: 0.3858 | Acc: 95.08%\n",
      "model(n_estimators=500, learning_rate=1.0)\n",
      "Valid:         AUC: 0.7295 | AUPR: 0.3879 | Acc: 95.12%\n",
      "=======================================================\n",
      "best model(n_estimators=200, learning_rate=1.0)\n",
      "Valid:         AUC: 0.7305 | AUPR: 0.3858 | Acc: 95.08%\n",
      "Internal test: AUC: 0.7273 | AUPR: 0.4078 | Acc: 94.96%\n",
      "External test: AUC: 0.7140 | AUPR: 0.3647 | Acc: 94.71%\n"
     ]
    }
   ],
   "source": [
    "from sklearn.ensemble import AdaBoostClassifier\n",
    "model = functools.partial(AdaBoostClassifier, random_state=SEED, algorithm=\"SAMME\")\n",
    "param_grid_list = [{\n",
    "    'n_estimators': [100, 200, 500],\n",
    "    'learning_rate': [1.0],\n",
    "}]\n",
    "best_metrics, best_params, best_model = classification_dataset.perform_grid_search(model, param_grid_list)\n",
    "metrics_internal, metrics_external = classification_dataset.evaluate_test_sets(best_model)"
   ]
  },
  {
   "cell_type": "code",
   "execution_count": null,
   "metadata": {},
   "outputs": [],
   "source": []
  }
 ],
 "metadata": {
  "kernelspec": {
   "display_name": "py310",
   "language": "python",
   "name": "python3"
  },
  "language_info": {
   "codemirror_mode": {
    "name": "ipython",
    "version": 3
   },
   "file_extension": ".py",
   "mimetype": "text/x-python",
   "name": "python",
   "nbconvert_exporter": "python",
   "pygments_lexer": "ipython3",
   "version": "3.10.13"
  }
 },
 "nbformat": 4,
 "nbformat_minor": 2
}
