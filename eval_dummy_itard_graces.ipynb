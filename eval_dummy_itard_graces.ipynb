{
 "cells": [
  {
   "cell_type": "code",
   "execution_count": 1,
   "metadata": {},
   "outputs": [
    {
     "name": "stderr",
     "output_type": "stream",
     "text": [
      "Number of Selected Features: 100%|██████████| 71/71 [14:26<00:00, 12.20s/it]\n"
     ]
    }
   ],
   "source": [
    "from config import *\n",
    "from utilities import get_model_name\n",
    "from dataset import ClassificationDataset\n",
    "\n",
    "import functools\n",
    "import numpy as np\n",
    "import pandas as pd\n",
    "\n",
    "results_dict = {}\n",
    "internal, external = 11, 12\n",
    "encode_method = \"dummy\"\n",
    "impute_method = \"itard\"\n",
    "fs_method, fs_ratio = \"graces\", 0.5\n",
    "norm_method = \"maxmin\"\n",
    "classification_dataset = ClassificationDataset(\n",
    "    internal, external, encode_method, impute_method, fs_method, fs_ratio, norm_method, random_state=SEED)"
   ]
  },
  {
   "cell_type": "code",
   "execution_count": 2,
   "metadata": {},
   "outputs": [
    {
     "name": "stdout",
     "output_type": "stream",
     "text": [
      "MLPClassifier\n"
     ]
    },
    {
     "name": "stderr",
     "output_type": "stream",
     "text": [
      "                                                                             \r"
     ]
    },
    {
     "name": "stdout",
     "output_type": "stream",
     "text": [
      "model(hidden_layer_sizes=(128, 128), learning_rate=0.005)\n",
      "Valid:         AUC: 0.9050 | AUPR: 0.6381 | Acc: 95.33%\n"
     ]
    },
    {
     "name": "stderr",
     "output_type": "stream",
     "text": [
      "                                                                             \r"
     ]
    },
    {
     "name": "stdout",
     "output_type": "stream",
     "text": [
      "model(hidden_layer_sizes=(128, 128), learning_rate=0.01)\n",
      "Valid:         AUC: 0.9100 | AUPR: 0.6455 | Acc: 95.30%\n"
     ]
    },
    {
     "name": "stderr",
     "output_type": "stream",
     "text": [
      "                                                                             \r"
     ]
    },
    {
     "name": "stdout",
     "output_type": "stream",
     "text": [
      "model(hidden_layer_sizes=(128, 128), learning_rate=0.02)\n",
      "Valid:         AUC: 0.9128 | AUPR: 0.6503 | Acc: 95.23%\n"
     ]
    },
    {
     "name": "stderr",
     "output_type": "stream",
     "text": [
      "                                                                             \r"
     ]
    },
    {
     "name": "stdout",
     "output_type": "stream",
     "text": [
      "model(hidden_layer_sizes=(64, 64, 64), learning_rate=0.005)\n",
      "Valid:         AUC: 0.9072 | AUPR: 0.6379 | Acc: 95.29%\n"
     ]
    },
    {
     "name": "stderr",
     "output_type": "stream",
     "text": [
      "                                                                             \r"
     ]
    },
    {
     "name": "stdout",
     "output_type": "stream",
     "text": [
      "model(hidden_layer_sizes=(64, 64, 64), learning_rate=0.01)\n",
      "Valid:         AUC: 0.9112 | AUPR: 0.6449 | Acc: 95.27%\n"
     ]
    },
    {
     "name": "stderr",
     "output_type": "stream",
     "text": [
      "                                                                             \r"
     ]
    },
    {
     "name": "stdout",
     "output_type": "stream",
     "text": [
      "model(hidden_layer_sizes=(64, 64, 64), learning_rate=0.02)\n",
      "Valid:         AUC: 0.9127 | AUPR: 0.6472 | Acc: 95.27%\n",
      "=======================================================\n",
      "best model(hidden_layer_sizes=(128, 128), learning_rate=0.02)\n",
      "Valid:         AUC: 0.9128 | AUPR: 0.6503 | Acc: 95.23%\n",
      "Internal test: AUC: 0.9203 | AUPR: 0.6745 | Acc: 94.77%\n",
      "External test: AUC: 0.9137 | AUPR: 0.6545 | Acc: 95.16%\n"
     ]
    }
   ],
   "source": [
    "# from sklearn.neural_network import MLPClassifier\n",
    "from utilities import MLPClassifier\n",
    "\n",
    "model_fn = functools.partial(\n",
    "    MLPClassifier, random_state=SEED, max_iter=50,\n",
    "    momentum=0.9, squares=0.999, optimizer_t='sgdm',\n",
    "    use_residual=True, use_batch_norm=False)\n",
    "param_grid_list = [{\n",
    "    # hidden_layer_sizes = (64, 32)\n",
    "    # config       lr_range            worst_auc\n",
    "    # adam w/ bn:  [2e-5, 5e-5, 1e-4]  0.8942\n",
    "    # adam w/o bn: [5e-5, 1e-4, 2e-4]  0.9148\n",
    "    # sgdm w/ bn:  [1e-3, 2e-3, 5e-3]  0.8982\n",
    "    # sgdm w/o bn: [5e-3, 1e-2, 2e-2]  0.9177\n",
    "\n",
    "    'hidden_layer_sizes': [(128, 128), (64, 64, 64)],\n",
    "    'learning_rate': [5e-3, 1e-2, 2e-2],\n",
    "}]\n",
    "best_metrics, best_params, best_model = classification_dataset.perform_grid_search(model_fn, param_grid_list)\n",
    "metrics_internal, metrics_external = classification_dataset.evaluate_test_sets(best_model)\n",
    "results_dict[get_model_name(model_fn)] = np.concatenate([best_metrics, metrics_internal, metrics_external], axis=0)"
   ]
  },
  {
   "cell_type": "code",
   "execution_count": 3,
   "metadata": {},
   "outputs": [
    {
     "name": "stdout",
     "output_type": "stream",
     "text": [
      "SVC\n",
      "model(kernel=linear, C=0.01)\n",
      "Valid:         AUC: 0.9090 | AUPR: 0.5977 | Acc: 94.78%\n",
      "model(kernel=linear, C=0.1)\n",
      "Valid:         AUC: 0.9101 | AUPR: 0.5955 | Acc: 94.82%\n",
      "model(kernel=linear, C=1)\n",
      "Valid:         AUC: 0.9102 | AUPR: 0.5977 | Acc: 94.88%\n",
      "=======================================================\n",
      "best model(kernel=linear, C=1)\n",
      "Valid:         AUC: 0.9102 | AUPR: 0.5977 | Acc: 94.88%\n",
      "Internal test: AUC: 0.9200 | AUPR: 0.6450 | Acc: 94.82%\n",
      "External test: AUC: 0.9075 | AUPR: 0.5943 | Acc: 94.61%\n"
     ]
    }
   ],
   "source": [
    "from sklearn.svm import SVC\n",
    "\n",
    "model_fn = functools.partial(\n",
    "    SVC, random_state=SEED, probability=True,\n",
    "    class_weight='balanced')\n",
    "param_grid_list = [{\n",
    "    'kernel': ['linear'],\n",
    "    'C': [0.01, 0.1, 1],\n",
    "}]\n",
    "best_metrics, best_params, best_model = classification_dataset.perform_grid_search(model_fn, param_grid_list)\n",
    "metrics_internal, metrics_external = classification_dataset.evaluate_test_sets(best_model)\n",
    "results_dict[get_model_name(model_fn)] = np.concatenate([best_metrics, metrics_internal, metrics_external], axis=0)"
   ]
  },
  {
   "cell_type": "code",
   "execution_count": 4,
   "metadata": {},
   "outputs": [
    {
     "name": "stdout",
     "output_type": "stream",
     "text": [
      "KNeighborsClassifier\n",
      "model(n_neighbors=3)\n",
      "Valid:         AUC: 0.7486 | AUPR: 0.4063 | Acc: 94.62%\n",
      "model(n_neighbors=5)\n",
      "Valid:         AUC: 0.7728 | AUPR: 0.4513 | Acc: 94.88%\n",
      "model(n_neighbors=7)\n",
      "Valid:         AUC: 0.7905 | AUPR: 0.4806 | Acc: 94.90%\n",
      "=======================================================\n",
      "best model(n_neighbors=7)\n",
      "Valid:         AUC: 0.7905 | AUPR: 0.4806 | Acc: 94.90%\n",
      "Internal test: AUC: 0.7838 | AUPR: 0.4809 | Acc: 94.60%\n",
      "External test: AUC: 0.7928 | AUPR: 0.4775 | Acc: 94.62%\n"
     ]
    }
   ],
   "source": [
    "from sklearn.neighbors import KNeighborsClassifier\n",
    "\n",
    "model_fn = functools.partial(\n",
    "    KNeighborsClassifier, n_jobs=-1, algorithm='auto', p=2)\n",
    "param_grid_list = [{\n",
    "    'n_neighbors': [3, 5, 7],\n",
    "}]\n",
    "best_metrics, best_params, best_model = classification_dataset.perform_grid_search(model_fn, param_grid_list)\n",
    "metrics_internal, metrics_external = classification_dataset.evaluate_test_sets(best_model)\n",
    "results_dict[get_model_name(model_fn)] = np.concatenate([best_metrics, metrics_internal, metrics_external], axis=0)"
   ]
  },
  {
   "cell_type": "code",
   "execution_count": 5,
   "metadata": {},
   "outputs": [
    {
     "name": "stdout",
     "output_type": "stream",
     "text": [
      "GaussianNB\n",
      "model()\n",
      "Valid:         AUC: 0.8709 | AUPR: 0.4289 | Acc: 82.16%\n",
      "=======================================================\n",
      "best model()\n",
      "Valid:         AUC: 0.8709 | AUPR: 0.4289 | Acc: 82.16%\n",
      "Internal test: AUC: 0.8791 | AUPR: 0.4439 | Acc: 82.00%\n",
      "External test: AUC: 0.8699 | AUPR: 0.4099 | Acc: 81.37%\n"
     ]
    }
   ],
   "source": [
    "from sklearn.naive_bayes import GaussianNB\n",
    "\n",
    "model_fn = GaussianNB\n",
    "param_grid_list = [{}]\n",
    "best_metrics, best_params, best_model = classification_dataset.perform_grid_search(model_fn, param_grid_list)\n",
    "metrics_internal, metrics_external = classification_dataset.evaluate_test_sets(best_model)\n",
    "results_dict[get_model_name(model_fn)] = np.concatenate([best_metrics, metrics_internal, metrics_external], axis=0)"
   ]
  },
  {
   "cell_type": "code",
   "execution_count": 6,
   "metadata": {},
   "outputs": [
    {
     "name": "stdout",
     "output_type": "stream",
     "text": [
      "LogisticRegression\n",
      "model(C=1.0)\n",
      "Valid:         AUC: 0.9104 | AUPR: 0.6410 | Acc: 95.30%\n",
      "model(C=10.0)\n",
      "Valid:         AUC: 0.9103 | AUPR: 0.6408 | Acc: 95.26%\n",
      "model(C=100.0)\n",
      "Valid:         AUC: 0.9102 | AUPR: 0.6407 | Acc: 95.25%\n",
      "=======================================================\n",
      "best model(C=1.0)\n",
      "Valid:         AUC: 0.9104 | AUPR: 0.6410 | Acc: 95.30%\n",
      "Internal test: AUC: 0.9207 | AUPR: 0.6687 | Acc: 95.18%\n",
      "External test: AUC: 0.9080 | AUPR: 0.6303 | Acc: 95.08%\n"
     ]
    }
   ],
   "source": [
    "# from sklearn.exceptions import ConvergenceWarning\n",
    "# import warnings\n",
    "# warnings.filterwarnings(\"ignore\", category=ConvergenceWarning)\n",
    "from sklearn.linear_model import LogisticRegression\n",
    "\n",
    "model_fn = functools.partial(\n",
    "    LogisticRegression, random_state=SEED, n_jobs=-1, \n",
    "    max_iter=2000, solver='saga', penalty='l2',\n",
    "    )\n",
    "param_grid_list = [{\n",
    "    'C': [1.0, 10.0, 100.0],\n",
    "}]\n",
    "best_metrics, best_params, best_model = classification_dataset.perform_grid_search(\n",
    "    model_fn, param_grid_list)\n",
    "metrics_internal, metrics_external = classification_dataset.evaluate_test_sets(\n",
    "    best_model)\n",
    "results_dict[get_model_name(model_fn)] = np.concatenate([best_metrics, metrics_internal, metrics_external], axis=0)"
   ]
  },
  {
   "cell_type": "code",
   "execution_count": 7,
   "metadata": {},
   "outputs": [
    {
     "name": "stdout",
     "output_type": "stream",
     "text": [
      "DecisionTreeClassifier\n",
      "model(criterion=gini)\n",
      "Valid:         AUC: 0.8548 | AUPR: 0.5477 | Acc: 85.47%\n",
      "model(criterion=log_loss)\n",
      "Valid:         AUC: 0.8562 | AUPR: 0.5649 | Acc: 84.17%\n",
      "model(criterion=entropy)\n",
      "Valid:         AUC: 0.8562 | AUPR: 0.5649 | Acc: 84.17%\n",
      "=======================================================\n",
      "best model(criterion=log_loss)\n",
      "Valid:         AUC: 0.8562 | AUPR: 0.5649 | Acc: 84.17%\n",
      "Internal test: AUC: 0.8670 | AUPR: 0.6063 | Acc: 85.21%\n",
      "External test: AUC: 0.8627 | AUPR: 0.5772 | Acc: 84.49%\n"
     ]
    }
   ],
   "source": [
    "from sklearn.tree import DecisionTreeClassifier\n",
    "\n",
    "model_fn = functools.partial(\n",
    "    DecisionTreeClassifier, random_state=SEED,\n",
    "    ccp_alpha=0.0, class_weight='balanced', max_depth=5)\n",
    "param_grid_list = [{\n",
    "        'criterion': ['gini', 'log_loss', 'entropy'],\n",
    "    }\n",
    "]\n",
    "best_metrics, best_params, best_model = classification_dataset.perform_grid_search(model_fn, param_grid_list)\n",
    "metrics_internal, metrics_external = classification_dataset.evaluate_test_sets(best_model)\n",
    "results_dict[get_model_name(model_fn)] = np.concatenate([best_metrics, metrics_internal, metrics_external], axis=0)"
   ]
  },
  {
   "cell_type": "code",
   "execution_count": 8,
   "metadata": {},
   "outputs": [
    {
     "name": "stdout",
     "output_type": "stream",
     "text": [
      "RandomForestClassifier\n",
      "model(criterion=gini, n_estimators=50)\n",
      "Valid:         AUC: 0.9059 | AUPR: 0.6426 | Acc: 89.51%\n",
      "model(criterion=gini, n_estimators=100)\n",
      "Valid:         AUC: 0.9067 | AUPR: 0.6446 | Acc: 89.59%\n",
      "model(criterion=gini, n_estimators=200)\n",
      "Valid:         AUC: 0.9065 | AUPR: 0.6438 | Acc: 89.77%\n",
      "model(criterion=log_loss, n_estimators=50)\n",
      "Valid:         AUC: 0.9065 | AUPR: 0.6453 | Acc: 89.77%\n",
      "model(criterion=log_loss, n_estimators=100)\n",
      "Valid:         AUC: 0.9067 | AUPR: 0.6457 | Acc: 89.83%\n",
      "model(criterion=log_loss, n_estimators=200)\n",
      "Valid:         AUC: 0.9068 | AUPR: 0.6459 | Acc: 89.98%\n",
      "model(criterion=entropy, n_estimators=50)\n",
      "Valid:         AUC: 0.9065 | AUPR: 0.6453 | Acc: 89.77%\n",
      "model(criterion=entropy, n_estimators=100)\n",
      "Valid:         AUC: 0.9067 | AUPR: 0.6457 | Acc: 89.83%\n",
      "model(criterion=entropy, n_estimators=200)\n",
      "Valid:         AUC: 0.9068 | AUPR: 0.6459 | Acc: 89.98%\n",
      "=======================================================\n",
      "best model(criterion=log_loss, n_estimators=200)\n",
      "Valid:         AUC: 0.9068 | AUPR: 0.6459 | Acc: 89.98%\n",
      "Internal test: AUC: 0.9143 | AUPR: 0.6887 | Acc: 90.12%\n",
      "External test: AUC: 0.9036 | AUPR: 0.6472 | Acc: 88.83%\n"
     ]
    }
   ],
   "source": [
    "from sklearn.ensemble import RandomForestClassifier\n",
    "\n",
    "model_fn = functools.partial(\n",
    "    RandomForestClassifier, random_state=SEED, n_jobs=-1,\n",
    "    ccp_alpha=0.0, class_weight='balanced', max_depth=5, bootstrap=False)\n",
    "param_grid_list = [{\n",
    "        'criterion': ['gini', 'log_loss', 'entropy'],\n",
    "        'n_estimators': [50, 100, 200],\n",
    "    }\n",
    "]\n",
    "best_metrics, best_params, best_model = classification_dataset.perform_grid_search(model_fn, param_grid_list)\n",
    "metrics_internal, metrics_external = classification_dataset.evaluate_test_sets(best_model)\n",
    "results_dict[get_model_name(model_fn)] = np.concatenate([best_metrics, metrics_internal, metrics_external], axis=0)"
   ]
  },
  {
   "cell_type": "code",
   "execution_count": 9,
   "metadata": {},
   "outputs": [
    {
     "name": "stdout",
     "output_type": "stream",
     "text": [
      "GradientBoostingClassifier\n",
      "model(criterion=friedman_mse)\n",
      "Valid:         AUC: 0.9123 | AUPR: 0.6366 | Acc: 95.25%\n",
      "model(criterion=squared_error)\n",
      "Valid:         AUC: 0.9125 | AUPR: 0.6366 | Acc: 95.21%\n",
      "=======================================================\n",
      "best model(criterion=squared_error)\n",
      "Valid:         AUC: 0.9125 | AUPR: 0.6366 | Acc: 95.21%\n",
      "Internal test: AUC: 0.9196 | AUPR: 0.6799 | Acc: 95.04%\n",
      "External test: AUC: 0.9109 | AUPR: 0.6490 | Acc: 95.13%\n"
     ]
    }
   ],
   "source": [
    "from sklearn.ensemble import GradientBoostingClassifier\n",
    "\n",
    "model = functools.partial(\n",
    "    GradientBoostingClassifier, random_state=SEED,\n",
    "    learning_rate=0.1, max_depth=5, loss='log_loss', \n",
    "    n_estimators=100)\n",
    "param_grid_list = [{\n",
    "        'criterion': ['friedman_mse', 'squared_error'],\n",
    "    }\n",
    "]\n",
    "best_metrics, best_params, best_model = classification_dataset.perform_grid_search(model, param_grid_list)\n",
    "metrics_internal, metrics_external = classification_dataset.evaluate_test_sets(best_model)\n",
    "results_dict[get_model_name(model_fn)] = np.concatenate([best_metrics, metrics_internal, metrics_external], axis=0)"
   ]
  },
  {
   "cell_type": "code",
   "execution_count": 10,
   "metadata": {},
   "outputs": [
    {
     "name": "stdout",
     "output_type": "stream",
     "text": [
      "AdaBoostClassifier\n",
      "model(n_estimators=100, learning_rate=1.0)\n",
      "Valid:         AUC: 0.9102 | AUPR: 0.6386 | Acc: 95.33%\n",
      "model(n_estimators=200, learning_rate=1.0)\n",
      "Valid:         AUC: 0.9104 | AUPR: 0.6381 | Acc: 95.32%\n",
      "model(n_estimators=500, learning_rate=1.0)\n",
      "Valid:         AUC: 0.9106 | AUPR: 0.6382 | Acc: 95.32%\n",
      "=======================================================\n",
      "best model(n_estimators=500, learning_rate=1.0)\n",
      "Valid:         AUC: 0.9106 | AUPR: 0.6382 | Acc: 95.32%\n",
      "Internal test: AUC: 0.9172 | AUPR: 0.6627 | Acc: 95.16%\n",
      "External test: AUC: 0.9084 | AUPR: 0.6323 | Acc: 95.13%\n"
     ]
    }
   ],
   "source": [
    "from sklearn.ensemble import AdaBoostClassifier\n",
    "model = functools.partial(AdaBoostClassifier, random_state=SEED, algorithm=\"SAMME\")\n",
    "param_grid_list = [{\n",
    "    'n_estimators': [100, 200, 500],\n",
    "    'learning_rate': [1.0],\n",
    "}]\n",
    "best_metrics, best_params, best_model = classification_dataset.perform_grid_search(model, param_grid_list)\n",
    "metrics_internal, metrics_external = classification_dataset.evaluate_test_sets(best_model)\n",
    "results_dict[get_model_name(model_fn)] = np.concatenate([best_metrics, metrics_internal, metrics_external], axis=0)"
   ]
  },
  {
   "cell_type": "code",
   "execution_count": 11,
   "metadata": {},
   "outputs": [],
   "source": [
    "dataframe = pd.DataFrame(results_dict).transpose().reset_index()\n",
    "dataframe.columns = ['model', 'val_auc', 'val_aupr', 'val_acc', 'intest_auc', 'intest_aupr', 'intest_acc', 'extest_auc', 'extest_aupr', 'extest_acc']\n",
    "# dataframe.to_csv()\n",
    "filename = os.path.join(RESULTS_DIR, encode_method, impute_method, f'{fs_method}{int(fs_ratio * 142)}.csv')\n",
    "dirname = os.path.dirname(filename)\n",
    "if not os.path.exists(dirname):\n",
    "    os.makedirs(dirname)\n",
    "dataframe.to_csv(filename, index=False)"
   ]
  },
  {
   "cell_type": "code",
   "execution_count": null,
   "metadata": {},
   "outputs": [],
   "source": []
  }
 ],
 "metadata": {
  "kernelspec": {
   "display_name": "py310",
   "language": "python",
   "name": "python3"
  },
  "language_info": {
   "codemirror_mode": {
    "name": "ipython",
    "version": 3
   },
   "file_extension": ".py",
   "mimetype": "text/x-python",
   "name": "python",
   "nbconvert_exporter": "python",
   "pygments_lexer": "ipython3",
   "version": "3.10.6"
  }
 },
 "nbformat": 4,
 "nbformat_minor": 2
}
