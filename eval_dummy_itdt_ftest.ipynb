{
 "cells": [
  {
   "cell_type": "code",
   "execution_count": 1,
   "metadata": {},
   "outputs": [
    {
     "name": "stderr",
     "output_type": "stream",
     "text": [
      "/home/yan/anaconda3/envs/py310/lib/python3.10/site-packages/sklearn/impute/_iterative.py:801: ConvergenceWarning: [IterativeImputer] Early stopping criterion not reached.\n",
      "  warnings.warn(\n"
     ]
    }
   ],
   "source": [
    "from config import *\n",
    "from dataset import ClassificationDataset\n",
    "\n",
    "import functools\n",
    "\n",
    "internal, external = 11, 12\n",
    "encode_method = \"dummy\"\n",
    "impute_method = \"itdt20\"\n",
    "fs_method, fs_ratio = \"ftest\", 0.5\n",
    "norm_method = \"maxmin\"\n",
    "classification_dataset = ClassificationDataset(\n",
    "    internal, external, encode_method, impute_method, fs_method, fs_ratio, norm_method, random_state=SEED)"
   ]
  },
  {
   "cell_type": "code",
   "execution_count": 2,
   "metadata": {},
   "outputs": [
    {
     "name": "stdout",
     "output_type": "stream",
     "text": [
      "model()\n",
      "Valid:         AUC: 0.7754 | AUPR: 0.2187 | Acc: 85.96%\n",
      "=======================================================\n",
      "best model()\n",
      "Valid:         AUC: 0.7754 | AUPR: 0.2187 | Acc: 85.96%\n",
      "Internal test: AUC: 0.7663 | AUPR: 0.2244 | Acc: 85.69%\n",
      "External test: AUC: 0.7638 | AUPR: 0.2089 | Acc: 84.72%\n"
     ]
    }
   ],
   "source": [
    "from sklearn.naive_bayes import GaussianNB\n",
    "\n",
    "model_fn = GaussianNB\n",
    "param_grid_list = [{}]\n",
    "best_metrics, best_params, best_model = classification_dataset.perform_grid_search(model_fn, param_grid_list)\n",
    "metrics_internal, metrics_external = classification_dataset.evaluate_test_sets(best_model)"
   ]
  },
  {
   "cell_type": "code",
   "execution_count": 3,
   "metadata": {},
   "outputs": [
    {
     "name": "stdout",
     "output_type": "stream",
     "text": [
      "model()\n",
      "Valid:         AUC: 0.7662 | AUPR: 0.1854 | Acc: 81.34%\n",
      "=======================================================\n",
      "best model()\n",
      "Valid:         AUC: 0.7662 | AUPR: 0.1854 | Acc: 81.34%\n",
      "Internal test: AUC: 0.7688 | AUPR: 0.2000 | Acc: 81.31%\n",
      "External test: AUC: 0.7603 | AUPR: 0.1829 | Acc: 79.93%\n"
     ]
    }
   ],
   "source": [
    "from sklearn.naive_bayes import ComplementNB\n",
    "\n",
    "model_fn = ComplementNB\n",
    "param_grid_list = [{}]\n",
    "best_metrics, best_params, best_model = classification_dataset.perform_grid_search(model_fn, param_grid_list)\n",
    "metrics_internal, metrics_external = classification_dataset.evaluate_test_sets(best_model)"
   ]
  },
  {
   "cell_type": "code",
   "execution_count": 4,
   "metadata": {},
   "outputs": [
    {
     "name": "stdout",
     "output_type": "stream",
     "text": [
      "model(p=1)\n",
      "Valid:         AUC: 0.6981 | AUPR: 0.2650 | Acc: 93.26%\n",
      "model(p=2)\n",
      "Valid:         AUC: 0.6949 | AUPR: 0.2609 | Acc: 93.23%\n",
      "=======================================================\n",
      "best model(p=1)\n",
      "Valid:         AUC: 0.6981 | AUPR: 0.2650 | Acc: 93.26%\n",
      "Internal test: AUC: 0.6999 | AUPR: 0.2861 | Acc: 93.14%\n",
      "External test: AUC: 0.6931 | AUPR: 0.2686 | Acc: 93.14%\n"
     ]
    }
   ],
   "source": [
    "from sklearn.neighbors import KNeighborsClassifier\n",
    "\n",
    "model_fn = functools.partial(\n",
    "    KNeighborsClassifier, n_jobs=-1, algorithm='auto',\n",
    "    n_neighbors=1, )\n",
    "param_grid_list = [{\n",
    "    'p': [1, 2],\n",
    "}]\n",
    "best_metrics, best_params, best_model = classification_dataset.perform_grid_search(model_fn, param_grid_list)\n",
    "metrics_internal, metrics_external = classification_dataset.evaluate_test_sets(best_model)"
   ]
  },
  {
   "cell_type": "code",
   "execution_count": 5,
   "metadata": {},
   "outputs": [
    {
     "name": "stdout",
     "output_type": "stream",
     "text": [
      "model(C=1.0)\n",
      "Valid:         AUC: 0.7168 | AUPR: 0.3837 | Acc: 95.17%\n",
      "model(C=10.0)\n",
      "Valid:         AUC: 0.7184 | AUPR: 0.3851 | Acc: 95.18%\n",
      "model(C=100.0)\n",
      "Valid:         AUC: 0.7183 | AUPR: 0.3838 | Acc: 95.16%\n",
      "=======================================================\n",
      "best model(C=10.0)\n",
      "Valid:         AUC: 0.7184 | AUPR: 0.3851 | Acc: 95.18%\n",
      "Internal test: AUC: 0.7173 | AUPR: 0.4045 | Acc: 94.99%\n",
      "External test: AUC: 0.7025 | AUPR: 0.3505 | Acc: 94.62%\n"
     ]
    }
   ],
   "source": [
    "# from sklearn.exceptions import ConvergenceWarning\n",
    "# import warnings\n",
    "# warnings.filterwarnings(\"ignore\", category=ConvergenceWarning)\n",
    "from sklearn.linear_model import LogisticRegression\n",
    "\n",
    "model_fn = functools.partial(\n",
    "    LogisticRegression, random_state=SEED, n_jobs=-1, \n",
    "    max_iter=2000, solver='saga', penalty='l2',\n",
    "    )\n",
    "param_grid_list = [{\n",
    "    'C': [1.0, 10.0, 100.0],\n",
    "}]\n",
    "best_metrics, best_params, best_model = classification_dataset.perform_grid_search(\n",
    "    model_fn, param_grid_list)\n",
    "metrics_internal, metrics_external = classification_dataset.evaluate_test_sets(\n",
    "    best_model)"
   ]
  },
  {
   "cell_type": "code",
   "execution_count": 6,
   "metadata": {},
   "outputs": [
    {
     "name": "stdout",
     "output_type": "stream",
     "text": [
      "model(C=0.01)\n",
      "Valid:         AUC: 0.8268 | AUPR: 0.2529 | Acc: 85.43%\n",
      "model(C=0.1)\n",
      "Valid:         AUC: 0.8267 | AUPR: 0.2495 | Acc: 85.04%\n",
      "model(C=1)\n",
      "Valid:         AUC: 0.8241 | AUPR: 0.2458 | Acc: 84.86%\n",
      "=======================================================\n",
      "best model(C=0.01)\n",
      "Valid:         AUC: 0.8268 | AUPR: 0.2529 | Acc: 85.43%\n",
      "Internal test: AUC: 0.8376 | AUPR: 0.2790 | Acc: 85.64%\n",
      "External test: AUC: 0.8284 | AUPR: 0.2556 | Acc: 84.65%\n"
     ]
    }
   ],
   "source": [
    "from sklearn.svm import SVC\n",
    "\n",
    "model_fn = functools.partial(\n",
    "    SVC, random_state=SEED, \n",
    "    class_weight='balanced', kernel='linear',\n",
    "    )\n",
    "param_grid_list = [{\n",
    "    'C': [0.01, 0.1, 1],\n",
    "}]\n",
    "best_metrics, best_params, best_model = classification_dataset.perform_grid_search(model_fn, param_grid_list)\n",
    "metrics_internal, metrics_external = classification_dataset.evaluate_test_sets(best_model)"
   ]
  },
  {
   "cell_type": "code",
   "execution_count": 7,
   "metadata": {},
   "outputs": [],
   "source": [
    "# from sklearn.neural_network import MLPClassifier\n",
    "\n",
    "# model_fn = functools.partial(MLPClassifier, random_state=SEED, max_iter=1000)\n",
    "# param_grid_list = [{\n",
    "#     'hidden_layer_sizes': [(100,), (50, 50), (50, 100, 50)],\n",
    "#     'activation': ['logistic', 'relu'],\n",
    "#     'solver': ['adam', 'sgd'],\n",
    "#     'alpha': [0.0001, 0.001, 0.01],\n",
    "# }]\n",
    "# best_metrics, best_params, best_model = classification_dataset.perform_grid_search(model_fn, param_grid_list)\n",
    "# metrics_internal, metrics_external = classification_dataset.evaluate_test_sets(best_model)"
   ]
  },
  {
   "cell_type": "code",
   "execution_count": 8,
   "metadata": {},
   "outputs": [
    {
     "name": "stdout",
     "output_type": "stream",
     "text": [
      "model(criterion=gini)\n",
      "Valid:         AUC: 0.7834 | AUPR: 0.2115 | Acc: 83.52%\n",
      "model(criterion=log_loss)\n",
      "Valid:         AUC: 0.7748 | AUPR: 0.2122 | Acc: 84.12%\n",
      "model(criterion=entropy)\n",
      "Valid:         AUC: 0.7748 | AUPR: 0.2122 | Acc: 84.12%\n",
      "=======================================================\n",
      "best model(criterion=gini)\n",
      "Valid:         AUC: 0.7834 | AUPR: 0.2115 | Acc: 83.52%\n",
      "Internal test: AUC: 0.7933 | AUPR: 0.2535 | Acc: 86.64%\n",
      "External test: AUC: 0.7757 | AUPR: 0.2195 | Acc: 85.01%\n"
     ]
    }
   ],
   "source": [
    "from sklearn.tree import DecisionTreeClassifier\n",
    "\n",
    "model_fn = functools.partial(\n",
    "    DecisionTreeClassifier, random_state=SEED,\n",
    "    ccp_alpha=0.0, class_weight='balanced', max_depth=5)\n",
    "param_grid_list = [{\n",
    "        'criterion': ['gini', 'log_loss', 'entropy'],\n",
    "    }\n",
    "]\n",
    "best_metrics, best_params, best_model = classification_dataset.perform_grid_search(model_fn, param_grid_list)\n",
    "metrics_internal, metrics_external = classification_dataset.evaluate_test_sets(best_model)"
   ]
  },
  {
   "cell_type": "code",
   "execution_count": 9,
   "metadata": {},
   "outputs": [
    {
     "name": "stdout",
     "output_type": "stream",
     "text": [
      "model(criterion=gini, n_estimators=50)\n",
      "Valid:         AUC: 0.8142 | AUPR: 0.2677 | Acc: 87.90%\n",
      "model(criterion=gini, n_estimators=100)\n",
      "Valid:         AUC: 0.8125 | AUPR: 0.2724 | Acc: 88.42%\n",
      "model(criterion=gini, n_estimators=200)\n",
      "Valid:         AUC: 0.8142 | AUPR: 0.2788 | Acc: 88.78%\n",
      "model(criterion=log_loss, n_estimators=50)\n",
      "Valid:         AUC: 0.8160 | AUPR: 0.2756 | Acc: 88.44%\n",
      "model(criterion=log_loss, n_estimators=100)\n",
      "Valid:         AUC: 0.8167 | AUPR: 0.2806 | Acc: 88.77%\n",
      "model(criterion=log_loss, n_estimators=200)\n",
      "Valid:         AUC: 0.8148 | AUPR: 0.2821 | Acc: 89.00%\n",
      "model(criterion=entropy, n_estimators=50)\n",
      "Valid:         AUC: 0.8160 | AUPR: 0.2756 | Acc: 88.44%\n",
      "model(criterion=entropy, n_estimators=100)\n",
      "Valid:         AUC: 0.8167 | AUPR: 0.2806 | Acc: 88.77%\n",
      "model(criterion=entropy, n_estimators=200)\n",
      "Valid:         AUC: 0.8148 | AUPR: 0.2821 | Acc: 89.00%\n",
      "=======================================================\n",
      "best model(criterion=log_loss, n_estimators=100)\n",
      "Valid:         AUC: 0.8167 | AUPR: 0.2806 | Acc: 88.77%\n",
      "Internal test: AUC: 0.8173 | AUPR: 0.2861 | Acc: 87.83%\n",
      "External test: AUC: 0.8123 | AUPR: 0.2658 | Acc: 87.10%\n"
     ]
    }
   ],
   "source": [
    "from sklearn.ensemble import RandomForestClassifier\n",
    "\n",
    "model_fn = functools.partial(\n",
    "    RandomForestClassifier, random_state=SEED, n_jobs=-1,\n",
    "    ccp_alpha=0.0, class_weight='balanced', max_depth=5, bootstrap=False)\n",
    "param_grid_list = [{\n",
    "        'criterion': ['gini', 'log_loss', 'entropy'],\n",
    "        'n_estimators': [50, 100, 200],\n",
    "    }\n",
    "]\n",
    "best_metrics, best_params, best_model = classification_dataset.perform_grid_search(model_fn, param_grid_list)\n",
    "metrics_internal, metrics_external = classification_dataset.evaluate_test_sets(best_model)"
   ]
  },
  {
   "cell_type": "code",
   "execution_count": 10,
   "metadata": {},
   "outputs": [
    {
     "name": "stdout",
     "output_type": "stream",
     "text": [
      "model(criterion=friedman_mse)\n",
      "Valid:         AUC: 0.7341 | AUPR: 0.3972 | Acc: 95.20%\n",
      "model(criterion=squared_error)\n",
      "Valid:         AUC: 0.7346 | AUPR: 0.3985 | Acc: 95.21%\n",
      "=======================================================\n",
      "best model(criterion=squared_error)\n",
      "Valid:         AUC: 0.7346 | AUPR: 0.3985 | Acc: 95.21%\n",
      "Internal test: AUC: 0.7423 | AUPR: 0.4435 | Acc: 95.30%\n",
      "External test: AUC: 0.7402 | AUPR: 0.4162 | Acc: 95.18%\n"
     ]
    }
   ],
   "source": [
    "from sklearn.ensemble import GradientBoostingClassifier\n",
    "\n",
    "model = functools.partial(\n",
    "    GradientBoostingClassifier, random_state=SEED,\n",
    "    learning_rate=0.1, max_depth=5, loss='log_loss', \n",
    "    n_estimators=100)\n",
    "param_grid_list = [{\n",
    "        'criterion': ['friedman_mse', 'squared_error'],\n",
    "    }\n",
    "]\n",
    "best_metrics, best_params, best_model = classification_dataset.perform_grid_search(model, param_grid_list)\n",
    "metrics_internal, metrics_external = classification_dataset.evaluate_test_sets(best_model)"
   ]
  },
  {
   "cell_type": "code",
   "execution_count": 11,
   "metadata": {},
   "outputs": [
    {
     "name": "stdout",
     "output_type": "stream",
     "text": [
      "model(n_estimators=100, learning_rate=1.0)\n",
      "Valid:         AUC: 0.7173 | AUPR: 0.3769 | Acc: 95.08%\n",
      "model(n_estimators=200, learning_rate=1.0)\n",
      "Valid:         AUC: 0.7154 | AUPR: 0.3755 | Acc: 95.08%\n",
      "model(n_estimators=500, learning_rate=1.0)\n",
      "Valid:         AUC: 0.7161 | AUPR: 0.3741 | Acc: 95.05%\n",
      "=======================================================\n",
      "best model(n_estimators=100, learning_rate=1.0)\n",
      "Valid:         AUC: 0.7173 | AUPR: 0.3769 | Acc: 95.08%\n",
      "Internal test: AUC: 0.7207 | AUPR: 0.4145 | Acc: 95.09%\n",
      "External test: AUC: 0.7010 | AUPR: 0.3440 | Acc: 94.54%\n"
     ]
    }
   ],
   "source": [
    "from sklearn.ensemble import AdaBoostClassifier\n",
    "model = functools.partial(AdaBoostClassifier, random_state=SEED, algorithm=\"SAMME\")\n",
    "param_grid_list = [{\n",
    "    'n_estimators': [100, 200, 500],\n",
    "    'learning_rate': [1.0],\n",
    "}]\n",
    "best_metrics, best_params, best_model = classification_dataset.perform_grid_search(model, param_grid_list)\n",
    "metrics_internal, metrics_external = classification_dataset.evaluate_test_sets(best_model)"
   ]
  },
  {
   "cell_type": "code",
   "execution_count": null,
   "metadata": {},
   "outputs": [],
   "source": []
  }
 ],
 "metadata": {
  "kernelspec": {
   "display_name": "py310",
   "language": "python",
   "name": "python3"
  },
  "language_info": {
   "codemirror_mode": {
    "name": "ipython",
    "version": 3
   },
   "file_extension": ".py",
   "mimetype": "text/x-python",
   "name": "python",
   "nbconvert_exporter": "python",
   "pygments_lexer": "ipython3",
   "version": "3.10.13"
  }
 },
 "nbformat": 4,
 "nbformat_minor": 2
}
