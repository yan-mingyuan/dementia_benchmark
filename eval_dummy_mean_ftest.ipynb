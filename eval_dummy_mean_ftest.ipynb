{
 "cells": [
  {
   "cell_type": "code",
   "execution_count": 1,
   "metadata": {},
   "outputs": [],
   "source": [
    "from config import *\n",
    "from dataset import ClassificationDataset\n",
    "\n",
    "import functools\n",
    "\n",
    "internal, external = 11, 12\n",
    "encode_method = \"dummy\"\n",
    "impute_method = \"mean\"\n",
    "fs_method, fs_ratio = \"ftest\", 0.5\n",
    "norm_method = \"maxmin\"\n",
    "classification_dataset = ClassificationDataset(\n",
    "    internal, external, encode_method, impute_method, fs_method, fs_ratio, norm_method, random_state=SEED)"
   ]
  },
  {
   "cell_type": "code",
   "execution_count": 2,
   "metadata": {},
   "outputs": [
    {
     "name": "stdout",
     "output_type": "stream",
     "text": [
      "model()\n",
      "Valid:         AUC: 0.7898 | AUPR: 0.2296 | Acc: 85.99%\n",
      "=======================================================\n",
      "best model()\n",
      "Valid:         AUC: 0.7898 | AUPR: 0.2296 | Acc: 85.99%\n",
      "Internal test: AUC: 0.7993 | AUPR: 0.2510 | Acc: 85.86%\n",
      "External test: AUC: 0.7857 | AUPR: 0.2228 | Acc: 84.46%\n"
     ]
    }
   ],
   "source": [
    "from sklearn.naive_bayes import GaussianNB\n",
    "\n",
    "model_fn = GaussianNB\n",
    "param_grid_list = [{}]\n",
    "best_metrics, best_params, best_model = classification_dataset.perform_grid_search(model_fn, param_grid_list)\n",
    "metrics_internal, metrics_external = classification_dataset.evaluate_test_sets(best_model)"
   ]
  },
  {
   "cell_type": "code",
   "execution_count": 3,
   "metadata": {},
   "outputs": [
    {
     "name": "stdout",
     "output_type": "stream",
     "text": [
      "model()\n",
      "Valid:         AUC: 0.7663 | AUPR: 0.1837 | Acc: 80.93%\n",
      "=======================================================\n",
      "best model()\n",
      "Valid:         AUC: 0.7663 | AUPR: 0.1837 | Acc: 80.93%\n",
      "Internal test: AUC: 0.7637 | AUPR: 0.1948 | Acc: 80.90%\n",
      "External test: AUC: 0.7592 | AUPR: 0.1802 | Acc: 79.37%\n"
     ]
    }
   ],
   "source": [
    "from sklearn.naive_bayes import ComplementNB\n",
    "\n",
    "model_fn = ComplementNB\n",
    "param_grid_list = [{}]\n",
    "best_metrics, best_params, best_model = classification_dataset.perform_grid_search(model_fn, param_grid_list)\n",
    "metrics_internal, metrics_external = classification_dataset.evaluate_test_sets(best_model)"
   ]
  },
  {
   "cell_type": "code",
   "execution_count": 4,
   "metadata": {},
   "outputs": [
    {
     "name": "stdout",
     "output_type": "stream",
     "text": [
      "model(p=1)\n",
      "Valid:         AUC: 0.6961 | AUPR: 0.2659 | Acc: 93.33%\n",
      "model(p=2)\n",
      "Valid:         AUC: 0.6997 | AUPR: 0.2710 | Acc: 93.38%\n",
      "=======================================================\n",
      "best model(p=2)\n",
      "Valid:         AUC: 0.6997 | AUPR: 0.2710 | Acc: 93.38%\n",
      "Internal test: AUC: 0.7064 | AUPR: 0.2966 | Acc: 93.26%\n",
      "External test: AUC: 0.7038 | AUPR: 0.2872 | Acc: 93.38%\n"
     ]
    }
   ],
   "source": [
    "from sklearn.neighbors import KNeighborsClassifier\n",
    "\n",
    "model_fn = functools.partial(\n",
    "    KNeighborsClassifier, n_jobs=-1, algorithm='auto',\n",
    "    n_neighbors=1, )\n",
    "param_grid_list = [{\n",
    "    'p': [1, 2],\n",
    "}]\n",
    "best_metrics, best_params, best_model = classification_dataset.perform_grid_search(model_fn, param_grid_list)\n",
    "metrics_internal, metrics_external = classification_dataset.evaluate_test_sets(best_model)"
   ]
  },
  {
   "cell_type": "code",
   "execution_count": 5,
   "metadata": {},
   "outputs": [
    {
     "name": "stdout",
     "output_type": "stream",
     "text": [
      "model(C=1.0)\n",
      "Valid:         AUC: 0.7283 | AUPR: 0.3966 | Acc: 95.24%\n",
      "model(C=10.0)\n",
      "Valid:         AUC: 0.7290 | AUPR: 0.3951 | Acc: 95.21%\n",
      "model(C=100.0)\n",
      "Valid:         AUC: 0.7294 | AUPR: 0.3952 | Acc: 95.21%\n",
      "=======================================================\n",
      "best model(C=100.0)\n",
      "Valid:         AUC: 0.7294 | AUPR: 0.3952 | Acc: 95.21%\n",
      "Internal test: AUC: 0.7275 | AUPR: 0.4327 | Acc: 95.26%\n",
      "External test: AUC: 0.7143 | AUPR: 0.3699 | Acc: 94.78%\n"
     ]
    }
   ],
   "source": [
    "# from sklearn.exceptions import ConvergenceWarning\n",
    "# import warnings\n",
    "# warnings.filterwarnings(\"ignore\", category=ConvergenceWarning)\n",
    "from sklearn.linear_model import LogisticRegression\n",
    "\n",
    "model_fn = functools.partial(\n",
    "    LogisticRegression, random_state=SEED, n_jobs=-1, \n",
    "    max_iter=2000, solver='saga', penalty='l2',\n",
    "    )\n",
    "param_grid_list = [{\n",
    "    'C': [1.0, 10.0, 100.0],\n",
    "}]\n",
    "best_metrics, best_params, best_model = classification_dataset.perform_grid_search(\n",
    "    model_fn, param_grid_list)\n",
    "metrics_internal, metrics_external = classification_dataset.evaluate_test_sets(\n",
    "    best_model)"
   ]
  },
  {
   "cell_type": "code",
   "execution_count": 6,
   "metadata": {},
   "outputs": [
    {
     "name": "stdout",
     "output_type": "stream",
     "text": [
      "model(C=0.01)\n",
      "Valid:         AUC: 0.8317 | AUPR: 0.2649 | Acc: 86.34%\n",
      "model(C=0.1)\n",
      "Valid:         AUC: 0.8337 | AUPR: 0.2632 | Acc: 86.00%\n",
      "model(C=1)\n",
      "Valid:         AUC: 0.8316 | AUPR: 0.2582 | Acc: 85.66%\n",
      "=======================================================\n",
      "best model(C=0.1)\n",
      "Valid:         AUC: 0.8337 | AUPR: 0.2632 | Acc: 86.00%\n",
      "Internal test: AUC: 0.8477 | AUPR: 0.2982 | Acc: 86.72%\n",
      "External test: AUC: 0.8378 | AUPR: 0.2703 | Acc: 85.52%\n"
     ]
    }
   ],
   "source": [
    "from sklearn.svm import SVC\n",
    "\n",
    "model_fn = functools.partial(\n",
    "    SVC, random_state=SEED, \n",
    "    class_weight='balanced', kernel='linear',\n",
    "    )\n",
    "param_grid_list = [{\n",
    "    'C': [0.01, 0.1, 1],\n",
    "}]\n",
    "best_metrics, best_params, best_model = classification_dataset.perform_grid_search(model_fn, param_grid_list)\n",
    "metrics_internal, metrics_external = classification_dataset.evaluate_test_sets(best_model)"
   ]
  },
  {
   "cell_type": "code",
   "execution_count": 7,
   "metadata": {},
   "outputs": [],
   "source": [
    "# from sklearn.neural_network import MLPClassifier\n",
    "\n",
    "# model_fn = functools.partial(MLPClassifier, random_state=SEED, max_iter=1000)\n",
    "# param_grid_list = [{\n",
    "#     'hidden_layer_sizes': [(100,), (50, 50), (50, 100, 50)],\n",
    "#     'activation': ['logistic', 'relu'],\n",
    "#     'solver': ['adam', 'sgd'],\n",
    "#     'alpha': [0.0001, 0.001, 0.01],\n",
    "# }]\n",
    "# best_metrics, best_params, best_model = classification_dataset.perform_grid_search(model_fn, param_grid_list)\n",
    "# metrics_internal, metrics_external = classification_dataset.evaluate_test_sets(best_model)"
   ]
  },
  {
   "cell_type": "code",
   "execution_count": 8,
   "metadata": {},
   "outputs": [
    {
     "name": "stdout",
     "output_type": "stream",
     "text": [
      "model(criterion=gini)\n",
      "Valid:         AUC: 0.7865 | AUPR: 0.2609 | Acc: 89.11%\n",
      "model(criterion=log_loss)\n",
      "Valid:         AUC: 0.7815 | AUPR: 0.2607 | Acc: 89.48%\n",
      "model(criterion=entropy)\n",
      "Valid:         AUC: 0.7815 | AUPR: 0.2607 | Acc: 89.48%\n",
      "=======================================================\n",
      "best model(criterion=gini)\n",
      "Valid:         AUC: 0.7865 | AUPR: 0.2609 | Acc: 89.11%\n",
      "Internal test: AUC: 0.7898 | AUPR: 0.3036 | Acc: 90.58%\n",
      "External test: AUC: 0.7810 | AUPR: 0.2795 | Acc: 90.14%\n"
     ]
    }
   ],
   "source": [
    "from sklearn.tree import DecisionTreeClassifier\n",
    "\n",
    "model_fn = functools.partial(\n",
    "    DecisionTreeClassifier, random_state=SEED,\n",
    "    ccp_alpha=0.0, class_weight='balanced', max_depth=5)\n",
    "param_grid_list = [{\n",
    "        'criterion': ['gini', 'log_loss', 'entropy'],\n",
    "    }\n",
    "]\n",
    "best_metrics, best_params, best_model = classification_dataset.perform_grid_search(model_fn, param_grid_list)\n",
    "metrics_internal, metrics_external = classification_dataset.evaluate_test_sets(best_model)"
   ]
  },
  {
   "cell_type": "code",
   "execution_count": 9,
   "metadata": {},
   "outputs": [
    {
     "name": "stdout",
     "output_type": "stream",
     "text": [
      "model(criterion=gini, n_estimators=50)\n",
      "Valid:         AUC: 0.8181 | AUPR: 0.2835 | Acc: 88.90%\n",
      "model(criterion=gini, n_estimators=100)\n",
      "Valid:         AUC: 0.8173 | AUPR: 0.2849 | Acc: 89.04%\n",
      "model(criterion=gini, n_estimators=200)\n",
      "Valid:         AUC: 0.8197 | AUPR: 0.2885 | Acc: 89.14%\n",
      "model(criterion=log_loss, n_estimators=50)\n",
      "Valid:         AUC: 0.8175 | AUPR: 0.2887 | Acc: 89.31%\n",
      "model(criterion=log_loss, n_estimators=100)\n",
      "Valid:         AUC: 0.8152 | AUPR: 0.2853 | Acc: 89.19%\n",
      "model(criterion=log_loss, n_estimators=200)\n",
      "Valid:         AUC: 0.8198 | AUPR: 0.2908 | Acc: 89.30%\n",
      "model(criterion=entropy, n_estimators=50)\n",
      "Valid:         AUC: 0.8175 | AUPR: 0.2887 | Acc: 89.31%\n",
      "model(criterion=entropy, n_estimators=100)\n",
      "Valid:         AUC: 0.8152 | AUPR: 0.2853 | Acc: 89.19%\n",
      "model(criterion=entropy, n_estimators=200)\n",
      "Valid:         AUC: 0.8198 | AUPR: 0.2908 | Acc: 89.30%\n",
      "=======================================================\n",
      "best model(criterion=log_loss, n_estimators=200)\n",
      "Valid:         AUC: 0.8198 | AUPR: 0.2908 | Acc: 89.30%\n",
      "Internal test: AUC: 0.8277 | AUPR: 0.3062 | Acc: 88.69%\n",
      "External test: AUC: 0.8169 | AUPR: 0.2832 | Acc: 88.26%\n"
     ]
    }
   ],
   "source": [
    "from sklearn.ensemble import RandomForestClassifier\n",
    "\n",
    "model_fn = functools.partial(\n",
    "    RandomForestClassifier, random_state=SEED, n_jobs=-1,\n",
    "    ccp_alpha=0.0, class_weight='balanced', max_depth=5, bootstrap=False)\n",
    "param_grid_list = [{\n",
    "        'criterion': ['gini', 'log_loss', 'entropy'],\n",
    "        'n_estimators': [50, 100, 200],\n",
    "    }\n",
    "]\n",
    "best_metrics, best_params, best_model = classification_dataset.perform_grid_search(model_fn, param_grid_list)\n",
    "metrics_internal, metrics_external = classification_dataset.evaluate_test_sets(best_model)"
   ]
  },
  {
   "cell_type": "code",
   "execution_count": 10,
   "metadata": {},
   "outputs": [
    {
     "name": "stdout",
     "output_type": "stream",
     "text": [
      "model(criterion=friedman_mse)\n",
      "Valid:         AUC: 0.7379 | AUPR: 0.3992 | Acc: 95.20%\n",
      "model(criterion=squared_error)\n",
      "Valid:         AUC: 0.7387 | AUPR: 0.4002 | Acc: 95.21%\n",
      "=======================================================\n",
      "best model(criterion=squared_error)\n",
      "Valid:         AUC: 0.7387 | AUPR: 0.4002 | Acc: 95.21%\n",
      "Internal test: AUC: 0.7547 | AUPR: 0.4598 | Acc: 95.43%\n",
      "External test: AUC: 0.7472 | AUPR: 0.4258 | Acc: 95.24%\n"
     ]
    }
   ],
   "source": [
    "from sklearn.ensemble import GradientBoostingClassifier\n",
    "\n",
    "model = functools.partial(\n",
    "    GradientBoostingClassifier, random_state=SEED,\n",
    "    learning_rate=0.1, max_depth=5, loss='log_loss', \n",
    "    n_estimators=100)\n",
    "param_grid_list = [{\n",
    "        'criterion': ['friedman_mse', 'squared_error'],\n",
    "    }\n",
    "]\n",
    "best_metrics, best_params, best_model = classification_dataset.perform_grid_search(model, param_grid_list)\n",
    "metrics_internal, metrics_external = classification_dataset.evaluate_test_sets(best_model)"
   ]
  },
  {
   "cell_type": "code",
   "execution_count": 11,
   "metadata": {},
   "outputs": [
    {
     "name": "stdout",
     "output_type": "stream",
     "text": [
      "model(n_estimators=100, learning_rate=1.0)\n",
      "Valid:         AUC: 0.7322 | AUPR: 0.3899 | Acc: 95.12%\n",
      "model(n_estimators=200, learning_rate=1.0)\n",
      "Valid:         AUC: 0.7305 | AUPR: 0.3889 | Acc: 95.12%\n",
      "model(n_estimators=500, learning_rate=1.0)\n",
      "Valid:         AUC: 0.7326 | AUPR: 0.3887 | Acc: 95.10%\n",
      "=======================================================\n",
      "best model(n_estimators=500, learning_rate=1.0)\n",
      "Valid:         AUC: 0.7326 | AUPR: 0.3887 | Acc: 95.10%\n",
      "Internal test: AUC: 0.7291 | AUPR: 0.4126 | Acc: 95.01%\n",
      "External test: AUC: 0.7159 | AUPR: 0.3657 | Acc: 94.70%\n"
     ]
    }
   ],
   "source": [
    "from sklearn.ensemble import AdaBoostClassifier\n",
    "model = functools.partial(AdaBoostClassifier, random_state=SEED, algorithm=\"SAMME\")\n",
    "param_grid_list = [{\n",
    "    'n_estimators': [100, 200, 500],\n",
    "    'learning_rate': [1.0],\n",
    "}]\n",
    "best_metrics, best_params, best_model = classification_dataset.perform_grid_search(model, param_grid_list)\n",
    "metrics_internal, metrics_external = classification_dataset.evaluate_test_sets(best_model)"
   ]
  },
  {
   "cell_type": "code",
   "execution_count": null,
   "metadata": {},
   "outputs": [],
   "source": []
  }
 ],
 "metadata": {
  "kernelspec": {
   "display_name": "py310",
   "language": "python",
   "name": "python3"
  },
  "language_info": {
   "codemirror_mode": {
    "name": "ipython",
    "version": 3
   },
   "file_extension": ".py",
   "mimetype": "text/x-python",
   "name": "python",
   "nbconvert_exporter": "python",
   "pygments_lexer": "ipython3",
   "version": "3.10.13"
  }
 },
 "nbformat": 4,
 "nbformat_minor": 2
}
