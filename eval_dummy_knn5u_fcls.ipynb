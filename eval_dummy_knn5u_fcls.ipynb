{
 "cells": [
  {
   "cell_type": "code",
   "execution_count": 1,
   "metadata": {},
   "outputs": [],
   "source": [
    "from config import *\n",
    "from dataset import ClassificationDataset\n",
    "\n",
    "import functools\n",
    "\n",
    "internal, external = 11, 12\n",
    "encode_method = \"dummy\"\n",
    "impute_method = \"knn5u\"\n",
    "fs_method, fs_ratio = \"fcls\", 0.5\n",
    "norm_method = \"maxmin\"\n",
    "classification_dataset = ClassificationDataset(\n",
    "    internal, external, encode_method, impute_method, fs_method, fs_ratio, norm_method, random_state=SEED)"
   ]
  },
  {
   "cell_type": "code",
   "execution_count": 2,
   "metadata": {},
   "outputs": [
    {
     "name": "stdout",
     "output_type": "stream",
     "text": [
      "model()\n",
      "Valid:         AUC: 0.7929 | AUPR: 0.2343 | Acc: 86.29%\n",
      "=======================================================\n",
      "best model()\n",
      "Valid:         AUC: 0.7929 | AUPR: 0.2343 | Acc: 86.29%\n",
      "Internal test: AUC: 0.8006 | AUPR: 0.2543 | Acc: 86.11%\n",
      "External test: AUC: 0.7836 | AUPR: 0.2229 | Acc: 84.69%\n"
     ]
    }
   ],
   "source": [
    "from sklearn.naive_bayes import GaussianNB\n",
    "\n",
    "model_fn = GaussianNB\n",
    "param_grid_list = [{}]\n",
    "best_metrics, best_params, best_model = classification_dataset.perform_grid_search(model_fn, param_grid_list)\n",
    "metrics_internal, metrics_external = classification_dataset.evaluate_test_sets(best_model)"
   ]
  },
  {
   "cell_type": "code",
   "execution_count": 3,
   "metadata": {},
   "outputs": [
    {
     "name": "stdout",
     "output_type": "stream",
     "text": [
      "model()\n",
      "Valid:         AUC: 0.7684 | AUPR: 0.1854 | Acc: 81.01%\n",
      "=======================================================\n",
      "best model()\n",
      "Valid:         AUC: 0.7684 | AUPR: 0.1854 | Acc: 81.01%\n",
      "Internal test: AUC: 0.7665 | AUPR: 0.1965 | Acc: 80.88%\n",
      "External test: AUC: 0.7626 | AUPR: 0.1829 | Acc: 79.56%\n"
     ]
    }
   ],
   "source": [
    "from sklearn.naive_bayes import ComplementNB\n",
    "\n",
    "model_fn = ComplementNB\n",
    "param_grid_list = [{}]\n",
    "best_metrics, best_params, best_model = classification_dataset.perform_grid_search(model_fn, param_grid_list)\n",
    "metrics_internal, metrics_external = classification_dataset.evaluate_test_sets(best_model)"
   ]
  },
  {
   "cell_type": "code",
   "execution_count": 4,
   "metadata": {},
   "outputs": [
    {
     "name": "stdout",
     "output_type": "stream",
     "text": [
      "model(p=1)\n",
      "Valid:         AUC: 0.6940 | AUPR: 0.2667 | Acc: 93.39%\n",
      "model(p=2)\n",
      "Valid:         AUC: 0.6942 | AUPR: 0.2599 | Acc: 93.20%\n",
      "=======================================================\n",
      "best model(p=2)\n",
      "Valid:         AUC: 0.6942 | AUPR: 0.2599 | Acc: 93.20%\n",
      "Internal test: AUC: 0.7023 | AUPR: 0.2948 | Acc: 93.31%\n",
      "External test: AUC: 0.7045 | AUPR: 0.2858 | Acc: 93.32%\n"
     ]
    }
   ],
   "source": [
    "from sklearn.neighbors import KNeighborsClassifier\n",
    "\n",
    "model_fn = functools.partial(\n",
    "    KNeighborsClassifier, n_jobs=-1, algorithm='auto',\n",
    "    n_neighbors=1, )\n",
    "param_grid_list = [{\n",
    "    'p': [1, 2],\n",
    "}]\n",
    "best_metrics, best_params, best_model = classification_dataset.perform_grid_search(model_fn, param_grid_list)\n",
    "metrics_internal, metrics_external = classification_dataset.evaluate_test_sets(best_model)"
   ]
  },
  {
   "cell_type": "code",
   "execution_count": 5,
   "metadata": {},
   "outputs": [
    {
     "name": "stdout",
     "output_type": "stream",
     "text": [
      "model(C=1.0)\n",
      "Valid:         AUC: 0.7239 | AUPR: 0.3931 | Acc: 95.23%\n",
      "model(C=10.0)\n",
      "Valid:         AUC: 0.7269 | AUPR: 0.3978 | Acc: 95.26%\n",
      "model(C=100.0)\n",
      "Valid:         AUC: 0.7261 | AUPR: 0.3963 | Acc: 95.25%\n",
      "=======================================================\n",
      "best model(C=10.0)\n",
      "Valid:         AUC: 0.7269 | AUPR: 0.3978 | Acc: 95.26%\n",
      "Internal test: AUC: 0.7307 | AUPR: 0.4384 | Acc: 95.30%\n",
      "External test: AUC: 0.7149 | AUPR: 0.3687 | Acc: 94.75%\n"
     ]
    }
   ],
   "source": [
    "# from sklearn.exceptions import ConvergenceWarning\n",
    "# import warnings\n",
    "# warnings.filterwarnings(\"ignore\", category=ConvergenceWarning)\n",
    "from sklearn.linear_model import LogisticRegression\n",
    "\n",
    "model_fn = functools.partial(\n",
    "    LogisticRegression, random_state=SEED, n_jobs=-1, \n",
    "    max_iter=2000, solver='saga', penalty='l2',\n",
    "    )\n",
    "param_grid_list = [{\n",
    "    'C': [1.0, 10.0, 100.0],\n",
    "}]\n",
    "best_metrics, best_params, best_model = classification_dataset.perform_grid_search(\n",
    "    model_fn, param_grid_list)\n",
    "metrics_internal, metrics_external = classification_dataset.evaluate_test_sets(\n",
    "    best_model)"
   ]
  },
  {
   "cell_type": "code",
   "execution_count": 6,
   "metadata": {},
   "outputs": [
    {
     "name": "stdout",
     "output_type": "stream",
     "text": [
      "model(C=0.01)\n",
      "Valid:         AUC: 0.8277 | AUPR: 0.2593 | Acc: 86.09%\n",
      "model(C=0.1)\n",
      "Valid:         AUC: 0.8273 | AUPR: 0.2564 | Acc: 85.81%\n",
      "model(C=1)\n",
      "Valid:         AUC: 0.8258 | AUPR: 0.2533 | Acc: 85.61%\n",
      "=======================================================\n",
      "best model(C=0.01)\n",
      "Valid:         AUC: 0.8277 | AUPR: 0.2593 | Acc: 86.09%\n",
      "Internal test: AUC: 0.8374 | AUPR: 0.2866 | Acc: 86.42%\n",
      "External test: AUC: 0.8364 | AUPR: 0.2704 | Acc: 85.64%\n"
     ]
    }
   ],
   "source": [
    "from sklearn.svm import SVC\n",
    "\n",
    "model_fn = functools.partial(\n",
    "    SVC, random_state=SEED, \n",
    "    class_weight='balanced', kernel='linear',\n",
    "    )\n",
    "param_grid_list = [{\n",
    "    'C': [0.01, 0.1, 1],\n",
    "}]\n",
    "best_metrics, best_params, best_model = classification_dataset.perform_grid_search(model_fn, param_grid_list)\n",
    "metrics_internal, metrics_external = classification_dataset.evaluate_test_sets(best_model)"
   ]
  },
  {
   "cell_type": "code",
   "execution_count": 7,
   "metadata": {},
   "outputs": [],
   "source": [
    "# from sklearn.neural_network import MLPClassifier\n",
    "\n",
    "# model_fn = functools.partial(MLPClassifier, random_state=SEED, max_iter=1000)\n",
    "# param_grid_list = [{\n",
    "#     'hidden_layer_sizes': [(100,), (50, 50), (50, 100, 50)],\n",
    "#     'activation': ['logistic', 'relu'],\n",
    "#     'solver': ['adam', 'sgd'],\n",
    "#     'alpha': [0.0001, 0.001, 0.01],\n",
    "# }]\n",
    "# best_metrics, best_params, best_model = classification_dataset.perform_grid_search(model_fn, param_grid_list)\n",
    "# metrics_internal, metrics_external = classification_dataset.evaluate_test_sets(best_model)"
   ]
  },
  {
   "cell_type": "code",
   "execution_count": 8,
   "metadata": {},
   "outputs": [
    {
     "name": "stdout",
     "output_type": "stream",
     "text": [
      "model(criterion=gini)\n",
      "Valid:         AUC: 0.7801 | AUPR: 0.2331 | Acc: 86.83%\n",
      "model(criterion=log_loss)\n",
      "Valid:         AUC: 0.7799 | AUPR: 0.2169 | Acc: 84.51%\n",
      "model(criterion=entropy)\n",
      "Valid:         AUC: 0.7799 | AUPR: 0.2169 | Acc: 84.51%\n",
      "=======================================================\n",
      "best model(criterion=gini)\n",
      "Valid:         AUC: 0.7801 | AUPR: 0.2331 | Acc: 86.83%\n",
      "Internal test: AUC: 0.7925 | AUPR: 0.2541 | Acc: 86.76%\n",
      "External test: AUC: 0.7892 | AUPR: 0.2369 | Acc: 85.97%\n"
     ]
    }
   ],
   "source": [
    "from sklearn.tree import DecisionTreeClassifier\n",
    "\n",
    "model_fn = functools.partial(\n",
    "    DecisionTreeClassifier, random_state=SEED,\n",
    "    ccp_alpha=0.0, class_weight='balanced', max_depth=5)\n",
    "param_grid_list = [{\n",
    "        'criterion': ['gini', 'log_loss', 'entropy'],\n",
    "    }\n",
    "]\n",
    "best_metrics, best_params, best_model = classification_dataset.perform_grid_search(model_fn, param_grid_list)\n",
    "metrics_internal, metrics_external = classification_dataset.evaluate_test_sets(best_model)"
   ]
  },
  {
   "cell_type": "code",
   "execution_count": 9,
   "metadata": {},
   "outputs": [
    {
     "name": "stdout",
     "output_type": "stream",
     "text": [
      "model(criterion=gini, n_estimators=50)\n",
      "Valid:         AUC: 0.8176 | AUPR: 0.2840 | Acc: 88.96%\n",
      "model(criterion=gini, n_estimators=100)\n",
      "Valid:         AUC: 0.8138 | AUPR: 0.2834 | Acc: 89.14%\n",
      "model(criterion=gini, n_estimators=200)\n",
      "Valid:         AUC: 0.8139 | AUPR: 0.2826 | Acc: 89.08%\n",
      "model(criterion=log_loss, n_estimators=50)\n",
      "Valid:         AUC: 0.8145 | AUPR: 0.2833 | Acc: 89.10%\n",
      "model(criterion=log_loss, n_estimators=100)\n",
      "Valid:         AUC: 0.8137 | AUPR: 0.2828 | Acc: 89.12%\n",
      "model(criterion=log_loss, n_estimators=200)\n",
      "Valid:         AUC: 0.8150 | AUPR: 0.2886 | Acc: 89.43%\n",
      "model(criterion=entropy, n_estimators=50)\n",
      "Valid:         AUC: 0.8145 | AUPR: 0.2833 | Acc: 89.10%\n",
      "model(criterion=entropy, n_estimators=100)\n",
      "Valid:         AUC: 0.8137 | AUPR: 0.2828 | Acc: 89.12%\n",
      "model(criterion=entropy, n_estimators=200)\n",
      "Valid:         AUC: 0.8150 | AUPR: 0.2886 | Acc: 89.43%\n",
      "=======================================================\n",
      "best model(criterion=gini, n_estimators=50)\n",
      "Valid:         AUC: 0.8176 | AUPR: 0.2840 | Acc: 88.96%\n",
      "Internal test: AUC: 0.8293 | AUPR: 0.3079 | Acc: 88.71%\n",
      "External test: AUC: 0.8185 | AUPR: 0.2773 | Acc: 87.68%\n"
     ]
    }
   ],
   "source": [
    "from sklearn.ensemble import RandomForestClassifier\n",
    "\n",
    "model_fn = functools.partial(\n",
    "    RandomForestClassifier, random_state=SEED, n_jobs=-1,\n",
    "    ccp_alpha=0.0, class_weight='balanced', max_depth=5, bootstrap=False)\n",
    "param_grid_list = [{\n",
    "        'criterion': ['gini', 'log_loss', 'entropy'],\n",
    "        'n_estimators': [50, 100, 200],\n",
    "    }\n",
    "]\n",
    "best_metrics, best_params, best_model = classification_dataset.perform_grid_search(model_fn, param_grid_list)\n",
    "metrics_internal, metrics_external = classification_dataset.evaluate_test_sets(best_model)"
   ]
  },
  {
   "cell_type": "code",
   "execution_count": 10,
   "metadata": {},
   "outputs": [
    {
     "name": "stdout",
     "output_type": "stream",
     "text": [
      "model(criterion=friedman_mse)\n",
      "Valid:         AUC: 0.7311 | AUPR: 0.3972 | Acc: 95.22%\n",
      "model(criterion=squared_error)\n",
      "Valid:         AUC: 0.7311 | AUPR: 0.3972 | Acc: 95.22%\n",
      "=======================================================\n",
      "best model(criterion=friedman_mse)\n",
      "Valid:         AUC: 0.7311 | AUPR: 0.3972 | Acc: 95.22%\n",
      "Internal test: AUC: 0.7503 | AUPR: 0.4577 | Acc: 95.43%\n",
      "External test: AUC: 0.7376 | AUPR: 0.4109 | Acc: 95.13%\n"
     ]
    }
   ],
   "source": [
    "from sklearn.ensemble import GradientBoostingClassifier\n",
    "\n",
    "model = functools.partial(\n",
    "    GradientBoostingClassifier, random_state=SEED,\n",
    "    learning_rate=0.1, max_depth=5, loss='log_loss', \n",
    "    n_estimators=100)\n",
    "param_grid_list = [{\n",
    "        'criterion': ['friedman_mse', 'squared_error'],\n",
    "    }\n",
    "]\n",
    "best_metrics, best_params, best_model = classification_dataset.perform_grid_search(model, param_grid_list)\n",
    "metrics_internal, metrics_external = classification_dataset.evaluate_test_sets(best_model)"
   ]
  },
  {
   "cell_type": "code",
   "execution_count": 11,
   "metadata": {},
   "outputs": [
    {
     "name": "stdout",
     "output_type": "stream",
     "text": [
      "model(n_estimators=100, learning_rate=1.0)\n",
      "Valid:         AUC: 0.7258 | AUPR: 0.3798 | Acc: 95.04%\n",
      "model(n_estimators=200, learning_rate=1.0)\n",
      "Valid:         AUC: 0.7259 | AUPR: 0.3802 | Acc: 95.05%\n",
      "model(n_estimators=500, learning_rate=1.0)\n",
      "Valid:         AUC: 0.7255 | AUPR: 0.3800 | Acc: 95.05%\n",
      "=======================================================\n",
      "best model(n_estimators=200, learning_rate=1.0)\n",
      "Valid:         AUC: 0.7259 | AUPR: 0.3802 | Acc: 95.05%\n",
      "Internal test: AUC: 0.7469 | AUPR: 0.4478 | Acc: 95.33%\n",
      "External test: AUC: 0.7167 | AUPR: 0.3591 | Acc: 94.59%\n"
     ]
    }
   ],
   "source": [
    "from sklearn.ensemble import AdaBoostClassifier\n",
    "model = functools.partial(AdaBoostClassifier, random_state=SEED, algorithm=\"SAMME\")\n",
    "param_grid_list = [{\n",
    "    'n_estimators': [100, 200, 500],\n",
    "    'learning_rate': [1.0],\n",
    "}]\n",
    "best_metrics, best_params, best_model = classification_dataset.perform_grid_search(model, param_grid_list)\n",
    "metrics_internal, metrics_external = classification_dataset.evaluate_test_sets(best_model)"
   ]
  },
  {
   "cell_type": "code",
   "execution_count": null,
   "metadata": {},
   "outputs": [],
   "source": []
  }
 ],
 "metadata": {
  "kernelspec": {
   "display_name": "py310",
   "language": "python",
   "name": "python3"
  },
  "language_info": {
   "codemirror_mode": {
    "name": "ipython",
    "version": 3
   },
   "file_extension": ".py",
   "mimetype": "text/x-python",
   "name": "python",
   "nbconvert_exporter": "python",
   "pygments_lexer": "ipython3",
   "version": "3.10.13"
  }
 },
 "nbformat": 4,
 "nbformat_minor": 2
}
