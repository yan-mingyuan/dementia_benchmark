{
 "cells": [
  {
   "cell_type": "code",
   "execution_count": 1,
   "metadata": {},
   "outputs": [],
   "source": [
    "from config import *\n",
    "from utilities import get_model_name\n",
    "from dataset import ClassificationDataset\n",
    "\n",
    "import functools\n",
    "import numpy as np\n",
    "import pandas as pd\n",
    "\n",
    "results_dict = {}\n",
    "internal, external = 11, 12\n",
    "encode_method = \"dummy\"\n",
    "impute_method = \"itbr\"\n",
    "fs_method, fs_ratio = \"f1w\", 0.5\n",
    "norm_method = \"maxmin\"\n",
    "classification_dataset = ClassificationDataset(\n",
    "    internal, external, encode_method, impute_method, fs_method, fs_ratio, norm_method, random_state=SEED)"
   ]
  },
  {
   "cell_type": "code",
   "execution_count": 2,
   "metadata": {},
   "outputs": [
    {
     "name": "stdout",
     "output_type": "stream",
     "text": [
      "MLPClassifier\n"
     ]
    },
    {
     "name": "stderr",
     "output_type": "stream",
     "text": [
      "                                                                             \r"
     ]
    },
    {
     "name": "stdout",
     "output_type": "stream",
     "text": [
      "model(hidden_layer_sizes=(128, 128), learning_rate=0.005)\n",
      "Valid:         AUC: 0.9107 | AUPR: 0.6242 | Acc: 95.19%\n"
     ]
    },
    {
     "name": "stderr",
     "output_type": "stream",
     "text": [
      "                                                                             \r"
     ]
    },
    {
     "name": "stdout",
     "output_type": "stream",
     "text": [
      "model(hidden_layer_sizes=(128, 128), learning_rate=0.01)\n",
      "Valid:         AUC: 0.9169 | AUPR: 0.6415 | Acc: 95.26%\n"
     ]
    },
    {
     "name": "stderr",
     "output_type": "stream",
     "text": [
      "                                                                             \r"
     ]
    },
    {
     "name": "stdout",
     "output_type": "stream",
     "text": [
      "model(hidden_layer_sizes=(128, 128), learning_rate=0.02)\n",
      "Valid:         AUC: 0.9201 | AUPR: 0.6522 | Acc: 95.15%\n"
     ]
    },
    {
     "name": "stderr",
     "output_type": "stream",
     "text": [
      "                                                                             \r"
     ]
    },
    {
     "name": "stdout",
     "output_type": "stream",
     "text": [
      "model(hidden_layer_sizes=(64, 64, 64), learning_rate=0.005)\n",
      "Valid:         AUC: 0.9131 | AUPR: 0.6306 | Acc: 95.24%\n"
     ]
    },
    {
     "name": "stderr",
     "output_type": "stream",
     "text": [
      "                                                                             \r"
     ]
    },
    {
     "name": "stdout",
     "output_type": "stream",
     "text": [
      "model(hidden_layer_sizes=(64, 64, 64), learning_rate=0.01)\n",
      "Valid:         AUC: 0.9185 | AUPR: 0.6452 | Acc: 95.22%\n"
     ]
    },
    {
     "name": "stderr",
     "output_type": "stream",
     "text": [
      "                                                                             \r"
     ]
    },
    {
     "name": "stdout",
     "output_type": "stream",
     "text": [
      "model(hidden_layer_sizes=(64, 64, 64), learning_rate=0.02)\n",
      "Valid:         AUC: 0.9204 | AUPR: 0.6500 | Acc: 95.21%\n",
      "=======================================================\n",
      "best model(hidden_layer_sizes=(64, 64, 64), learning_rate=0.02)\n",
      "Valid:         AUC: 0.9204 | AUPR: 0.6500 | Acc: 95.21%\n",
      "Internal test: AUC: 0.9203 | AUPR: 0.6726 | Acc: 95.11%\n",
      "External test: AUC: 0.9203 | AUPR: 0.6527 | Acc: 95.06%\n"
     ]
    }
   ],
   "source": [
    "# from sklearn.neural_network import MLPClassifier\n",
    "from utilities import MLPClassifier\n",
    "\n",
    "model_fn = functools.partial(\n",
    "    MLPClassifier, random_state=SEED, max_iter=50,\n",
    "    momentum=0.9, squares=0.999, optimizer_t='sgdm',\n",
    "    use_residual=True, use_batch_norm=False)\n",
    "param_grid_list = [{\n",
    "    # hidden_layer_sizes = (64, 32)\n",
    "    # config       lr_range            worst_auc\n",
    "    # adam w/ bn:  [2e-5, 5e-5, 1e-4]  0.8942\n",
    "    # adam w/o bn: [5e-5, 1e-4, 2e-4]  0.9148\n",
    "    # sgdm w/ bn:  [1e-3, 2e-3, 5e-3]  0.8982\n",
    "    # sgdm w/o bn: [5e-3, 1e-2, 2e-2]  0.9177\n",
    "\n",
    "    'hidden_layer_sizes': [(128, 128), (64, 64, 64)],\n",
    "    'learning_rate': [5e-3, 1e-2, 2e-2],\n",
    "}]\n",
    "best_metrics, best_params, best_model = classification_dataset.perform_grid_search(model_fn, param_grid_list)\n",
    "metrics_internal, metrics_external = classification_dataset.evaluate_test_sets(best_model)\n",
    "results_dict[get_model_name(model_fn)] = np.concatenate([best_metrics, metrics_internal, metrics_external], axis=0)"
   ]
  },
  {
   "cell_type": "code",
   "execution_count": 3,
   "metadata": {},
   "outputs": [
    {
     "name": "stdout",
     "output_type": "stream",
     "text": [
      "SVC\n",
      "model(kernel=linear, C=0.01)\n",
      "Valid:         AUC: 0.9143 | AUPR: 0.6057 | Acc: 94.78%\n",
      "model(kernel=linear, C=0.1)\n",
      "Valid:         AUC: 0.9167 | AUPR: 0.6203 | Acc: 95.00%\n",
      "model(kernel=linear, C=1)\n",
      "Valid:         AUC: 0.9164 | AUPR: 0.6204 | Acc: 94.99%\n",
      "=======================================================\n",
      "best model(kernel=linear, C=0.1)\n",
      "Valid:         AUC: 0.9167 | AUPR: 0.6203 | Acc: 95.00%\n",
      "Internal test: AUC: 0.9182 | AUPR: 0.6451 | Acc: 94.84%\n",
      "External test: AUC: 0.9168 | AUPR: 0.6053 | Acc: 94.56%\n"
     ]
    }
   ],
   "source": [
    "from sklearn.svm import SVC\n",
    "\n",
    "model_fn = functools.partial(\n",
    "    SVC, random_state=SEED, probability=True,\n",
    "    class_weight='balanced')\n",
    "param_grid_list = [{\n",
    "    'kernel': ['linear'],\n",
    "    'C': [0.01, 0.1, 1],\n",
    "}]\n",
    "best_metrics, best_params, best_model = classification_dataset.perform_grid_search(model_fn, param_grid_list)\n",
    "metrics_internal, metrics_external = classification_dataset.evaluate_test_sets(best_model)\n",
    "results_dict[get_model_name(model_fn)] = np.concatenate([best_metrics, metrics_internal, metrics_external], axis=0)"
   ]
  },
  {
   "cell_type": "code",
   "execution_count": 4,
   "metadata": {},
   "outputs": [
    {
     "name": "stdout",
     "output_type": "stream",
     "text": [
      "KNeighborsClassifier\n",
      "model(n_neighbors=3)\n",
      "Valid:         AUC: 0.7606 | AUPR: 0.3630 | Acc: 93.77%\n",
      "model(n_neighbors=5)\n",
      "Valid:         AUC: 0.7870 | AUPR: 0.4229 | Acc: 94.29%\n",
      "model(n_neighbors=7)\n",
      "Valid:         AUC: 0.8064 | AUPR: 0.4603 | Acc: 94.49%\n",
      "=======================================================\n",
      "best model(n_neighbors=7)\n",
      "Valid:         AUC: 0.8064 | AUPR: 0.4603 | Acc: 94.49%\n",
      "Internal test: AUC: 0.8151 | AUPR: 0.4675 | Acc: 94.18%\n",
      "External test: AUC: 0.8115 | AUPR: 0.4705 | Acc: 94.45%\n"
     ]
    }
   ],
   "source": [
    "from sklearn.neighbors import KNeighborsClassifier\n",
    "\n",
    "model_fn = functools.partial(\n",
    "    KNeighborsClassifier, n_jobs=-1, algorithm='auto', p=2)\n",
    "param_grid_list = [{\n",
    "    'n_neighbors': [3, 5, 7],\n",
    "}]\n",
    "best_metrics, best_params, best_model = classification_dataset.perform_grid_search(model_fn, param_grid_list)\n",
    "metrics_internal, metrics_external = classification_dataset.evaluate_test_sets(best_model)\n",
    "results_dict[get_model_name(model_fn)] = np.concatenate([best_metrics, metrics_internal, metrics_external], axis=0)"
   ]
  },
  {
   "cell_type": "code",
   "execution_count": 5,
   "metadata": {},
   "outputs": [
    {
     "name": "stdout",
     "output_type": "stream",
     "text": [
      "GaussianNB\n",
      "model()\n",
      "Valid:         AUC: 0.8716 | AUPR: 0.4395 | Acc: 77.18%\n",
      "=======================================================\n",
      "best model()\n",
      "Valid:         AUC: 0.8716 | AUPR: 0.4395 | Acc: 77.18%\n",
      "Internal test: AUC: 0.8835 | AUPR: 0.4735 | Acc: 74.14%\n",
      "External test: AUC: 0.8691 | AUPR: 0.4316 | Acc: 72.53%\n"
     ]
    }
   ],
   "source": [
    "from sklearn.naive_bayes import GaussianNB\n",
    "\n",
    "model_fn = GaussianNB\n",
    "param_grid_list = [{}]\n",
    "best_metrics, best_params, best_model = classification_dataset.perform_grid_search(model_fn, param_grid_list)\n",
    "metrics_internal, metrics_external = classification_dataset.evaluate_test_sets(best_model)\n",
    "results_dict[get_model_name(model_fn)] = np.concatenate([best_metrics, metrics_internal, metrics_external], axis=0)"
   ]
  },
  {
   "cell_type": "code",
   "execution_count": 6,
   "metadata": {},
   "outputs": [
    {
     "name": "stdout",
     "output_type": "stream",
     "text": [
      "LogisticRegression\n",
      "model(C=1.0)\n",
      "Valid:         AUC: 0.9173 | AUPR: 0.6469 | Acc: 95.27%\n",
      "model(C=10.0)\n",
      "Valid:         AUC: 0.9176 | AUPR: 0.6473 | Acc: 95.24%\n",
      "model(C=100.0)\n",
      "Valid:         AUC: 0.9174 | AUPR: 0.6468 | Acc: 95.22%\n",
      "=======================================================\n",
      "best model(C=10.0)\n",
      "Valid:         AUC: 0.9176 | AUPR: 0.6473 | Acc: 95.24%\n",
      "Internal test: AUC: 0.9207 | AUPR: 0.6768 | Acc: 95.01%\n",
      "External test: AUC: 0.9171 | AUPR: 0.6368 | Acc: 95.02%\n"
     ]
    }
   ],
   "source": [
    "# from sklearn.exceptions import ConvergenceWarning\n",
    "# import warnings\n",
    "# warnings.filterwarnings(\"ignore\", category=ConvergenceWarning)\n",
    "from sklearn.linear_model import LogisticRegression\n",
    "\n",
    "model_fn = functools.partial(\n",
    "    LogisticRegression, random_state=SEED, n_jobs=-1, \n",
    "    max_iter=2000, solver='saga', penalty='l2',\n",
    "    )\n",
    "param_grid_list = [{\n",
    "    'C': [1.0, 10.0, 100.0],\n",
    "}]\n",
    "best_metrics, best_params, best_model = classification_dataset.perform_grid_search(\n",
    "    model_fn, param_grid_list)\n",
    "metrics_internal, metrics_external = classification_dataset.evaluate_test_sets(\n",
    "    best_model)\n",
    "results_dict[get_model_name(model_fn)] = np.concatenate([best_metrics, metrics_internal, metrics_external], axis=0)"
   ]
  },
  {
   "cell_type": "code",
   "execution_count": 7,
   "metadata": {},
   "outputs": [
    {
     "name": "stdout",
     "output_type": "stream",
     "text": [
      "DecisionTreeClassifier\n",
      "model(criterion=gini)\n",
      "Valid:         AUC: 0.8803 | AUPR: 0.5619 | Acc: 85.00%\n",
      "model(criterion=log_loss)\n",
      "Valid:         AUC: 0.8806 | AUPR: 0.5689 | Acc: 85.58%\n",
      "model(criterion=entropy)\n",
      "Valid:         AUC: 0.8806 | AUPR: 0.5689 | Acc: 85.58%\n",
      "=======================================================\n",
      "best model(criterion=log_loss)\n",
      "Valid:         AUC: 0.8806 | AUPR: 0.5689 | Acc: 85.58%\n",
      "Internal test: AUC: 0.8718 | AUPR: 0.5844 | Acc: 85.47%\n",
      "External test: AUC: 0.8802 | AUPR: 0.5799 | Acc: 84.95%\n"
     ]
    }
   ],
   "source": [
    "from sklearn.tree import DecisionTreeClassifier\n",
    "\n",
    "model_fn = functools.partial(\n",
    "    DecisionTreeClassifier, random_state=SEED,\n",
    "    ccp_alpha=0.0, class_weight='balanced', max_depth=5)\n",
    "param_grid_list = [{\n",
    "        'criterion': ['gini', 'log_loss', 'entropy'],\n",
    "    }\n",
    "]\n",
    "best_metrics, best_params, best_model = classification_dataset.perform_grid_search(model_fn, param_grid_list)\n",
    "metrics_internal, metrics_external = classification_dataset.evaluate_test_sets(best_model)\n",
    "results_dict[get_model_name(model_fn)] = np.concatenate([best_metrics, metrics_internal, metrics_external], axis=0)"
   ]
  },
  {
   "cell_type": "code",
   "execution_count": 8,
   "metadata": {},
   "outputs": [
    {
     "name": "stdout",
     "output_type": "stream",
     "text": [
      "RandomForestClassifier\n",
      "model(criterion=gini, n_estimators=50)\n",
      "Valid:         AUC: 0.9147 | AUPR: 0.6512 | Acc: 89.65%\n",
      "model(criterion=gini, n_estimators=100)\n",
      "Valid:         AUC: 0.9157 | AUPR: 0.6522 | Acc: 89.85%\n",
      "model(criterion=gini, n_estimators=200)\n",
      "Valid:         AUC: 0.9163 | AUPR: 0.6518 | Acc: 89.76%\n",
      "model(criterion=log_loss, n_estimators=50)\n",
      "Valid:         AUC: 0.9156 | AUPR: 0.6546 | Acc: 89.81%\n",
      "model(criterion=log_loss, n_estimators=100)\n",
      "Valid:         AUC: 0.9165 | AUPR: 0.6538 | Acc: 89.80%\n",
      "model(criterion=log_loss, n_estimators=200)\n",
      "Valid:         AUC: 0.9163 | AUPR: 0.6547 | Acc: 89.78%\n",
      "model(criterion=entropy, n_estimators=50)\n",
      "Valid:         AUC: 0.9156 | AUPR: 0.6546 | Acc: 89.81%\n",
      "model(criterion=entropy, n_estimators=100)\n",
      "Valid:         AUC: 0.9165 | AUPR: 0.6538 | Acc: 89.80%\n",
      "model(criterion=entropy, n_estimators=200)\n",
      "Valid:         AUC: 0.9163 | AUPR: 0.6547 | Acc: 89.78%\n",
      "=======================================================\n",
      "best model(criterion=log_loss, n_estimators=100)\n",
      "Valid:         AUC: 0.9165 | AUPR: 0.6538 | Acc: 89.80%\n",
      "Internal test: AUC: 0.9202 | AUPR: 0.6955 | Acc: 89.56%\n",
      "External test: AUC: 0.9085 | AUPR: 0.6527 | Acc: 88.57%\n"
     ]
    }
   ],
   "source": [
    "from sklearn.ensemble import RandomForestClassifier\n",
    "\n",
    "model_fn = functools.partial(\n",
    "    RandomForestClassifier, random_state=SEED, n_jobs=-1,\n",
    "    ccp_alpha=0.0, class_weight='balanced', max_depth=5, bootstrap=False)\n",
    "param_grid_list = [{\n",
    "        'criterion': ['gini', 'log_loss', 'entropy'],\n",
    "        'n_estimators': [50, 100, 200],\n",
    "    }\n",
    "]\n",
    "best_metrics, best_params, best_model = classification_dataset.perform_grid_search(model_fn, param_grid_list)\n",
    "metrics_internal, metrics_external = classification_dataset.evaluate_test_sets(best_model)\n",
    "results_dict[get_model_name(model_fn)] = np.concatenate([best_metrics, metrics_internal, metrics_external], axis=0)"
   ]
  },
  {
   "cell_type": "code",
   "execution_count": 9,
   "metadata": {},
   "outputs": [
    {
     "name": "stdout",
     "output_type": "stream",
     "text": [
      "GradientBoostingClassifier\n",
      "model(criterion=friedman_mse)\n",
      "Valid:         AUC: 0.9210 | AUPR: 0.6467 | Acc: 95.18%\n",
      "model(criterion=squared_error)\n",
      "Valid:         AUC: 0.9211 | AUPR: 0.6467 | Acc: 95.19%\n",
      "=======================================================\n",
      "best model(criterion=squared_error)\n",
      "Valid:         AUC: 0.9211 | AUPR: 0.6467 | Acc: 95.19%\n",
      "Internal test: AUC: 0.9231 | AUPR: 0.6836 | Acc: 95.45%\n",
      "External test: AUC: 0.9193 | AUPR: 0.6535 | Acc: 95.11%\n"
     ]
    }
   ],
   "source": [
    "from sklearn.ensemble import GradientBoostingClassifier\n",
    "\n",
    "model = functools.partial(\n",
    "    GradientBoostingClassifier, random_state=SEED,\n",
    "    learning_rate=0.1, max_depth=5, loss='log_loss', \n",
    "    n_estimators=100)\n",
    "param_grid_list = [{\n",
    "        'criterion': ['friedman_mse', 'squared_error'],\n",
    "    }\n",
    "]\n",
    "best_metrics, best_params, best_model = classification_dataset.perform_grid_search(model, param_grid_list)\n",
    "metrics_internal, metrics_external = classification_dataset.evaluate_test_sets(best_model)\n",
    "results_dict[get_model_name(model_fn)] = np.concatenate([best_metrics, metrics_internal, metrics_external], axis=0)"
   ]
  },
  {
   "cell_type": "code",
   "execution_count": 10,
   "metadata": {},
   "outputs": [
    {
     "name": "stdout",
     "output_type": "stream",
     "text": [
      "AdaBoostClassifier\n",
      "model(n_estimators=100, learning_rate=1.0)\n",
      "Valid:         AUC: 0.9177 | AUPR: 0.6345 | Acc: 95.25%\n",
      "model(n_estimators=200, learning_rate=1.0)\n",
      "Valid:         AUC: 0.9182 | AUPR: 0.6387 | Acc: 95.22%\n",
      "model(n_estimators=500, learning_rate=1.0)\n",
      "Valid:         AUC: 0.9186 | AUPR: 0.6422 | Acc: 95.30%\n",
      "=======================================================\n",
      "best model(n_estimators=500, learning_rate=1.0)\n",
      "Valid:         AUC: 0.9186 | AUPR: 0.6422 | Acc: 95.30%\n",
      "Internal test: AUC: 0.9166 | AUPR: 0.6720 | Acc: 95.38%\n",
      "External test: AUC: 0.9121 | AUPR: 0.6298 | Acc: 95.13%\n"
     ]
    }
   ],
   "source": [
    "from sklearn.ensemble import AdaBoostClassifier\n",
    "model = functools.partial(AdaBoostClassifier, random_state=SEED, algorithm=\"SAMME\")\n",
    "param_grid_list = [{\n",
    "    'n_estimators': [100, 200, 500],\n",
    "    'learning_rate': [1.0],\n",
    "}]\n",
    "best_metrics, best_params, best_model = classification_dataset.perform_grid_search(model, param_grid_list)\n",
    "metrics_internal, metrics_external = classification_dataset.evaluate_test_sets(best_model)\n",
    "results_dict[get_model_name(model_fn)] = np.concatenate([best_metrics, metrics_internal, metrics_external], axis=0)"
   ]
  },
  {
   "cell_type": "code",
   "execution_count": 11,
   "metadata": {},
   "outputs": [],
   "source": [
    "dataframe = pd.DataFrame(results_dict).transpose().reset_index()\n",
    "dataframe.columns = ['model', 'val_auc', 'val_aupr', 'val_acc', 'intest_auc', 'intest_aupr', 'intest_acc', 'extest_auc', 'extest_aupr', 'extest_acc']\n",
    "# dataframe.to_csv()\n",
    "filename = os.path.join(RESULTS_DIR, encode_method, impute_method, f'{fs_method}{int(fs_ratio * 142)}.csv')\n",
    "dirname = os.path.dirname(filename)\n",
    "if not os.path.exists(dirname):\n",
    "    os.makedirs(dirname)\n",
    "dataframe.to_csv(filename, index=False)"
   ]
  },
  {
   "cell_type": "code",
   "execution_count": null,
   "metadata": {},
   "outputs": [],
   "source": []
  }
 ],
 "metadata": {
  "kernelspec": {
   "display_name": "py310",
   "language": "python",
   "name": "python3"
  },
  "language_info": {
   "codemirror_mode": {
    "name": "ipython",
    "version": 3
   },
   "file_extension": ".py",
   "mimetype": "text/x-python",
   "name": "python",
   "nbconvert_exporter": "python",
   "pygments_lexer": "ipython3",
   "version": "3.10.6"
  }
 },
 "nbformat": 4,
 "nbformat_minor": 2
}
