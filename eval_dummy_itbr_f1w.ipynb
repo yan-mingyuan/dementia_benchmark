{
 "cells": [
  {
   "cell_type": "code",
   "execution_count": 1,
   "metadata": {},
   "outputs": [],
   "source": [
    "from config import *\n",
    "from dataset import ClassificationDataset\n",
    "\n",
    "import functools\n",
    "\n",
    "internal, external = 11, 12\n",
    "encode_method = \"dummy\"\n",
    "impute_method = \"itbr\"\n",
    "fs_method, fs_ratio = \"f1w\", 0.5\n",
    "norm_method = \"maxmin\"\n",
    "classification_dataset = ClassificationDataset(\n",
    "    internal, external, encode_method, impute_method, fs_method, fs_ratio, norm_method, random_state=SEED)"
   ]
  },
  {
   "cell_type": "code",
   "execution_count": 2,
   "metadata": {},
   "outputs": [
    {
     "name": "stdout",
     "output_type": "stream",
     "text": [
      "model()\n",
      "Valid:         AUC: 0.7819 | AUPR: 0.1866 | Acc: 77.18%\n",
      "=======================================================\n",
      "best model()\n",
      "Valid:         AUC: 0.7819 | AUPR: 0.1866 | Acc: 77.18%\n",
      "Internal test: AUC: 0.7909 | AUPR: 0.1880 | Acc: 74.06%\n",
      "External test: AUC: 0.7770 | AUPR: 0.1711 | Acc: 72.47%\n"
     ]
    }
   ],
   "source": [
    "from sklearn.naive_bayes import GaussianNB\n",
    "\n",
    "model_fn = GaussianNB\n",
    "param_grid_list = [{}]\n",
    "best_metrics, best_params, best_model = classification_dataset.perform_grid_search(model_fn, param_grid_list)\n",
    "metrics_internal, metrics_external = classification_dataset.evaluate_test_sets(best_model)"
   ]
  },
  {
   "cell_type": "code",
   "execution_count": 3,
   "metadata": {},
   "outputs": [
    {
     "name": "stdout",
     "output_type": "stream",
     "text": [
      "model()\n",
      "Valid:         AUC: 0.7549 | AUPR: 0.1605 | Acc: 75.57%\n",
      "=======================================================\n",
      "best model()\n",
      "Valid:         AUC: 0.7549 | AUPR: 0.1605 | Acc: 75.57%\n",
      "Internal test: AUC: 0.7472 | AUPR: 0.1690 | Acc: 75.96%\n",
      "External test: AUC: 0.7462 | AUPR: 0.1585 | Acc: 73.87%\n"
     ]
    }
   ],
   "source": [
    "from sklearn.naive_bayes import ComplementNB\n",
    "\n",
    "model_fn = ComplementNB\n",
    "param_grid_list = [{}]\n",
    "best_metrics, best_params, best_model = classification_dataset.perform_grid_search(model_fn, param_grid_list)\n",
    "metrics_internal, metrics_external = classification_dataset.evaluate_test_sets(best_model)"
   ]
  },
  {
   "cell_type": "code",
   "execution_count": 4,
   "metadata": {},
   "outputs": [
    {
     "name": "stdout",
     "output_type": "stream",
     "text": [
      "model(p=1)\n",
      "Valid:         AUC: 0.6855 | AUPR: 0.2267 | Acc: 92.31%\n",
      "model(p=2)\n",
      "Valid:         AUC: 0.6864 | AUPR: 0.2106 | Acc: 91.53%\n",
      "=======================================================\n",
      "best model(p=2)\n",
      "Valid:         AUC: 0.6864 | AUPR: 0.2106 | Acc: 91.53%\n",
      "Internal test: AUC: 0.6781 | AUPR: 0.2160 | Acc: 91.27%\n",
      "External test: AUC: 0.7035 | AUPR: 0.2539 | Acc: 92.34%\n"
     ]
    }
   ],
   "source": [
    "from sklearn.neighbors import KNeighborsClassifier\n",
    "\n",
    "model_fn = functools.partial(\n",
    "    KNeighborsClassifier, n_jobs=-1, algorithm='auto',\n",
    "    n_neighbors=1, )\n",
    "param_grid_list = [{\n",
    "    'p': [1, 2],\n",
    "}]\n",
    "best_metrics, best_params, best_model = classification_dataset.perform_grid_search(model_fn, param_grid_list)\n",
    "metrics_internal, metrics_external = classification_dataset.evaluate_test_sets(best_model)"
   ]
  },
  {
   "cell_type": "code",
   "execution_count": 5,
   "metadata": {},
   "outputs": [
    {
     "name": "stdout",
     "output_type": "stream",
     "text": [
      "model(C=1.0)\n",
      "Valid:         AUC: 0.7279 | AUPR: 0.3985 | Acc: 95.27%\n",
      "model(C=10.0)\n",
      "Valid:         AUC: 0.7301 | AUPR: 0.3973 | Acc: 95.24%\n",
      "model(C=100.0)\n",
      "Valid:         AUC: 0.7296 | AUPR: 0.3955 | Acc: 95.22%\n",
      "=======================================================\n",
      "best model(C=10.0)\n",
      "Valid:         AUC: 0.7301 | AUPR: 0.3973 | Acc: 95.24%\n",
      "Internal test: AUC: 0.7276 | AUPR: 0.4118 | Acc: 95.01%\n",
      "External test: AUC: 0.7233 | AUPR: 0.3931 | Acc: 95.01%\n"
     ]
    }
   ],
   "source": [
    "# from sklearn.exceptions import ConvergenceWarning\n",
    "# import warnings\n",
    "# warnings.filterwarnings(\"ignore\", category=ConvergenceWarning)\n",
    "from sklearn.linear_model import LogisticRegression\n",
    "\n",
    "model_fn = functools.partial(\n",
    "    LogisticRegression, random_state=SEED, n_jobs=-1, \n",
    "    max_iter=2000, solver='saga', penalty='l2',\n",
    "    )\n",
    "param_grid_list = [{\n",
    "    'C': [1.0, 10.0, 100.0],\n",
    "}]\n",
    "best_metrics, best_params, best_model = classification_dataset.perform_grid_search(\n",
    "    model_fn, param_grid_list)\n",
    "metrics_internal, metrics_external = classification_dataset.evaluate_test_sets(\n",
    "    best_model)"
   ]
  },
  {
   "cell_type": "code",
   "execution_count": 6,
   "metadata": {},
   "outputs": [
    {
     "name": "stdout",
     "output_type": "stream",
     "text": [
      "model(C=0.01)\n",
      "Valid:         AUC: 0.8299 | AUPR: 0.2484 | Acc: 84.65%\n",
      "model(C=0.1)\n",
      "Valid:         AUC: 0.8315 | AUPR: 0.2538 | Acc: 85.17%\n",
      "model(C=1)\n",
      "Valid:         AUC: 0.8302 | AUPR: 0.2544 | Acc: 85.35%\n",
      "=======================================================\n",
      "best model(C=0.1)\n",
      "Valid:         AUC: 0.8315 | AUPR: 0.2538 | Acc: 85.17%\n",
      "Internal test: AUC: 0.8268 | AUPR: 0.2696 | Acc: 85.55%\n",
      "External test: AUC: 0.8393 | AUPR: 0.2679 | Acc: 85.12%\n"
     ]
    }
   ],
   "source": [
    "from sklearn.svm import SVC\n",
    "\n",
    "model_fn = functools.partial(\n",
    "    SVC, random_state=SEED, \n",
    "    class_weight='balanced', kernel='linear',\n",
    "    )\n",
    "param_grid_list = [{\n",
    "    'C': [0.01, 0.1, 1],\n",
    "}]\n",
    "best_metrics, best_params, best_model = classification_dataset.perform_grid_search(model_fn, param_grid_list)\n",
    "metrics_internal, metrics_external = classification_dataset.evaluate_test_sets(best_model)"
   ]
  },
  {
   "cell_type": "code",
   "execution_count": 7,
   "metadata": {},
   "outputs": [],
   "source": [
    "# from sklearn.neural_network import MLPClassifier\n",
    "\n",
    "# model_fn = functools.partial(MLPClassifier, random_state=SEED, max_iter=1000)\n",
    "# param_grid_list = [{\n",
    "#     'hidden_layer_sizes': [(100,), (50, 50), (50, 100, 50)],\n",
    "#     'activation': ['logistic', 'relu'],\n",
    "#     'solver': ['adam', 'sgd'],\n",
    "#     'alpha': [0.0001, 0.001, 0.01],\n",
    "# }]\n",
    "# best_metrics, best_params, best_model = classification_dataset.perform_grid_search(model_fn, param_grid_list)\n",
    "# metrics_internal, metrics_external = classification_dataset.evaluate_test_sets(best_model)"
   ]
  },
  {
   "cell_type": "code",
   "execution_count": 8,
   "metadata": {},
   "outputs": [
    {
     "name": "stdout",
     "output_type": "stream",
     "text": [
      "model(criterion=gini)\n",
      "Valid:         AUC: 0.8113 | AUPR: 0.2380 | Acc: 85.00%\n",
      "model(criterion=log_loss)\n",
      "Valid:         AUC: 0.8077 | AUPR: 0.2439 | Acc: 85.58%\n",
      "model(criterion=entropy)\n",
      "Valid:         AUC: 0.8077 | AUPR: 0.2439 | Acc: 85.58%\n",
      "=======================================================\n",
      "best model(criterion=gini)\n",
      "Valid:         AUC: 0.8113 | AUPR: 0.2380 | Acc: 85.00%\n",
      "Internal test: AUC: 0.8109 | AUPR: 0.2598 | Acc: 85.84%\n",
      "External test: AUC: 0.8017 | AUPR: 0.2381 | Acc: 84.96%\n"
     ]
    }
   ],
   "source": [
    "from sklearn.tree import DecisionTreeClassifier\n",
    "\n",
    "model_fn = functools.partial(\n",
    "    DecisionTreeClassifier, random_state=SEED,\n",
    "    ccp_alpha=0.0, class_weight='balanced', max_depth=5)\n",
    "param_grid_list = [{\n",
    "        'criterion': ['gini', 'log_loss', 'entropy'],\n",
    "    }\n",
    "]\n",
    "best_metrics, best_params, best_model = classification_dataset.perform_grid_search(model_fn, param_grid_list)\n",
    "metrics_internal, metrics_external = classification_dataset.evaluate_test_sets(best_model)"
   ]
  },
  {
   "cell_type": "code",
   "execution_count": 9,
   "metadata": {},
   "outputs": [
    {
     "name": "stdout",
     "output_type": "stream",
     "text": [
      "model(criterion=gini, n_estimators=50)\n",
      "Valid:         AUC: 0.8162 | AUPR: 0.2929 | Acc: 89.65%\n",
      "model(criterion=gini, n_estimators=100)\n",
      "Valid:         AUC: 0.8177 | AUPR: 0.2975 | Acc: 89.85%\n",
      "model(criterion=gini, n_estimators=200)\n",
      "Valid:         AUC: 0.8172 | AUPR: 0.2953 | Acc: 89.76%\n",
      "model(criterion=log_loss, n_estimators=50)\n",
      "Valid:         AUC: 0.8170 | AUPR: 0.2961 | Acc: 89.81%\n",
      "model(criterion=log_loss, n_estimators=100)\n",
      "Valid:         AUC: 0.8162 | AUPR: 0.2954 | Acc: 89.80%\n",
      "model(criterion=log_loss, n_estimators=200)\n",
      "Valid:         AUC: 0.8176 | AUPR: 0.2961 | Acc: 89.78%\n",
      "model(criterion=entropy, n_estimators=50)\n",
      "Valid:         AUC: 0.8170 | AUPR: 0.2961 | Acc: 89.81%\n",
      "model(criterion=entropy, n_estimators=100)\n",
      "Valid:         AUC: 0.8162 | AUPR: 0.2954 | Acc: 89.80%\n",
      "model(criterion=entropy, n_estimators=200)\n",
      "Valid:         AUC: 0.8176 | AUPR: 0.2961 | Acc: 89.78%\n",
      "=======================================================\n",
      "best model(criterion=gini, n_estimators=100)\n",
      "Valid:         AUC: 0.8177 | AUPR: 0.2975 | Acc: 89.85%\n",
      "Internal test: AUC: 0.8248 | AUPR: 0.3158 | Acc: 89.49%\n",
      "External test: AUC: 0.8128 | AUPR: 0.2858 | Acc: 88.73%\n"
     ]
    }
   ],
   "source": [
    "from sklearn.ensemble import RandomForestClassifier\n",
    "\n",
    "model_fn = functools.partial(\n",
    "    RandomForestClassifier, random_state=SEED, n_jobs=-1,\n",
    "    ccp_alpha=0.0, class_weight='balanced', max_depth=5, bootstrap=False)\n",
    "param_grid_list = [{\n",
    "        'criterion': ['gini', 'log_loss', 'entropy'],\n",
    "        'n_estimators': [50, 100, 200],\n",
    "    }\n",
    "]\n",
    "best_metrics, best_params, best_model = classification_dataset.perform_grid_search(model_fn, param_grid_list)\n",
    "metrics_internal, metrics_external = classification_dataset.evaluate_test_sets(best_model)"
   ]
  },
  {
   "cell_type": "code",
   "execution_count": 10,
   "metadata": {},
   "outputs": [
    {
     "name": "stdout",
     "output_type": "stream",
     "text": [
      "model(criterion=friedman_mse)\n",
      "Valid:         AUC: 0.7300 | AUPR: 0.3922 | Acc: 95.18%\n",
      "model(criterion=squared_error)\n",
      "Valid:         AUC: 0.7305 | AUPR: 0.3940 | Acc: 95.19%\n",
      "=======================================================\n",
      "best model(criterion=squared_error)\n",
      "Valid:         AUC: 0.7305 | AUPR: 0.3940 | Acc: 95.19%\n",
      "Internal test: AUC: 0.7519 | AUPR: 0.4606 | Acc: 95.45%\n",
      "External test: AUC: 0.7370 | AUPR: 0.4114 | Acc: 95.14%\n"
     ]
    }
   ],
   "source": [
    "from sklearn.ensemble import GradientBoostingClassifier\n",
    "\n",
    "model = functools.partial(\n",
    "    GradientBoostingClassifier, random_state=SEED,\n",
    "    learning_rate=0.1, max_depth=5, loss='log_loss', \n",
    "    n_estimators=100)\n",
    "param_grid_list = [{\n",
    "        'criterion': ['friedman_mse', 'squared_error'],\n",
    "    }\n",
    "]\n",
    "best_metrics, best_params, best_model = classification_dataset.perform_grid_search(model, param_grid_list)\n",
    "metrics_internal, metrics_external = classification_dataset.evaluate_test_sets(best_model)"
   ]
  },
  {
   "cell_type": "code",
   "execution_count": 11,
   "metadata": {},
   "outputs": [
    {
     "name": "stdout",
     "output_type": "stream",
     "text": [
      "model(n_estimators=100, learning_rate=1.0)\n",
      "Valid:         AUC: 0.7384 | AUPR: 0.4032 | Acc: 95.25%\n",
      "model(n_estimators=200, learning_rate=1.0)\n",
      "Valid:         AUC: 0.7335 | AUPR: 0.3981 | Acc: 95.22%\n",
      "model(n_estimators=500, learning_rate=1.0)\n",
      "Valid:         AUC: 0.7351 | AUPR: 0.4048 | Acc: 95.30%\n",
      "=======================================================\n",
      "best model(n_estimators=100, learning_rate=1.0)\n",
      "Valid:         AUC: 0.7384 | AUPR: 0.4032 | Acc: 95.25%\n",
      "Internal test: AUC: 0.7531 | AUPR: 0.4570 | Acc: 95.40%\n",
      "External test: AUC: 0.7336 | AUPR: 0.4035 | Acc: 95.06%\n"
     ]
    }
   ],
   "source": [
    "from sklearn.ensemble import AdaBoostClassifier\n",
    "model = functools.partial(AdaBoostClassifier, random_state=SEED, algorithm=\"SAMME\")\n",
    "param_grid_list = [{\n",
    "    'n_estimators': [100, 200, 500],\n",
    "    'learning_rate': [1.0],\n",
    "}]\n",
    "best_metrics, best_params, best_model = classification_dataset.perform_grid_search(model, param_grid_list)\n",
    "metrics_internal, metrics_external = classification_dataset.evaluate_test_sets(best_model)"
   ]
  },
  {
   "cell_type": "code",
   "execution_count": null,
   "metadata": {},
   "outputs": [],
   "source": []
  }
 ],
 "metadata": {
  "kernelspec": {
   "display_name": "py310",
   "language": "python",
   "name": "python3"
  },
  "language_info": {
   "codemirror_mode": {
    "name": "ipython",
    "version": 3
   },
   "file_extension": ".py",
   "mimetype": "text/x-python",
   "name": "python",
   "nbconvert_exporter": "python",
   "pygments_lexer": "ipython3",
   "version": "3.10.13"
  }
 },
 "nbformat": 4,
 "nbformat_minor": 2
}
