{
 "cells": [
  {
   "cell_type": "code",
   "execution_count": 1,
   "metadata": {},
   "outputs": [],
   "source": [
    "from config import *\n",
    "from dataset import ClassificationDataset\n",
    "\n",
    "import functools\n",
    "\n",
    "internal, external = 11, 12\n",
    "encode_method = \"dummy\"\n",
    "impute_method = \"knn5d\"\n",
    "fs_method, fs_ratio = \"ftest\", 0.5\n",
    "norm_method = \"maxmin\"\n",
    "classification_dataset = ClassificationDataset(\n",
    "    internal, external, encode_method, impute_method, fs_method, fs_ratio, norm_method, random_state=SEED)"
   ]
  },
  {
   "cell_type": "code",
   "execution_count": 2,
   "metadata": {},
   "outputs": [
    {
     "name": "stdout",
     "output_type": "stream",
     "text": [
      "model()\n",
      "Valid:         AUC: 0.7928 | AUPR: 0.2341 | Acc: 86.27%\n",
      "=======================================================\n",
      "best model()\n",
      "Valid:         AUC: 0.7928 | AUPR: 0.2341 | Acc: 86.27%\n",
      "Internal test: AUC: 0.8006 | AUPR: 0.2543 | Acc: 86.11%\n",
      "External test: AUC: 0.7837 | AUPR: 0.2231 | Acc: 84.71%\n"
     ]
    }
   ],
   "source": [
    "from sklearn.naive_bayes import GaussianNB\n",
    "\n",
    "model_fn = GaussianNB\n",
    "param_grid_list = [{}]\n",
    "best_metrics, best_params, best_model = classification_dataset.perform_grid_search(model_fn, param_grid_list)\n",
    "metrics_internal, metrics_external = classification_dataset.evaluate_test_sets(best_model)"
   ]
  },
  {
   "cell_type": "code",
   "execution_count": 3,
   "metadata": {},
   "outputs": [
    {
     "name": "stdout",
     "output_type": "stream",
     "text": [
      "model()\n",
      "Valid:         AUC: 0.7685 | AUPR: 0.1854 | Acc: 81.02%\n",
      "=======================================================\n",
      "best model()\n",
      "Valid:         AUC: 0.7685 | AUPR: 0.1854 | Acc: 81.02%\n",
      "Internal test: AUC: 0.7666 | AUPR: 0.1967 | Acc: 80.90%\n",
      "External test: AUC: 0.7627 | AUPR: 0.1830 | Acc: 79.57%\n"
     ]
    }
   ],
   "source": [
    "from sklearn.naive_bayes import ComplementNB\n",
    "\n",
    "model_fn = ComplementNB\n",
    "param_grid_list = [{}]\n",
    "best_metrics, best_params, best_model = classification_dataset.perform_grid_search(model_fn, param_grid_list)\n",
    "metrics_internal, metrics_external = classification_dataset.evaluate_test_sets(best_model)"
   ]
  },
  {
   "cell_type": "code",
   "execution_count": 4,
   "metadata": {},
   "outputs": [
    {
     "name": "stdout",
     "output_type": "stream",
     "text": [
      "model(p=1)\n",
      "Valid:         AUC: 0.6950 | AUPR: 0.2688 | Acc: 93.42%\n",
      "model(p=2)\n",
      "Valid:         AUC: 0.6953 | AUPR: 0.2612 | Acc: 93.21%\n",
      "=======================================================\n",
      "best model(p=2)\n",
      "Valid:         AUC: 0.6953 | AUPR: 0.2612 | Acc: 93.21%\n",
      "Internal test: AUC: 0.7056 | AUPR: 0.3007 | Acc: 93.38%\n",
      "External test: AUC: 0.7060 | AUPR: 0.2882 | Acc: 93.35%\n"
     ]
    }
   ],
   "source": [
    "from sklearn.neighbors import KNeighborsClassifier\n",
    "\n",
    "model_fn = functools.partial(\n",
    "    KNeighborsClassifier, n_jobs=-1, algorithm='auto',\n",
    "    n_neighbors=1, )\n",
    "param_grid_list = [{\n",
    "    'p': [1, 2],\n",
    "}]\n",
    "best_metrics, best_params, best_model = classification_dataset.perform_grid_search(model_fn, param_grid_list)\n",
    "metrics_internal, metrics_external = classification_dataset.evaluate_test_sets(best_model)"
   ]
  },
  {
   "cell_type": "code",
   "execution_count": 5,
   "metadata": {},
   "outputs": [
    {
     "name": "stdout",
     "output_type": "stream",
     "text": [
      "model(C=1.0)\n",
      "Valid:         AUC: 0.7239 | AUPR: 0.3921 | Acc: 95.22%\n",
      "model(C=10.0)\n",
      "Valid:         AUC: 0.7269 | AUPR: 0.3967 | Acc: 95.25%\n",
      "model(C=100.0)\n",
      "Valid:         AUC: 0.7259 | AUPR: 0.3942 | Acc: 95.22%\n",
      "=======================================================\n",
      "best model(C=10.0)\n",
      "Valid:         AUC: 0.7269 | AUPR: 0.3967 | Acc: 95.25%\n",
      "Internal test: AUC: 0.7322 | AUPR: 0.4413 | Acc: 95.33%\n",
      "External test: AUC: 0.7145 | AUPR: 0.3677 | Acc: 94.74%\n"
     ]
    }
   ],
   "source": [
    "# from sklearn.exceptions import ConvergenceWarning\n",
    "# import warnings\n",
    "# warnings.filterwarnings(\"ignore\", category=ConvergenceWarning)\n",
    "from sklearn.linear_model import LogisticRegression\n",
    "\n",
    "model_fn = functools.partial(\n",
    "    LogisticRegression, random_state=SEED, n_jobs=-1, \n",
    "    max_iter=2000, solver='saga', penalty='l2',\n",
    "    )\n",
    "param_grid_list = [{\n",
    "    'C': [1.0, 10.0, 100.0],\n",
    "}]\n",
    "best_metrics, best_params, best_model = classification_dataset.perform_grid_search(\n",
    "    model_fn, param_grid_list)\n",
    "metrics_internal, metrics_external = classification_dataset.evaluate_test_sets(\n",
    "    best_model)"
   ]
  },
  {
   "cell_type": "code",
   "execution_count": 6,
   "metadata": {},
   "outputs": [
    {
     "name": "stdout",
     "output_type": "stream",
     "text": [
      "model(C=0.01)\n",
      "Valid:         AUC: 0.8282 | AUPR: 0.2598 | Acc: 86.10%\n",
      "model(C=0.1)\n",
      "Valid:         AUC: 0.8281 | AUPR: 0.2570 | Acc: 85.80%\n",
      "model(C=1)\n",
      "Valid:         AUC: 0.8259 | AUPR: 0.2536 | Acc: 85.62%\n",
      "=======================================================\n",
      "best model(C=0.01)\n",
      "Valid:         AUC: 0.8282 | AUPR: 0.2598 | Acc: 86.10%\n",
      "Internal test: AUC: 0.8369 | AUPR: 0.2852 | Acc: 86.33%\n",
      "External test: AUC: 0.8365 | AUPR: 0.2705 | Acc: 85.65%\n"
     ]
    }
   ],
   "source": [
    "from sklearn.svm import SVC\n",
    "\n",
    "model_fn = functools.partial(\n",
    "    SVC, random_state=SEED, \n",
    "    class_weight='balanced', kernel='linear',\n",
    "    )\n",
    "param_grid_list = [{\n",
    "    'C': [0.01, 0.1, 1],\n",
    "}]\n",
    "best_metrics, best_params, best_model = classification_dataset.perform_grid_search(model_fn, param_grid_list)\n",
    "metrics_internal, metrics_external = classification_dataset.evaluate_test_sets(best_model)"
   ]
  },
  {
   "cell_type": "code",
   "execution_count": 7,
   "metadata": {},
   "outputs": [],
   "source": [
    "# from sklearn.neural_network import MLPClassifier\n",
    "\n",
    "# model_fn = functools.partial(MLPClassifier, random_state=SEED, max_iter=1000)\n",
    "# param_grid_list = [{\n",
    "#     'hidden_layer_sizes': [(100,), (50, 50), (50, 100, 50)],\n",
    "#     'activation': ['logistic', 'relu'],\n",
    "#     'solver': ['adam', 'sgd'],\n",
    "#     'alpha': [0.0001, 0.001, 0.01],\n",
    "# }]\n",
    "# best_metrics, best_params, best_model = classification_dataset.perform_grid_search(model_fn, param_grid_list)\n",
    "# metrics_internal, metrics_external = classification_dataset.evaluate_test_sets(best_model)"
   ]
  },
  {
   "cell_type": "code",
   "execution_count": 8,
   "metadata": {},
   "outputs": [
    {
     "name": "stdout",
     "output_type": "stream",
     "text": [
      "model(criterion=gini)\n",
      "Valid:         AUC: 0.7799 | AUPR: 0.2324 | Acc: 86.76%\n",
      "model(criterion=log_loss)\n",
      "Valid:         AUC: 0.7789 | AUPR: 0.2163 | Acc: 84.54%\n",
      "model(criterion=entropy)\n",
      "Valid:         AUC: 0.7789 | AUPR: 0.2163 | Acc: 84.54%\n",
      "=======================================================\n",
      "best model(criterion=gini)\n",
      "Valid:         AUC: 0.7799 | AUPR: 0.2324 | Acc: 86.76%\n",
      "Internal test: AUC: 0.7989 | AUPR: 0.2575 | Acc: 86.59%\n",
      "External test: AUC: 0.7937 | AUPR: 0.2380 | Acc: 85.69%\n"
     ]
    }
   ],
   "source": [
    "from sklearn.tree import DecisionTreeClassifier\n",
    "\n",
    "model_fn = functools.partial(\n",
    "    DecisionTreeClassifier, random_state=SEED,\n",
    "    ccp_alpha=0.0, class_weight='balanced', max_depth=5)\n",
    "param_grid_list = [{\n",
    "        'criterion': ['gini', 'log_loss', 'entropy'],\n",
    "    }\n",
    "]\n",
    "best_metrics, best_params, best_model = classification_dataset.perform_grid_search(model_fn, param_grid_list)\n",
    "metrics_internal, metrics_external = classification_dataset.evaluate_test_sets(best_model)"
   ]
  },
  {
   "cell_type": "code",
   "execution_count": 9,
   "metadata": {},
   "outputs": [
    {
     "name": "stdout",
     "output_type": "stream",
     "text": [
      "model(criterion=gini, n_estimators=50)\n",
      "Valid:         AUC: 0.8139 | AUPR: 0.2798 | Acc: 88.88%\n",
      "model(criterion=gini, n_estimators=100)\n",
      "Valid:         AUC: 0.8126 | AUPR: 0.2823 | Acc: 89.13%\n",
      "model(criterion=gini, n_estimators=200)\n",
      "Valid:         AUC: 0.8134 | AUPR: 0.2821 | Acc: 89.07%\n",
      "model(criterion=log_loss, n_estimators=50)\n",
      "Valid:         AUC: 0.8113 | AUPR: 0.2798 | Acc: 89.04%\n",
      "model(criterion=log_loss, n_estimators=100)\n",
      "Valid:         AUC: 0.8140 | AUPR: 0.2858 | Acc: 89.32%\n",
      "model(criterion=log_loss, n_estimators=200)\n",
      "Valid:         AUC: 0.8157 | AUPR: 0.2904 | Acc: 89.51%\n",
      "model(criterion=entropy, n_estimators=50)\n",
      "Valid:         AUC: 0.8113 | AUPR: 0.2798 | Acc: 89.04%\n",
      "model(criterion=entropy, n_estimators=100)\n",
      "Valid:         AUC: 0.8140 | AUPR: 0.2858 | Acc: 89.32%\n",
      "model(criterion=entropy, n_estimators=200)\n",
      "Valid:         AUC: 0.8157 | AUPR: 0.2904 | Acc: 89.51%\n",
      "=======================================================\n",
      "best model(criterion=log_loss, n_estimators=200)\n",
      "Valid:         AUC: 0.8157 | AUPR: 0.2904 | Acc: 89.51%\n",
      "Internal test: AUC: 0.8305 | AUPR: 0.3162 | Acc: 89.20%\n",
      "External test: AUC: 0.8137 | AUPR: 0.2808 | Acc: 88.29%\n"
     ]
    }
   ],
   "source": [
    "from sklearn.ensemble import RandomForestClassifier\n",
    "\n",
    "model_fn = functools.partial(\n",
    "    RandomForestClassifier, random_state=SEED, n_jobs=-1,\n",
    "    ccp_alpha=0.0, class_weight='balanced', max_depth=5, bootstrap=False)\n",
    "param_grid_list = [{\n",
    "        'criterion': ['gini', 'log_loss', 'entropy'],\n",
    "        'n_estimators': [50, 100, 200],\n",
    "    }\n",
    "]\n",
    "best_metrics, best_params, best_model = classification_dataset.perform_grid_search(model_fn, param_grid_list)\n",
    "metrics_internal, metrics_external = classification_dataset.evaluate_test_sets(best_model)"
   ]
  },
  {
   "cell_type": "code",
   "execution_count": 10,
   "metadata": {},
   "outputs": [
    {
     "name": "stdout",
     "output_type": "stream",
     "text": [
      "model(criterion=friedman_mse)\n",
      "Valid:         AUC: 0.7344 | AUPR: 0.3997 | Acc: 95.22%\n",
      "model(criterion=squared_error)\n",
      "Valid:         AUC: 0.7342 | AUPR: 0.3981 | Acc: 95.20%\n",
      "=======================================================\n",
      "best model(criterion=friedman_mse)\n",
      "Valid:         AUC: 0.7344 | AUPR: 0.3997 | Acc: 95.22%\n",
      "Internal test: AUC: 0.7460 | AUPR: 0.4580 | Acc: 95.45%\n",
      "External test: AUC: 0.7395 | AUPR: 0.4117 | Acc: 95.12%\n"
     ]
    }
   ],
   "source": [
    "from sklearn.ensemble import GradientBoostingClassifier\n",
    "\n",
    "model = functools.partial(\n",
    "    GradientBoostingClassifier, random_state=SEED,\n",
    "    learning_rate=0.1, max_depth=5, loss='log_loss', \n",
    "    n_estimators=100)\n",
    "param_grid_list = [{\n",
    "        'criterion': ['friedman_mse', 'squared_error'],\n",
    "    }\n",
    "]\n",
    "best_metrics, best_params, best_model = classification_dataset.perform_grid_search(model, param_grid_list)\n",
    "metrics_internal, metrics_external = classification_dataset.evaluate_test_sets(best_model)"
   ]
  },
  {
   "cell_type": "code",
   "execution_count": 11,
   "metadata": {},
   "outputs": [
    {
     "name": "stdout",
     "output_type": "stream",
     "text": [
      "model(n_estimators=100, learning_rate=1.0)\n",
      "Valid:         AUC: 0.7240 | AUPR: 0.3789 | Acc: 95.04%\n",
      "model(n_estimators=200, learning_rate=1.0)\n",
      "Valid:         AUC: 0.7258 | AUPR: 0.3780 | Acc: 95.01%\n",
      "model(n_estimators=500, learning_rate=1.0)\n",
      "Valid:         AUC: 0.7273 | AUPR: 0.3778 | Acc: 94.99%\n",
      "=======================================================\n",
      "best model(n_estimators=500, learning_rate=1.0)\n",
      "Valid:         AUC: 0.7273 | AUPR: 0.3778 | Acc: 94.99%\n",
      "Internal test: AUC: 0.7437 | AUPR: 0.4421 | Acc: 95.28%\n",
      "External test: AUC: 0.7219 | AUPR: 0.3620 | Acc: 94.58%\n"
     ]
    }
   ],
   "source": [
    "from sklearn.ensemble import AdaBoostClassifier\n",
    "model = functools.partial(AdaBoostClassifier, random_state=SEED, algorithm=\"SAMME\")\n",
    "param_grid_list = [{\n",
    "    'n_estimators': [100, 200, 500],\n",
    "    'learning_rate': [1.0],\n",
    "}]\n",
    "best_metrics, best_params, best_model = classification_dataset.perform_grid_search(model, param_grid_list)\n",
    "metrics_internal, metrics_external = classification_dataset.evaluate_test_sets(best_model)"
   ]
  },
  {
   "cell_type": "code",
   "execution_count": null,
   "metadata": {},
   "outputs": [],
   "source": []
  }
 ],
 "metadata": {
  "kernelspec": {
   "display_name": "py310",
   "language": "python",
   "name": "python3"
  },
  "language_info": {
   "codemirror_mode": {
    "name": "ipython",
    "version": 3
   },
   "file_extension": ".py",
   "mimetype": "text/x-python",
   "name": "python",
   "nbconvert_exporter": "python",
   "pygments_lexer": "ipython3",
   "version": "3.10.13"
  }
 },
 "nbformat": 4,
 "nbformat_minor": 2
}
