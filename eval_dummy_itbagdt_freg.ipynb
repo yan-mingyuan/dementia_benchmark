{
 "cells": [
  {
   "cell_type": "code",
   "execution_count": 6,
   "metadata": {},
   "outputs": [],
   "source": [
    "from config import *\n",
    "from dataset import ClassificationDataset\n",
    "\n",
    "import functools\n",
    "\n",
    "internal, external = 11, 12\n",
    "encode_method = \"dummy\"\n",
    "impute_method = \"itbagdt\"\n",
    "fs_method, fs_ratio = \"freg\", 0.5\n",
    "norm_method = \"maxmin\"\n",
    "classification_dataset = ClassificationDataset(\n",
    "    internal, external, encode_method, impute_method, fs_method, fs_ratio, norm_method, random_state=SEED)"
   ]
  },
  {
   "cell_type": "code",
   "execution_count": 7,
   "metadata": {},
   "outputs": [
    {
     "name": "stdout",
     "output_type": "stream",
     "text": [
      "model()\n",
      "Valid:         AUC: 0.7906 | AUPR: 0.2340 | Acc: 86.45%\n",
      "=======================================================\n",
      "best model()\n",
      "Valid:         AUC: 0.7906 | AUPR: 0.2340 | Acc: 86.45%\n",
      "Internal test: AUC: 0.7921 | AUPR: 0.2481 | Acc: 86.16%\n",
      "External test: AUC: 0.7808 | AUPR: 0.2210 | Acc: 84.72%\n"
     ]
    }
   ],
   "source": [
    "from sklearn.naive_bayes import GaussianNB\n",
    "\n",
    "model_fn = GaussianNB\n",
    "param_grid_list = [{}]\n",
    "best_metrics, best_params, best_model = classification_dataset.perform_grid_search(model_fn, param_grid_list)\n",
    "metrics_internal, metrics_external = classification_dataset.evaluate_test_sets(best_model)"
   ]
  },
  {
   "cell_type": "code",
   "execution_count": 8,
   "metadata": {},
   "outputs": [
    {
     "name": "stdout",
     "output_type": "stream",
     "text": [
      "model()\n",
      "Valid:         AUC: 0.7671 | AUPR: 0.1866 | Acc: 81.49%\n",
      "=======================================================\n",
      "best model()\n",
      "Valid:         AUC: 0.7671 | AUPR: 0.1866 | Acc: 81.49%\n",
      "Internal test: AUC: 0.7667 | AUPR: 0.1993 | Acc: 81.46%\n",
      "External test: AUC: 0.7610 | AUPR: 0.1840 | Acc: 80.12%\n"
     ]
    }
   ],
   "source": [
    "from sklearn.naive_bayes import ComplementNB\n",
    "\n",
    "model_fn = ComplementNB\n",
    "param_grid_list = [{}]\n",
    "best_metrics, best_params, best_model = classification_dataset.perform_grid_search(model_fn, param_grid_list)\n",
    "metrics_internal, metrics_external = classification_dataset.evaluate_test_sets(best_model)"
   ]
  },
  {
   "cell_type": "code",
   "execution_count": 9,
   "metadata": {},
   "outputs": [
    {
     "name": "stdout",
     "output_type": "stream",
     "text": [
      "model(p=1)\n",
      "Valid:         AUC: 0.6983 | AUPR: 0.2707 | Acc: 93.42%\n",
      "model(p=2)\n",
      "Valid:         AUC: 0.7003 | AUPR: 0.2695 | Acc: 93.33%\n",
      "=======================================================\n",
      "best model(p=2)\n",
      "Valid:         AUC: 0.7003 | AUPR: 0.2695 | Acc: 93.33%\n",
      "Internal test: AUC: 0.6948 | AUPR: 0.2671 | Acc: 92.73%\n",
      "External test: AUC: 0.7030 | AUPR: 0.2879 | Acc: 93.41%\n"
     ]
    }
   ],
   "source": [
    "from sklearn.neighbors import KNeighborsClassifier\n",
    "\n",
    "model_fn = functools.partial(\n",
    "    KNeighborsClassifier, n_jobs=-1, algorithm='auto',\n",
    "    n_neighbors=1, )\n",
    "param_grid_list = [{\n",
    "    'p': [1, 2],\n",
    "}]\n",
    "best_metrics, best_params, best_model = classification_dataset.perform_grid_search(model_fn, param_grid_list)\n",
    "metrics_internal, metrics_external = classification_dataset.evaluate_test_sets(best_model)"
   ]
  },
  {
   "cell_type": "code",
   "execution_count": 10,
   "metadata": {},
   "outputs": [
    {
     "name": "stdout",
     "output_type": "stream",
     "text": [
      "model(C=1.0)\n",
      "Valid:         AUC: 0.7253 | AUPR: 0.3967 | Acc: 95.27%\n",
      "model(C=10.0)\n",
      "Valid:         AUC: 0.7282 | AUPR: 0.4009 | Acc: 95.30%\n",
      "model(C=100.0)\n",
      "Valid:         AUC: 0.7282 | AUPR: 0.4004 | Acc: 95.29%\n",
      "=======================================================\n",
      "best model(C=10.0)\n",
      "Valid:         AUC: 0.7282 | AUPR: 0.4009 | Acc: 95.30%\n",
      "Internal test: AUC: 0.7289 | AUPR: 0.4333 | Acc: 95.26%\n",
      "External test: AUC: 0.7148 | AUPR: 0.3765 | Acc: 94.86%\n"
     ]
    }
   ],
   "source": [
    "# from sklearn.exceptions import ConvergenceWarning\n",
    "# import warnings\n",
    "# warnings.filterwarnings(\"ignore\", category=ConvergenceWarning)\n",
    "from sklearn.linear_model import LogisticRegression\n",
    "\n",
    "model_fn = functools.partial(\n",
    "    LogisticRegression, random_state=SEED, n_jobs=-1, \n",
    "    max_iter=2000, solver='saga', penalty='l2',\n",
    "    )\n",
    "param_grid_list = [{\n",
    "    'C': [1.0, 10.0, 100.0],\n",
    "}]\n",
    "best_metrics, best_params, best_model = classification_dataset.perform_grid_search(\n",
    "    model_fn, param_grid_list)\n",
    "metrics_internal, metrics_external = classification_dataset.evaluate_test_sets(\n",
    "    best_model)"
   ]
  },
  {
   "cell_type": "code",
   "execution_count": 11,
   "metadata": {},
   "outputs": [
    {
     "name": "stdout",
     "output_type": "stream",
     "text": [
      "model(C=0.01)\n",
      "Valid:         AUC: 0.8290 | AUPR: 0.2596 | Acc: 85.98%\n",
      "model(C=0.1)\n",
      "Valid:         AUC: 0.8292 | AUPR: 0.2550 | Acc: 85.49%\n",
      "model(C=1)\n",
      "Valid:         AUC: 0.8306 | AUPR: 0.2551 | Acc: 85.40%\n",
      "=======================================================\n",
      "best model(C=1)\n",
      "Valid:         AUC: 0.8306 | AUPR: 0.2551 | Acc: 85.40%\n",
      "Internal test: AUC: 0.8425 | AUPR: 0.2892 | Acc: 86.28%\n",
      "External test: AUC: 0.8383 | AUPR: 0.2705 | Acc: 85.49%\n"
     ]
    }
   ],
   "source": [
    "from sklearn.svm import SVC\n",
    "\n",
    "model_fn = functools.partial(\n",
    "    SVC, random_state=SEED, \n",
    "    class_weight='balanced', kernel='linear',\n",
    "    )\n",
    "param_grid_list = [{\n",
    "    'C': [0.01, 0.1, 1],\n",
    "}]\n",
    "best_metrics, best_params, best_model = classification_dataset.perform_grid_search(model_fn, param_grid_list)\n",
    "metrics_internal, metrics_external = classification_dataset.evaluate_test_sets(best_model)"
   ]
  },
  {
   "cell_type": "code",
   "execution_count": 12,
   "metadata": {},
   "outputs": [],
   "source": [
    "# from sklearn.neural_network import MLPClassifier\n",
    "\n",
    "# model_fn = functools.partial(MLPClassifier, random_state=SEED, max_iter=1000)\n",
    "# param_grid_list = [{\n",
    "#     'hidden_layer_sizes': [(100,), (50, 50), (50, 100, 50)],\n",
    "#     'activation': ['logistic', 'relu'],\n",
    "#     'solver': ['adam', 'sgd'],\n",
    "#     'alpha': [0.0001, 0.001, 0.01],\n",
    "# }]\n",
    "# best_metrics, best_params, best_model = classification_dataset.perform_grid_search(model_fn, param_grid_list)\n",
    "# metrics_internal, metrics_external = classification_dataset.evaluate_test_sets(best_model)"
   ]
  },
  {
   "cell_type": "code",
   "execution_count": 13,
   "metadata": {},
   "outputs": [
    {
     "name": "stdout",
     "output_type": "stream",
     "text": [
      "model(criterion=gini)\n",
      "Valid:         AUC: 0.7900 | AUPR: 0.2342 | Acc: 85.25%\n",
      "model(criterion=log_loss)\n",
      "Valid:         AUC: 0.7821 | AUPR: 0.2393 | Acc: 87.15%\n",
      "model(criterion=entropy)\n",
      "Valid:         AUC: 0.7821 | AUPR: 0.2393 | Acc: 87.15%\n",
      "=======================================================\n",
      "best model(criterion=gini)\n",
      "Valid:         AUC: 0.7900 | AUPR: 0.2342 | Acc: 85.25%\n",
      "Internal test: AUC: 0.7948 | AUPR: 0.3214 | Acc: 91.24%\n",
      "External test: AUC: 0.7823 | AUPR: 0.2867 | Acc: 90.50%\n"
     ]
    }
   ],
   "source": [
    "from sklearn.tree import DecisionTreeClassifier\n",
    "\n",
    "model_fn = functools.partial(\n",
    "    DecisionTreeClassifier, random_state=SEED,\n",
    "    ccp_alpha=0.0, class_weight='balanced', max_depth=5)\n",
    "param_grid_list = [{\n",
    "        'criterion': ['gini', 'log_loss', 'entropy'],\n",
    "    }\n",
    "]\n",
    "best_metrics, best_params, best_model = classification_dataset.perform_grid_search(model_fn, param_grid_list)\n",
    "metrics_internal, metrics_external = classification_dataset.evaluate_test_sets(best_model)"
   ]
  },
  {
   "cell_type": "code",
   "execution_count": 14,
   "metadata": {},
   "outputs": [
    {
     "name": "stdout",
     "output_type": "stream",
     "text": [
      "model(criterion=gini, n_estimators=50)\n",
      "Valid:         AUC: 0.8173 | AUPR: 0.2923 | Acc: 89.54%\n",
      "model(criterion=gini, n_estimators=100)\n",
      "Valid:         AUC: 0.8131 | AUPR: 0.2893 | Acc: 89.58%\n",
      "model(criterion=gini, n_estimators=200)\n",
      "Valid:         AUC: 0.8158 | AUPR: 0.2938 | Acc: 89.73%\n",
      "model(criterion=log_loss, n_estimators=50)\n",
      "Valid:         AUC: 0.8163 | AUPR: 0.2924 | Acc: 89.60%\n",
      "model(criterion=log_loss, n_estimators=100)\n",
      "Valid:         AUC: 0.8174 | AUPR: 0.2992 | Acc: 89.96%\n",
      "model(criterion=log_loss, n_estimators=200)\n",
      "Valid:         AUC: 0.8163 | AUPR: 0.2976 | Acc: 89.94%\n",
      "model(criterion=entropy, n_estimators=50)\n",
      "Valid:         AUC: 0.8163 | AUPR: 0.2924 | Acc: 89.60%\n",
      "model(criterion=entropy, n_estimators=100)\n",
      "Valid:         AUC: 0.8174 | AUPR: 0.2992 | Acc: 89.96%\n",
      "model(criterion=entropy, n_estimators=200)\n",
      "Valid:         AUC: 0.8163 | AUPR: 0.2976 | Acc: 89.94%\n",
      "=======================================================\n",
      "best model(criterion=log_loss, n_estimators=100)\n",
      "Valid:         AUC: 0.8174 | AUPR: 0.2992 | Acc: 89.96%\n",
      "Internal test: AUC: 0.8284 | AUPR: 0.3166 | Acc: 89.34%\n",
      "External test: AUC: 0.8125 | AUPR: 0.2840 | Acc: 88.61%\n"
     ]
    }
   ],
   "source": [
    "from sklearn.ensemble import RandomForestClassifier\n",
    "\n",
    "model_fn = functools.partial(\n",
    "    RandomForestClassifier, random_state=SEED, n_jobs=-1,\n",
    "    ccp_alpha=0.0, class_weight='balanced', max_depth=5, bootstrap=False)\n",
    "param_grid_list = [{\n",
    "        'criterion': ['gini', 'log_loss', 'entropy'],\n",
    "        'n_estimators': [50, 100, 200],\n",
    "    }\n",
    "]\n",
    "best_metrics, best_params, best_model = classification_dataset.perform_grid_search(model_fn, param_grid_list)\n",
    "metrics_internal, metrics_external = classification_dataset.evaluate_test_sets(best_model)"
   ]
  },
  {
   "cell_type": "code",
   "execution_count": 15,
   "metadata": {},
   "outputs": [
    {
     "name": "stdout",
     "output_type": "stream",
     "text": [
      "model(criterion=friedman_mse)\n",
      "Valid:         AUC: 0.7370 | AUPR: 0.3958 | Acc: 95.16%\n",
      "model(criterion=squared_error)\n",
      "Valid:         AUC: 0.7374 | AUPR: 0.3955 | Acc: 95.15%\n",
      "=======================================================\n",
      "best model(criterion=squared_error)\n",
      "Valid:         AUC: 0.7374 | AUPR: 0.3955 | Acc: 95.15%\n",
      "Internal test: AUC: 0.7385 | AUPR: 0.4275 | Acc: 95.13%\n",
      "External test: AUC: 0.7378 | AUPR: 0.4099 | Acc: 95.11%\n"
     ]
    }
   ],
   "source": [
    "from sklearn.ensemble import GradientBoostingClassifier\n",
    "\n",
    "model = functools.partial(\n",
    "    GradientBoostingClassifier, random_state=SEED,\n",
    "    learning_rate=0.1, max_depth=5, loss='log_loss', \n",
    "    n_estimators=100)\n",
    "param_grid_list = [{\n",
    "        'criterion': ['friedman_mse', 'squared_error'],\n",
    "    }\n",
    "]\n",
    "best_metrics, best_params, best_model = classification_dataset.perform_grid_search(model, param_grid_list)\n",
    "metrics_internal, metrics_external = classification_dataset.evaluate_test_sets(best_model)"
   ]
  },
  {
   "cell_type": "code",
   "execution_count": 16,
   "metadata": {},
   "outputs": [
    {
     "name": "stdout",
     "output_type": "stream",
     "text": [
      "model(n_estimators=100, learning_rate=1.0)\n",
      "Valid:         AUC: 0.7249 | AUPR: 0.3899 | Acc: 95.18%\n",
      "model(n_estimators=200, learning_rate=1.0)\n",
      "Valid:         AUC: 0.7248 | AUPR: 0.3891 | Acc: 95.18%\n",
      "model(n_estimators=500, learning_rate=1.0)\n",
      "Valid:         AUC: 0.7268 | AUPR: 0.3902 | Acc: 95.18%\n",
      "=======================================================\n",
      "best model(n_estimators=500, learning_rate=1.0)\n",
      "Valid:         AUC: 0.7268 | AUPR: 0.3902 | Acc: 95.18%\n",
      "Internal test: AUC: 0.7297 | AUPR: 0.4230 | Acc: 95.13%\n",
      "External test: AUC: 0.7105 | AUPR: 0.3605 | Acc: 94.68%\n"
     ]
    },
    {
     "ename": "",
     "evalue": "",
     "output_type": "error",
     "traceback": [
      "\u001b[1;31mThe Kernel crashed while executing code in the current cell or a previous cell. \n",
      "\u001b[1;31mPlease review the code in the cell(s) to identify a possible cause of the failure. \n",
      "\u001b[1;31mClick <a href='https://aka.ms/vscodeJupyterKernelCrash'>here</a> for more info. \n",
      "\u001b[1;31mView Jupyter <a href='command:jupyter.viewOutput'>log</a> for further details."
     ]
    }
   ],
   "source": [
    "from sklearn.ensemble import AdaBoostClassifier\n",
    "model = functools.partial(AdaBoostClassifier, random_state=SEED, algorithm=\"SAMME\")\n",
    "param_grid_list = [{\n",
    "    'n_estimators': [100, 200, 500],\n",
    "    'learning_rate': [1.0],\n",
    "}]\n",
    "best_metrics, best_params, best_model = classification_dataset.perform_grid_search(model, param_grid_list)\n",
    "metrics_internal, metrics_external = classification_dataset.evaluate_test_sets(best_model)"
   ]
  },
  {
   "cell_type": "code",
   "execution_count": null,
   "metadata": {},
   "outputs": [],
   "source": []
  }
 ],
 "metadata": {
  "kernelspec": {
   "display_name": "py310",
   "language": "python",
   "name": "python3"
  },
  "language_info": {
   "codemirror_mode": {
    "name": "ipython",
    "version": 3
   },
   "file_extension": ".py",
   "mimetype": "text/x-python",
   "name": "python",
   "nbconvert_exporter": "python",
   "pygments_lexer": "ipython3",
   "version": "3.10.13"
  }
 },
 "nbformat": 4,
 "nbformat_minor": 2
}
