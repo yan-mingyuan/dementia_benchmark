{
 "cells": [
  {
   "cell_type": "code",
   "execution_count": 1,
   "metadata": {},
   "outputs": [],
   "source": [
    "from config import *\n",
    "from utilities import get_model_name\n",
    "from dataset import ClassificationDataset\n",
    "\n",
    "import functools\n",
    "import numpy as np\n",
    "import pandas as pd\n",
    "\n",
    "results_dict = {}\n",
    "internal, external = 11, 12\n",
    "encode_method = \"dummy\"\n",
    "impute_method = \"itard\"\n",
    "fs_method, fs_ratio = \"fcls\", 0.5\n",
    "norm_method = \"maxmin\"\n",
    "classification_dataset = ClassificationDataset(\n",
    "    internal, external, encode_method, impute_method, fs_method, fs_ratio, norm_method, random_state=SEED)"
   ]
  },
  {
   "cell_type": "code",
   "execution_count": 2,
   "metadata": {},
   "outputs": [
    {
     "name": "stdout",
     "output_type": "stream",
     "text": [
      "SVC\n",
      "model(kernel=linear, C=0.01)\n",
      "Valid:         AUC: 0.9156 | AUPR: 0.6255 | Acc: 95.10%\n",
      "model(kernel=linear, C=0.1)\n",
      "Valid:         AUC: 0.9156 | AUPR: 0.6162 | Acc: 95.05%\n",
      "model(kernel=linear, C=1)\n",
      "Valid:         AUC: 0.9147 | AUPR: 0.6124 | Acc: 95.05%\n",
      "=======================================================\n",
      "best model(kernel=linear, C=0.01)\n",
      "Valid:         AUC: 0.9156 | AUPR: 0.6255 | Acc: 95.10%\n",
      "Internal test: AUC: 0.9248 | AUPR: 0.6716 | Acc: 95.04%\n",
      "External test: AUC: 0.9177 | AUPR: 0.6155 | Acc: 94.62%\n"
     ]
    }
   ],
   "source": [
    "from sklearn.svm import SVC\n",
    "\n",
    "model_fn = functools.partial(\n",
    "    SVC, random_state=SEED, probability=True,\n",
    "    class_weight='balanced')\n",
    "param_grid_list = [{\n",
    "    'kernel': ['linear'],\n",
    "    'C': [0.01, 0.1, 1],\n",
    "}]\n",
    "best_metrics, best_params, best_model = classification_dataset.perform_grid_search(model_fn, param_grid_list)\n",
    "metrics_internal, metrics_external = classification_dataset.evaluate_test_sets(best_model)\n",
    "results_dict[get_model_name(model_fn)] = np.concatenate([best_metrics, metrics_internal, metrics_external], axis=0)"
   ]
  },
  {
   "cell_type": "code",
   "execution_count": 3,
   "metadata": {},
   "outputs": [
    {
     "name": "stdout",
     "output_type": "stream",
     "text": [
      "KNeighborsClassifier\n",
      "model(n_neighbors=3)\n",
      "Valid:         AUC: 0.7635 | AUPR: 0.4310 | Acc: 94.72%\n",
      "model(n_neighbors=5)\n",
      "Valid:         AUC: 0.7856 | AUPR: 0.4816 | Acc: 95.11%\n",
      "model(n_neighbors=7)\n",
      "Valid:         AUC: 0.7989 | AUPR: 0.5042 | Acc: 95.06%\n",
      "=======================================================\n",
      "best model(n_neighbors=7)\n",
      "Valid:         AUC: 0.7989 | AUPR: 0.5042 | Acc: 95.06%\n",
      "Internal test: AUC: 0.8049 | AUPR: 0.5209 | Acc: 94.91%\n",
      "External test: AUC: 0.8101 | AUPR: 0.5102 | Acc: 94.91%\n"
     ]
    }
   ],
   "source": [
    "from sklearn.neighbors import KNeighborsClassifier\n",
    "\n",
    "model_fn = functools.partial(\n",
    "    KNeighborsClassifier, n_jobs=-1, algorithm='auto', p=2)\n",
    "param_grid_list = [{\n",
    "    'n_neighbors': [3, 5, 7],\n",
    "}]\n",
    "best_metrics, best_params, best_model = classification_dataset.perform_grid_search(model_fn, param_grid_list)\n",
    "metrics_internal, metrics_external = classification_dataset.evaluate_test_sets(best_model)\n",
    "results_dict[get_model_name(model_fn)] = np.concatenate([best_metrics, metrics_internal, metrics_external], axis=0)"
   ]
  },
  {
   "cell_type": "code",
   "execution_count": 4,
   "metadata": {},
   "outputs": [
    {
     "name": "stdout",
     "output_type": "stream",
     "text": [
      "GaussianNB\n",
      "model()\n",
      "Valid:         AUC: 0.8737 | AUPR: 0.4083 | Acc: 86.46%\n",
      "=======================================================\n",
      "best model()\n",
      "Valid:         AUC: 0.8737 | AUPR: 0.4083 | Acc: 86.46%\n",
      "Internal test: AUC: 0.8834 | AUPR: 0.4362 | Acc: 86.28%\n",
      "External test: AUC: 0.8704 | AUPR: 0.3873 | Acc: 84.86%\n"
     ]
    }
   ],
   "source": [
    "from sklearn.naive_bayes import GaussianNB\n",
    "\n",
    "model_fn = GaussianNB\n",
    "param_grid_list = [{}]\n",
    "best_metrics, best_params, best_model = classification_dataset.perform_grid_search(model_fn, param_grid_list)\n",
    "metrics_internal, metrics_external = classification_dataset.evaluate_test_sets(best_model)\n",
    "results_dict[get_model_name(model_fn)] = np.concatenate([best_metrics, metrics_internal, metrics_external], axis=0)"
   ]
  },
  {
   "cell_type": "code",
   "execution_count": 5,
   "metadata": {},
   "outputs": [
    {
     "name": "stdout",
     "output_type": "stream",
     "text": [
      "LogisticRegression\n",
      "model(C=1.0)\n",
      "Valid:         AUC: 0.9165 | AUPR: 0.6508 | Acc: 95.33%\n",
      "model(C=10.0)\n",
      "Valid:         AUC: 0.9161 | AUPR: 0.6496 | Acc: 95.31%\n",
      "model(C=100.0)\n",
      "Valid:         AUC: 0.9157 | AUPR: 0.6492 | Acc: 95.32%\n",
      "=======================================================\n",
      "best model(C=1.0)\n",
      "Valid:         AUC: 0.9165 | AUPR: 0.6508 | Acc: 95.33%\n",
      "Internal test: AUC: 0.9252 | AUPR: 0.6972 | Acc: 95.33%\n",
      "External test: AUC: 0.9158 | AUPR: 0.6407 | Acc: 94.88%\n"
     ]
    }
   ],
   "source": [
    "# from sklearn.exceptions import ConvergenceWarning\n",
    "# import warnings\n",
    "# warnings.filterwarnings(\"ignore\", category=ConvergenceWarning)\n",
    "from sklearn.linear_model import LogisticRegression\n",
    "\n",
    "model_fn = functools.partial(\n",
    "    LogisticRegression, random_state=SEED, n_jobs=-1, \n",
    "    max_iter=2000, solver='saga', penalty='l2',\n",
    "    )\n",
    "param_grid_list = [{\n",
    "    'C': [1.0, 10.0, 100.0],\n",
    "}]\n",
    "best_metrics, best_params, best_model = classification_dataset.perform_grid_search(\n",
    "    model_fn, param_grid_list)\n",
    "metrics_internal, metrics_external = classification_dataset.evaluate_test_sets(\n",
    "    best_model)\n",
    "results_dict[get_model_name(model_fn)] = np.concatenate([best_metrics, metrics_internal, metrics_external], axis=0)"
   ]
  },
  {
   "cell_type": "code",
   "execution_count": 6,
   "metadata": {},
   "outputs": [
    {
     "name": "stdout",
     "output_type": "stream",
     "text": [
      "MLPClassifier\n",
      "model(hidden_layer_sizes=(50, 50), learning_rate_init=0.0003)\n",
      "Valid:         AUC: 0.9074 | AUPR: 0.6311 | Acc: 95.36%\n",
      "model(hidden_layer_sizes=(50, 50), learning_rate_init=0.001)\n",
      "Valid:         AUC: 0.9161 | AUPR: 0.6550 | Acc: 95.35%\n",
      "=======================================================\n",
      "best model(hidden_layer_sizes=(50, 50), learning_rate_init=0.001)\n",
      "Valid:         AUC: 0.9161 | AUPR: 0.6550 | Acc: 95.35%\n",
      "Internal test: AUC: 0.9266 | AUPR: 0.6906 | Acc: 95.28%\n",
      "External test: AUC: 0.9172 | AUPR: 0.6459 | Acc: 95.02%\n"
     ]
    }
   ],
   "source": [
    "from sklearn.neural_network import MLPClassifier\n",
    "\n",
    "model_fn = functools.partial(\n",
    "    MLPClassifier, random_state=SEED, max_iter=1000,\n",
    "    activation='relu',\n",
    "    solver='sgd', nesterovs_momentum=True, momentum=0.9)\n",
    "param_grid_list = [{\n",
    "    # 'hidden_layer_sizes': [(100,), (50, 50), (50, 100, 50)],\n",
    "    'hidden_layer_sizes': [(50, 50)],\n",
    "    'learning_rate_init': [0.0003, 0.001],\n",
    "}]\n",
    "best_metrics, best_params, best_model = classification_dataset.perform_grid_search(model_fn, param_grid_list)\n",
    "metrics_internal, metrics_external = classification_dataset.evaluate_test_sets(best_model)\n",
    "results_dict[get_model_name(model_fn)] = np.concatenate([best_metrics, metrics_internal, metrics_external], axis=0)"
   ]
  },
  {
   "cell_type": "code",
   "execution_count": 7,
   "metadata": {},
   "outputs": [
    {
     "name": "stdout",
     "output_type": "stream",
     "text": [
      "DecisionTreeClassifier\n",
      "model(criterion=gini)\n",
      "Valid:         AUC: 0.8732 | AUPR: 0.5588 | Acc: 84.16%\n",
      "model(criterion=log_loss)\n",
      "Valid:         AUC: 0.8623 | AUPR: 0.5623 | Acc: 82.94%\n",
      "model(criterion=entropy)\n",
      "Valid:         AUC: 0.8623 | AUPR: 0.5623 | Acc: 82.94%\n",
      "=======================================================\n",
      "best model(criterion=gini)\n",
      "Valid:         AUC: 0.8732 | AUPR: 0.5588 | Acc: 84.16%\n",
      "Internal test: AUC: 0.8698 | AUPR: 0.6080 | Acc: 83.65%\n",
      "External test: AUC: 0.8727 | AUPR: 0.5708 | Acc: 82.92%\n"
     ]
    }
   ],
   "source": [
    "from sklearn.tree import DecisionTreeClassifier\n",
    "\n",
    "model_fn = functools.partial(\n",
    "    DecisionTreeClassifier, random_state=SEED,\n",
    "    ccp_alpha=0.0, class_weight='balanced', max_depth=5)\n",
    "param_grid_list = [{\n",
    "        'criterion': ['gini', 'log_loss', 'entropy'],\n",
    "    }\n",
    "]\n",
    "best_metrics, best_params, best_model = classification_dataset.perform_grid_search(model_fn, param_grid_list)\n",
    "metrics_internal, metrics_external = classification_dataset.evaluate_test_sets(best_model)\n",
    "results_dict[get_model_name(model_fn)] = np.concatenate([best_metrics, metrics_internal, metrics_external], axis=0)"
   ]
  },
  {
   "cell_type": "code",
   "execution_count": 8,
   "metadata": {},
   "outputs": [
    {
     "name": "stdout",
     "output_type": "stream",
     "text": [
      "RandomForestClassifier\n",
      "model(criterion=gini, n_estimators=50)\n",
      "Valid:         AUC: 0.9143 | AUPR: 0.6530 | Acc: 89.55%\n",
      "model(criterion=gini, n_estimators=100)\n",
      "Valid:         AUC: 0.9156 | AUPR: 0.6567 | Acc: 90.05%\n",
      "model(criterion=gini, n_estimators=200)\n",
      "Valid:         AUC: 0.9161 | AUPR: 0.6580 | Acc: 90.08%\n",
      "model(criterion=log_loss, n_estimators=50)\n",
      "Valid:         AUC: 0.9126 | AUPR: 0.6553 | Acc: 89.71%\n",
      "model(criterion=log_loss, n_estimators=100)\n",
      "Valid:         AUC: 0.9147 | AUPR: 0.6578 | Acc: 90.08%\n",
      "model(criterion=log_loss, n_estimators=200)\n",
      "Valid:         AUC: 0.9158 | AUPR: 0.6595 | Acc: 90.34%\n",
      "model(criterion=entropy, n_estimators=50)\n",
      "Valid:         AUC: 0.9126 | AUPR: 0.6553 | Acc: 89.71%\n",
      "model(criterion=entropy, n_estimators=100)\n",
      "Valid:         AUC: 0.9147 | AUPR: 0.6578 | Acc: 90.08%\n",
      "model(criterion=entropy, n_estimators=200)\n",
      "Valid:         AUC: 0.9158 | AUPR: 0.6595 | Acc: 90.34%\n",
      "=======================================================\n",
      "best model(criterion=gini, n_estimators=200)\n",
      "Valid:         AUC: 0.9161 | AUPR: 0.6580 | Acc: 90.08%\n",
      "Internal test: AUC: 0.9233 | AUPR: 0.7014 | Acc: 90.22%\n",
      "External test: AUC: 0.9139 | AUPR: 0.6553 | Acc: 89.19%\n"
     ]
    }
   ],
   "source": [
    "from sklearn.ensemble import RandomForestClassifier\n",
    "\n",
    "model_fn = functools.partial(\n",
    "    RandomForestClassifier, random_state=SEED, n_jobs=-1,\n",
    "    ccp_alpha=0.0, class_weight='balanced', max_depth=5, bootstrap=False)\n",
    "param_grid_list = [{\n",
    "        'criterion': ['gini', 'log_loss', 'entropy'],\n",
    "        'n_estimators': [50, 100, 200],\n",
    "    }\n",
    "]\n",
    "best_metrics, best_params, best_model = classification_dataset.perform_grid_search(model_fn, param_grid_list)\n",
    "metrics_internal, metrics_external = classification_dataset.evaluate_test_sets(best_model)\n",
    "results_dict[get_model_name(model_fn)] = np.concatenate([best_metrics, metrics_internal, metrics_external], axis=0)"
   ]
  },
  {
   "cell_type": "code",
   "execution_count": 9,
   "metadata": {},
   "outputs": [
    {
     "name": "stdout",
     "output_type": "stream",
     "text": [
      "GradientBoostingClassifier\n",
      "model(criterion=friedman_mse)\n",
      "Valid:         AUC: 0.9191 | AUPR: 0.6578 | Acc: 95.15%\n",
      "model(criterion=squared_error)\n",
      "Valid:         AUC: 0.9191 | AUPR: 0.6578 | Acc: 95.16%\n",
      "=======================================================\n",
      "best model(criterion=friedman_mse)\n",
      "Valid:         AUC: 0.9191 | AUPR: 0.6578 | Acc: 95.15%\n",
      "Internal test: AUC: 0.9274 | AUPR: 0.6959 | Acc: 95.18%\n",
      "External test: AUC: 0.9208 | AUPR: 0.6587 | Acc: 94.95%\n"
     ]
    }
   ],
   "source": [
    "from sklearn.ensemble import GradientBoostingClassifier\n",
    "\n",
    "model = functools.partial(\n",
    "    GradientBoostingClassifier, random_state=SEED,\n",
    "    learning_rate=0.1, max_depth=5, loss='log_loss', \n",
    "    n_estimators=100)\n",
    "param_grid_list = [{\n",
    "        'criterion': ['friedman_mse', 'squared_error'],\n",
    "    }\n",
    "]\n",
    "best_metrics, best_params, best_model = classification_dataset.perform_grid_search(model, param_grid_list)\n",
    "metrics_internal, metrics_external = classification_dataset.evaluate_test_sets(best_model)\n",
    "results_dict[get_model_name(model_fn)] = np.concatenate([best_metrics, metrics_internal, metrics_external], axis=0)"
   ]
  },
  {
   "cell_type": "code",
   "execution_count": 10,
   "metadata": {},
   "outputs": [
    {
     "name": "stdout",
     "output_type": "stream",
     "text": [
      "AdaBoostClassifier\n",
      "model(n_estimators=100, learning_rate=1.0)\n",
      "Valid:         AUC: 0.9173 | AUPR: 0.6505 | Acc: 95.30%\n",
      "model(n_estimators=200, learning_rate=1.0)\n",
      "Valid:         AUC: 0.9173 | AUPR: 0.6503 | Acc: 95.28%\n",
      "model(n_estimators=500, learning_rate=1.0)\n",
      "Valid:         AUC: 0.9174 | AUPR: 0.6509 | Acc: 95.33%\n",
      "=======================================================\n",
      "best model(n_estimators=500, learning_rate=1.0)\n",
      "Valid:         AUC: 0.9174 | AUPR: 0.6509 | Acc: 95.33%\n",
      "Internal test: AUC: 0.9187 | AUPR: 0.6766 | Acc: 95.18%\n",
      "External test: AUC: 0.9132 | AUPR: 0.6289 | Acc: 94.84%\n"
     ]
    }
   ],
   "source": [
    "from sklearn.ensemble import AdaBoostClassifier\n",
    "model = functools.partial(AdaBoostClassifier, random_state=SEED, algorithm=\"SAMME\")\n",
    "param_grid_list = [{\n",
    "    'n_estimators': [100, 200, 500],\n",
    "    'learning_rate': [1.0],\n",
    "}]\n",
    "best_metrics, best_params, best_model = classification_dataset.perform_grid_search(model, param_grid_list)\n",
    "metrics_internal, metrics_external = classification_dataset.evaluate_test_sets(best_model)\n",
    "results_dict[get_model_name(model_fn)] = np.concatenate([best_metrics, metrics_internal, metrics_external], axis=0)"
   ]
  },
  {
   "cell_type": "code",
   "execution_count": 11,
   "metadata": {},
   "outputs": [],
   "source": [
    "dataframe = pd.DataFrame(results_dict).transpose().reset_index()\n",
    "dataframe.columns = ['model', 'val_auc', 'val_aupr', 'val_acc', 'intest_auc', 'intest_aupr', 'intest_acc', 'extest_auc', 'extest_aupr', 'extest_acc']\n",
    "# dataframe.to_csv()\n",
    "filename = os.path.join(RESULTS_DIR, encode_method, impute_method, f'{fs_method}{int(fs_ratio * 142)}.csv')\n",
    "dirname = os.path.dirname(filename)\n",
    "if not os.path.exists(dirname):\n",
    "    os.makedirs(dirname)\n",
    "dataframe.to_csv(filename, index=False)"
   ]
  },
  {
   "cell_type": "code",
   "execution_count": null,
   "metadata": {},
   "outputs": [],
   "source": []
  }
 ],
 "metadata": {
  "kernelspec": {
   "display_name": "py310",
   "language": "python",
   "name": "python3"
  },
  "language_info": {
   "codemirror_mode": {
    "name": "ipython",
    "version": 3
   },
   "file_extension": ".py",
   "mimetype": "text/x-python",
   "name": "python",
   "nbconvert_exporter": "python",
   "pygments_lexer": "ipython3",
   "version": "3.10.13"
  }
 },
 "nbformat": 4,
 "nbformat_minor": 2
}
