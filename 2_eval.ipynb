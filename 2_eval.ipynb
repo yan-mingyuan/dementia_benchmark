{
 "cells": [
  {
   "cell_type": "code",
   "execution_count": 1,
   "metadata": {},
   "outputs": [],
   "source": [
    "from config import *\n",
    "from dataset import ClassificationDataset\n",
    "\n",
    "import functools\n",
    "\n",
    "\n",
    "internal, external = 11, 12\n",
    "encode_method = \"dummy\"\n",
    "impute_method = \"mode\"\n",
    "classification_dataset = ClassificationDataset(\n",
    "    internal, external, encode_method, impute_method, SEED)"
   ]
  },
  {
   "cell_type": "code",
   "execution_count": 2,
   "metadata": {},
   "outputs": [
    {
     "name": "stdout",
     "output_type": "stream",
     "text": [
      "model()\n",
      "Valid:         AUC: 0.7863 | AUPR: 0.2096 | Acc: 82.72%\n",
      "=======================================================\n",
      "best model()\n",
      "Valid:         AUC: 0.7863 | AUPR: 0.2096 | Acc: 82.72%\n",
      "Internal test: AUC: 0.8049 | AUPR: 0.2132 | Acc: 79.08%\n",
      "External test: AUC: 0.7900 | AUPR: 0.1912 | Acc: 77.29%\n"
     ]
    }
   ],
   "source": [
    "from sklearn.naive_bayes import GaussianNB\n",
    "\n",
    "model_fn = GaussianNB\n",
    "param_grid_list = [{}]\n",
    "best_metrics, best_params, best_model = classification_dataset.perform_grid_search(model_fn, param_grid_list)\n",
    "metrics_internal, metrics_external = classification_dataset.evaluate_test_sets(best_model)"
   ]
  },
  {
   "cell_type": "code",
   "execution_count": 3,
   "metadata": {},
   "outputs": [
    {
     "name": "stdout",
     "output_type": "stream",
     "text": [
      "model()\n",
      "Valid:         AUC: 0.7606 | AUPR: 0.1803 | Acc: 80.94%\n",
      "=======================================================\n",
      "best model()\n",
      "Valid:         AUC: 0.7606 | AUPR: 0.1803 | Acc: 80.94%\n",
      "Internal test: AUC: 0.7637 | AUPR: 0.1948 | Acc: 80.90%\n",
      "External test: AUC: 0.7572 | AUPR: 0.1788 | Acc: 79.30%\n"
     ]
    }
   ],
   "source": [
    "from sklearn.naive_bayes import ComplementNB\n",
    "\n",
    "model_fn = ComplementNB\n",
    "param_grid_list = [{}]\n",
    "best_metrics, best_params, best_model = classification_dataset.perform_grid_search(model_fn, param_grid_list)\n",
    "metrics_internal, metrics_external = classification_dataset.evaluate_test_sets(best_model)"
   ]
  },
  {
   "cell_type": "code",
   "execution_count": 4,
   "metadata": {},
   "outputs": [
    {
     "name": "stdout",
     "output_type": "stream",
     "text": [
      "model(p=1)\n",
      "Valid:         AUC: 0.6897 | AUPR: 0.2591 | Acc: 93.31%\n",
      "model(p=2)\n",
      "Valid:         AUC: 0.6870 | AUPR: 0.2519 | Acc: 93.17%\n",
      "=======================================================\n",
      "best model(p=1)\n",
      "Valid:         AUC: 0.6897 | AUPR: 0.2591 | Acc: 93.31%\n",
      "Internal test: AUC: 0.6913 | AUPR: 0.2901 | Acc: 93.43%\n",
      "External test: AUC: 0.7220 | AUPR: 0.3231 | Acc: 93.85%\n"
     ]
    }
   ],
   "source": [
    "from sklearn.neighbors import KNeighborsClassifier\n",
    "\n",
    "model_fn = functools.partial(\n",
    "    KNeighborsClassifier, n_jobs=-1, algorithm='auto',\n",
    "    n_neighbors=1, )\n",
    "param_grid_list = [{\n",
    "    'p': [1, 2],\n",
    "}]\n",
    "best_metrics, best_params, best_model = classification_dataset.perform_grid_search(model_fn, param_grid_list)\n",
    "metrics_internal, metrics_external = classification_dataset.evaluate_test_sets(best_model)"
   ]
  },
  {
   "cell_type": "code",
   "execution_count": 5,
   "metadata": {},
   "outputs": [
    {
     "name": "stdout",
     "output_type": "stream",
     "text": [
      "model(C=1.0)\n",
      "Valid:         AUC: 0.7361 | AUPR: 0.4096 | Acc: 95.34%\n",
      "model(C=10.0)\n",
      "Valid:         AUC: 0.7391 | AUPR: 0.4156 | Acc: 95.39%\n",
      "model(C=100.0)\n",
      "Valid:         AUC: 0.7391 | AUPR: 0.4147 | Acc: 95.38%\n",
      "=======================================================\n",
      "best model(C=10.0)\n",
      "Valid:         AUC: 0.7391 | AUPR: 0.4156 | Acc: 95.39%\n",
      "Internal test: AUC: 0.7437 | AUPR: 0.4421 | Acc: 95.28%\n",
      "External test: AUC: 0.7235 | AUPR: 0.3739 | Acc: 94.74%\n"
     ]
    }
   ],
   "source": [
    "# from sklearn.exceptions import ConvergenceWarning\n",
    "# import warnings\n",
    "# warnings.filterwarnings(\"ignore\", category=ConvergenceWarning)\n",
    "from sklearn.linear_model import LogisticRegression\n",
    "\n",
    "model_fn = functools.partial(\n",
    "    LogisticRegression, random_state=SEED, n_jobs=-1, \n",
    "    max_iter=2000, solver='saga', penalty='l2',\n",
    "    )\n",
    "param_grid_list = [{\n",
    "    'C': [1.0, 10.0, 100.0],\n",
    "}]\n",
    "best_metrics, best_params, best_model = classification_dataset.perform_grid_search(\n",
    "    model_fn, param_grid_list)\n",
    "metrics_internal, metrics_external = classification_dataset.evaluate_test_sets(\n",
    "    best_model)"
   ]
  },
  {
   "cell_type": "code",
   "execution_count": 6,
   "metadata": {},
   "outputs": [
    {
     "name": "stdout",
     "output_type": "stream",
     "text": [
      "model(C=0.01)\n",
      "Valid:         AUC: 0.8376 | AUPR: 0.2687 | Acc: 86.28%\n",
      "model(C=0.1)\n",
      "Valid:         AUC: 0.8400 | AUPR: 0.2666 | Acc: 85.84%\n",
      "model(C=1)\n",
      "Valid:         AUC: 0.8385 | AUPR: 0.2650 | Acc: 85.80%\n",
      "=======================================================\n",
      "best model(C=0.1)\n",
      "Valid:         AUC: 0.8400 | AUPR: 0.2666 | Acc: 85.84%\n",
      "Internal test: AUC: 0.8419 | AUPR: 0.2878 | Acc: 86.18%\n",
      "External test: AUC: 0.8399 | AUPR: 0.2644 | Acc: 84.67%\n"
     ]
    }
   ],
   "source": [
    "from sklearn.svm import SVC\n",
    "\n",
    "model_fn = functools.partial(\n",
    "    SVC, random_state=SEED, \n",
    "    class_weight='balanced', kernel='linear',\n",
    "    )\n",
    "param_grid_list = [{\n",
    "    'C': [0.01, 0.1, 1],\n",
    "}]\n",
    "best_metrics, best_params, best_model = classification_dataset.perform_grid_search(model_fn, param_grid_list)\n",
    "metrics_internal, metrics_external = classification_dataset.evaluate_test_sets(best_model)"
   ]
  },
  {
   "cell_type": "code",
   "execution_count": 7,
   "metadata": {},
   "outputs": [],
   "source": [
    "# from sklearn.neural_network import MLPClassifier\n",
    "\n",
    "# model_fn = functools.partial(MLPClassifier, random_state=SEED, max_iter=1000)\n",
    "# param_grid_list = [{\n",
    "#     'hidden_layer_sizes': [(100,), (50, 50), (50, 100, 50)],\n",
    "#     'activation': ['logistic', 'relu'],\n",
    "#     'solver': ['adam', 'sgd'],\n",
    "#     'alpha': [0.0001, 0.001, 0.01],\n",
    "# }]\n",
    "# best_metrics, best_params, best_model = classification_dataset.perform_grid_search(model_fn, param_grid_list)\n",
    "# metrics_internal, metrics_external = classification_dataset.evaluate_test_sets(best_model)"
   ]
  },
  {
   "cell_type": "code",
   "execution_count": 8,
   "metadata": {},
   "outputs": [
    {
     "name": "stdout",
     "output_type": "stream",
     "text": [
      "model(criterion=gini)\n",
      "Valid:         AUC: 0.7825 | AUPR: 0.2105 | Acc: 82.47%\n",
      "model(criterion=log_loss)\n",
      "Valid:         AUC: 0.7951 | AUPR: 0.1886 | Acc: 77.28%\n",
      "model(criterion=entropy)\n",
      "Valid:         AUC: 0.7951 | AUPR: 0.1886 | Acc: 77.28%\n",
      "=======================================================\n",
      "best model(criterion=log_loss)\n",
      "Valid:         AUC: 0.7951 | AUPR: 0.1886 | Acc: 77.28%\n",
      "Internal test: AUC: 0.7855 | AUPR: 0.1930 | Acc: 76.84%\n",
      "External test: AUC: 0.8012 | AUPR: 0.1966 | Acc: 76.96%\n"
     ]
    }
   ],
   "source": [
    "from sklearn.tree import DecisionTreeClassifier\n",
    "\n",
    "model_fn = functools.partial(\n",
    "    DecisionTreeClassifier, random_state=SEED,\n",
    "    ccp_alpha=0.0, class_weight='balanced', max_depth=5)\n",
    "param_grid_list = [{\n",
    "        'criterion': ['gini', 'log_loss', 'entropy'],\n",
    "    }\n",
    "]\n",
    "best_metrics, best_params, best_model = classification_dataset.perform_grid_search(model_fn, param_grid_list)\n",
    "metrics_internal, metrics_external = classification_dataset.evaluate_test_sets(best_model)"
   ]
  },
  {
   "cell_type": "code",
   "execution_count": 9,
   "metadata": {},
   "outputs": [
    {
     "name": "stdout",
     "output_type": "stream",
     "text": [
      "model(criterion=gini, n_estimators=50)\n",
      "Valid:         AUC: 0.8110 | AUPR: 0.2706 | Acc: 88.37%\n",
      "model(criterion=gini, n_estimators=100)\n",
      "Valid:         AUC: 0.8084 | AUPR: 0.2692 | Acc: 88.39%\n",
      "model(criterion=gini, n_estimators=200)\n",
      "Valid:         AUC: 0.8108 | AUPR: 0.2709 | Acc: 88.39%\n",
      "model(criterion=log_loss, n_estimators=50)\n",
      "Valid:         AUC: 0.8094 | AUPR: 0.2737 | Acc: 88.70%\n",
      "model(criterion=log_loss, n_estimators=100)\n",
      "Valid:         AUC: 0.8100 | AUPR: 0.2740 | Acc: 88.67%\n",
      "model(criterion=log_loss, n_estimators=200)\n",
      "Valid:         AUC: 0.8150 | AUPR: 0.2817 | Acc: 88.93%\n",
      "model(criterion=entropy, n_estimators=50)\n",
      "Valid:         AUC: 0.8094 | AUPR: 0.2737 | Acc: 88.70%\n",
      "model(criterion=entropy, n_estimators=100)\n",
      "Valid:         AUC: 0.8100 | AUPR: 0.2740 | Acc: 88.67%\n",
      "model(criterion=entropy, n_estimators=200)\n",
      "Valid:         AUC: 0.8150 | AUPR: 0.2817 | Acc: 88.93%\n",
      "=======================================================\n",
      "best model(criterion=log_loss, n_estimators=200)\n",
      "Valid:         AUC: 0.8150 | AUPR: 0.2817 | Acc: 88.93%\n",
      "Internal test: AUC: 0.8210 | AUPR: 0.2945 | Acc: 88.25%\n",
      "External test: AUC: 0.8087 | AUPR: 0.2610 | Acc: 86.92%\n"
     ]
    }
   ],
   "source": [
    "from sklearn.ensemble import RandomForestClassifier\n",
    "\n",
    "model_fn = functools.partial(\n",
    "    RandomForestClassifier, random_state=SEED, n_jobs=-1,\n",
    "    ccp_alpha=0.0, class_weight='balanced', max_depth=5, bootstrap=False)\n",
    "param_grid_list = [{\n",
    "        'criterion': ['gini', 'log_loss', 'entropy'],\n",
    "        'n_estimators': [50, 100, 200],\n",
    "    }\n",
    "]\n",
    "best_metrics, best_params, best_model = classification_dataset.perform_grid_search(model_fn, param_grid_list)\n",
    "metrics_internal, metrics_external = classification_dataset.evaluate_test_sets(best_model)"
   ]
  },
  {
   "cell_type": "code",
   "execution_count": 10,
   "metadata": {},
   "outputs": [
    {
     "name": "stdout",
     "output_type": "stream",
     "text": [
      "model(criterion=friedman_mse)\n",
      "Valid:         AUC: 0.7353 | AUPR: 0.3996 | Acc: 95.22%\n",
      "model(criterion=squared_error)\n",
      "Valid:         AUC: 0.7354 | AUPR: 0.4005 | Acc: 95.23%\n",
      "=======================================================\n",
      "best model(criterion=squared_error)\n",
      "Valid:         AUC: 0.7354 | AUPR: 0.4005 | Acc: 95.23%\n",
      "Internal test: AUC: 0.7417 | AUPR: 0.4331 | Acc: 95.18%\n",
      "External test: AUC: 0.7439 | AUPR: 0.4153 | Acc: 95.13%\n"
     ]
    }
   ],
   "source": [
    "from sklearn.ensemble import GradientBoostingClassifier\n",
    "\n",
    "model = functools.partial(\n",
    "    GradientBoostingClassifier, random_state=SEED,\n",
    "    learning_rate=0.1, max_depth=5, loss='log_loss', \n",
    "    n_estimators=100)\n",
    "param_grid_list = [{\n",
    "        'criterion': ['friedman_mse', 'squared_error'],\n",
    "    }\n",
    "]\n",
    "best_metrics, best_params, best_model = classification_dataset.perform_grid_search(model, param_grid_list)\n",
    "metrics_internal, metrics_external = classification_dataset.evaluate_test_sets(best_model)"
   ]
  },
  {
   "cell_type": "code",
   "execution_count": 11,
   "metadata": {},
   "outputs": [
    {
     "name": "stdout",
     "output_type": "stream",
     "text": [
      "model(n_estimators=100, learning_rate=1.0)\n",
      "Valid:         AUC: 0.7259 | AUPR: 0.3761 | Acc: 94.99%\n"
     ]
    },
    {
     "name": "stdout",
     "output_type": "stream",
     "text": [
      "model(n_estimators=200, learning_rate=1.0)\n",
      "Valid:         AUC: 0.7308 | AUPR: 0.3903 | Acc: 95.13%\n",
      "model(n_estimators=500, learning_rate=1.0)\n",
      "Valid:         AUC: 0.7289 | AUPR: 0.3810 | Acc: 95.02%\n",
      "=======================================================\n",
      "best model(n_estimators=200, learning_rate=1.0)\n",
      "Valid:         AUC: 0.7308 | AUPR: 0.3903 | Acc: 95.13%\n",
      "Internal test: AUC: 0.7410 | AUPR: 0.4232 | Acc: 95.06%\n",
      "External test: AUC: 0.7234 | AUPR: 0.3644 | Acc: 94.60%\n"
     ]
    }
   ],
   "source": [
    "from sklearn.ensemble import AdaBoostClassifier\n",
    "model = functools.partial(AdaBoostClassifier, random_state=SEED, algorithm=\"SAMME\")\n",
    "param_grid_list = [{\n",
    "    'n_estimators': [100, 200, 500],\n",
    "    'learning_rate': [1.0],\n",
    "}]\n",
    "best_metrics, best_params, best_model = classification_dataset.perform_grid_search(model, param_grid_list)\n",
    "metrics_internal, metrics_external = classification_dataset.evaluate_test_sets(best_model)"
   ]
  },
  {
   "cell_type": "code",
   "execution_count": null,
   "metadata": {},
   "outputs": [],
   "source": []
  }
 ],
 "metadata": {
  "kernelspec": {
   "display_name": "py310",
   "language": "python",
   "name": "python3"
  },
  "language_info": {
   "codemirror_mode": {
    "name": "ipython",
    "version": 3
   },
   "file_extension": ".py",
   "mimetype": "text/x-python",
   "name": "python",
   "nbconvert_exporter": "python",
   "pygments_lexer": "ipython3",
   "version": "3.10.13"
  }
 },
 "nbformat": 4,
 "nbformat_minor": 2
}
