{
 "cells": [
  {
   "cell_type": "code",
   "execution_count": 1,
   "metadata": {},
   "outputs": [],
   "source": [
    "from config import *\n",
    "from dataset import ClassificationDataset\n",
    "\n",
    "import functools\n",
    "import warnings\n",
    "from sklearn.exceptions import ConvergenceWarning\n",
    "\n",
    "internal, external = 11, 12\n",
    "encode_method = \"dummy\"\n",
    "impute_method = \"itlsvm\"\n",
    "fs_method, fs_ratio = \"fcls\", 0.5\n",
    "norm_method = \"maxmin\"\n",
    "warnings.filterwarnings(\"ignore\", category=ConvergenceWarning)\n",
    "classification_dataset = ClassificationDataset(\n",
    "    internal, external, encode_method, impute_method, fs_method, fs_ratio, norm_method, random_state=SEED)\n",
    "warnings.resetwarnings()"
   ]
  },
  {
   "cell_type": "code",
   "execution_count": 2,
   "metadata": {},
   "outputs": [
    {
     "name": "stdout",
     "output_type": "stream",
     "text": [
      "model()\n",
      "Valid:         AUC: 0.7884 | AUPR: 0.2308 | Acc: 86.26%\n",
      "=======================================================\n",
      "best model()\n",
      "Valid:         AUC: 0.7884 | AUPR: 0.2308 | Acc: 86.26%\n",
      "Internal test: AUC: 0.7968 | AUPR: 0.2521 | Acc: 86.20%\n",
      "External test: AUC: 0.7816 | AUPR: 0.2210 | Acc: 84.62%\n"
     ]
    }
   ],
   "source": [
    "from sklearn.naive_bayes import GaussianNB\n",
    "\n",
    "model_fn = GaussianNB\n",
    "param_grid_list = [{}]\n",
    "best_metrics, best_params, best_model = classification_dataset.perform_grid_search(model_fn, param_grid_list)\n",
    "metrics_internal, metrics_external = classification_dataset.evaluate_test_sets(best_model)"
   ]
  },
  {
   "cell_type": "code",
   "execution_count": 3,
   "metadata": {},
   "outputs": [
    {
     "name": "stdout",
     "output_type": "stream",
     "text": [
      "model()\n",
      "Valid:         AUC: 0.7678 | AUPR: 0.1903 | Acc: 82.18%\n",
      "=======================================================\n",
      "best model()\n",
      "Valid:         AUC: 0.7678 | AUPR: 0.1903 | Acc: 82.18%\n",
      "Internal test: AUC: 0.7697 | AUPR: 0.2040 | Acc: 82.02%\n",
      "External test: AUC: 0.7611 | AUPR: 0.1864 | Acc: 80.70%\n"
     ]
    }
   ],
   "source": [
    "from sklearn.naive_bayes import ComplementNB\n",
    "\n",
    "model_fn = ComplementNB\n",
    "param_grid_list = [{}]\n",
    "best_metrics, best_params, best_model = classification_dataset.perform_grid_search(model_fn, param_grid_list)\n",
    "metrics_internal, metrics_external = classification_dataset.evaluate_test_sets(best_model)"
   ]
  },
  {
   "cell_type": "code",
   "execution_count": 4,
   "metadata": {},
   "outputs": [
    {
     "name": "stdout",
     "output_type": "stream",
     "text": [
      "model(p=1)\n",
      "Valid:         AUC: 0.6908 | AUPR: 0.2578 | Acc: 93.24%\n",
      "model(p=2)\n",
      "Valid:         AUC: 0.6948 | AUPR: 0.2605 | Acc: 93.20%\n",
      "=======================================================\n",
      "best model(p=2)\n",
      "Valid:         AUC: 0.6948 | AUPR: 0.2605 | Acc: 93.20%\n",
      "Internal test: AUC: 0.6999 | AUPR: 0.2861 | Acc: 93.14%\n",
      "External test: AUC: 0.6965 | AUPR: 0.2738 | Acc: 93.20%\n"
     ]
    }
   ],
   "source": [
    "from sklearn.neighbors import KNeighborsClassifier\n",
    "\n",
    "model_fn = functools.partial(\n",
    "    KNeighborsClassifier, n_jobs=-1, algorithm='auto',\n",
    "    n_neighbors=1, )\n",
    "param_grid_list = [{\n",
    "    'p': [1, 2],\n",
    "}]\n",
    "best_metrics, best_params, best_model = classification_dataset.perform_grid_search(model_fn, param_grid_list)\n",
    "metrics_internal, metrics_external = classification_dataset.evaluate_test_sets(best_model)"
   ]
  },
  {
   "cell_type": "code",
   "execution_count": 5,
   "metadata": {},
   "outputs": [
    {
     "name": "stdout",
     "output_type": "stream",
     "text": [
      "model(C=1.0)\n",
      "Valid:         AUC: 0.7264 | AUPR: 0.3967 | Acc: 95.26%\n",
      "model(C=10.0)\n",
      "Valid:         AUC: 0.7283 | AUPR: 0.3965 | Acc: 95.24%\n",
      "model(C=100.0)\n",
      "Valid:         AUC: 0.7296 | AUPR: 0.3989 | Acc: 95.26%\n",
      "=======================================================\n",
      "best model(C=100.0)\n",
      "Valid:         AUC: 0.7296 | AUPR: 0.3989 | Acc: 95.26%\n",
      "Internal test: AUC: 0.7338 | AUPR: 0.4442 | Acc: 95.35%\n",
      "External test: AUC: 0.7145 | AUPR: 0.3685 | Acc: 94.75%\n"
     ]
    }
   ],
   "source": [
    "# from sklearn.exceptions import ConvergenceWarning\n",
    "# import warnings\n",
    "# warnings.filterwarnings(\"ignore\", category=ConvergenceWarning)\n",
    "from sklearn.linear_model import LogisticRegression\n",
    "\n",
    "model_fn = functools.partial(\n",
    "    LogisticRegression, random_state=SEED, n_jobs=-1, \n",
    "    max_iter=2000, solver='saga', penalty='l2',\n",
    "    )\n",
    "param_grid_list = [{\n",
    "    'C': [1.0, 10.0, 100.0],\n",
    "}]\n",
    "best_metrics, best_params, best_model = classification_dataset.perform_grid_search(\n",
    "    model_fn, param_grid_list)\n",
    "metrics_internal, metrics_external = classification_dataset.evaluate_test_sets(\n",
    "    best_model)"
   ]
  },
  {
   "cell_type": "code",
   "execution_count": 6,
   "metadata": {},
   "outputs": [
    {
     "name": "stdout",
     "output_type": "stream",
     "text": [
      "model(C=0.01)\n",
      "Valid:         AUC: 0.8260 | AUPR: 0.2571 | Acc: 85.98%\n",
      "model(C=0.1)\n",
      "Valid:         AUC: 0.8263 | AUPR: 0.2523 | Acc: 85.43%\n",
      "model(C=1)\n",
      "Valid:         AUC: 0.8284 | AUPR: 0.2541 | Acc: 85.47%\n",
      "=======================================================\n",
      "best model(C=1)\n",
      "Valid:         AUC: 0.8284 | AUPR: 0.2541 | Acc: 85.47%\n",
      "Internal test: AUC: 0.8454 | AUPR: 0.2944 | Acc: 86.55%\n",
      "External test: AUC: 0.8364 | AUPR: 0.2642 | Acc: 84.95%\n"
     ]
    }
   ],
   "source": [
    "from sklearn.svm import SVC\n",
    "\n",
    "model_fn = functools.partial(\n",
    "    SVC, random_state=SEED, \n",
    "    class_weight='balanced', kernel='linear',\n",
    "    )\n",
    "param_grid_list = [{\n",
    "    'C': [0.01, 0.1, 1],\n",
    "}]\n",
    "best_metrics, best_params, best_model = classification_dataset.perform_grid_search(model_fn, param_grid_list)\n",
    "metrics_internal, metrics_external = classification_dataset.evaluate_test_sets(best_model)"
   ]
  },
  {
   "cell_type": "code",
   "execution_count": 7,
   "metadata": {},
   "outputs": [],
   "source": [
    "# from sklearn.neural_network import MLPClassifier\n",
    "\n",
    "# model_fn = functools.partial(MLPClassifier, random_state=SEED, max_iter=1000)\n",
    "# param_grid_list = [{\n",
    "#     'hidden_layer_sizes': [(100,), (50, 50), (50, 100, 50)],\n",
    "#     'activation': ['logistic', 'relu'],\n",
    "#     'solver': ['adam', 'sgd'],\n",
    "#     'alpha': [0.0001, 0.001, 0.01],\n",
    "# }]\n",
    "# best_metrics, best_params, best_model = classification_dataset.perform_grid_search(model_fn, param_grid_list)\n",
    "# metrics_internal, metrics_external = classification_dataset.evaluate_test_sets(best_model)"
   ]
  },
  {
   "cell_type": "code",
   "execution_count": 8,
   "metadata": {},
   "outputs": [
    {
     "name": "stdout",
     "output_type": "stream",
     "text": [
      "model(criterion=gini)\n",
      "Valid:         AUC: 0.7820 | AUPR: 0.2216 | Acc: 85.00%\n",
      "model(criterion=log_loss)\n",
      "Valid:         AUC: 0.7747 | AUPR: 0.2115 | Acc: 84.18%\n",
      "model(criterion=entropy)\n",
      "Valid:         AUC: 0.7747 | AUPR: 0.2115 | Acc: 84.18%\n",
      "=======================================================\n",
      "best model(criterion=gini)\n",
      "Valid:         AUC: 0.7820 | AUPR: 0.2216 | Acc: 85.00%\n",
      "Internal test: AUC: 0.7921 | AUPR: 0.2275 | Acc: 83.45%\n",
      "External test: AUC: 0.7865 | AUPR: 0.2113 | Acc: 82.50%\n"
     ]
    }
   ],
   "source": [
    "from sklearn.tree import DecisionTreeClassifier\n",
    "\n",
    "model_fn = functools.partial(\n",
    "    DecisionTreeClassifier, random_state=SEED,\n",
    "    ccp_alpha=0.0, class_weight='balanced', max_depth=5)\n",
    "param_grid_list = [{\n",
    "        'criterion': ['gini', 'log_loss', 'entropy'],\n",
    "    }\n",
    "]\n",
    "best_metrics, best_params, best_model = classification_dataset.perform_grid_search(model_fn, param_grid_list)\n",
    "metrics_internal, metrics_external = classification_dataset.evaluate_test_sets(best_model)"
   ]
  },
  {
   "cell_type": "code",
   "execution_count": 9,
   "metadata": {},
   "outputs": [
    {
     "name": "stdout",
     "output_type": "stream",
     "text": [
      "model(criterion=gini, n_estimators=50)\n",
      "Valid:         AUC: 0.8108 | AUPR: 0.2975 | Acc: 90.22%\n",
      "model(criterion=gini, n_estimators=100)\n",
      "Valid:         AUC: 0.8116 | AUPR: 0.2989 | Acc: 90.26%\n",
      "model(criterion=gini, n_estimators=200)\n",
      "Valid:         AUC: 0.8132 | AUPR: 0.3002 | Acc: 90.25%\n",
      "model(criterion=log_loss, n_estimators=50)\n",
      "Valid:         AUC: 0.8136 | AUPR: 0.3049 | Acc: 90.49%\n",
      "model(criterion=log_loss, n_estimators=100)\n",
      "Valid:         AUC: 0.8131 | AUPR: 0.3046 | Acc: 90.51%\n",
      "model(criterion=log_loss, n_estimators=200)\n",
      "Valid:         AUC: 0.8123 | AUPR: 0.3053 | Acc: 90.58%\n",
      "model(criterion=entropy, n_estimators=50)\n",
      "Valid:         AUC: 0.8136 | AUPR: 0.3049 | Acc: 90.49%\n",
      "model(criterion=entropy, n_estimators=100)\n",
      "Valid:         AUC: 0.8131 | AUPR: 0.3046 | Acc: 90.51%\n",
      "model(criterion=entropy, n_estimators=200)\n",
      "Valid:         AUC: 0.8123 | AUPR: 0.3053 | Acc: 90.58%\n",
      "=======================================================\n",
      "best model(criterion=log_loss, n_estimators=50)\n",
      "Valid:         AUC: 0.8136 | AUPR: 0.3049 | Acc: 90.49%\n",
      "Internal test: AUC: 0.8281 | AUPR: 0.3339 | Acc: 90.36%\n",
      "External test: AUC: 0.8099 | AUPR: 0.2898 | Acc: 89.19%\n"
     ]
    }
   ],
   "source": [
    "from sklearn.ensemble import RandomForestClassifier\n",
    "\n",
    "model_fn = functools.partial(\n",
    "    RandomForestClassifier, random_state=SEED, n_jobs=-1,\n",
    "    ccp_alpha=0.0, class_weight='balanced', max_depth=5, bootstrap=False)\n",
    "param_grid_list = [{\n",
    "        'criterion': ['gini', 'log_loss', 'entropy'],\n",
    "        'n_estimators': [50, 100, 200],\n",
    "    }\n",
    "]\n",
    "best_metrics, best_params, best_model = classification_dataset.perform_grid_search(model_fn, param_grid_list)\n",
    "metrics_internal, metrics_external = classification_dataset.evaluate_test_sets(best_model)"
   ]
  },
  {
   "cell_type": "code",
   "execution_count": 10,
   "metadata": {},
   "outputs": [
    {
     "name": "stdout",
     "output_type": "stream",
     "text": [
      "model(criterion=friedman_mse)\n",
      "Valid:         AUC: 0.7359 | AUPR: 0.3941 | Acc: 95.15%\n",
      "model(criterion=squared_error)\n",
      "Valid:         AUC: 0.7347 | AUPR: 0.3923 | Acc: 95.13%\n",
      "=======================================================\n",
      "best model(criterion=friedman_mse)\n",
      "Valid:         AUC: 0.7359 | AUPR: 0.3941 | Acc: 95.15%\n",
      "Internal test: AUC: 0.7409 | AUPR: 0.4212 | Acc: 95.04%\n",
      "External test: AUC: 0.7382 | AUPR: 0.4015 | Acc: 94.99%\n"
     ]
    }
   ],
   "source": [
    "from sklearn.ensemble import GradientBoostingClassifier\n",
    "\n",
    "model = functools.partial(\n",
    "    GradientBoostingClassifier, random_state=SEED,\n",
    "    learning_rate=0.1, max_depth=5, loss='log_loss', \n",
    "    n_estimators=100)\n",
    "param_grid_list = [{\n",
    "        'criterion': ['friedman_mse', 'squared_error'],\n",
    "    }\n",
    "]\n",
    "best_metrics, best_params, best_model = classification_dataset.perform_grid_search(model, param_grid_list)\n",
    "metrics_internal, metrics_external = classification_dataset.evaluate_test_sets(best_model)"
   ]
  },
  {
   "cell_type": "code",
   "execution_count": 11,
   "metadata": {},
   "outputs": [
    {
     "name": "stdout",
     "output_type": "stream",
     "text": [
      "model(n_estimators=100, learning_rate=1.0)\n",
      "Valid:         AUC: 0.7259 | AUPR: 0.3855 | Acc: 95.12%\n",
      "model(n_estimators=200, learning_rate=1.0)\n",
      "Valid:         AUC: 0.7265 | AUPR: 0.3818 | Acc: 95.07%\n",
      "model(n_estimators=500, learning_rate=1.0)\n",
      "Valid:         AUC: 0.7263 | AUPR: 0.3807 | Acc: 95.05%\n",
      "=======================================================\n",
      "best model(n_estimators=200, learning_rate=1.0)\n",
      "Valid:         AUC: 0.7265 | AUPR: 0.3818 | Acc: 95.07%\n",
      "Internal test: AUC: 0.7323 | AUPR: 0.4182 | Acc: 95.06%\n",
      "External test: AUC: 0.7186 | AUPR: 0.3720 | Acc: 94.76%\n"
     ]
    }
   ],
   "source": [
    "from sklearn.ensemble import AdaBoostClassifier\n",
    "model = functools.partial(AdaBoostClassifier, random_state=SEED, algorithm=\"SAMME\")\n",
    "param_grid_list = [{\n",
    "    'n_estimators': [100, 200, 500],\n",
    "    'learning_rate': [1.0],\n",
    "}]\n",
    "best_metrics, best_params, best_model = classification_dataset.perform_grid_search(model, param_grid_list)\n",
    "metrics_internal, metrics_external = classification_dataset.evaluate_test_sets(best_model)"
   ]
  },
  {
   "cell_type": "code",
   "execution_count": null,
   "metadata": {},
   "outputs": [],
   "source": []
  }
 ],
 "metadata": {
  "kernelspec": {
   "display_name": "py310",
   "language": "python",
   "name": "python3"
  },
  "language_info": {
   "codemirror_mode": {
    "name": "ipython",
    "version": 3
   },
   "file_extension": ".py",
   "mimetype": "text/x-python",
   "name": "python",
   "nbconvert_exporter": "python",
   "pygments_lexer": "ipython3",
   "version": "3.10.13"
  }
 },
 "nbformat": 4,
 "nbformat_minor": 2
}
