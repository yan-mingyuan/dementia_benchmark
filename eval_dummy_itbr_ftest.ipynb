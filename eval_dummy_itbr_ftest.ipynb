{
 "cells": [
  {
   "cell_type": "code",
   "execution_count": 1,
   "metadata": {},
   "outputs": [],
   "source": [
    "from config import *\n",
    "from dataset import ClassificationDataset\n",
    "\n",
    "import functools\n",
    "\n",
    "internal, external = 11, 12\n",
    "encode_method = \"dummy\"\n",
    "impute_method = \"itbr\"\n",
    "fs_method, fs_ratio = \"ftest\", 0.5\n",
    "norm_method = \"maxmin\"\n",
    "classification_dataset = ClassificationDataset(\n",
    "    internal, external, encode_method, impute_method, fs_method, fs_ratio, norm_method, random_state=SEED)"
   ]
  },
  {
   "cell_type": "code",
   "execution_count": 2,
   "metadata": {},
   "outputs": [
    {
     "name": "stdout",
     "output_type": "stream",
     "text": [
      "model()\n",
      "Valid:         AUC: 0.7922 | AUPR: 0.2370 | Acc: 86.62%\n",
      "=======================================================\n",
      "best model()\n",
      "Valid:         AUC: 0.7922 | AUPR: 0.2370 | Acc: 86.62%\n",
      "Internal test: AUC: 0.7985 | AUPR: 0.2565 | Acc: 86.52%\n",
      "External test: AUC: 0.7837 | AUPR: 0.2243 | Acc: 84.88%\n"
     ]
    }
   ],
   "source": [
    "from sklearn.naive_bayes import GaussianNB\n",
    "\n",
    "model_fn = GaussianNB\n",
    "param_grid_list = [{}]\n",
    "best_metrics, best_params, best_model = classification_dataset.perform_grid_search(model_fn, param_grid_list)\n",
    "metrics_internal, metrics_external = classification_dataset.evaluate_test_sets(best_model)"
   ]
  },
  {
   "cell_type": "code",
   "execution_count": 3,
   "metadata": {},
   "outputs": [
    {
     "name": "stdout",
     "output_type": "stream",
     "text": [
      "model()\n",
      "Valid:         AUC: 0.7688 | AUPR: 0.1897 | Acc: 81.92%\n",
      "=======================================================\n",
      "best model()\n",
      "Valid:         AUC: 0.7688 | AUPR: 0.1897 | Acc: 81.92%\n",
      "Internal test: AUC: 0.7691 | AUPR: 0.2029 | Acc: 81.90%\n",
      "External test: AUC: 0.7607 | AUPR: 0.1858 | Acc: 80.63%\n"
     ]
    }
   ],
   "source": [
    "from sklearn.naive_bayes import ComplementNB\n",
    "\n",
    "model_fn = ComplementNB\n",
    "param_grid_list = [{}]\n",
    "best_metrics, best_params, best_model = classification_dataset.perform_grid_search(model_fn, param_grid_list)\n",
    "metrics_internal, metrics_external = classification_dataset.evaluate_test_sets(best_model)"
   ]
  },
  {
   "cell_type": "code",
   "execution_count": 4,
   "metadata": {},
   "outputs": [
    {
     "name": "stdout",
     "output_type": "stream",
     "text": [
      "model(p=1)\n",
      "Valid:         AUC: 0.6893 | AUPR: 0.2520 | Acc: 93.12%\n",
      "model(p=2)\n",
      "Valid:         AUC: 0.6855 | AUPR: 0.2370 | Acc: 92.72%\n",
      "=======================================================\n",
      "best model(p=1)\n",
      "Valid:         AUC: 0.6893 | AUPR: 0.2520 | Acc: 93.12%\n",
      "Internal test: AUC: 0.7045 | AUPR: 0.2911 | Acc: 93.16%\n",
      "External test: AUC: 0.6989 | AUPR: 0.2763 | Acc: 93.21%\n"
     ]
    }
   ],
   "source": [
    "from sklearn.neighbors import KNeighborsClassifier\n",
    "\n",
    "model_fn = functools.partial(\n",
    "    KNeighborsClassifier, n_jobs=-1, algorithm='auto',\n",
    "    n_neighbors=1, )\n",
    "param_grid_list = [{\n",
    "    'p': [1, 2],\n",
    "}]\n",
    "best_metrics, best_params, best_model = classification_dataset.perform_grid_search(model_fn, param_grid_list)\n",
    "metrics_internal, metrics_external = classification_dataset.evaluate_test_sets(best_model)"
   ]
  },
  {
   "cell_type": "code",
   "execution_count": 5,
   "metadata": {},
   "outputs": [
    {
     "name": "stdout",
     "output_type": "stream",
     "text": [
      "model(C=1.0)\n",
      "Valid:         AUC: 0.7235 | AUPR: 0.3950 | Acc: 95.26%\n",
      "model(C=10.0)\n",
      "Valid:         AUC: 0.7285 | AUPR: 0.3998 | Acc: 95.29%\n",
      "model(C=100.0)\n",
      "Valid:         AUC: 0.7292 | AUPR: 0.3987 | Acc: 95.27%\n",
      "=======================================================\n",
      "best model(C=100.0)\n",
      "Valid:         AUC: 0.7292 | AUPR: 0.3987 | Acc: 95.27%\n",
      "Internal test: AUC: 0.7349 | AUPR: 0.4380 | Acc: 95.28%\n",
      "External test: AUC: 0.7200 | AUPR: 0.3826 | Acc: 94.90%\n"
     ]
    }
   ],
   "source": [
    "# from sklearn.exceptions import ConvergenceWarning\n",
    "# import warnings\n",
    "# warnings.filterwarnings(\"ignore\", category=ConvergenceWarning)\n",
    "from sklearn.linear_model import LogisticRegression\n",
    "\n",
    "model_fn = functools.partial(\n",
    "    LogisticRegression, random_state=SEED, n_jobs=-1, \n",
    "    max_iter=2000, solver='saga', penalty='l2',\n",
    "    )\n",
    "param_grid_list = [{\n",
    "    'C': [1.0, 10.0, 100.0],\n",
    "}]\n",
    "best_metrics, best_params, best_model = classification_dataset.perform_grid_search(\n",
    "    model_fn, param_grid_list)\n",
    "metrics_internal, metrics_external = classification_dataset.evaluate_test_sets(\n",
    "    best_model)"
   ]
  },
  {
   "cell_type": "code",
   "execution_count": 6,
   "metadata": {},
   "outputs": [
    {
     "name": "stdout",
     "output_type": "stream",
     "text": [
      "model(C=0.01)\n",
      "Valid:         AUC: 0.8253 | AUPR: 0.2498 | Acc: 85.20%\n",
      "model(C=0.1)\n",
      "Valid:         AUC: 0.8291 | AUPR: 0.2545 | Acc: 85.43%\n",
      "model(C=1)\n",
      "Valid:         AUC: 0.8318 | AUPR: 0.2571 | Acc: 85.52%\n",
      "=======================================================\n",
      "best model(C=1)\n",
      "Valid:         AUC: 0.8318 | AUPR: 0.2571 | Acc: 85.52%\n",
      "Internal test: AUC: 0.8440 | AUPR: 0.2936 | Acc: 86.57%\n",
      "External test: AUC: 0.8374 | AUPR: 0.2676 | Acc: 85.25%\n"
     ]
    }
   ],
   "source": [
    "from sklearn.svm import SVC\n",
    "\n",
    "model_fn = functools.partial(\n",
    "    SVC, random_state=SEED, \n",
    "    class_weight='balanced', kernel='linear',\n",
    "    )\n",
    "param_grid_list = [{\n",
    "    'C': [0.01, 0.1, 1],\n",
    "}]\n",
    "best_metrics, best_params, best_model = classification_dataset.perform_grid_search(model_fn, param_grid_list)\n",
    "metrics_internal, metrics_external = classification_dataset.evaluate_test_sets(best_model)"
   ]
  },
  {
   "cell_type": "code",
   "execution_count": 7,
   "metadata": {},
   "outputs": [],
   "source": [
    "# from sklearn.neural_network import MLPClassifier\n",
    "\n",
    "# model_fn = functools.partial(MLPClassifier, random_state=SEED, max_iter=1000)\n",
    "# param_grid_list = [{\n",
    "#     'hidden_layer_sizes': [(100,), (50, 50), (50, 100, 50)],\n",
    "#     'activation': ['logistic', 'relu'],\n",
    "#     'solver': ['adam', 'sgd'],\n",
    "#     'alpha': [0.0001, 0.001, 0.01],\n",
    "# }]\n",
    "# best_metrics, best_params, best_model = classification_dataset.perform_grid_search(model_fn, param_grid_list)\n",
    "# metrics_internal, metrics_external = classification_dataset.evaluate_test_sets(best_model)"
   ]
  },
  {
   "cell_type": "code",
   "execution_count": 8,
   "metadata": {},
   "outputs": [
    {
     "name": "stdout",
     "output_type": "stream",
     "text": [
      "model(criterion=gini)\n",
      "Valid:         AUC: 0.8032 | AUPR: 0.2441 | Acc: 86.23%\n",
      "model(criterion=log_loss)\n",
      "Valid:         AUC: 0.8052 | AUPR: 0.2273 | Acc: 84.10%\n",
      "model(criterion=entropy)\n",
      "Valid:         AUC: 0.8052 | AUPR: 0.2273 | Acc: 84.10%\n",
      "=======================================================\n",
      "best model(criterion=log_loss)\n",
      "Valid:         AUC: 0.8052 | AUPR: 0.2273 | Acc: 84.10%\n",
      "Internal test: AUC: 0.8066 | AUPR: 0.2592 | Acc: 86.13%\n",
      "External test: AUC: 0.7980 | AUPR: 0.2398 | Acc: 85.51%\n"
     ]
    }
   ],
   "source": [
    "from sklearn.tree import DecisionTreeClassifier\n",
    "\n",
    "model_fn = functools.partial(\n",
    "    DecisionTreeClassifier, random_state=SEED,\n",
    "    ccp_alpha=0.0, class_weight='balanced', max_depth=5)\n",
    "param_grid_list = [{\n",
    "        'criterion': ['gini', 'log_loss', 'entropy'],\n",
    "    }\n",
    "]\n",
    "best_metrics, best_params, best_model = classification_dataset.perform_grid_search(model_fn, param_grid_list)\n",
    "metrics_internal, metrics_external = classification_dataset.evaluate_test_sets(best_model)"
   ]
  },
  {
   "cell_type": "code",
   "execution_count": 9,
   "metadata": {},
   "outputs": [
    {
     "name": "stdout",
     "output_type": "stream",
     "text": [
      "model(criterion=gini, n_estimators=50)\n",
      "Valid:         AUC: 0.8233 | AUPR: 0.3119 | Acc: 90.41%\n",
      "model(criterion=gini, n_estimators=100)\n",
      "Valid:         AUC: 0.8271 | AUPR: 0.3139 | Acc: 90.32%\n",
      "model(criterion=gini, n_estimators=200)\n",
      "Valid:         AUC: 0.8277 | AUPR: 0.3153 | Acc: 90.37%\n",
      "model(criterion=log_loss, n_estimators=50)\n",
      "Valid:         AUC: 0.8225 | AUPR: 0.3062 | Acc: 90.11%\n",
      "model(criterion=log_loss, n_estimators=100)\n",
      "Valid:         AUC: 0.8226 | AUPR: 0.3081 | Acc: 90.23%\n",
      "model(criterion=log_loss, n_estimators=200)\n",
      "Valid:         AUC: 0.8237 | AUPR: 0.3115 | Acc: 90.35%\n",
      "model(criterion=entropy, n_estimators=50)\n",
      "Valid:         AUC: 0.8225 | AUPR: 0.3062 | Acc: 90.11%\n",
      "model(criterion=entropy, n_estimators=100)\n",
      "Valid:         AUC: 0.8226 | AUPR: 0.3081 | Acc: 90.23%\n",
      "model(criterion=entropy, n_estimators=200)\n",
      "Valid:         AUC: 0.8237 | AUPR: 0.3115 | Acc: 90.35%\n",
      "=======================================================\n",
      "best model(criterion=gini, n_estimators=200)\n",
      "Valid:         AUC: 0.8277 | AUPR: 0.3153 | Acc: 90.37%\n",
      "Internal test: AUC: 0.8383 | AUPR: 0.3381 | Acc: 90.10%\n",
      "External test: AUC: 0.8210 | AUPR: 0.3016 | Acc: 89.33%\n"
     ]
    }
   ],
   "source": [
    "from sklearn.ensemble import RandomForestClassifier\n",
    "\n",
    "model_fn = functools.partial(\n",
    "    RandomForestClassifier, random_state=SEED, n_jobs=-1,\n",
    "    ccp_alpha=0.0, class_weight='balanced', max_depth=5, bootstrap=False)\n",
    "param_grid_list = [{\n",
    "        'criterion': ['gini', 'log_loss', 'entropy'],\n",
    "        'n_estimators': [50, 100, 200],\n",
    "    }\n",
    "]\n",
    "best_metrics, best_params, best_model = classification_dataset.perform_grid_search(model_fn, param_grid_list)\n",
    "metrics_internal, metrics_external = classification_dataset.evaluate_test_sets(best_model)"
   ]
  },
  {
   "cell_type": "code",
   "execution_count": 10,
   "metadata": {},
   "outputs": [
    {
     "name": "stdout",
     "output_type": "stream",
     "text": [
      "model(criterion=friedman_mse)\n",
      "Valid:         AUC: 0.7319 | AUPR: 0.3991 | Acc: 95.25%\n",
      "model(criterion=squared_error)\n",
      "Valid:         AUC: 0.7315 | AUPR: 0.3992 | Acc: 95.25%\n",
      "=======================================================\n",
      "best model(criterion=friedman_mse)\n",
      "Valid:         AUC: 0.7319 | AUPR: 0.3991 | Acc: 95.25%\n",
      "Internal test: AUC: 0.7426 | AUPR: 0.4260 | Acc: 95.09%\n",
      "External test: AUC: 0.7355 | AUPR: 0.3997 | Acc: 94.99%\n"
     ]
    }
   ],
   "source": [
    "from sklearn.ensemble import GradientBoostingClassifier\n",
    "\n",
    "model = functools.partial(\n",
    "    GradientBoostingClassifier, random_state=SEED,\n",
    "    learning_rate=0.1, max_depth=5, loss='log_loss', \n",
    "    n_estimators=100)\n",
    "param_grid_list = [{\n",
    "        'criterion': ['friedman_mse', 'squared_error'],\n",
    "    }\n",
    "]\n",
    "best_metrics, best_params, best_model = classification_dataset.perform_grid_search(model, param_grid_list)\n",
    "metrics_internal, metrics_external = classification_dataset.evaluate_test_sets(best_model)"
   ]
  },
  {
   "cell_type": "code",
   "execution_count": 11,
   "metadata": {},
   "outputs": [
    {
     "name": "stdout",
     "output_type": "stream",
     "text": [
      "model(n_estimators=100, learning_rate=1.0)\n",
      "Valid:         AUC: 0.7371 | AUPR: 0.4076 | Acc: 95.32%\n",
      "model(n_estimators=200, learning_rate=1.0)\n",
      "Valid:         AUC: 0.7345 | AUPR: 0.4012 | Acc: 95.25%\n",
      "model(n_estimators=500, learning_rate=1.0)\n",
      "Valid:         AUC: 0.7358 | AUPR: 0.4092 | Acc: 95.35%\n",
      "=======================================================\n",
      "best model(n_estimators=100, learning_rate=1.0)\n",
      "Valid:         AUC: 0.7371 | AUPR: 0.4076 | Acc: 95.32%\n",
      "Internal test: AUC: 0.7380 | AUPR: 0.4415 | Acc: 95.30%\n",
      "External test: AUC: 0.7233 | AUPR: 0.3805 | Acc: 94.84%\n"
     ]
    }
   ],
   "source": [
    "from sklearn.ensemble import AdaBoostClassifier\n",
    "model = functools.partial(AdaBoostClassifier, random_state=SEED, algorithm=\"SAMME\")\n",
    "param_grid_list = [{\n",
    "    'n_estimators': [100, 200, 500],\n",
    "    'learning_rate': [1.0],\n",
    "}]\n",
    "best_metrics, best_params, best_model = classification_dataset.perform_grid_search(model, param_grid_list)\n",
    "metrics_internal, metrics_external = classification_dataset.evaluate_test_sets(best_model)"
   ]
  },
  {
   "cell_type": "code",
   "execution_count": null,
   "metadata": {},
   "outputs": [],
   "source": []
  }
 ],
 "metadata": {
  "kernelspec": {
   "display_name": "py310",
   "language": "python",
   "name": "python3"
  },
  "language_info": {
   "codemirror_mode": {
    "name": "ipython",
    "version": 3
   },
   "file_extension": ".py",
   "mimetype": "text/x-python",
   "name": "python",
   "nbconvert_exporter": "python",
   "pygments_lexer": "ipython3",
   "version": "3.10.13"
  }
 },
 "nbformat": 4,
 "nbformat_minor": 2
}
