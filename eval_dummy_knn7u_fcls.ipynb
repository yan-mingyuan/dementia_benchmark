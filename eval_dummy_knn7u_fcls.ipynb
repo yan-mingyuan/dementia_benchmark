{
 "cells": [
  {
   "cell_type": "code",
   "execution_count": 1,
   "metadata": {},
   "outputs": [],
   "source": [
    "from config import *\n",
    "from dataset import ClassificationDataset\n",
    "\n",
    "import functools\n",
    "\n",
    "internal, external = 11, 12\n",
    "encode_method = \"dummy\"\n",
    "impute_method = \"knn7u\"\n",
    "fs_method, fs_ratio = \"fcls\", 0.5\n",
    "norm_method = \"maxmin\"\n",
    "classification_dataset = ClassificationDataset(\n",
    "    internal, external, encode_method, impute_method, fs_method, fs_ratio, norm_method, random_state=SEED)"
   ]
  },
  {
   "cell_type": "code",
   "execution_count": 2,
   "metadata": {},
   "outputs": [
    {
     "name": "stdout",
     "output_type": "stream",
     "text": [
      "model()\n",
      "Valid:         AUC: 0.7925 | AUPR: 0.2333 | Acc: 86.21%\n",
      "=======================================================\n",
      "best model()\n",
      "Valid:         AUC: 0.7925 | AUPR: 0.2333 | Acc: 86.21%\n",
      "Internal test: AUC: 0.8043 | AUPR: 0.2585 | Acc: 86.25%\n",
      "External test: AUC: 0.7873 | AUPR: 0.2251 | Acc: 84.63%\n"
     ]
    }
   ],
   "source": [
    "from sklearn.naive_bayes import GaussianNB\n",
    "\n",
    "model_fn = GaussianNB\n",
    "param_grid_list = [{}]\n",
    "best_metrics, best_params, best_model = classification_dataset.perform_grid_search(model_fn, param_grid_list)\n",
    "metrics_internal, metrics_external = classification_dataset.evaluate_test_sets(best_model)"
   ]
  },
  {
   "cell_type": "code",
   "execution_count": 3,
   "metadata": {},
   "outputs": [
    {
     "name": "stdout",
     "output_type": "stream",
     "text": [
      "model()\n",
      "Valid:         AUC: 0.7687 | AUPR: 0.1855 | Acc: 81.01%\n",
      "=======================================================\n",
      "best model()\n",
      "Valid:         AUC: 0.7687 | AUPR: 0.1855 | Acc: 81.01%\n",
      "Internal test: AUC: 0.7658 | AUPR: 0.1967 | Acc: 81.02%\n",
      "External test: AUC: 0.7620 | AUPR: 0.1826 | Acc: 79.57%\n"
     ]
    }
   ],
   "source": [
    "from sklearn.naive_bayes import ComplementNB\n",
    "\n",
    "model_fn = ComplementNB\n",
    "param_grid_list = [{}]\n",
    "best_metrics, best_params, best_model = classification_dataset.perform_grid_search(model_fn, param_grid_list)\n",
    "metrics_internal, metrics_external = classification_dataset.evaluate_test_sets(best_model)"
   ]
  },
  {
   "cell_type": "code",
   "execution_count": 4,
   "metadata": {},
   "outputs": [
    {
     "name": "stdout",
     "output_type": "stream",
     "text": [
      "model(p=1)\n",
      "Valid:         AUC: 0.6971 | AUPR: 0.2713 | Acc: 93.46%\n",
      "model(p=2)\n",
      "Valid:         AUC: 0.7002 | AUPR: 0.2686 | Acc: 93.30%\n",
      "=======================================================\n",
      "best model(p=2)\n",
      "Valid:         AUC: 0.7002 | AUPR: 0.2686 | Acc: 93.30%\n",
      "Internal test: AUC: 0.7009 | AUPR: 0.2935 | Acc: 93.31%\n",
      "External test: AUC: 0.7054 | AUPR: 0.2910 | Acc: 93.44%\n"
     ]
    }
   ],
   "source": [
    "from sklearn.neighbors import KNeighborsClassifier\n",
    "\n",
    "model_fn = functools.partial(\n",
    "    KNeighborsClassifier, n_jobs=-1, algorithm='auto',\n",
    "    n_neighbors=1, )\n",
    "param_grid_list = [{\n",
    "    'p': [1, 2],\n",
    "}]\n",
    "best_metrics, best_params, best_model = classification_dataset.perform_grid_search(model_fn, param_grid_list)\n",
    "metrics_internal, metrics_external = classification_dataset.evaluate_test_sets(best_model)"
   ]
  },
  {
   "cell_type": "code",
   "execution_count": 5,
   "metadata": {},
   "outputs": [
    {
     "name": "stdout",
     "output_type": "stream",
     "text": [
      "model(C=1.0)\n",
      "Valid:         AUC: 0.7255 | AUPR: 0.3944 | Acc: 95.23%\n",
      "model(C=10.0)\n",
      "Valid:         AUC: 0.7265 | AUPR: 0.3939 | Acc: 95.21%\n",
      "model(C=100.0)\n",
      "Valid:         AUC: 0.7253 | AUPR: 0.3917 | Acc: 95.19%\n",
      "=======================================================\n",
      "best model(C=10.0)\n",
      "Valid:         AUC: 0.7265 | AUPR: 0.3939 | Acc: 95.21%\n",
      "Internal test: AUC: 0.7334 | AUPR: 0.4374 | Acc: 95.28%\n",
      "External test: AUC: 0.7168 | AUPR: 0.3738 | Acc: 94.81%\n"
     ]
    }
   ],
   "source": [
    "# from sklearn.exceptions import ConvergenceWarning\n",
    "# import warnings\n",
    "# warnings.filterwarnings(\"ignore\", category=ConvergenceWarning)\n",
    "from sklearn.linear_model import LogisticRegression\n",
    "\n",
    "model_fn = functools.partial(\n",
    "    LogisticRegression, random_state=SEED, n_jobs=-1, \n",
    "    max_iter=2000, solver='saga', penalty='l2',\n",
    "    )\n",
    "param_grid_list = [{\n",
    "    'C': [1.0, 10.0, 100.0],\n",
    "}]\n",
    "best_metrics, best_params, best_model = classification_dataset.perform_grid_search(\n",
    "    model_fn, param_grid_list)\n",
    "metrics_internal, metrics_external = classification_dataset.evaluate_test_sets(\n",
    "    best_model)"
   ]
  },
  {
   "cell_type": "code",
   "execution_count": 6,
   "metadata": {},
   "outputs": [
    {
     "name": "stdout",
     "output_type": "stream",
     "text": [
      "model(C=0.01)\n",
      "Valid:         AUC: 0.8285 | AUPR: 0.2594 | Acc: 86.03%\n",
      "model(C=0.1)\n",
      "Valid:         AUC: 0.8297 | AUPR: 0.2587 | Acc: 85.87%\n",
      "model(C=1)\n",
      "Valid:         AUC: 0.8275 | AUPR: 0.2546 | Acc: 85.61%\n",
      "=======================================================\n",
      "best model(C=0.1)\n",
      "Valid:         AUC: 0.8297 | AUPR: 0.2587 | Acc: 85.87%\n",
      "Internal test: AUC: 0.8414 | AUPR: 0.2920 | Acc: 86.62%\n",
      "External test: AUC: 0.8356 | AUPR: 0.2666 | Acc: 85.30%\n"
     ]
    }
   ],
   "source": [
    "from sklearn.svm import SVC\n",
    "\n",
    "model_fn = functools.partial(\n",
    "    SVC, random_state=SEED, \n",
    "    class_weight='balanced', kernel='linear',\n",
    "    )\n",
    "param_grid_list = [{\n",
    "    'C': [0.01, 0.1, 1],\n",
    "}]\n",
    "best_metrics, best_params, best_model = classification_dataset.perform_grid_search(model_fn, param_grid_list)\n",
    "metrics_internal, metrics_external = classification_dataset.evaluate_test_sets(best_model)"
   ]
  },
  {
   "cell_type": "code",
   "execution_count": 7,
   "metadata": {},
   "outputs": [],
   "source": [
    "# from sklearn.neural_network import MLPClassifier\n",
    "\n",
    "# model_fn = functools.partial(MLPClassifier, random_state=SEED, max_iter=1000)\n",
    "# param_grid_list = [{\n",
    "#     'hidden_layer_sizes': [(100,), (50, 50), (50, 100, 50)],\n",
    "#     'activation': ['logistic', 'relu'],\n",
    "#     'solver': ['adam', 'sgd'],\n",
    "#     'alpha': [0.0001, 0.001, 0.01],\n",
    "# }]\n",
    "# best_metrics, best_params, best_model = classification_dataset.perform_grid_search(model_fn, param_grid_list)\n",
    "# metrics_internal, metrics_external = classification_dataset.evaluate_test_sets(best_model)"
   ]
  },
  {
   "cell_type": "code",
   "execution_count": 8,
   "metadata": {},
   "outputs": [
    {
     "name": "stdout",
     "output_type": "stream",
     "text": [
      "model(criterion=gini)\n",
      "Valid:         AUC: 0.7791 | AUPR: 0.2346 | Acc: 86.91%\n",
      "model(criterion=log_loss)\n",
      "Valid:         AUC: 0.7806 | AUPR: 0.2489 | Acc: 88.31%\n",
      "model(criterion=entropy)\n",
      "Valid:         AUC: 0.7806 | AUPR: 0.2489 | Acc: 88.31%\n",
      "=======================================================\n",
      "best model(criterion=log_loss)\n",
      "Valid:         AUC: 0.7806 | AUPR: 0.2489 | Acc: 88.31%\n",
      "Internal test: AUC: 0.7945 | AUPR: 0.2904 | Acc: 89.56%\n",
      "External test: AUC: 0.7859 | AUPR: 0.2643 | Acc: 88.82%\n"
     ]
    }
   ],
   "source": [
    "from sklearn.tree import DecisionTreeClassifier\n",
    "\n",
    "model_fn = functools.partial(\n",
    "    DecisionTreeClassifier, random_state=SEED,\n",
    "    ccp_alpha=0.0, class_weight='balanced', max_depth=5)\n",
    "param_grid_list = [{\n",
    "        'criterion': ['gini', 'log_loss', 'entropy'],\n",
    "    }\n",
    "]\n",
    "best_metrics, best_params, best_model = classification_dataset.perform_grid_search(model_fn, param_grid_list)\n",
    "metrics_internal, metrics_external = classification_dataset.evaluate_test_sets(best_model)"
   ]
  },
  {
   "cell_type": "code",
   "execution_count": 9,
   "metadata": {},
   "outputs": [
    {
     "name": "stdout",
     "output_type": "stream",
     "text": [
      "model(criterion=gini, n_estimators=50)\n",
      "Valid:         AUC: 0.8161 | AUPR: 0.2843 | Acc: 89.05%\n",
      "model(criterion=gini, n_estimators=100)\n",
      "Valid:         AUC: 0.8141 | AUPR: 0.2819 | Acc: 88.99%\n",
      "model(criterion=gini, n_estimators=200)\n",
      "Valid:         AUC: 0.8139 | AUPR: 0.2827 | Acc: 89.07%\n",
      "model(criterion=log_loss, n_estimators=50)\n",
      "Valid:         AUC: 0.8135 | AUPR: 0.2817 | Acc: 89.01%\n",
      "model(criterion=log_loss, n_estimators=100)\n",
      "Valid:         AUC: 0.8194 | AUPR: 0.2905 | Acc: 89.27%\n",
      "model(criterion=log_loss, n_estimators=200)\n",
      "Valid:         AUC: 0.8182 | AUPR: 0.2913 | Acc: 89.43%\n",
      "model(criterion=entropy, n_estimators=50)\n",
      "Valid:         AUC: 0.8135 | AUPR: 0.2817 | Acc: 89.01%\n",
      "model(criterion=entropy, n_estimators=100)\n",
      "Valid:         AUC: 0.8194 | AUPR: 0.2905 | Acc: 89.27%\n",
      "model(criterion=entropy, n_estimators=200)\n",
      "Valid:         AUC: 0.8182 | AUPR: 0.2913 | Acc: 89.43%\n",
      "=======================================================\n",
      "best model(criterion=log_loss, n_estimators=100)\n",
      "Valid:         AUC: 0.8194 | AUPR: 0.2905 | Acc: 89.27%\n",
      "Internal test: AUC: 0.8354 | AUPR: 0.3179 | Acc: 89.03%\n",
      "External test: AUC: 0.8156 | AUPR: 0.2813 | Acc: 88.21%\n"
     ]
    }
   ],
   "source": [
    "from sklearn.ensemble import RandomForestClassifier\n",
    "\n",
    "model_fn = functools.partial(\n",
    "    RandomForestClassifier, random_state=SEED, n_jobs=-1,\n",
    "    ccp_alpha=0.0, class_weight='balanced', max_depth=5, bootstrap=False)\n",
    "param_grid_list = [{\n",
    "        'criterion': ['gini', 'log_loss', 'entropy'],\n",
    "        'n_estimators': [50, 100, 200],\n",
    "    }\n",
    "]\n",
    "best_metrics, best_params, best_model = classification_dataset.perform_grid_search(model_fn, param_grid_list)\n",
    "metrics_internal, metrics_external = classification_dataset.evaluate_test_sets(best_model)"
   ]
  },
  {
   "cell_type": "code",
   "execution_count": 10,
   "metadata": {},
   "outputs": [
    {
     "name": "stdout",
     "output_type": "stream",
     "text": [
      "model(criterion=friedman_mse)\n",
      "Valid:         AUC: 0.7356 | AUPR: 0.3970 | Acc: 95.18%\n",
      "model(criterion=squared_error)\n",
      "Valid:         AUC: 0.7349 | AUPR: 0.3972 | Acc: 95.19%\n",
      "=======================================================\n",
      "best model(criterion=friedman_mse)\n",
      "Valid:         AUC: 0.7356 | AUPR: 0.3970 | Acc: 95.18%\n",
      "Internal test: AUC: 0.7454 | AUPR: 0.4471 | Acc: 95.33%\n",
      "External test: AUC: 0.7465 | AUPR: 0.4250 | Acc: 95.24%\n"
     ]
    }
   ],
   "source": [
    "from sklearn.ensemble import GradientBoostingClassifier\n",
    "\n",
    "model = functools.partial(\n",
    "    GradientBoostingClassifier, random_state=SEED,\n",
    "    learning_rate=0.1, max_depth=5, loss='log_loss', \n",
    "    n_estimators=100)\n",
    "param_grid_list = [{\n",
    "        'criterion': ['friedman_mse', 'squared_error'],\n",
    "    }\n",
    "]\n",
    "best_metrics, best_params, best_model = classification_dataset.perform_grid_search(model, param_grid_list)\n",
    "metrics_internal, metrics_external = classification_dataset.evaluate_test_sets(best_model)"
   ]
  },
  {
   "cell_type": "code",
   "execution_count": 11,
   "metadata": {},
   "outputs": [
    {
     "name": "stdout",
     "output_type": "stream",
     "text": [
      "model(n_estimators=100, learning_rate=1.0)\n",
      "Valid:         AUC: 0.7286 | AUPR: 0.3873 | Acc: 95.12%\n",
      "model(n_estimators=200, learning_rate=1.0)\n",
      "Valid:         AUC: 0.7279 | AUPR: 0.3848 | Acc: 95.09%\n",
      "model(n_estimators=500, learning_rate=1.0)\n",
      "Valid:         AUC: 0.7265 | AUPR: 0.3778 | Acc: 95.01%\n",
      "=======================================================\n",
      "best model(n_estimators=100, learning_rate=1.0)\n",
      "Valid:         AUC: 0.7286 | AUPR: 0.3873 | Acc: 95.12%\n",
      "Internal test: AUC: 0.7376 | AUPR: 0.4350 | Acc: 95.23%\n",
      "External test: AUC: 0.7168 | AUPR: 0.3649 | Acc: 94.68%\n"
     ]
    }
   ],
   "source": [
    "from sklearn.ensemble import AdaBoostClassifier\n",
    "model = functools.partial(AdaBoostClassifier, random_state=SEED, algorithm=\"SAMME\")\n",
    "param_grid_list = [{\n",
    "    'n_estimators': [100, 200, 500],\n",
    "    'learning_rate': [1.0],\n",
    "}]\n",
    "best_metrics, best_params, best_model = classification_dataset.perform_grid_search(model, param_grid_list)\n",
    "metrics_internal, metrics_external = classification_dataset.evaluate_test_sets(best_model)"
   ]
  },
  {
   "cell_type": "code",
   "execution_count": null,
   "metadata": {},
   "outputs": [],
   "source": []
  }
 ],
 "metadata": {
  "kernelspec": {
   "display_name": "py310",
   "language": "python",
   "name": "python3"
  },
  "language_info": {
   "codemirror_mode": {
    "name": "ipython",
    "version": 3
   },
   "file_extension": ".py",
   "mimetype": "text/x-python",
   "name": "python",
   "nbconvert_exporter": "python",
   "pygments_lexer": "ipython3",
   "version": "3.10.13"
  }
 },
 "nbformat": 4,
 "nbformat_minor": 2
}
