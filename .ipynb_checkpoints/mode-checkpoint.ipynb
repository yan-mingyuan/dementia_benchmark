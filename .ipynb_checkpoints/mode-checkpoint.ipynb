{
 "cells": [
  {
   "cell_type": "code",
   "execution_count": 1,
   "metadata": {},
   "outputs": [],
   "source": [
    "from config import *\n",
    "from utilities import get_model_name\n",
    "from dataset import ClassificationDataset\n",
    "\n",
    "import functools\n",
    "import numpy as np\n",
    "import pandas as pd\n",
    "\n",
    "results_dict = {}\n",
    "internal, external = 11, 12\n",
    "encode_method = \"dummy\"\n",
    "impute_method = \"itard\"\n",
    "fs_method, fs_ratio = \"cancelout\", 0.5\n",
    "norm_method = \"maxmin\"\n",
    "classification_dataset = ClassificationDataset(\n",
    "    internal, external, encode_method, impute_method, fs_method, fs_ratio, norm_method, random_state=SEED)"
   ]
  },
  {
   "cell_type": "code",
   "execution_count": 2,
   "metadata": {},
   "outputs": [
    {
     "name": "stdout",
     "output_type": "stream",
     "text": [
      "GNNClassifier\n",
      "model(hidden_layer_sizes=(128, 128), learning_rate=0.005)\n",
      "Valid:         AUC: 0.9173 | AUPR: 0.6592 | Acc: 95.41%\n",
      "model(hidden_layer_sizes=(128, 128), learning_rate=0.01)\n",
      "Valid:         AUC: 0.9220 | AUPR: 0.6716 | Acc: 95.49%\n",
      "model(hidden_layer_sizes=(128, 128), learning_rate=0.02)\n",
      "Valid:         AUC: 0.9260 | AUPR: 0.6814 | Acc: 95.56%\n",
      "model(hidden_layer_sizes=(64, 64, 64), learning_rate=0.005)\n",
      "Valid:         AUC: 0.9173 | AUPR: 0.6557 | Acc: 95.39%\n",
      "model(hidden_layer_sizes=(64, 64, 64), learning_rate=0.01)\n",
      "Valid:         AUC: 0.9216 | AUPR: 0.6661 | Acc: 95.47%\n",
      "model(hidden_layer_sizes=(64, 64, 64), learning_rate=0.02)\n",
      "Valid:         AUC: 0.9266 | AUPR: 0.6785 | Acc: 95.50%\n",
      "=======================================================\n",
      "best model(hidden_layer_sizes=(64, 64, 64), learning_rate=0.02)\n",
      "Valid:         AUC: 0.9266 | AUPR: 0.6785 | Acc: 95.50%\n",
      "Internal test: AUC: 0.9340 | AUPR: 0.7039 | Acc: 95.23%\n",
      "External test: AUC: 0.9214 | AUPR: 0.6646 | Acc: 95.13%\n"
     ]
    }
   ],
   "source": [
    "from utilities import GNNClassifier\n",
    "\n",
    "model_fn = functools.partial(\n",
    "    GNNClassifier, random_state=SEED, max_iter=50,\n",
    "    momentum=0.9, squares=0.999, optimizer_t='sgdm',\n",
    "    use_residual=True, use_batch_norm=False)\n",
    "param_grid_list = [{\n",
    "    'hidden_layer_sizes': [(128, 128), (64, 64, 64)],\n",
    "    'learning_rate': [5e-3, 1e-2, 2e-2],\n",
    "}]\n",
    "best_metrics, best_params, best_model = classification_dataset.perform_grid_search(model_fn, param_grid_list)\n",
    "metrics_internal, metrics_external = classification_dataset.evaluate_test_sets(best_model)\n",
    "results_dict[get_model_name(model_fn)] = np.concatenate([best_metrics, metrics_internal, metrics_external], axis=0)"
   ]
  },
  {
   "cell_type": "code",
   "execution_count": 3,
   "metadata": {},
   "outputs": [
    {
     "name": "stdout",
     "output_type": "stream",
     "text": [
      "TabNetClassifier\n",
      "model(optimizer_params={'lr': 0.05}, gamma=1.5)\n",
      "Valid:         AUC: 0.8988 | AUPR: 0.5948 | Acc: 94.57%\n",
      "model(optimizer_params={'lr': 0.05}, gamma=1.75)\n",
      "Valid:         AUC: 0.9100 | AUPR: 0.6290 | Acc: 94.84%\n",
      "model(optimizer_params={'lr': 0.05}, gamma=2.0)\n",
      "Valid:         AUC: 0.9048 | AUPR: 0.6078 | Acc: 94.73%\n",
      "=======================================================\n",
      "best model(optimizer_params={'lr': 0.05}, gamma=1.75)\n",
      "Valid:         AUC: 0.9100 | AUPR: 0.6290 | Acc: 94.84%\n",
      "Internal test: AUC: 0.9219 | AUPR: 0.6808 | Acc: 95.11%\n",
      "External test: AUC: 0.9095 | AUPR: 0.6349 | Acc: 94.95%\n"
     ]
    }
   ],
   "source": [
    "import warnings\n",
    "from pytorch_tabnet.tab_model import TabNetClassifier\n",
    "warnings.filterwarnings(\"ignore\", category=UserWarning)\n",
    "\n",
    "model_fn = functools.partial(\n",
    "    TabNetClassifier, seed=SEED, \n",
    "    n_d=4, n_a=4, momentum=0.05, \n",
    "    n_steps=3, gamma=1.75, cat_emb_dim=1,\n",
    "    n_independent=2, n_shared=2,\n",
    "    verbose=0)\n",
    "param_grid_list = [{\n",
    "    'optimizer_params': [dict(lr=lr) for lr in [5e-2]],\n",
    "    'gamma': [1.5, 1.75, 2.0],\n",
    "}]\n",
    "best_metrics, best_params, best_model = classification_dataset.perform_grid_search(model_fn, param_grid_list)\n",
    "metrics_internal, metrics_external = classification_dataset.evaluate_test_sets(best_model)\n",
    "results_dict[get_model_name(model_fn)] = np.concatenate([best_metrics, metrics_internal, metrics_external], axis=0)\n",
    "warnings.resetwarnings()"
   ]
  },
  {
   "cell_type": "code",
   "execution_count": 4,
   "metadata": {},
   "outputs": [
    {
     "name": "stdout",
     "output_type": "stream",
     "text": [
      "MLPClassifier\n",
      "model(hidden_layer_sizes=(128, 128), learning_rate=0.005)\n",
      "Valid:         AUC: 0.9176 | AUPR: 0.6598 | Acc: 95.36%\n",
      "model(hidden_layer_sizes=(128, 128), learning_rate=0.01)\n",
      "Valid:         AUC: 0.9220 | AUPR: 0.6704 | Acc: 95.46%\n",
      "model(hidden_layer_sizes=(128, 128), learning_rate=0.02)\n",
      "Valid:         AUC: 0.9266 | AUPR: 0.6817 | Acc: 95.61%\n",
      "model(hidden_layer_sizes=(64, 64, 64), learning_rate=0.005)\n",
      "Valid:         AUC: 0.9185 | AUPR: 0.6619 | Acc: 95.40%\n",
      "model(hidden_layer_sizes=(64, 64, 64), learning_rate=0.01)\n",
      "Valid:         AUC: 0.9231 | AUPR: 0.6728 | Acc: 95.49%\n",
      "model(hidden_layer_sizes=(64, 64, 64), learning_rate=0.02)\n",
      "Valid:         AUC: 0.9279 | AUPR: 0.6830 | Acc: 95.52%\n",
      "=======================================================\n",
      "best model(hidden_layer_sizes=(64, 64, 64), learning_rate=0.02)\n",
      "Valid:         AUC: 0.9279 | AUPR: 0.6830 | Acc: 95.52%\n",
      "Internal test: AUC: 0.9343 | AUPR: 0.7127 | Acc: 95.40%\n",
      "External test: AUC: 0.9225 | AUPR: 0.6734 | Acc: 95.31%\n"
     ]
    }
   ],
   "source": [
    "# from sklearn.neural_network import MLPClassifier\n",
    "from utilities import MLPClassifier\n",
    "\n",
    "model_fn = functools.partial(\n",
    "    MLPClassifier, random_state=SEED, max_iter=50,\n",
    "    momentum=0.9, squares=0.999, optimizer_t='sgdm',\n",
    "    use_residual=True, use_batch_norm=False)\n",
    "param_grid_list = [{\n",
    "    # hidden_layer_sizes = (64, 32)\n",
    "    # config       lr_range            worst_auc\n",
    "    # adam w/ bn:  [2e-5, 5e-5, 1e-4]  0.8942\n",
    "    # adam w/o bn: [5e-5, 1e-4, 2e-4]  0.9148\n",
    "    # sgdm w/ bn:  [1e-3, 2e-3, 5e-3]  0.8982\n",
    "    # sgdm w/o bn: [5e-3, 1e-2, 2e-2]  0.9177\n",
    "\n",
    "    'hidden_layer_sizes': [(128, 128), (64, 64, 64)],\n",
    "    'learning_rate': [5e-3, 1e-2, 2e-2],\n",
    "}]\n",
    "best_metrics, best_params, best_model = classification_dataset.perform_grid_search(model_fn, param_grid_list)\n",
    "metrics_internal, metrics_external = classification_dataset.evaluate_test_sets(best_model)\n",
    "results_dict[get_model_name(model_fn)] = np.concatenate([best_metrics, metrics_internal, metrics_external], axis=0)"
   ]
  },
  {
   "cell_type": "code",
   "execution_count": 5,
   "metadata": {},
   "outputs": [
    {
     "name": "stdout",
     "output_type": "stream",
     "text": [
      "SVC\n",
      "model(kernel=linear, C=0.01)\n",
      "Valid:         AUC: 0.9211 | AUPR: 0.6430 | Acc: 95.19%\n",
      "model(kernel=linear, C=0.1)\n",
      "Valid:         AUC: 0.9214 | AUPR: 0.6366 | Acc: 95.15%\n",
      "model(kernel=linear, C=1)\n",
      "Valid:         AUC: 0.9208 | AUPR: 0.6328 | Acc: 95.11%\n",
      "=======================================================\n",
      "best model(kernel=linear, C=0.1)\n",
      "Valid:         AUC: 0.9214 | AUPR: 0.6366 | Acc: 95.15%\n",
      "Internal test: AUC: 0.9287 | AUPR: 0.6801 | Acc: 95.09%\n",
      "External test: AUC: 0.9192 | AUPR: 0.6191 | Acc: 94.71%\n"
     ]
    }
   ],
   "source": [
    "from sklearn.svm import SVC\n",
    "\n",
    "model_fn = functools.partial(\n",
    "    SVC, random_state=SEED, probability=True,\n",
    "    class_weight='balanced')\n",
    "param_grid_list = [{\n",
    "    'kernel': ['linear'],\n",
    "    'C': [0.01, 0.1, 1],\n",
    "}]\n",
    "best_metrics, best_params, best_model = classification_dataset.perform_grid_search(model_fn, param_grid_list)\n",
    "metrics_internal, metrics_external = classification_dataset.evaluate_test_sets(best_model)\n",
    "results_dict[get_model_name(model_fn)] = np.concatenate([best_metrics, metrics_internal, metrics_external], axis=0)"
   ]
  },
  {
   "cell_type": "code",
   "execution_count": 6,
   "metadata": {},
   "outputs": [
    {
     "name": "stdout",
     "output_type": "stream",
     "text": [
      "KNeighborsClassifier\n",
      "model(n_neighbors=3)\n",
      "Valid:         AUC: 0.7626 | AUPR: 0.4452 | Acc: 95.06%\n",
      "model(n_neighbors=5)\n",
      "Valid:         AUC: 0.7918 | AUPR: 0.4933 | Acc: 95.24%\n",
      "model(n_neighbors=7)\n",
      "Valid:         AUC: 0.8080 | AUPR: 0.5207 | Acc: 95.33%\n",
      "=======================================================\n",
      "best model(n_neighbors=7)\n",
      "Valid:         AUC: 0.8080 | AUPR: 0.5207 | Acc: 95.33%\n",
      "Internal test: AUC: 0.8201 | AUPR: 0.5543 | Acc: 95.01%\n",
      "External test: AUC: 0.8064 | AUPR: 0.5203 | Acc: 94.97%\n"
     ]
    }
   ],
   "source": [
    "from sklearn.neighbors import KNeighborsClassifier\n",
    "\n",
    "model_fn = functools.partial(\n",
    "    KNeighborsClassifier, n_jobs=-1, algorithm='auto', p=2)\n",
    "param_grid_list = [{\n",
    "    'n_neighbors': [3, 5, 7],\n",
    "}]\n",
    "best_metrics, best_params, best_model = classification_dataset.perform_grid_search(model_fn, param_grid_list)\n",
    "metrics_internal, metrics_external = classification_dataset.evaluate_test_sets(best_model)\n",
    "results_dict[get_model_name(model_fn)] = np.concatenate([best_metrics, metrics_internal, metrics_external], axis=0)"
   ]
  },
  {
   "cell_type": "code",
   "execution_count": 7,
   "metadata": {},
   "outputs": [
    {
     "name": "stdout",
     "output_type": "stream",
     "text": [
      "GaussianNB\n",
      "model()\n",
      "Valid:         AUC: 0.8777 | AUPR: 0.4321 | Acc: 85.76%\n",
      "=======================================================\n",
      "best model()\n",
      "Valid:         AUC: 0.8777 | AUPR: 0.4321 | Acc: 85.76%\n",
      "Internal test: AUC: 0.8944 | AUPR: 0.4840 | Acc: 85.94%\n",
      "External test: AUC: 0.8817 | AUPR: 0.4214 | Acc: 84.80%\n"
     ]
    }
   ],
   "source": [
    "from sklearn.naive_bayes import GaussianNB\n",
    "\n",
    "model_fn = GaussianNB\n",
    "param_grid_list = [{}]\n",
    "best_metrics, best_params, best_model = classification_dataset.perform_grid_search(model_fn, param_grid_list)\n",
    "metrics_internal, metrics_external = classification_dataset.evaluate_test_sets(best_model)\n",
    "results_dict[get_model_name(model_fn)] = np.concatenate([best_metrics, metrics_internal, metrics_external], axis=0)"
   ]
  },
  {
   "cell_type": "code",
   "execution_count": 8,
   "metadata": {},
   "outputs": [
    {
     "name": "stdout",
     "output_type": "stream",
     "text": [
      "LogisticRegression\n",
      "model(C=1.0)\n",
      "Valid:         AUC: 0.9217 | AUPR: 0.6627 | Acc: 95.39%\n",
      "model(C=10.0)\n",
      "Valid:         AUC: 0.9215 | AUPR: 0.6615 | Acc: 95.37%\n",
      "model(C=100.0)\n",
      "Valid:         AUC: 0.9214 | AUPR: 0.6612 | Acc: 95.38%\n",
      "=======================================================\n",
      "best model(C=1.0)\n",
      "Valid:         AUC: 0.9217 | AUPR: 0.6627 | Acc: 95.39%\n",
      "Internal test: AUC: 0.9300 | AUPR: 0.6931 | Acc: 95.23%\n",
      "External test: AUC: 0.9174 | AUPR: 0.6393 | Acc: 94.93%\n"
     ]
    }
   ],
   "source": [
    "# from sklearn.exceptions import ConvergenceWarning\n",
    "# import warnings\n",
    "# warnings.filterwarnings(\"ignore\", category=ConvergenceWarning)\n",
    "from sklearn.linear_model import LogisticRegression\n",
    "\n",
    "model_fn = functools.partial(\n",
    "    LogisticRegression, random_state=SEED, n_jobs=-1, \n",
    "    max_iter=2000, solver='saga', penalty='l2',\n",
    "    )\n",
    "param_grid_list = [{\n",
    "    'C': [1.0, 10.0, 100.0],\n",
    "}]\n",
    "best_metrics, best_params, best_model = classification_dataset.perform_grid_search(\n",
    "    model_fn, param_grid_list)\n",
    "metrics_internal, metrics_external = classification_dataset.evaluate_test_sets(\n",
    "    best_model)\n",
    "results_dict[get_model_name(model_fn)] = np.concatenate([best_metrics, metrics_internal, metrics_external], axis=0)"
   ]
  },
  {
   "cell_type": "code",
   "execution_count": 9,
   "metadata": {},
   "outputs": [
    {
     "name": "stdout",
     "output_type": "stream",
     "text": [
      "DecisionTreeClassifier\n",
      "model(criterion=gini)\n",
      "Valid:         AUC: 0.8768 | AUPR: 0.5542 | Acc: 84.09%\n",
      "model(criterion=log_loss)\n",
      "Valid:         AUC: 0.8721 | AUPR: 0.5729 | Acc: 81.88%\n",
      "model(criterion=entropy)\n",
      "Valid:         AUC: 0.8721 | AUPR: 0.5729 | Acc: 81.88%\n",
      "=======================================================\n",
      "best model(criterion=gini)\n",
      "Valid:         AUC: 0.8768 | AUPR: 0.5542 | Acc: 84.09%\n",
      "Internal test: AUC: 0.8701 | AUPR: 0.5962 | Acc: 84.74%\n",
      "External test: AUC: 0.8724 | AUPR: 0.5588 | Acc: 84.68%\n"
     ]
    }
   ],
   "source": [
    "from sklearn.tree import DecisionTreeClassifier\n",
    "\n",
    "model_fn = functools.partial(\n",
    "    DecisionTreeClassifier, random_state=SEED,\n",
    "    ccp_alpha=0.0, class_weight='balanced', max_depth=5)\n",
    "param_grid_list = [{\n",
    "        'criterion': ['gini', 'log_loss', 'entropy'],\n",
    "    }\n",
    "]\n",
    "best_metrics, best_params, best_model = classification_dataset.perform_grid_search(model_fn, param_grid_list)\n",
    "metrics_internal, metrics_external = classification_dataset.evaluate_test_sets(best_model)\n",
    "results_dict[get_model_name(model_fn)] = np.concatenate([best_metrics, metrics_internal, metrics_external], axis=0)"
   ]
  },
  {
   "cell_type": "code",
   "execution_count": 10,
   "metadata": {},
   "outputs": [
    {
     "name": "stdout",
     "output_type": "stream",
     "text": [
      "RandomForestClassifier\n",
      "model(criterion=gini, n_estimators=50)\n",
      "Valid:         AUC: 0.9156 | AUPR: 0.6522 | Acc: 90.10%\n",
      "model(criterion=gini, n_estimators=100)\n",
      "Valid:         AUC: 0.9169 | AUPR: 0.6575 | Acc: 90.04%\n",
      "model(criterion=gini, n_estimators=200)\n",
      "Valid:         AUC: 0.9178 | AUPR: 0.6588 | Acc: 90.23%\n",
      "model(criterion=log_loss, n_estimators=50)\n",
      "Valid:         AUC: 0.9140 | AUPR: 0.6571 | Acc: 90.18%\n",
      "model(criterion=log_loss, n_estimators=100)\n",
      "Valid:         AUC: 0.9155 | AUPR: 0.6600 | Acc: 90.21%\n",
      "model(criterion=log_loss, n_estimators=200)\n",
      "Valid:         AUC: 0.9169 | AUPR: 0.6620 | Acc: 90.42%\n",
      "model(criterion=entropy, n_estimators=50)\n",
      "Valid:         AUC: 0.9140 | AUPR: 0.6571 | Acc: 90.18%\n",
      "model(criterion=entropy, n_estimators=100)\n",
      "Valid:         AUC: 0.9155 | AUPR: 0.6600 | Acc: 90.21%\n",
      "model(criterion=entropy, n_estimators=200)\n",
      "Valid:         AUC: 0.9169 | AUPR: 0.6620 | Acc: 90.42%\n",
      "=======================================================\n",
      "best model(criterion=gini, n_estimators=200)\n",
      "Valid:         AUC: 0.9178 | AUPR: 0.6588 | Acc: 90.23%\n",
      "Internal test: AUC: 0.9252 | AUPR: 0.7005 | Acc: 90.56%\n",
      "External test: AUC: 0.9145 | AUPR: 0.6556 | Acc: 89.42%\n"
     ]
    }
   ],
   "source": [
    "from sklearn.ensemble import RandomForestClassifier\n",
    "\n",
    "model_fn = functools.partial(\n",
    "    RandomForestClassifier, random_state=SEED, n_jobs=-1,\n",
    "    ccp_alpha=0.0, class_weight='balanced', max_depth=5, bootstrap=False)\n",
    "param_grid_list = [{\n",
    "        'criterion': ['gini', 'log_loss', 'entropy'],\n",
    "        'n_estimators': [50, 100, 200],\n",
    "    }\n",
    "]\n",
    "best_metrics, best_params, best_model = classification_dataset.perform_grid_search(model_fn, param_grid_list)\n",
    "metrics_internal, metrics_external = classification_dataset.evaluate_test_sets(best_model)\n",
    "results_dict[get_model_name(model_fn)] = np.concatenate([best_metrics, metrics_internal, metrics_external], axis=0)"
   ]
  },
  {
   "cell_type": "code",
   "execution_count": 11,
   "metadata": {},
   "outputs": [
    {
     "name": "stdout",
     "output_type": "stream",
     "text": [
      "GradientBoostingClassifier\n",
      "model(criterion=friedman_mse)\n",
      "Valid:         AUC: 0.9216 | AUPR: 0.6511 | Acc: 95.31%\n",
      "model(criterion=squared_error)\n",
      "Valid:         AUC: 0.9215 | AUPR: 0.6517 | Acc: 95.31%\n",
      "=======================================================\n",
      "best model(criterion=friedman_mse)\n",
      "Valid:         AUC: 0.9216 | AUPR: 0.6511 | Acc: 95.31%\n",
      "Internal test: AUC: 0.9312 | AUPR: 0.6810 | Acc: 95.30%\n",
      "External test: AUC: 0.9198 | AUPR: 0.6358 | Acc: 94.95%\n"
     ]
    }
   ],
   "source": [
    "from sklearn.ensemble import GradientBoostingClassifier\n",
    "\n",
    "model = functools.partial(\n",
    "    GradientBoostingClassifier, random_state=SEED,\n",
    "    learning_rate=0.1, max_depth=5, loss='log_loss', \n",
    "    n_estimators=100)\n",
    "param_grid_list = [{\n",
    "        'criterion': ['friedman_mse', 'squared_error'],\n",
    "    }\n",
    "]\n",
    "best_metrics, best_params, best_model = classification_dataset.perform_grid_search(model, param_grid_list)\n",
    "metrics_internal, metrics_external = classification_dataset.evaluate_test_sets(best_model)\n",
    "results_dict[get_model_name(model_fn)] = np.concatenate([best_metrics, metrics_internal, metrics_external], axis=0)"
   ]
  },
  {
   "cell_type": "code",
   "execution_count": 12,
   "metadata": {},
   "outputs": [
    {
     "name": "stdout",
     "output_type": "stream",
     "text": [
      "AdaBoostClassifier\n",
      "model(n_estimators=100, learning_rate=1.0)\n",
      "Valid:         AUC: 0.9197 | AUPR: 0.6469 | Acc: 95.29%\n",
      "model(n_estimators=200, learning_rate=1.0)\n",
      "Valid:         AUC: 0.9206 | AUPR: 0.6475 | Acc: 95.25%\n",
      "model(n_estimators=500, learning_rate=1.0)\n",
      "Valid:         AUC: 0.9206 | AUPR: 0.6491 | Acc: 95.28%\n",
      "=======================================================\n",
      "best model(n_estimators=500, learning_rate=1.0)\n",
      "Valid:         AUC: 0.9206 | AUPR: 0.6491 | Acc: 95.28%\n",
      "Internal test: AUC: 0.9196 | AUPR: 0.6714 | Acc: 95.04%\n",
      "External test: AUC: 0.9146 | AUPR: 0.6256 | Acc: 94.98%\n"
     ]
    }
   ],
   "source": [
    "from sklearn.ensemble import AdaBoostClassifier\n",
    "model = functools.partial(AdaBoostClassifier, random_state=SEED, algorithm=\"SAMME\")\n",
    "param_grid_list = [{\n",
    "    'n_estimators': [100, 200, 500],\n",
    "    'learning_rate': [1.0],\n",
    "}]\n",
    "best_metrics, best_params, best_model = classification_dataset.perform_grid_search(model, param_grid_list)\n",
    "metrics_internal, metrics_external = classification_dataset.evaluate_test_sets(best_model)\n",
    "results_dict[get_model_name(model_fn)] = np.concatenate([best_metrics, metrics_internal, metrics_external], axis=0)"
   ]
  },
  {
   "cell_type": "code",
   "execution_count": 13,
   "metadata": {},
   "outputs": [],
   "source": [
    "dataframe = pd.DataFrame(results_dict).transpose().reset_index()\n",
    "dataframe.columns = ['model', 'val_auc', 'val_aupr', 'val_acc', 'intest_auc', 'intest_aupr', 'intest_acc', 'extest_auc', 'extest_aupr', 'extest_acc']\n",
    "# dataframe.to_csv()\n",
    "filename = os.path.join(RESULTS_DIR, encode_method, impute_method, f'{fs_method}{int(fs_ratio * 142)}.csv')\n",
    "dirname = os.path.dirname(filename)\n",
    "if not os.path.exists(dirname):\n",
    "    os.makedirs(dirname)\n",
    "dataframe.to_csv(filename, index=False)"
   ]
  },
  {
   "cell_type": "code",
   "execution_count": null,
   "metadata": {},
   "outputs": [],
   "source": []
  }
 ],
 "metadata": {
  "kernelspec": {
   "display_name": "Python 3 (ipykernel)",
   "language": "python",
   "name": "python3"
  },
  "language_info": {
   "codemirror_mode": {
    "name": "ipython",
    "version": 3
   },
   "file_extension": ".py",
   "mimetype": "text/x-python",
   "name": "python",
   "nbconvert_exporter": "python",
   "pygments_lexer": "ipython3",
   "version": "3.10.6"
  }
 },
 "nbformat": 4,
 "nbformat_minor": 4
}
