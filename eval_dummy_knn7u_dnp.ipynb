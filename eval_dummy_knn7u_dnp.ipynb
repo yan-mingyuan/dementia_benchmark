{
 "cells": [
  {
   "cell_type": "code",
   "execution_count": 1,
   "metadata": {},
   "outputs": [
    {
     "name": "stderr",
     "output_type": "stream",
     "text": [
      "Number of Selected Features: 100%|██████████| 71/71 [06:26<00:00,  5.45s/it]\n"
     ]
    }
   ],
   "source": [
    "from config import *\n",
    "from utilities import get_model_name\n",
    "from dataset import ClassificationDataset\n",
    "\n",
    "import functools\n",
    "import numpy as np\n",
    "import pandas as pd\n",
    "\n",
    "results_dict = {}\n",
    "internal, external = 11, 12\n",
    "encode_method = \"dummy\"\n",
    "impute_method = \"knn7u\" #TODO\n",
    "fs_method, fs_ratio = \"dnp\", 0.5  #dnp & graces\n",
    "norm_method = \"maxmin\"\n",
    "classification_dataset = ClassificationDataset(\n",
    "    internal, external, encode_method, impute_method, fs_method, fs_ratio, norm_method, random_state=SEED)"
   ]
  },
  {
   "cell_type": "code",
   "execution_count": 2,
   "metadata": {},
   "outputs": [
    {
     "name": "stdout",
     "output_type": "stream",
     "text": [
      "MLPClassifier\n"
     ]
    },
    {
     "name": "stderr",
     "output_type": "stream",
     "text": [
      "Epoch 49/50:   0%|          | 0/26 [00:00<?, ?batch/s, loss=0.131]           "
     ]
    },
    {
     "name": "stderr",
     "output_type": "stream",
     "text": [
      "                                                                             \r"
     ]
    },
    {
     "name": "stdout",
     "output_type": "stream",
     "text": [
      "model(hidden_layer_sizes=(128, 128), learning_rate=0.005)\n",
      "Valid:         AUC: 0.9188 | AUPR: 0.6586 | Acc: 95.41%\n"
     ]
    },
    {
     "name": "stderr",
     "output_type": "stream",
     "text": [
      "                                                                             \r"
     ]
    },
    {
     "name": "stdout",
     "output_type": "stream",
     "text": [
      "model(hidden_layer_sizes=(128, 128), learning_rate=0.01)\n",
      "Valid:         AUC: 0.9216 | AUPR: 0.6651 | Acc: 95.39%\n"
     ]
    },
    {
     "name": "stderr",
     "output_type": "stream",
     "text": [
      "                                                                             \r"
     ]
    },
    {
     "name": "stdout",
     "output_type": "stream",
     "text": [
      "model(hidden_layer_sizes=(128, 128), learning_rate=0.02)\n",
      "Valid:         AUC: 0.9231 | AUPR: 0.6670 | Acc: 95.24%\n"
     ]
    },
    {
     "name": "stderr",
     "output_type": "stream",
     "text": [
      "                                                                             \r"
     ]
    },
    {
     "name": "stdout",
     "output_type": "stream",
     "text": [
      "model(hidden_layer_sizes=(64, 64, 64), learning_rate=0.005)\n",
      "Valid:         AUC: 0.9172 | AUPR: 0.6568 | Acc: 95.38%\n"
     ]
    },
    {
     "name": "stderr",
     "output_type": "stream",
     "text": [
      "                                                                             \r"
     ]
    },
    {
     "name": "stdout",
     "output_type": "stream",
     "text": [
      "model(hidden_layer_sizes=(64, 64, 64), learning_rate=0.01)\n",
      "Valid:         AUC: 0.9206 | AUPR: 0.6618 | Acc: 95.41%\n"
     ]
    },
    {
     "name": "stderr",
     "output_type": "stream",
     "text": [
      "                                                                             \r"
     ]
    },
    {
     "name": "stdout",
     "output_type": "stream",
     "text": [
      "model(hidden_layer_sizes=(64, 64, 64), learning_rate=0.02)\n",
      "Valid:         AUC: 0.9222 | AUPR: 0.6666 | Acc: 95.29%\n",
      "=======================================================\n",
      "best model(hidden_layer_sizes=(128, 128), learning_rate=0.02)\n",
      "Valid:         AUC: 0.9231 | AUPR: 0.6670 | Acc: 95.24%\n",
      "Internal test: AUC: 0.9287 | AUPR: 0.6965 | Acc: 95.06%\n",
      "External test: AUC: 0.9217 | AUPR: 0.6662 | Acc: 95.15%\n"
     ]
    }
   ],
   "source": [
    "# from sklearn.neural_network import MLPClassifier\n",
    "from utilities import MLPClassifier\n",
    "\n",
    "model_fn = functools.partial(\n",
    "    MLPClassifier, random_state=SEED, max_iter=50,\n",
    "    momentum=0.9, squares=0.999, optimizer_t='sgdm',\n",
    "    use_residual=True, use_batch_norm=False)\n",
    "param_grid_list = [{\n",
    "    # hidden_layer_sizes = (64, 32)\n",
    "    # config       lr_range            worst_auc\n",
    "    # adam w/ bn:  [2e-5, 5e-5, 1e-4]  0.8942\n",
    "    # adam w/o bn: [5e-5, 1e-4, 2e-4]  0.9148\n",
    "    # sgdm w/ bn:  [1e-3, 2e-3, 5e-3]  0.8982\n",
    "    # sgdm w/o bn: [5e-3, 1e-2, 2e-2]  0.9177\n",
    "\n",
    "    'hidden_layer_sizes': [(128, 128), (64, 64, 64)],\n",
    "    'learning_rate': [5e-3, 1e-2, 2e-2],\n",
    "}]\n",
    "best_metrics, best_params, best_model = classification_dataset.perform_grid_search(model_fn, param_grid_list)\n",
    "metrics_internal, metrics_external = classification_dataset.evaluate_test_sets(best_model)\n",
    "results_dict[get_model_name(model_fn)] = np.concatenate([best_metrics, metrics_internal, metrics_external], axis=0)"
   ]
  },
  {
   "cell_type": "code",
   "execution_count": 3,
   "metadata": {},
   "outputs": [
    {
     "name": "stdout",
     "output_type": "stream",
     "text": [
      "SVC\n",
      "model(kernel=linear, C=0.01)\n",
      "Valid:         AUC: 0.9178 | AUPR: 0.6269 | Acc: 95.05%\n",
      "model(kernel=linear, C=0.1)\n",
      "Valid:         AUC: 0.9174 | AUPR: 0.6216 | Acc: 94.93%\n",
      "model(kernel=linear, C=1)\n",
      "Valid:         AUC: 0.9163 | AUPR: 0.6176 | Acc: 94.94%\n",
      "=======================================================\n",
      "best model(kernel=linear, C=0.01)\n",
      "Valid:         AUC: 0.9178 | AUPR: 0.6269 | Acc: 95.05%\n",
      "Internal test: AUC: 0.9229 | AUPR: 0.6631 | Acc: 94.65%\n",
      "External test: AUC: 0.9153 | AUPR: 0.6094 | Acc: 94.62%\n"
     ]
    }
   ],
   "source": [
    "from sklearn.svm import SVC\n",
    "\n",
    "model_fn = functools.partial(\n",
    "    SVC, random_state=SEED, probability=True,\n",
    "    class_weight='balanced')\n",
    "param_grid_list = [{\n",
    "    'kernel': ['linear'],\n",
    "    'C': [0.01, 0.1, 1],\n",
    "}]\n",
    "best_metrics, best_params, best_model = classification_dataset.perform_grid_search(model_fn, param_grid_list)\n",
    "metrics_internal, metrics_external = classification_dataset.evaluate_test_sets(best_model)\n",
    "results_dict[get_model_name(model_fn)] = np.concatenate([best_metrics, metrics_internal, metrics_external], axis=0)"
   ]
  },
  {
   "cell_type": "code",
   "execution_count": 4,
   "metadata": {},
   "outputs": [
    {
     "name": "stdout",
     "output_type": "stream",
     "text": [
      "KNeighborsClassifier\n",
      "model(n_neighbors=3)\n",
      "Valid:         AUC: 0.7596 | AUPR: 0.4283 | Acc: 94.69%\n",
      "model(n_neighbors=5)\n",
      "Valid:         AUC: 0.7877 | AUPR: 0.4770 | Acc: 95.02%\n",
      "model(n_neighbors=7)\n",
      "Valid:         AUC: 0.8015 | AUPR: 0.4968 | Acc: 95.08%\n",
      "=======================================================\n",
      "best model(n_neighbors=7)\n",
      "Valid:         AUC: 0.8015 | AUPR: 0.4968 | Acc: 95.08%\n",
      "Internal test: AUC: 0.8014 | AUPR: 0.5393 | Acc: 94.91%\n",
      "External test: AUC: 0.8168 | AUPR: 0.5163 | Acc: 94.84%\n"
     ]
    }
   ],
   "source": [
    "from sklearn.neighbors import KNeighborsClassifier\n",
    "\n",
    "model_fn = functools.partial(\n",
    "    KNeighborsClassifier, n_jobs=-1, algorithm='auto', p=2)\n",
    "param_grid_list = [{\n",
    "    'n_neighbors': [3, 5, 7],\n",
    "}]\n",
    "best_metrics, best_params, best_model = classification_dataset.perform_grid_search(model_fn, param_grid_list)\n",
    "metrics_internal, metrics_external = classification_dataset.evaluate_test_sets(best_model)\n",
    "results_dict[get_model_name(model_fn)] = np.concatenate([best_metrics, metrics_internal, metrics_external], axis=0)"
   ]
  },
  {
   "cell_type": "code",
   "execution_count": 5,
   "metadata": {},
   "outputs": [
    {
     "name": "stdout",
     "output_type": "stream",
     "text": [
      "GaussianNB\n",
      "model()\n",
      "Valid:         AUC: 0.8795 | AUPR: 0.4488 | Acc: 83.47%\n",
      "=======================================================\n",
      "best model()\n",
      "Valid:         AUC: 0.8795 | AUPR: 0.4488 | Acc: 83.47%\n",
      "Internal test: AUC: 0.8867 | AUPR: 0.4887 | Acc: 84.23%\n",
      "External test: AUC: 0.8762 | AUPR: 0.4291 | Acc: 82.59%\n"
     ]
    }
   ],
   "source": [
    "from sklearn.naive_bayes import GaussianNB\n",
    "\n",
    "model_fn = GaussianNB\n",
    "param_grid_list = [{}]\n",
    "best_metrics, best_params, best_model = classification_dataset.perform_grid_search(model_fn, param_grid_list)\n",
    "metrics_internal, metrics_external = classification_dataset.evaluate_test_sets(best_model)\n",
    "results_dict[get_model_name(model_fn)] = np.concatenate([best_metrics, metrics_internal, metrics_external], axis=0)"
   ]
  },
  {
   "cell_type": "code",
   "execution_count": 6,
   "metadata": {},
   "outputs": [
    {
     "name": "stdout",
     "output_type": "stream",
     "text": [
      "LogisticRegression\n"
     ]
    },
    {
     "name": "stdout",
     "output_type": "stream",
     "text": [
      "model(C=1.0)\n",
      "Valid:         AUC: 0.9188 | AUPR: 0.6537 | Acc: 95.33%\n",
      "model(C=10.0)\n",
      "Valid:         AUC: 0.9184 | AUPR: 0.6526 | Acc: 95.33%\n",
      "model(C=100.0)\n",
      "Valid:         AUC: 0.9178 | AUPR: 0.6521 | Acc: 95.33%\n",
      "=======================================================\n",
      "best model(C=1.0)\n",
      "Valid:         AUC: 0.9188 | AUPR: 0.6537 | Acc: 95.33%\n",
      "Internal test: AUC: 0.9252 | AUPR: 0.6868 | Acc: 95.13%\n",
      "External test: AUC: 0.9133 | AUPR: 0.6333 | Acc: 94.90%\n"
     ]
    }
   ],
   "source": [
    "# from sklearn.exceptions import ConvergenceWarning\n",
    "# import warnings\n",
    "# warnings.filterwarnings(\"ignore\", category=ConvergenceWarning)\n",
    "from sklearn.linear_model import LogisticRegression\n",
    "\n",
    "model_fn = functools.partial(\n",
    "    LogisticRegression, random_state=SEED, n_jobs=-1, \n",
    "    max_iter=2000, solver='saga', penalty='l2',\n",
    "    )\n",
    "param_grid_list = [{\n",
    "    'C': [1.0, 10.0, 100.0],\n",
    "}]\n",
    "best_metrics, best_params, best_model = classification_dataset.perform_grid_search(\n",
    "    model_fn, param_grid_list)\n",
    "metrics_internal, metrics_external = classification_dataset.evaluate_test_sets(\n",
    "    best_model)\n",
    "results_dict[get_model_name(model_fn)] = np.concatenate([best_metrics, metrics_internal, metrics_external], axis=0)"
   ]
  },
  {
   "cell_type": "code",
   "execution_count": 7,
   "metadata": {},
   "outputs": [
    {
     "name": "stdout",
     "output_type": "stream",
     "text": [
      "DecisionTreeClassifier\n",
      "model(criterion=gini)\n",
      "Valid:         AUC: 0.8687 | AUPR: 0.5563 | Acc: 83.66%\n",
      "model(criterion=log_loss)\n",
      "Valid:         AUC: 0.8726 | AUPR: 0.5725 | Acc: 82.77%\n",
      "model(criterion=entropy)\n",
      "Valid:         AUC: 0.8726 | AUPR: 0.5725 | Acc: 82.77%\n",
      "=======================================================\n",
      "best model(criterion=log_loss)\n",
      "Valid:         AUC: 0.8726 | AUPR: 0.5725 | Acc: 82.77%\n",
      "Internal test: AUC: 0.8811 | AUPR: 0.6235 | Acc: 85.35%\n",
      "External test: AUC: 0.8807 | AUPR: 0.5947 | Acc: 85.12%\n"
     ]
    }
   ],
   "source": [
    "from sklearn.tree import DecisionTreeClassifier\n",
    "\n",
    "model_fn = functools.partial(\n",
    "    DecisionTreeClassifier, random_state=SEED,\n",
    "    ccp_alpha=0.0, class_weight='balanced', max_depth=5)\n",
    "param_grid_list = [{\n",
    "        'criterion': ['gini', 'log_loss', 'entropy'],\n",
    "    }\n",
    "]\n",
    "best_metrics, best_params, best_model = classification_dataset.perform_grid_search(model_fn, param_grid_list)\n",
    "metrics_internal, metrics_external = classification_dataset.evaluate_test_sets(best_model)\n",
    "results_dict[get_model_name(model_fn)] = np.concatenate([best_metrics, metrics_internal, metrics_external], axis=0)"
   ]
  },
  {
   "cell_type": "code",
   "execution_count": 8,
   "metadata": {},
   "outputs": [
    {
     "name": "stdout",
     "output_type": "stream",
     "text": [
      "RandomForestClassifier\n",
      "model(criterion=gini, n_estimators=50)\n",
      "Valid:         AUC: 0.9127 | AUPR: 0.6519 | Acc: 88.95%\n",
      "model(criterion=gini, n_estimators=100)\n",
      "Valid:         AUC: 0.9138 | AUPR: 0.6527 | Acc: 89.06%\n",
      "model(criterion=gini, n_estimators=200)\n",
      "Valid:         AUC: 0.9141 | AUPR: 0.6531 | Acc: 89.01%\n",
      "model(criterion=log_loss, n_estimators=50)\n",
      "Valid:         AUC: 0.9129 | AUPR: 0.6554 | Acc: 88.90%\n",
      "model(criterion=log_loss, n_estimators=100)\n",
      "Valid:         AUC: 0.9140 | AUPR: 0.6551 | Acc: 89.17%\n",
      "model(criterion=log_loss, n_estimators=200)\n",
      "Valid:         AUC: 0.9148 | AUPR: 0.6562 | Acc: 89.27%\n",
      "model(criterion=entropy, n_estimators=50)\n",
      "Valid:         AUC: 0.9129 | AUPR: 0.6554 | Acc: 88.90%\n",
      "model(criterion=entropy, n_estimators=100)\n",
      "Valid:         AUC: 0.9140 | AUPR: 0.6551 | Acc: 89.17%\n",
      "model(criterion=entropy, n_estimators=200)\n",
      "Valid:         AUC: 0.9148 | AUPR: 0.6562 | Acc: 89.27%\n",
      "=======================================================\n",
      "best model(criterion=log_loss, n_estimators=200)\n",
      "Valid:         AUC: 0.9148 | AUPR: 0.6562 | Acc: 89.27%\n",
      "Internal test: AUC: 0.9211 | AUPR: 0.6894 | Acc: 88.93%\n",
      "External test: AUC: 0.9121 | AUPR: 0.6483 | Acc: 88.07%\n"
     ]
    }
   ],
   "source": [
    "from sklearn.ensemble import RandomForestClassifier\n",
    "\n",
    "model_fn = functools.partial(\n",
    "    RandomForestClassifier, random_state=SEED, n_jobs=-1,\n",
    "    ccp_alpha=0.0, class_weight='balanced', max_depth=5, bootstrap=False)\n",
    "param_grid_list = [{\n",
    "        'criterion': ['gini', 'log_loss', 'entropy'],\n",
    "        'n_estimators': [50, 100, 200],\n",
    "    }\n",
    "]\n",
    "best_metrics, best_params, best_model = classification_dataset.perform_grid_search(model_fn, param_grid_list)\n",
    "metrics_internal, metrics_external = classification_dataset.evaluate_test_sets(best_model)\n",
    "results_dict[get_model_name(model_fn)] = np.concatenate([best_metrics, metrics_internal, metrics_external], axis=0)"
   ]
  },
  {
   "cell_type": "code",
   "execution_count": 9,
   "metadata": {},
   "outputs": [
    {
     "name": "stdout",
     "output_type": "stream",
     "text": [
      "GradientBoostingClassifier\n",
      "model(criterion=friedman_mse)\n",
      "Valid:         AUC: 0.9192 | AUPR: 0.6522 | Acc: 95.22%\n",
      "model(criterion=squared_error)\n",
      "Valid:         AUC: 0.9188 | AUPR: 0.6514 | Acc: 95.19%\n",
      "=======================================================\n",
      "best model(criterion=friedman_mse)\n",
      "Valid:         AUC: 0.9192 | AUPR: 0.6522 | Acc: 95.22%\n",
      "Internal test: AUC: 0.9289 | AUPR: 0.7017 | Acc: 95.30%\n",
      "External test: AUC: 0.9221 | AUPR: 0.6668 | Acc: 95.14%\n"
     ]
    }
   ],
   "source": [
    "from sklearn.ensemble import GradientBoostingClassifier\n",
    "\n",
    "model = functools.partial(\n",
    "    GradientBoostingClassifier, random_state=SEED,\n",
    "    learning_rate=0.1, max_depth=5, loss='log_loss', \n",
    "    n_estimators=100)\n",
    "param_grid_list = [{\n",
    "        'criterion': ['friedman_mse', 'squared_error'],\n",
    "    }\n",
    "]\n",
    "best_metrics, best_params, best_model = classification_dataset.perform_grid_search(model, param_grid_list)\n",
    "metrics_internal, metrics_external = classification_dataset.evaluate_test_sets(best_model)\n",
    "results_dict[get_model_name(model_fn)] = np.concatenate([best_metrics, metrics_internal, metrics_external], axis=0)"
   ]
  },
  {
   "cell_type": "code",
   "execution_count": 10,
   "metadata": {},
   "outputs": [
    {
     "name": "stdout",
     "output_type": "stream",
     "text": [
      "AdaBoostClassifier\n"
     ]
    },
    {
     "name": "stdout",
     "output_type": "stream",
     "text": [
      "model(n_estimators=100, learning_rate=1.0)\n",
      "Valid:         AUC: 0.9144 | AUPR: 0.6260 | Acc: 95.11%\n",
      "model(n_estimators=200, learning_rate=1.0)\n",
      "Valid:         AUC: 0.9157 | AUPR: 0.6244 | Acc: 95.04%\n",
      "model(n_estimators=500, learning_rate=1.0)\n",
      "Valid:         AUC: 0.9151 | AUPR: 0.6230 | Acc: 95.11%\n",
      "=======================================================\n",
      "best model(n_estimators=200, learning_rate=1.0)\n",
      "Valid:         AUC: 0.9157 | AUPR: 0.6244 | Acc: 95.04%\n",
      "Internal test: AUC: 0.9191 | AUPR: 0.6812 | Acc: 95.21%\n",
      "External test: AUC: 0.9154 | AUPR: 0.6207 | Acc: 94.75%\n"
     ]
    }
   ],
   "source": [
    "from sklearn.ensemble import AdaBoostClassifier\n",
    "model = functools.partial(AdaBoostClassifier, random_state=SEED, algorithm=\"SAMME\")\n",
    "param_grid_list = [{\n",
    "    'n_estimators': [100, 200, 500],\n",
    "    'learning_rate': [1.0],\n",
    "}]\n",
    "best_metrics, best_params, best_model = classification_dataset.perform_grid_search(model, param_grid_list)\n",
    "metrics_internal, metrics_external = classification_dataset.evaluate_test_sets(best_model)\n",
    "results_dict[get_model_name(model_fn)] = np.concatenate([best_metrics, metrics_internal, metrics_external], axis=0)"
   ]
  },
  {
   "cell_type": "code",
   "execution_count": 11,
   "metadata": {},
   "outputs": [],
   "source": [
    "dataframe = pd.DataFrame(results_dict).transpose().reset_index()\n",
    "dataframe.columns = ['model', 'val_auc', 'val_aupr', 'val_acc', 'intest_auc', 'intest_aupr', 'intest_acc', 'extest_auc', 'extest_aupr', 'extest_acc']\n",
    "# dataframe.to_csv()\n",
    "filename = os.path.join(RESULTS_DIR, encode_method, impute_method, f'{fs_method}{int(fs_ratio * 142)}.csv')\n",
    "dirname = os.path.dirname(filename)\n",
    "if not os.path.exists(dirname):\n",
    "    os.makedirs(dirname)\n",
    "dataframe.to_csv(filename, index=False)"
   ]
  },
  {
   "cell_type": "code",
   "execution_count": null,
   "metadata": {},
   "outputs": [],
   "source": []
  }
 ],
 "metadata": {
  "kernelspec": {
   "display_name": "py310",
   "language": "python",
   "name": "python3"
  },
  "language_info": {
   "codemirror_mode": {
    "name": "ipython",
    "version": 3
   },
   "file_extension": ".py",
   "mimetype": "text/x-python",
   "name": "python",
   "nbconvert_exporter": "python",
   "pygments_lexer": "ipython3",
   "version": "3.10.6"
  }
 },
 "nbformat": 4,
 "nbformat_minor": 2
}
