{
 "cells": [
  {
   "cell_type": "code",
   "execution_count": 1,
   "metadata": {},
   "outputs": [],
   "source": [
    "from config import *\n",
    "from dataset import ClassificationDataset\n",
    "\n",
    "import functools\n",
    "\n",
    "internal, external = 11, 12\n",
    "encode_method = \"dummy\"\n",
    "impute_method = \"itbr\"\n",
    "fs_method, fs_ratio = \"mireg\", 0.5\n",
    "norm_method = \"maxmin\"\n",
    "classification_dataset = ClassificationDataset(\n",
    "    internal, external, encode_method, impute_method, fs_method, fs_ratio, norm_method, random_state=SEED)"
   ]
  },
  {
   "cell_type": "code",
   "execution_count": 2,
   "metadata": {},
   "outputs": [
    {
     "name": "stdout",
     "output_type": "stream",
     "text": [
      "model()\n",
      "Valid:         AUC: 0.7911 | AUPR: 0.2376 | Acc: 86.68%\n",
      "=======================================================\n",
      "best model()\n",
      "Valid:         AUC: 0.7911 | AUPR: 0.2376 | Acc: 86.68%\n",
      "Internal test: AUC: 0.7973 | AUPR: 0.2614 | Acc: 87.10%\n",
      "External test: AUC: 0.7820 | AUPR: 0.2292 | Acc: 85.69%\n"
     ]
    }
   ],
   "source": [
    "from sklearn.naive_bayes import GaussianNB\n",
    "\n",
    "model_fn = GaussianNB\n",
    "param_grid_list = [{}]\n",
    "best_metrics, best_params, best_model = classification_dataset.perform_grid_search(model_fn, param_grid_list)\n",
    "metrics_internal, metrics_external = classification_dataset.evaluate_test_sets(best_model)"
   ]
  },
  {
   "cell_type": "code",
   "execution_count": 3,
   "metadata": {},
   "outputs": [
    {
     "name": "stdout",
     "output_type": "stream",
     "text": [
      "model()\n",
      "Valid:         AUC: 0.7701 | AUPR: 0.1962 | Acc: 83.05%\n",
      "=======================================================\n",
      "best model()\n",
      "Valid:         AUC: 0.7701 | AUPR: 0.1962 | Acc: 83.05%\n",
      "Internal test: AUC: 0.7720 | AUPR: 0.2090 | Acc: 82.70%\n",
      "External test: AUC: 0.7621 | AUPR: 0.1918 | Acc: 81.82%\n"
     ]
    }
   ],
   "source": [
    "from sklearn.naive_bayes import ComplementNB\n",
    "\n",
    "model_fn = ComplementNB\n",
    "param_grid_list = [{}]\n",
    "best_metrics, best_params, best_model = classification_dataset.perform_grid_search(model_fn, param_grid_list)\n",
    "metrics_internal, metrics_external = classification_dataset.evaluate_test_sets(best_model)"
   ]
  },
  {
   "cell_type": "code",
   "execution_count": 4,
   "metadata": {},
   "outputs": [
    {
     "name": "stdout",
     "output_type": "stream",
     "text": [
      "model(p=1)\n",
      "Valid:         AUC: 0.6963 | AUPR: 0.2599 | Acc: 93.15%\n",
      "model(p=2)\n",
      "Valid:         AUC: 0.6871 | AUPR: 0.2316 | Acc: 92.46%\n",
      "=======================================================\n",
      "best model(p=1)\n",
      "Valid:         AUC: 0.6963 | AUPR: 0.2599 | Acc: 93.15%\n",
      "Internal test: AUC: 0.7055 | AUPR: 0.2802 | Acc: 92.82%\n",
      "External test: AUC: 0.7080 | AUPR: 0.2876 | Acc: 93.29%\n"
     ]
    }
   ],
   "source": [
    "from sklearn.neighbors import KNeighborsClassifier\n",
    "\n",
    "model_fn = functools.partial(\n",
    "    KNeighborsClassifier, n_jobs=-1, algorithm='auto',\n",
    "    n_neighbors=1, )\n",
    "param_grid_list = [{\n",
    "    'p': [1, 2],\n",
    "}]\n",
    "best_metrics, best_params, best_model = classification_dataset.perform_grid_search(model_fn, param_grid_list)\n",
    "metrics_internal, metrics_external = classification_dataset.evaluate_test_sets(best_model)"
   ]
  },
  {
   "cell_type": "code",
   "execution_count": 5,
   "metadata": {},
   "outputs": [
    {
     "name": "stdout",
     "output_type": "stream",
     "text": [
      "model(C=1.0)\n",
      "Valid:         AUC: 0.7262 | AUPR: 0.3985 | Acc: 95.28%\n",
      "model(C=10.0)\n",
      "Valid:         AUC: 0.7329 | AUPR: 0.4083 | Acc: 95.35%\n",
      "model(C=100.0)\n",
      "Valid:         AUC: 0.7325 | AUPR: 0.4069 | Acc: 95.33%\n",
      "=======================================================\n",
      "best model(C=10.0)\n",
      "Valid:         AUC: 0.7329 | AUPR: 0.4083 | Acc: 95.35%\n",
      "Internal test: AUC: 0.7330 | AUPR: 0.4308 | Acc: 95.21%\n",
      "External test: AUC: 0.7202 | AUPR: 0.3855 | Acc: 94.94%\n"
     ]
    }
   ],
   "source": [
    "# from sklearn.exceptions import ConvergenceWarning\n",
    "# import warnings\n",
    "# warnings.filterwarnings(\"ignore\", category=ConvergenceWarning)\n",
    "from sklearn.linear_model import LogisticRegression\n",
    "\n",
    "model_fn = functools.partial(\n",
    "    LogisticRegression, random_state=SEED, n_jobs=-1, \n",
    "    max_iter=2000, solver='saga', penalty='l2',\n",
    "    )\n",
    "param_grid_list = [{\n",
    "    'C': [1.0, 10.0, 100.0],\n",
    "}]\n",
    "best_metrics, best_params, best_model = classification_dataset.perform_grid_search(\n",
    "    model_fn, param_grid_list)\n",
    "metrics_internal, metrics_external = classification_dataset.evaluate_test_sets(\n",
    "    best_model)"
   ]
  },
  {
   "cell_type": "code",
   "execution_count": 6,
   "metadata": {},
   "outputs": [
    {
     "name": "stdout",
     "output_type": "stream",
     "text": [
      "model(C=0.01)\n",
      "Valid:         AUC: 0.8304 | AUPR: 0.2603 | Acc: 86.00%\n",
      "model(C=0.1)\n",
      "Valid:         AUC: 0.8347 | AUPR: 0.2616 | Acc: 85.78%\n",
      "model(C=1)\n",
      "Valid:         AUC: 0.8335 | AUPR: 0.2625 | Acc: 85.96%\n",
      "=======================================================\n",
      "best model(C=0.1)\n",
      "Valid:         AUC: 0.8347 | AUPR: 0.2616 | Acc: 85.78%\n",
      "Internal test: AUC: 0.8448 | AUPR: 0.2989 | Acc: 86.98%\n",
      "External test: AUC: 0.8353 | AUPR: 0.2687 | Acc: 85.55%\n"
     ]
    }
   ],
   "source": [
    "from sklearn.svm import SVC\n",
    "\n",
    "model_fn = functools.partial(\n",
    "    SVC, random_state=SEED, \n",
    "    class_weight='balanced', kernel='linear',\n",
    "    )\n",
    "param_grid_list = [{\n",
    "    'C': [0.01, 0.1, 1],\n",
    "}]\n",
    "best_metrics, best_params, best_model = classification_dataset.perform_grid_search(model_fn, param_grid_list)\n",
    "metrics_internal, metrics_external = classification_dataset.evaluate_test_sets(best_model)"
   ]
  },
  {
   "cell_type": "code",
   "execution_count": 7,
   "metadata": {},
   "outputs": [],
   "source": [
    "# from sklearn.neural_network import MLPClassifier\n",
    "\n",
    "# model_fn = functools.partial(MLPClassifier, random_state=SEED, max_iter=1000)\n",
    "# param_grid_list = [{\n",
    "#     'hidden_layer_sizes': [(100,), (50, 50), (50, 100, 50)],\n",
    "#     'activation': ['logistic', 'relu'],\n",
    "#     'solver': ['adam', 'sgd'],\n",
    "#     'alpha': [0.0001, 0.001, 0.01],\n",
    "# }]\n",
    "# best_metrics, best_params, best_model = classification_dataset.perform_grid_search(model_fn, param_grid_list)\n",
    "# metrics_internal, metrics_external = classification_dataset.evaluate_test_sets(best_model)"
   ]
  },
  {
   "cell_type": "code",
   "execution_count": 8,
   "metadata": {},
   "outputs": [
    {
     "name": "stdout",
     "output_type": "stream",
     "text": [
      "model(criterion=gini)\n",
      "Valid:         AUC: 0.8140 | AUPR: 0.2472 | Acc: 85.82%\n",
      "model(criterion=log_loss)\n",
      "Valid:         AUC: 0.8130 | AUPR: 0.2672 | Acc: 87.61%\n",
      "model(criterion=entropy)\n",
      "Valid:         AUC: 0.8130 | AUPR: 0.2672 | Acc: 87.61%\n",
      "=======================================================\n",
      "best model(criterion=gini)\n",
      "Valid:         AUC: 0.8140 | AUPR: 0.2472 | Acc: 85.82%\n",
      "Internal test: AUC: 0.8106 | AUPR: 0.2616 | Acc: 86.06%\n",
      "External test: AUC: 0.7993 | AUPR: 0.2381 | Acc: 85.19%\n"
     ]
    }
   ],
   "source": [
    "from sklearn.tree import DecisionTreeClassifier\n",
    "\n",
    "model_fn = functools.partial(\n",
    "    DecisionTreeClassifier, random_state=SEED,\n",
    "    ccp_alpha=0.0, class_weight='balanced', max_depth=5)\n",
    "param_grid_list = [{\n",
    "        'criterion': ['gini', 'log_loss', 'entropy'],\n",
    "    }\n",
    "]\n",
    "best_metrics, best_params, best_model = classification_dataset.perform_grid_search(model_fn, param_grid_list)\n",
    "metrics_internal, metrics_external = classification_dataset.evaluate_test_sets(best_model)"
   ]
  },
  {
   "cell_type": "code",
   "execution_count": 9,
   "metadata": {},
   "outputs": [
    {
     "name": "stdout",
     "output_type": "stream",
     "text": [
      "model(criterion=gini, n_estimators=50)\n",
      "Valid:         AUC: 0.8245 | AUPR: 0.3069 | Acc: 90.04%\n",
      "model(criterion=gini, n_estimators=100)\n",
      "Valid:         AUC: 0.8288 | AUPR: 0.3132 | Acc: 90.18%\n",
      "model(criterion=gini, n_estimators=200)\n",
      "Valid:         AUC: 0.8270 | AUPR: 0.3120 | Acc: 90.21%\n",
      "model(criterion=log_loss, n_estimators=50)\n",
      "Valid:         AUC: 0.8257 | AUPR: 0.3081 | Acc: 90.07%\n",
      "model(criterion=log_loss, n_estimators=100)\n",
      "Valid:         AUC: 0.8267 | AUPR: 0.3095 | Acc: 90.09%\n",
      "model(criterion=log_loss, n_estimators=200)\n",
      "Valid:         AUC: 0.8287 | AUPR: 0.3154 | Acc: 90.32%\n",
      "model(criterion=entropy, n_estimators=50)\n",
      "Valid:         AUC: 0.8257 | AUPR: 0.3081 | Acc: 90.07%\n",
      "model(criterion=entropy, n_estimators=100)\n",
      "Valid:         AUC: 0.8267 | AUPR: 0.3095 | Acc: 90.09%\n",
      "model(criterion=entropy, n_estimators=200)\n",
      "Valid:         AUC: 0.8287 | AUPR: 0.3154 | Acc: 90.32%\n",
      "=======================================================\n",
      "best model(criterion=gini, n_estimators=100)\n",
      "Valid:         AUC: 0.8288 | AUPR: 0.3132 | Acc: 90.18%\n",
      "Internal test: AUC: 0.8388 | AUPR: 0.3404 | Acc: 90.19%\n",
      "External test: AUC: 0.8185 | AUPR: 0.2990 | Acc: 89.31%\n"
     ]
    }
   ],
   "source": [
    "from sklearn.ensemble import RandomForestClassifier\n",
    "\n",
    "model_fn = functools.partial(\n",
    "    RandomForestClassifier, random_state=SEED, n_jobs=-1,\n",
    "    ccp_alpha=0.0, class_weight='balanced', max_depth=5, bootstrap=False)\n",
    "param_grid_list = [{\n",
    "        'criterion': ['gini', 'log_loss', 'entropy'],\n",
    "        'n_estimators': [50, 100, 200],\n",
    "    }\n",
    "]\n",
    "best_metrics, best_params, best_model = classification_dataset.perform_grid_search(model_fn, param_grid_list)\n",
    "metrics_internal, metrics_external = classification_dataset.evaluate_test_sets(best_model)"
   ]
  },
  {
   "cell_type": "code",
   "execution_count": 10,
   "metadata": {},
   "outputs": [
    {
     "name": "stdout",
     "output_type": "stream",
     "text": [
      "model(criterion=friedman_mse)\n",
      "Valid:         AUC: 0.7346 | AUPR: 0.3959 | Acc: 95.19%\n",
      "model(criterion=squared_error)\n",
      "Valid:         AUC: 0.7332 | AUPR: 0.3927 | Acc: 95.16%\n",
      "=======================================================\n",
      "best model(criterion=friedman_mse)\n",
      "Valid:         AUC: 0.7346 | AUPR: 0.3959 | Acc: 95.19%\n",
      "Internal test: AUC: 0.7353 | AUPR: 0.4218 | Acc: 95.09%\n",
      "External test: AUC: 0.7345 | AUPR: 0.3982 | Acc: 94.98%\n"
     ]
    }
   ],
   "source": [
    "from sklearn.ensemble import GradientBoostingClassifier\n",
    "\n",
    "model = functools.partial(\n",
    "    GradientBoostingClassifier, random_state=SEED,\n",
    "    learning_rate=0.1, max_depth=5, loss='log_loss', \n",
    "    n_estimators=100)\n",
    "param_grid_list = [{\n",
    "        'criterion': ['friedman_mse', 'squared_error'],\n",
    "    }\n",
    "]\n",
    "best_metrics, best_params, best_model = classification_dataset.perform_grid_search(model, param_grid_list)\n",
    "metrics_internal, metrics_external = classification_dataset.evaluate_test_sets(best_model)"
   ]
  },
  {
   "cell_type": "code",
   "execution_count": 11,
   "metadata": {},
   "outputs": [
    {
     "name": "stdout",
     "output_type": "stream",
     "text": [
      "model(n_estimators=100, learning_rate=1.0)\n",
      "Valid:         AUC: 0.7393 | AUPR: 0.4038 | Acc: 95.25%\n",
      "model(n_estimators=200, learning_rate=1.0)\n",
      "Valid:         AUC: 0.7401 | AUPR: 0.4080 | Acc: 95.30%\n",
      "model(n_estimators=500, learning_rate=1.0)\n",
      "Valid:         AUC: 0.7361 | AUPR: 0.4043 | Acc: 95.28%\n",
      "=======================================================\n",
      "best model(n_estimators=200, learning_rate=1.0)\n",
      "Valid:         AUC: 0.7401 | AUPR: 0.4080 | Acc: 95.30%\n",
      "Internal test: AUC: 0.7422 | AUPR: 0.4414 | Acc: 95.28%\n",
      "External test: AUC: 0.7325 | AUPR: 0.3977 | Acc: 94.99%\n"
     ]
    }
   ],
   "source": [
    "from sklearn.ensemble import AdaBoostClassifier\n",
    "model = functools.partial(AdaBoostClassifier, random_state=SEED, algorithm=\"SAMME\")\n",
    "param_grid_list = [{\n",
    "    'n_estimators': [100, 200, 500],\n",
    "    'learning_rate': [1.0],\n",
    "}]\n",
    "best_metrics, best_params, best_model = classification_dataset.perform_grid_search(model, param_grid_list)\n",
    "metrics_internal, metrics_external = classification_dataset.evaluate_test_sets(best_model)"
   ]
  },
  {
   "cell_type": "code",
   "execution_count": null,
   "metadata": {},
   "outputs": [],
   "source": []
  }
 ],
 "metadata": {
  "kernelspec": {
   "display_name": "py310",
   "language": "python",
   "name": "python3"
  },
  "language_info": {
   "codemirror_mode": {
    "name": "ipython",
    "version": 3
   },
   "file_extension": ".py",
   "mimetype": "text/x-python",
   "name": "python",
   "nbconvert_exporter": "python",
   "pygments_lexer": "ipython3",
   "version": "3.10.13"
  }
 },
 "nbformat": 4,
 "nbformat_minor": 2
}
