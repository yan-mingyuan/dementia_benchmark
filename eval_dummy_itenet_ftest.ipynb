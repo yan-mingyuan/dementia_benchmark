{
 "cells": [
  {
   "cell_type": "code",
   "execution_count": 1,
   "metadata": {},
   "outputs": [],
   "source": [
    "from config import *\n",
    "from dataset import ClassificationDataset\n",
    "\n",
    "import functools\n",
    "import warnings\n",
    "from sklearn.exceptions import ConvergenceWarning\n",
    "\n",
    "internal, external = 11, 12\n",
    "encode_method = \"dummy\"\n",
    "impute_method = \"itenet\"\n",
    "fs_method, fs_ratio = \"ftest\", 0.5\n",
    "norm_method = \"maxmin\"\n",
    "warnings.filterwarnings(\"ignore\", category=ConvergenceWarning)\n",
    "classification_dataset = ClassificationDataset(\n",
    "    internal, external, encode_method, impute_method, fs_method, fs_ratio, norm_method, random_state=SEED)\n",
    "warnings.resetwarnings()"
   ]
  },
  {
   "cell_type": "code",
   "execution_count": 2,
   "metadata": {},
   "outputs": [
    {
     "name": "stdout",
     "output_type": "stream",
     "text": [
      "model()\n",
      "Valid:         AUC: 0.7902 | AUPR: 0.2300 | Acc: 86.00%\n",
      "=======================================================\n",
      "best model()\n",
      "Valid:         AUC: 0.7902 | AUPR: 0.2300 | Acc: 86.00%\n",
      "Internal test: AUC: 0.7993 | AUPR: 0.2510 | Acc: 85.86%\n",
      "External test: AUC: 0.7857 | AUPR: 0.2229 | Acc: 84.46%\n"
     ]
    }
   ],
   "source": [
    "from sklearn.naive_bayes import GaussianNB\n",
    "\n",
    "model_fn = GaussianNB\n",
    "param_grid_list = [{}]\n",
    "best_metrics, best_params, best_model = classification_dataset.perform_grid_search(model_fn, param_grid_list)\n",
    "metrics_internal, metrics_external = classification_dataset.evaluate_test_sets(best_model)"
   ]
  },
  {
   "cell_type": "code",
   "execution_count": 3,
   "metadata": {},
   "outputs": [
    {
     "name": "stdout",
     "output_type": "stream",
     "text": [
      "model()\n",
      "Valid:         AUC: 0.7662 | AUPR: 0.1836 | Acc: 80.91%\n",
      "=======================================================\n",
      "best model()\n",
      "Valid:         AUC: 0.7662 | AUPR: 0.1836 | Acc: 80.91%\n",
      "Internal test: AUC: 0.7636 | AUPR: 0.1947 | Acc: 80.88%\n",
      "External test: AUC: 0.7599 | AUPR: 0.1806 | Acc: 79.37%\n"
     ]
    }
   ],
   "source": [
    "from sklearn.naive_bayes import ComplementNB\n",
    "\n",
    "model_fn = ComplementNB\n",
    "param_grid_list = [{}]\n",
    "best_metrics, best_params, best_model = classification_dataset.perform_grid_search(model_fn, param_grid_list)\n",
    "metrics_internal, metrics_external = classification_dataset.evaluate_test_sets(best_model)"
   ]
  },
  {
   "cell_type": "code",
   "execution_count": 4,
   "metadata": {},
   "outputs": [
    {
     "name": "stdout",
     "output_type": "stream",
     "text": [
      "model(p=1)\n",
      "Valid:         AUC: 0.6965 | AUPR: 0.2664 | Acc: 93.34%\n",
      "model(p=2)\n",
      "Valid:         AUC: 0.6997 | AUPR: 0.2710 | Acc: 93.38%\n",
      "=======================================================\n",
      "best model(p=2)\n",
      "Valid:         AUC: 0.6997 | AUPR: 0.2710 | Acc: 93.38%\n",
      "Internal test: AUC: 0.7064 | AUPR: 0.2966 | Acc: 93.26%\n",
      "External test: AUC: 0.7037 | AUPR: 0.2867 | Acc: 93.37%\n"
     ]
    }
   ],
   "source": [
    "from sklearn.neighbors import KNeighborsClassifier\n",
    "\n",
    "model_fn = functools.partial(\n",
    "    KNeighborsClassifier, n_jobs=-1, algorithm='auto',\n",
    "    n_neighbors=1, )\n",
    "param_grid_list = [{\n",
    "    'p': [1, 2],\n",
    "}]\n",
    "best_metrics, best_params, best_model = classification_dataset.perform_grid_search(model_fn, param_grid_list)\n",
    "metrics_internal, metrics_external = classification_dataset.evaluate_test_sets(best_model)"
   ]
  },
  {
   "cell_type": "code",
   "execution_count": 5,
   "metadata": {},
   "outputs": [
    {
     "name": "stdout",
     "output_type": "stream",
     "text": [
      "model(C=1.0)\n",
      "Valid:         AUC: 0.7291 | AUPR: 0.3980 | Acc: 95.25%\n",
      "model(C=10.0)\n",
      "Valid:         AUC: 0.7298 | AUPR: 0.3969 | Acc: 95.23%\n",
      "model(C=100.0)\n",
      "Valid:         AUC: 0.7302 | AUPR: 0.3971 | Acc: 95.23%\n",
      "=======================================================\n",
      "best model(C=100.0)\n",
      "Valid:         AUC: 0.7302 | AUPR: 0.3971 | Acc: 95.23%\n",
      "Internal test: AUC: 0.7276 | AUPR: 0.4350 | Acc: 95.28%\n",
      "External test: AUC: 0.7144 | AUPR: 0.3703 | Acc: 94.78%\n"
     ]
    }
   ],
   "source": [
    "# from sklearn.exceptions import ConvergenceWarning\n",
    "# import warnings\n",
    "# warnings.filterwarnings(\"ignore\", category=ConvergenceWarning)\n",
    "from sklearn.linear_model import LogisticRegression\n",
    "\n",
    "model_fn = functools.partial(\n",
    "    LogisticRegression, random_state=SEED, n_jobs=-1, \n",
    "    max_iter=2000, solver='saga', penalty='l2',\n",
    "    )\n",
    "param_grid_list = [{\n",
    "    'C': [1.0, 10.0, 100.0],\n",
    "}]\n",
    "best_metrics, best_params, best_model = classification_dataset.perform_grid_search(\n",
    "    model_fn, param_grid_list)\n",
    "metrics_internal, metrics_external = classification_dataset.evaluate_test_sets(\n",
    "    best_model)"
   ]
  },
  {
   "cell_type": "code",
   "execution_count": 6,
   "metadata": {},
   "outputs": [
    {
     "name": "stdout",
     "output_type": "stream",
     "text": [
      "model(C=0.01)\n",
      "Valid:         AUC: 0.8315 | AUPR: 0.2644 | Acc: 86.31%\n",
      "model(C=0.1)\n",
      "Valid:         AUC: 0.8328 | AUPR: 0.2623 | Acc: 85.98%\n",
      "model(C=1)\n",
      "Valid:         AUC: 0.8321 | AUPR: 0.2588 | Acc: 85.69%\n",
      "=======================================================\n",
      "best model(C=0.1)\n",
      "Valid:         AUC: 0.8328 | AUPR: 0.2623 | Acc: 85.98%\n",
      "Internal test: AUC: 0.8476 | AUPR: 0.2978 | Acc: 86.69%\n",
      "External test: AUC: 0.8374 | AUPR: 0.2699 | Acc: 85.51%\n"
     ]
    }
   ],
   "source": [
    "from sklearn.svm import SVC\n",
    "\n",
    "model_fn = functools.partial(\n",
    "    SVC, random_state=SEED, \n",
    "    class_weight='balanced', kernel='linear',\n",
    "    )\n",
    "param_grid_list = [{\n",
    "    'C': [0.01, 0.1, 1],\n",
    "}]\n",
    "best_metrics, best_params, best_model = classification_dataset.perform_grid_search(model_fn, param_grid_list)\n",
    "metrics_internal, metrics_external = classification_dataset.evaluate_test_sets(best_model)"
   ]
  },
  {
   "cell_type": "code",
   "execution_count": 7,
   "metadata": {},
   "outputs": [],
   "source": [
    "# from sklearn.neural_network import MLPClassifier\n",
    "\n",
    "# model_fn = functools.partial(MLPClassifier, random_state=SEED, max_iter=1000)\n",
    "# param_grid_list = [{\n",
    "#     'hidden_layer_sizes': [(100,), (50, 50), (50, 100, 50)],\n",
    "#     'activation': ['logistic', 'relu'],\n",
    "#     'solver': ['adam', 'sgd'],\n",
    "#     'alpha': [0.0001, 0.001, 0.01],\n",
    "# }]\n",
    "# best_metrics, best_params, best_model = classification_dataset.perform_grid_search(model_fn, param_grid_list)\n",
    "# metrics_internal, metrics_external = classification_dataset.evaluate_test_sets(best_model)"
   ]
  },
  {
   "cell_type": "code",
   "execution_count": 8,
   "metadata": {},
   "outputs": [
    {
     "name": "stdout",
     "output_type": "stream",
     "text": [
      "model(criterion=gini)\n",
      "Valid:         AUC: 0.7859 | AUPR: 0.2600 | Acc: 89.08%\n",
      "model(criterion=log_loss)\n",
      "Valid:         AUC: 0.7833 | AUPR: 0.2622 | Acc: 89.48%\n",
      "model(criterion=entropy)\n",
      "Valid:         AUC: 0.7833 | AUPR: 0.2622 | Acc: 89.48%\n",
      "=======================================================\n",
      "best model(criterion=gini)\n",
      "Valid:         AUC: 0.7859 | AUPR: 0.2600 | Acc: 89.08%\n",
      "Internal test: AUC: 0.7898 | AUPR: 0.3036 | Acc: 90.58%\n",
      "External test: AUC: 0.7810 | AUPR: 0.2795 | Acc: 90.14%\n"
     ]
    }
   ],
   "source": [
    "from sklearn.tree import DecisionTreeClassifier\n",
    "\n",
    "model_fn = functools.partial(\n",
    "    DecisionTreeClassifier, random_state=SEED,\n",
    "    ccp_alpha=0.0, class_weight='balanced', max_depth=5)\n",
    "param_grid_list = [{\n",
    "        'criterion': ['gini', 'log_loss', 'entropy'],\n",
    "    }\n",
    "]\n",
    "best_metrics, best_params, best_model = classification_dataset.perform_grid_search(model_fn, param_grid_list)\n",
    "metrics_internal, metrics_external = classification_dataset.evaluate_test_sets(best_model)"
   ]
  },
  {
   "cell_type": "code",
   "execution_count": 9,
   "metadata": {},
   "outputs": [
    {
     "name": "stdout",
     "output_type": "stream",
     "text": [
      "model(criterion=gini, n_estimators=50)\n",
      "Valid:         AUC: 0.8195 | AUPR: 0.2859 | Acc: 89.00%\n",
      "model(criterion=gini, n_estimators=100)\n",
      "Valid:         AUC: 0.8200 | AUPR: 0.2880 | Acc: 89.10%\n",
      "model(criterion=gini, n_estimators=200)\n",
      "Valid:         AUC: 0.8193 | AUPR: 0.2882 | Acc: 89.14%\n",
      "model(criterion=log_loss, n_estimators=50)\n",
      "Valid:         AUC: 0.8179 | AUPR: 0.2879 | Acc: 89.23%\n",
      "model(criterion=log_loss, n_estimators=100)\n",
      "Valid:         AUC: 0.8170 | AUPR: 0.2872 | Acc: 89.21%\n",
      "model(criterion=log_loss, n_estimators=200)\n",
      "Valid:         AUC: 0.8199 | AUPR: 0.2915 | Acc: 89.32%\n",
      "model(criterion=entropy, n_estimators=50)\n",
      "Valid:         AUC: 0.8179 | AUPR: 0.2879 | Acc: 89.23%\n",
      "model(criterion=entropy, n_estimators=100)\n",
      "Valid:         AUC: 0.8170 | AUPR: 0.2872 | Acc: 89.21%\n",
      "model(criterion=entropy, n_estimators=200)\n",
      "Valid:         AUC: 0.8199 | AUPR: 0.2915 | Acc: 89.32%\n",
      "=======================================================\n",
      "best model(criterion=gini, n_estimators=100)\n",
      "Valid:         AUC: 0.8200 | AUPR: 0.2880 | Acc: 89.10%\n",
      "Internal test: AUC: 0.8307 | AUPR: 0.3087 | Acc: 88.69%\n",
      "External test: AUC: 0.8160 | AUPR: 0.2811 | Acc: 88.16%\n"
     ]
    }
   ],
   "source": [
    "from sklearn.ensemble import RandomForestClassifier\n",
    "\n",
    "model_fn = functools.partial(\n",
    "    RandomForestClassifier, random_state=SEED, n_jobs=-1,\n",
    "    ccp_alpha=0.0, class_weight='balanced', max_depth=5, bootstrap=False)\n",
    "param_grid_list = [{\n",
    "        'criterion': ['gini', 'log_loss', 'entropy'],\n",
    "        'n_estimators': [50, 100, 200],\n",
    "    }\n",
    "]\n",
    "best_metrics, best_params, best_model = classification_dataset.perform_grid_search(model_fn, param_grid_list)\n",
    "metrics_internal, metrics_external = classification_dataset.evaluate_test_sets(best_model)"
   ]
  },
  {
   "cell_type": "code",
   "execution_count": 10,
   "metadata": {},
   "outputs": [
    {
     "name": "stdout",
     "output_type": "stream",
     "text": [
      "model(criterion=friedman_mse)\n",
      "Valid:         AUC: 0.7424 | AUPR: 0.4159 | Acc: 95.38%\n",
      "model(criterion=squared_error)\n",
      "Valid:         AUC: 0.7432 | AUPR: 0.4164 | Acc: 95.38%\n",
      "=======================================================\n",
      "best model(criterion=squared_error)\n",
      "Valid:         AUC: 0.7432 | AUPR: 0.4164 | Acc: 95.38%\n",
      "Internal test: AUC: 0.7438 | AUPR: 0.4442 | Acc: 95.30%\n",
      "External test: AUC: 0.7459 | AUPR: 0.4201 | Acc: 95.18%\n"
     ]
    }
   ],
   "source": [
    "from sklearn.ensemble import GradientBoostingClassifier\n",
    "\n",
    "model = functools.partial(\n",
    "    GradientBoostingClassifier, random_state=SEED,\n",
    "    learning_rate=0.1, max_depth=5, loss='log_loss', \n",
    "    n_estimators=100)\n",
    "param_grid_list = [{\n",
    "        'criterion': ['friedman_mse', 'squared_error'],\n",
    "    }\n",
    "]\n",
    "best_metrics, best_params, best_model = classification_dataset.perform_grid_search(model, param_grid_list)\n",
    "metrics_internal, metrics_external = classification_dataset.evaluate_test_sets(best_model)"
   ]
  },
  {
   "cell_type": "code",
   "execution_count": 11,
   "metadata": {},
   "outputs": [
    {
     "name": "stdout",
     "output_type": "stream",
     "text": [
      "model(n_estimators=100, learning_rate=1.0)\n",
      "Valid:         AUC: 0.7298 | AUPR: 0.3892 | Acc: 95.13%\n",
      "model(n_estimators=200, learning_rate=1.0)\n",
      "Valid:         AUC: 0.7305 | AUPR: 0.3921 | Acc: 95.16%\n",
      "model(n_estimators=500, learning_rate=1.0)\n",
      "Valid:         AUC: 0.7302 | AUPR: 0.3898 | Acc: 95.13%\n",
      "=======================================================\n",
      "best model(n_estimators=200, learning_rate=1.0)\n",
      "Valid:         AUC: 0.7305 | AUPR: 0.3921 | Acc: 95.16%\n",
      "Internal test: AUC: 0.7323 | AUPR: 0.4182 | Acc: 95.06%\n",
      "External test: AUC: 0.7168 | AUPR: 0.3685 | Acc: 94.73%\n"
     ]
    }
   ],
   "source": [
    "from sklearn.ensemble import AdaBoostClassifier\n",
    "model = functools.partial(AdaBoostClassifier, random_state=SEED, algorithm=\"SAMME\")\n",
    "param_grid_list = [{\n",
    "    'n_estimators': [100, 200, 500],\n",
    "    'learning_rate': [1.0],\n",
    "}]\n",
    "best_metrics, best_params, best_model = classification_dataset.perform_grid_search(model, param_grid_list)\n",
    "metrics_internal, metrics_external = classification_dataset.evaluate_test_sets(best_model)"
   ]
  },
  {
   "cell_type": "code",
   "execution_count": null,
   "metadata": {},
   "outputs": [],
   "source": []
  }
 ],
 "metadata": {
  "kernelspec": {
   "display_name": "py310",
   "language": "python",
   "name": "python3"
  },
  "language_info": {
   "codemirror_mode": {
    "name": "ipython",
    "version": 3
   },
   "file_extension": ".py",
   "mimetype": "text/x-python",
   "name": "python",
   "nbconvert_exporter": "python",
   "pygments_lexer": "ipython3",
   "version": "3.10.13"
  }
 },
 "nbformat": 4,
 "nbformat_minor": 2
}
