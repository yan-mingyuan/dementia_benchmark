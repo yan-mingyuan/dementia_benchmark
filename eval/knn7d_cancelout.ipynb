{
 "cells": [
  {
   "cell_type": "code",
   "execution_count": 1,
   "metadata": {},
   "outputs": [],
   "source": [
    "import os\n",
    "os.chdir('..')\n",
    "\n",
    "from config import *\n",
    "from utilities import get_model_name\n",
    "from dataset import ClassificationDataset\n",
    "\n",
    "import functools\n",
    "import numpy as np\n",
    "import pandas as pd\n",
    "\n",
    "results_dict = {}\n",
    "internal, external = 11, 12\n",
    "encode_method = \"dummy\"\n",
    "impute_method = \"knn7d\"\n",
    "fs_method, fs_ratio = \"cancelout\", 50/142\n",
    "norm_method = \"maxmin\"\n",
    "classification_dataset = ClassificationDataset(\n",
    "    internal, external, encode_method, impute_method, fs_method, fs_ratio, norm_method, random_state=SEED)"
   ]
  },
  {
   "cell_type": "code",
   "execution_count": 2,
   "metadata": {},
   "outputs": [
    {
     "name": "stdout",
     "output_type": "stream",
     "text": [
      "GNNClassifier\n",
      "model(hidden_layer_sizes=(128, 128), learning_rate=0.005)\n",
      "Valid:         AUC: 0.9170 | AUPR: 0.6581 | Acc: 95.46%\n",
      "model(hidden_layer_sizes=(128, 128), learning_rate=0.01)\n",
      "Valid:         AUC: 0.9227 | AUPR: 0.6725 | Acc: 95.46%\n",
      "model(hidden_layer_sizes=(128, 128), learning_rate=0.02)\n",
      "Valid:         AUC: 0.9279 | AUPR: 0.6836 | Acc: 95.52%\n",
      "model(hidden_layer_sizes=(64, 64, 64), learning_rate=0.005)\n",
      "Valid:         AUC: 0.9167 | AUPR: 0.6568 | Acc: 95.45%\n",
      "model(hidden_layer_sizes=(64, 64, 64), learning_rate=0.01)\n",
      "Valid:         AUC: 0.9221 | AUPR: 0.6728 | Acc: 95.45%\n",
      "model(hidden_layer_sizes=(64, 64, 64), learning_rate=0.02)\n",
      "Valid:         AUC: 0.9273 | AUPR: 0.6815 | Acc: 95.43%\n",
      "=======================================================\n",
      "best model(hidden_layer_sizes=(128, 128), learning_rate=0.02)\n",
      "Valid:         AUC: 0.9279 | AUPR: 0.6836 | Acc: 95.52%\n",
      "Internal test: AUC: 0.9344 | AUPR: 0.7083 | Acc: 95.01%\n",
      "External test: AUC: 0.9210 | AUPR: 0.6661 | Acc: 95.14%\n"
     ]
    }
   ],
   "source": [
    "from utilities import GNNClassifier\n",
    "\n",
    "model_fn = functools.partial(\n",
    "    GNNClassifier, random_state=SEED, max_iter=50,\n",
    "    momentum=0.9, squares=0.999, optimizer_t='sgdm',\n",
    "    use_residual=True, use_batch_norm=False)\n",
    "param_grid_list = [{\n",
    "    'hidden_layer_sizes': [(128, 128), (64, 64, 64)],\n",
    "    'learning_rate': [5e-3, 1e-2, 2e-2],\n",
    "}]\n",
    "best_metrics, best_params, best_model = classification_dataset.perform_grid_search(model_fn, param_grid_list)\n",
    "metrics_internal, metrics_external = classification_dataset.evaluate_test_sets(best_model)\n",
    "results_dict[get_model_name(model_fn)] = np.concatenate([best_metrics, metrics_internal, metrics_external], axis=0)"
   ]
  },
  {
   "cell_type": "code",
   "execution_count": 3,
   "metadata": {},
   "outputs": [
    {
     "name": "stdout",
     "output_type": "stream",
     "text": [
      "MLPClassifier\n",
      "model(hidden_layer_sizes=(128, 128), learning_rate=0.005)\n",
      "Valid:         AUC: 0.9176 | AUPR: 0.6586 | Acc: 95.43%\n",
      "model(hidden_layer_sizes=(128, 128), learning_rate=0.01)\n",
      "Valid:         AUC: 0.9225 | AUPR: 0.6712 | Acc: 95.49%\n",
      "model(hidden_layer_sizes=(128, 128), learning_rate=0.02)\n",
      "Valid:         AUC: 0.9276 | AUPR: 0.6828 | Acc: 95.45%\n",
      "model(hidden_layer_sizes=(64, 64, 64), learning_rate=0.005)\n",
      "Valid:         AUC: 0.9178 | AUPR: 0.6593 | Acc: 95.39%\n",
      "model(hidden_layer_sizes=(64, 64, 64), learning_rate=0.01)\n",
      "Valid:         AUC: 0.9222 | AUPR: 0.6710 | Acc: 95.43%\n",
      "model(hidden_layer_sizes=(64, 64, 64), learning_rate=0.02)\n",
      "Valid:         AUC: 0.9282 | AUPR: 0.6850 | Acc: 95.46%\n",
      "=======================================================\n",
      "best model(hidden_layer_sizes=(64, 64, 64), learning_rate=0.02)\n",
      "Valid:         AUC: 0.9282 | AUPR: 0.6850 | Acc: 95.46%\n",
      "Internal test: AUC: 0.9342 | AUPR: 0.7072 | Acc: 95.13%\n",
      "External test: AUC: 0.9213 | AUPR: 0.6687 | Acc: 95.19%\n"
     ]
    }
   ],
   "source": [
    "# from sklearn.neural_network import MLPClassifier\n",
    "from utilities import MLPClassifier\n",
    "\n",
    "model_fn = functools.partial(\n",
    "    MLPClassifier, random_state=SEED, max_iter=50,\n",
    "    momentum=0.9, squares=0.999, optimizer_t='sgdm',\n",
    "    use_residual=True, use_batch_norm=False)\n",
    "param_grid_list = [{\n",
    "    # hidden_layer_sizes = (64, 32)\n",
    "    # config       lr_range            worst_auc\n",
    "    # adam w/ bn:  [2e-5, 5e-5, 1e-4]  0.8942\n",
    "    # adam w/o bn: [5e-5, 1e-4, 2e-4]  0.9148\n",
    "    # sgdm w/ bn:  [1e-3, 2e-3, 5e-3]  0.8982\n",
    "    # sgdm w/o bn: [5e-3, 1e-2, 2e-2]  0.9177\n",
    "\n",
    "    'hidden_layer_sizes': [(128, 128), (64, 64, 64)],\n",
    "    'learning_rate': [5e-3, 1e-2, 2e-2],\n",
    "}]\n",
    "best_metrics, best_params, best_model = classification_dataset.perform_grid_search(model_fn, param_grid_list)\n",
    "metrics_internal, metrics_external = classification_dataset.evaluate_test_sets(best_model)\n",
    "results_dict[get_model_name(model_fn)] = np.concatenate([best_metrics, metrics_internal, metrics_external], axis=0)"
   ]
  },
  {
   "cell_type": "code",
   "execution_count": 4,
   "metadata": {},
   "outputs": [
    {
     "name": "stdout",
     "output_type": "stream",
     "text": [
      "LogisticRegression\n",
      "model(C=1.0)\n",
      "Valid:         AUC: 0.9206 | AUPR: 0.6606 | Acc: 95.38%\n",
      "model(C=10.0)\n",
      "Valid:         AUC: 0.9205 | AUPR: 0.6602 | Acc: 95.39%\n",
      "model(C=100.0)\n",
      "Valid:         AUC: 0.9204 | AUPR: 0.6599 | Acc: 95.38%\n",
      "=======================================================\n",
      "best model(C=1.0)\n",
      "Valid:         AUC: 0.9206 | AUPR: 0.6606 | Acc: 95.38%\n",
      "Internal test: AUC: 0.9295 | AUPR: 0.6887 | Acc: 95.09%\n",
      "External test: AUC: 0.9138 | AUPR: 0.6314 | Acc: 94.81%\n"
     ]
    }
   ],
   "source": [
    "# from sklearn.exceptions import ConvergenceWarning\n",
    "# import warnings\n",
    "# warnings.filterwarnings(\"ignore\", category=ConvergenceWarning)\n",
    "from sklearn.linear_model import LogisticRegression\n",
    "\n",
    "model_fn = functools.partial(\n",
    "    LogisticRegression, random_state=SEED, n_jobs=-1, \n",
    "    max_iter=2000, solver='saga', penalty='l2',\n",
    "    )\n",
    "param_grid_list = [{\n",
    "    'C': [1.0, 10.0, 100.0],\n",
    "}]\n",
    "best_metrics, best_params, best_model = classification_dataset.perform_grid_search(\n",
    "    model_fn, param_grid_list)\n",
    "metrics_internal, metrics_external = classification_dataset.evaluate_test_sets(\n",
    "    best_model)\n",
    "results_dict[get_model_name(model_fn)] = np.concatenate([best_metrics, metrics_internal, metrics_external], axis=0)"
   ]
  },
  {
   "cell_type": "code",
   "execution_count": 5,
   "metadata": {},
   "outputs": [
    {
     "name": "stdout",
     "output_type": "stream",
     "text": [
      "TabNetClassifier\n",
      "model(optimizer_params={'lr': 0.05}, gamma=1.5)\n",
      "Valid:         AUC: 0.9135 | AUPR: 0.6362 | Acc: 95.12%\n",
      "model(optimizer_params={'lr': 0.05}, gamma=1.75)\n",
      "Valid:         AUC: 0.9119 | AUPR: 0.6356 | Acc: 95.38%\n",
      "model(optimizer_params={'lr': 0.05}, gamma=2.0)\n",
      "Valid:         AUC: 0.9042 | AUPR: 0.5879 | Acc: 94.93%\n",
      "=======================================================\n",
      "best model(optimizer_params={'lr': 0.05}, gamma=1.5)\n",
      "Valid:         AUC: 0.9135 | AUPR: 0.6362 | Acc: 95.12%\n",
      "Internal test: AUC: 0.9202 | AUPR: 0.6602 | Acc: 94.94%\n",
      "External test: AUC: 0.9100 | AUPR: 0.6289 | Acc: 94.75%\n"
     ]
    }
   ],
   "source": [
    "import warnings\n",
    "from pytorch_tabnet.tab_model import TabNetClassifier\n",
    "warnings.filterwarnings(\"ignore\", category=UserWarning)\n",
    "\n",
    "model_fn = functools.partial(\n",
    "    TabNetClassifier, seed=SEED, \n",
    "    n_d=4, n_a=4, momentum=0.05, \n",
    "    n_steps=3, gamma=1.75, cat_emb_dim=1,\n",
    "    n_independent=2, n_shared=2,\n",
    "    verbose=0)\n",
    "param_grid_list = [{\n",
    "    'optimizer_params': [dict(lr=lr) for lr in [5e-2]],\n",
    "    'gamma': [1.5, 1.75, 2.0],\n",
    "}]\n",
    "best_metrics, best_params, best_model = classification_dataset.perform_grid_search(model_fn, param_grid_list)\n",
    "metrics_internal, metrics_external = classification_dataset.evaluate_test_sets(best_model)\n",
    "results_dict[get_model_name(model_fn)] = np.concatenate([best_metrics, metrics_internal, metrics_external], axis=0)\n",
    "warnings.resetwarnings()"
   ]
  },
  {
   "cell_type": "code",
   "execution_count": 6,
   "metadata": {},
   "outputs": [
    {
     "name": "stdout",
     "output_type": "stream",
     "text": [
      "RandomForestClassifier\n",
      "model(criterion=gini, n_estimators=50)\n",
      "Valid:         AUC: 0.9149 | AUPR: 0.6541 | Acc: 89.31%\n",
      "model(criterion=gini, n_estimators=100)\n",
      "Valid:         AUC: 0.9156 | AUPR: 0.6581 | Acc: 89.66%\n",
      "model(criterion=gini, n_estimators=200)\n",
      "Valid:         AUC: 0.9156 | AUPR: 0.6586 | Acc: 89.71%\n",
      "model(criterion=log_loss, n_estimators=50)\n",
      "Valid:         AUC: 0.9138 | AUPR: 0.6581 | Acc: 89.91%\n",
      "model(criterion=log_loss, n_estimators=100)\n",
      "Valid:         AUC: 0.9157 | AUPR: 0.6612 | Acc: 90.29%\n",
      "model(criterion=log_loss, n_estimators=200)\n",
      "Valid:         AUC: 0.9156 | AUPR: 0.6610 | Acc: 90.02%\n",
      "model(criterion=entropy, n_estimators=50)\n",
      "Valid:         AUC: 0.9138 | AUPR: 0.6581 | Acc: 89.91%\n",
      "model(criterion=entropy, n_estimators=100)\n",
      "Valid:         AUC: 0.9157 | AUPR: 0.6612 | Acc: 90.29%\n",
      "model(criterion=entropy, n_estimators=200)\n",
      "Valid:         AUC: 0.9156 | AUPR: 0.6610 | Acc: 90.02%\n",
      "=======================================================\n",
      "best model(criterion=log_loss, n_estimators=100)\n",
      "Valid:         AUC: 0.9157 | AUPR: 0.6612 | Acc: 90.29%\n",
      "Internal test: AUC: 0.9256 | AUPR: 0.7008 | Acc: 90.39%\n",
      "External test: AUC: 0.9150 | AUPR: 0.6613 | Acc: 89.32%\n"
     ]
    }
   ],
   "source": [
    "from sklearn.ensemble import RandomForestClassifier\n",
    "\n",
    "model_fn = functools.partial(\n",
    "    RandomForestClassifier, random_state=SEED, n_jobs=-1,\n",
    "    ccp_alpha=0.0, class_weight='balanced', max_depth=5, bootstrap=False)\n",
    "param_grid_list = [{\n",
    "        'criterion': ['gini', 'log_loss', 'entropy'],\n",
    "        'n_estimators': [50, 100, 200],\n",
    "    }\n",
    "]\n",
    "best_metrics, best_params, best_model = classification_dataset.perform_grid_search(model_fn, param_grid_list)\n",
    "metrics_internal, metrics_external = classification_dataset.evaluate_test_sets(best_model)\n",
    "results_dict[get_model_name(model_fn)] = np.concatenate([best_metrics, metrics_internal, metrics_external], axis=0)"
   ]
  },
  {
   "cell_type": "code",
   "execution_count": 7,
   "metadata": {},
   "outputs": [
    {
     "name": "stdout",
     "output_type": "stream",
     "text": [
      "SVC\n",
      "model(kernel=linear, C=0.01)\n",
      "Valid:         AUC: 0.9196 | AUPR: 0.6409 | Acc: 95.20%\n",
      "model(kernel=linear, C=0.1)\n",
      "Valid:         AUC: 0.9207 | AUPR: 0.6390 | Acc: 95.15%\n",
      "model(kernel=linear, C=1)\n",
      "Valid:         AUC: 0.9204 | AUPR: 0.6372 | Acc: 95.12%\n",
      "=======================================================\n",
      "best model(kernel=linear, C=0.1)\n",
      "Valid:         AUC: 0.9207 | AUPR: 0.6390 | Acc: 95.15%\n",
      "Internal test: AUC: 0.9301 | AUPR: 0.6775 | Acc: 94.77%\n",
      "External test: AUC: 0.9155 | AUPR: 0.6148 | Acc: 94.65%\n"
     ]
    }
   ],
   "source": [
    "from sklearn.svm import SVC\n",
    "\n",
    "model_fn = functools.partial(\n",
    "    SVC, random_state=SEED, probability=True,\n",
    "    class_weight='balanced')\n",
    "param_grid_list = [{\n",
    "    'kernel': ['linear'],\n",
    "    'C': [0.01, 0.1, 1],\n",
    "}]\n",
    "best_metrics, best_params, best_model = classification_dataset.perform_grid_search(model_fn, param_grid_list)\n",
    "metrics_internal, metrics_external = classification_dataset.evaluate_test_sets(best_model)\n",
    "results_dict[get_model_name(model_fn)] = np.concatenate([best_metrics, metrics_internal, metrics_external], axis=0)"
   ]
  },
  {
   "cell_type": "code",
   "execution_count": 8,
   "metadata": {},
   "outputs": [
    {
     "name": "stdout",
     "output_type": "stream",
     "text": [
      "GradientBoostingClassifier\n",
      "model(criterion=friedman_mse)\n",
      "Valid:         AUC: 0.9220 | AUPR: 0.6563 | Acc: 95.35%\n",
      "model(criterion=squared_error)\n",
      "Valid:         AUC: 0.9220 | AUPR: 0.6567 | Acc: 95.36%\n",
      "=======================================================\n",
      "best model(criterion=squared_error)\n",
      "Valid:         AUC: 0.9220 | AUPR: 0.6567 | Acc: 95.36%\n",
      "Internal test: AUC: 0.9280 | AUPR: 0.6838 | Acc: 95.11%\n",
      "External test: AUC: 0.9207 | AUPR: 0.6632 | Acc: 95.15%\n"
     ]
    }
   ],
   "source": [
    "from sklearn.ensemble import GradientBoostingClassifier\n",
    "\n",
    "model_fn = functools.partial(\n",
    "    GradientBoostingClassifier, random_state=SEED,\n",
    "    learning_rate=0.1, max_depth=5, loss='log_loss', \n",
    "    n_estimators=100)\n",
    "param_grid_list = [{\n",
    "        'criterion': ['friedman_mse', 'squared_error'],\n",
    "    }\n",
    "]\n",
    "best_metrics, best_params, best_model = classification_dataset.perform_grid_search(model_fn, param_grid_list)\n",
    "metrics_internal, metrics_external = classification_dataset.evaluate_test_sets(best_model)\n",
    "results_dict[get_model_name(model_fn)] = np.concatenate([best_metrics, metrics_internal, metrics_external], axis=0)"
   ]
  },
  {
   "cell_type": "code",
   "execution_count": 9,
   "metadata": {},
   "outputs": [
    {
     "name": "stdout",
     "output_type": "stream",
     "text": [
      "AdaBoostClassifier\n",
      "model(n_estimators=100, learning_rate=1.0)\n",
      "Valid:         AUC: 0.9122 | AUPR: 0.6203 | Acc: 95.22%\n",
      "model(n_estimators=200, learning_rate=1.0)\n",
      "Valid:         AUC: 0.9138 | AUPR: 0.6239 | Acc: 95.19%\n",
      "model(n_estimators=500, learning_rate=1.0)\n",
      "Valid:         AUC: 0.9146 | AUPR: 0.6259 | Acc: 95.19%\n",
      "=======================================================\n",
      "best model(n_estimators=500, learning_rate=1.0)\n",
      "Valid:         AUC: 0.9146 | AUPR: 0.6259 | Acc: 95.19%\n",
      "Internal test: AUC: 0.9219 | AUPR: 0.6787 | Acc: 94.91%\n",
      "External test: AUC: 0.9144 | AUPR: 0.6208 | Acc: 94.67%\n"
     ]
    }
   ],
   "source": [
    "from sklearn.ensemble import AdaBoostClassifier\n",
    "model_fn = functools.partial(AdaBoostClassifier, random_state=SEED, algorithm=\"SAMME\")\n",
    "param_grid_list = [{\n",
    "    'n_estimators': [100, 200, 500],\n",
    "    'learning_rate': [1.0],\n",
    "}]\n",
    "best_metrics, best_params, best_model = classification_dataset.perform_grid_search(model_fn, param_grid_list)\n",
    "metrics_internal, metrics_external = classification_dataset.evaluate_test_sets(best_model)\n",
    "results_dict[get_model_name(model_fn)] = np.concatenate([best_metrics, metrics_internal, metrics_external], axis=0)"
   ]
  },
  {
   "cell_type": "code",
   "execution_count": 10,
   "metadata": {},
   "outputs": [
    {
     "name": "stdout",
     "output_type": "stream",
     "text": [
      "KNeighborsClassifier\n",
      "model(n_neighbors=3)\n",
      "Valid:         AUC: 0.7632 | AUPR: 0.4395 | Acc: 94.91%\n",
      "model(n_neighbors=5)\n",
      "Valid:         AUC: 0.7920 | AUPR: 0.4879 | Acc: 95.12%\n",
      "model(n_neighbors=7)\n",
      "Valid:         AUC: 0.8094 | AUPR: 0.5173 | Acc: 95.19%\n",
      "=======================================================\n",
      "best model(n_neighbors=7)\n",
      "Valid:         AUC: 0.8094 | AUPR: 0.5173 | Acc: 95.19%\n",
      "Internal test: AUC: 0.8068 | AUPR: 0.5538 | Acc: 95.21%\n",
      "External test: AUC: 0.8099 | AUPR: 0.5395 | Acc: 95.10%\n"
     ]
    }
   ],
   "source": [
    "from sklearn.neighbors import KNeighborsClassifier\n",
    "\n",
    "model_fn = functools.partial(\n",
    "    KNeighborsClassifier, n_jobs=-1, algorithm='auto', p=2)\n",
    "param_grid_list = [{\n",
    "    'n_neighbors': [3, 5, 7],\n",
    "}]\n",
    "best_metrics, best_params, best_model = classification_dataset.perform_grid_search(model_fn, param_grid_list)\n",
    "metrics_internal, metrics_external = classification_dataset.evaluate_test_sets(best_model)\n",
    "results_dict[get_model_name(model_fn)] = np.concatenate([best_metrics, metrics_internal, metrics_external], axis=0)"
   ]
  },
  {
   "cell_type": "code",
   "execution_count": 11,
   "metadata": {},
   "outputs": [
    {
     "name": "stdout",
     "output_type": "stream",
     "text": [
      "DecisionTreeClassifier\n",
      "model(criterion=gini)\n",
      "Valid:         AUC: 0.8619 | AUPR: 0.5545 | Acc: 87.03%\n",
      "model(criterion=log_loss)\n",
      "Valid:         AUC: 0.8662 | AUPR: 0.5705 | Acc: 88.59%\n",
      "model(criterion=entropy)\n",
      "Valid:         AUC: 0.8662 | AUPR: 0.5705 | Acc: 88.59%\n",
      "=======================================================\n",
      "best model(criterion=log_loss)\n",
      "Valid:         AUC: 0.8662 | AUPR: 0.5705 | Acc: 88.59%\n",
      "Internal test: AUC: 0.8730 | AUPR: 0.6196 | Acc: 89.61%\n",
      "External test: AUC: 0.8591 | AUPR: 0.5810 | Acc: 88.50%\n"
     ]
    }
   ],
   "source": [
    "from sklearn.tree import DecisionTreeClassifier\n",
    "\n",
    "model_fn = functools.partial(\n",
    "    DecisionTreeClassifier, random_state=SEED,\n",
    "    ccp_alpha=0.0, class_weight='balanced', max_depth=5)\n",
    "param_grid_list = [{\n",
    "        'criterion': ['gini', 'log_loss', 'entropy'],\n",
    "    }\n",
    "]\n",
    "best_metrics, best_params, best_model = classification_dataset.perform_grid_search(model_fn, param_grid_list)\n",
    "metrics_internal, metrics_external = classification_dataset.evaluate_test_sets(best_model)\n",
    "results_dict[get_model_name(model_fn)] = np.concatenate([best_metrics, metrics_internal, metrics_external], axis=0)"
   ]
  },
  {
   "cell_type": "code",
   "execution_count": 12,
   "metadata": {},
   "outputs": [
    {
     "name": "stdout",
     "output_type": "stream",
     "text": [
      "GaussianNB\n",
      "model()\n",
      "Valid:         AUC: 0.8881 | AUPR: 0.4648 | Acc: 87.21%\n",
      "=======================================================\n",
      "best model()\n",
      "Valid:         AUC: 0.8881 | AUPR: 0.4648 | Acc: 87.21%\n",
      "Internal test: AUC: 0.9008 | AUPR: 0.5248 | Acc: 87.49%\n",
      "External test: AUC: 0.8863 | AUPR: 0.4575 | Acc: 86.24%\n"
     ]
    }
   ],
   "source": [
    "from sklearn.naive_bayes import GaussianNB\n",
    "\n",
    "model_fn = GaussianNB\n",
    "param_grid_list = [{}]\n",
    "best_metrics, best_params, best_model = classification_dataset.perform_grid_search(model_fn, param_grid_list)\n",
    "metrics_internal, metrics_external = classification_dataset.evaluate_test_sets(best_model)\n",
    "results_dict[get_model_name(model_fn)] = np.concatenate([best_metrics, metrics_internal, metrics_external], axis=0)"
   ]
  },
  {
   "cell_type": "code",
   "execution_count": 13,
   "metadata": {},
   "outputs": [],
   "source": [
    "dataframe = pd.DataFrame(results_dict).transpose().reset_index()\n",
    "dataframe.columns = ['model', 'val_auc', 'val_aupr', 'val_acc', 'intest_auc', 'intest_aupr', 'intest_acc', 'extest_auc', 'extest_aupr', 'extest_acc']\n",
    "# dataframe.to_csv()\n",
    "filename = os.path.join(RESULTS_DIR, encode_method, impute_method, f'{fs_method}{int(fs_ratio * 142)}.csv')\n",
    "dirname = os.path.dirname(filename)\n",
    "if not os.path.exists(dirname):\n",
    "    os.makedirs(dirname)\n",
    "dataframe.to_csv(filename, index=False)"
   ]
  },
  {
   "cell_type": "code",
   "execution_count": null,
   "metadata": {},
   "outputs": [],
   "source": []
  }
 ],
 "metadata": {
  "kernelspec": {
   "display_name": "Python 3 (ipykernel)",
   "language": "python",
   "name": "python3"
  },
  "language_info": {
   "codemirror_mode": {
    "name": "ipython",
    "version": 3
   },
   "file_extension": ".py",
   "mimetype": "text/x-python",
   "name": "python",
   "nbconvert_exporter": "python",
   "pygments_lexer": "ipython3",
   "version": "3.10.6"
  }
 },
 "nbformat": 4,
 "nbformat_minor": 4
}
