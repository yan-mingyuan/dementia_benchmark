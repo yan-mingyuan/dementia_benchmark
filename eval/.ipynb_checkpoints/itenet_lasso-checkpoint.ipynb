{
 "cells": [
  {
   "cell_type": "code",
   "execution_count": 1,
   "metadata": {},
   "outputs": [],
   "source": [
    "import os\n",
    "os.chdir('..')\n",
    "\n",
    "from config import *\n",
    "from utilities import get_model_name\n",
    "from dataset import ClassificationDataset\n",
    "\n",
    "import functools\n",
    "import numpy as np\n",
    "import pandas as pd\n",
    "\n",
    "results_dict = {}\n",
    "internal, external = 11, 12\n",
    "encode_method = \"dummy\"\n",
    "impute_method = \"itenet\"\n",
    "fs_method, fs_ratio = \"lasso\", 50/142\n",
    "norm_method = \"maxmin\"\n",
    "classification_dataset = ClassificationDataset(\n",
    "    internal, external, encode_method, impute_method, fs_method, fs_ratio, norm_method, random_state=SEED)"
   ]
  },
  {
   "cell_type": "code",
   "execution_count": 2,
   "metadata": {},
   "outputs": [
    {
     "name": "stdout",
     "output_type": "stream",
     "text": [
      "GNNClassifier\n",
      "model(hidden_layer_sizes=(128, 128), learning_rate=0.005)\n",
      "Valid:         AUC: 0.9192 | AUPR: 0.6506 | Acc: 95.30%\n",
      "model(hidden_layer_sizes=(128, 128), learning_rate=0.01)\n",
      "Valid:         AUC: 0.9229 | AUPR: 0.6616 | Acc: 95.27%\n",
      "model(hidden_layer_sizes=(128, 128), learning_rate=0.02)\n",
      "Valid:         AUC: 0.9274 | AUPR: 0.6770 | Acc: 95.39%\n",
      "model(hidden_layer_sizes=(64, 64, 64), learning_rate=0.005)\n",
      "Valid:         AUC: 0.9182 | AUPR: 0.6474 | Acc: 95.15%\n",
      "model(hidden_layer_sizes=(64, 64, 64), learning_rate=0.01)\n",
      "Valid:         AUC: 0.9234 | AUPR: 0.6638 | Acc: 95.32%\n",
      "model(hidden_layer_sizes=(64, 64, 64), learning_rate=0.02)\n",
      "Valid:         AUC: 0.9281 | AUPR: 0.6813 | Acc: 95.45%\n",
      "=======================================================\n",
      "best model(hidden_layer_sizes=(64, 64, 64), learning_rate=0.02)\n",
      "Valid:         AUC: 0.9281 | AUPR: 0.6813 | Acc: 95.45%\n",
      "Internal test: AUC: 0.9312 | AUPR: 0.7040 | Acc: 95.38%\n",
      "External test: AUC: 0.9230 | AUPR: 0.6726 | Acc: 95.26%\n"
     ]
    }
   ],
   "source": [
    "from utilities import GNNClassifier\n",
    "\n",
    "model_fn = functools.partial(\n",
    "    GNNClassifier, random_state=SEED, max_iter=50,\n",
    "    momentum=0.9, squares=0.999, optimizer_t='sgdm',\n",
    "    use_residual=True, use_batch_norm=False)\n",
    "param_grid_list = [{\n",
    "    'hidden_layer_sizes': [(128, 128), (64, 64, 64)],\n",
    "    'learning_rate': [5e-3, 1e-2, 2e-2],\n",
    "}]\n",
    "best_metrics, best_params, best_model = classification_dataset.perform_grid_search(model_fn, param_grid_list)\n",
    "metrics_internal, metrics_external = classification_dataset.evaluate_test_sets(best_model)\n",
    "results_dict[get_model_name(model_fn)] = np.concatenate([best_metrics, metrics_internal, metrics_external], axis=0)"
   ]
  },
  {
   "cell_type": "code",
   "execution_count": 3,
   "metadata": {},
   "outputs": [
    {
     "name": "stdout",
     "output_type": "stream",
     "text": [
      "MLPClassifier\n",
      "model(hidden_layer_sizes=(128, 128), learning_rate=0.005)\n",
      "Valid:         AUC: 0.9203 | AUPR: 0.6536 | Acc: 95.30%\n",
      "model(hidden_layer_sizes=(128, 128), learning_rate=0.01)\n",
      "Valid:         AUC: 0.9241 | AUPR: 0.6643 | Acc: 95.29%\n",
      "model(hidden_layer_sizes=(128, 128), learning_rate=0.02)\n",
      "Valid:         AUC: 0.9278 | AUPR: 0.6781 | Acc: 95.49%\n",
      "model(hidden_layer_sizes=(64, 64, 64), learning_rate=0.005)\n",
      "Valid:         AUC: 0.9204 | AUPR: 0.6574 | Acc: 95.29%\n",
      "model(hidden_layer_sizes=(64, 64, 64), learning_rate=0.01)\n",
      "Valid:         AUC: 0.9246 | AUPR: 0.6707 | Acc: 95.36%\n",
      "model(hidden_layer_sizes=(64, 64, 64), learning_rate=0.02)\n",
      "Valid:         AUC: 0.9280 | AUPR: 0.6818 | Acc: 95.49%\n",
      "=======================================================\n",
      "best model(hidden_layer_sizes=(64, 64, 64), learning_rate=0.02)\n",
      "Valid:         AUC: 0.9280 | AUPR: 0.6818 | Acc: 95.49%\n",
      "Internal test: AUC: 0.9313 | AUPR: 0.7052 | Acc: 95.57%\n",
      "External test: AUC: 0.9229 | AUPR: 0.6748 | Acc: 95.27%\n"
     ]
    }
   ],
   "source": [
    "# from sklearn.neural_network import MLPClassifier\n",
    "from utilities import MLPClassifier\n",
    "\n",
    "model_fn = functools.partial(\n",
    "    MLPClassifier, random_state=SEED, max_iter=50,\n",
    "    momentum=0.9, squares=0.999, optimizer_t='sgdm',\n",
    "    use_residual=True, use_batch_norm=False)\n",
    "param_grid_list = [{\n",
    "    # hidden_layer_sizes = (64, 32)\n",
    "    # config       lr_range            worst_auc\n",
    "    # adam w/ bn:  [2e-5, 5e-5, 1e-4]  0.8942\n",
    "    # adam w/o bn: [5e-5, 1e-4, 2e-4]  0.9148\n",
    "    # sgdm w/ bn:  [1e-3, 2e-3, 5e-3]  0.8982\n",
    "    # sgdm w/o bn: [5e-3, 1e-2, 2e-2]  0.9177\n",
    "\n",
    "    'hidden_layer_sizes': [(128, 128), (64, 64, 64)],\n",
    "    'learning_rate': [5e-3, 1e-2, 2e-2],\n",
    "}]\n",
    "best_metrics, best_params, best_model = classification_dataset.perform_grid_search(model_fn, param_grid_list)\n",
    "metrics_internal, metrics_external = classification_dataset.evaluate_test_sets(best_model)\n",
    "results_dict[get_model_name(model_fn)] = np.concatenate([best_metrics, metrics_internal, metrics_external], axis=0)"
   ]
  },
  {
   "cell_type": "code",
   "execution_count": 4,
   "metadata": {},
   "outputs": [
    {
     "name": "stdout",
     "output_type": "stream",
     "text": [
      "LogisticRegression\n",
      "model(C=1.0)\n",
      "Valid:         AUC: 0.9254 | AUPR: 0.6603 | Acc: 95.32%\n",
      "model(C=10.0)\n",
      "Valid:         AUC: 0.9253 | AUPR: 0.6597 | Acc: 95.29%\n",
      "model(C=100.0)\n",
      "Valid:         AUC: 0.9253 | AUPR: 0.6594 | Acc: 95.29%\n",
      "=======================================================\n",
      "best model(C=1.0)\n",
      "Valid:         AUC: 0.9254 | AUPR: 0.6603 | Acc: 95.32%\n",
      "Internal test: AUC: 0.9288 | AUPR: 0.6879 | Acc: 95.13%\n",
      "External test: AUC: 0.9172 | AUPR: 0.6367 | Acc: 94.95%\n"
     ]
    }
   ],
   "source": [
    "# from sklearn.exceptions import ConvergenceWarning\n",
    "# import warnings\n",
    "# warnings.filterwarnings(\"ignore\", category=ConvergenceWarning)\n",
    "from sklearn.linear_model import LogisticRegression\n",
    "\n",
    "model_fn = functools.partial(\n",
    "    LogisticRegression, random_state=SEED, n_jobs=-1, \n",
    "    max_iter=2000, solver='saga', penalty='l2',\n",
    "    )\n",
    "param_grid_list = [{\n",
    "    'C': [1.0, 10.0, 100.0],\n",
    "}]\n",
    "best_metrics, best_params, best_model = classification_dataset.perform_grid_search(\n",
    "    model_fn, param_grid_list)\n",
    "metrics_internal, metrics_external = classification_dataset.evaluate_test_sets(\n",
    "    best_model)\n",
    "results_dict[get_model_name(model_fn)] = np.concatenate([best_metrics, metrics_internal, metrics_external], axis=0)"
   ]
  },
  {
   "cell_type": "code",
   "execution_count": 5,
   "metadata": {},
   "outputs": [
    {
     "name": "stdout",
     "output_type": "stream",
     "text": [
      "TabNetClassifier\n",
      "model(optimizer_params={'lr': 0.05}, gamma=1.5)\n",
      "Valid:         AUC: 0.9143 | AUPR: 0.6460 | Acc: 95.26%\n",
      "model(optimizer_params={'lr': 0.05}, gamma=1.75)\n",
      "Valid:         AUC: 0.9117 | AUPR: 0.6276 | Acc: 95.18%\n",
      "model(optimizer_params={'lr': 0.05}, gamma=2.0)\n",
      "Valid:         AUC: 0.9129 | AUPR: 0.6437 | Acc: 95.40%\n",
      "=======================================================\n",
      "best model(optimizer_params={'lr': 0.05}, gamma=1.5)\n",
      "Valid:         AUC: 0.9143 | AUPR: 0.6460 | Acc: 95.26%\n",
      "Internal test: AUC: 0.9115 | AUPR: 0.6395 | Acc: 94.74%\n",
      "External test: AUC: 0.8955 | AUPR: 0.6034 | Acc: 94.74%\n"
     ]
    }
   ],
   "source": [
    "import warnings\n",
    "from pytorch_tabnet.tab_model import TabNetClassifier\n",
    "warnings.filterwarnings(\"ignore\", category=UserWarning)\n",
    "\n",
    "model_fn = functools.partial(\n",
    "    TabNetClassifier, seed=SEED, \n",
    "    n_d=4, n_a=4, momentum=0.05, \n",
    "    n_steps=3, gamma=1.75, cat_emb_dim=1,\n",
    "    n_independent=2, n_shared=2,\n",
    "    verbose=0)\n",
    "param_grid_list = [{\n",
    "    'optimizer_params': [dict(lr=lr) for lr in [5e-2]],\n",
    "    'gamma': [1.5, 1.75, 2.0],\n",
    "}]\n",
    "best_metrics, best_params, best_model = classification_dataset.perform_grid_search(model_fn, param_grid_list)\n",
    "metrics_internal, metrics_external = classification_dataset.evaluate_test_sets(best_model)\n",
    "results_dict[get_model_name(model_fn)] = np.concatenate([best_metrics, metrics_internal, metrics_external], axis=0)\n",
    "warnings.resetwarnings()"
   ]
  },
  {
   "cell_type": "code",
   "execution_count": 6,
   "metadata": {},
   "outputs": [
    {
     "name": "stdout",
     "output_type": "stream",
     "text": [
      "RandomForestClassifier\n",
      "model(criterion=gini, n_estimators=50)\n",
      "Valid:         AUC: 0.9162 | AUPR: 0.6602 | Acc: 89.15%\n",
      "model(criterion=gini, n_estimators=100)\n",
      "Valid:         AUC: 0.9170 | AUPR: 0.6614 | Acc: 89.43%\n",
      "model(criterion=gini, n_estimators=200)\n",
      "Valid:         AUC: 0.9175 | AUPR: 0.6624 | Acc: 89.48%\n",
      "model(criterion=log_loss, n_estimators=50)\n",
      "Valid:         AUC: 0.9155 | AUPR: 0.6608 | Acc: 89.50%\n",
      "model(criterion=log_loss, n_estimators=100)\n",
      "Valid:         AUC: 0.9167 | AUPR: 0.6612 | Acc: 89.91%\n",
      "model(criterion=log_loss, n_estimators=200)\n",
      "Valid:         AUC: 0.9170 | AUPR: 0.6629 | Acc: 89.62%\n",
      "model(criterion=entropy, n_estimators=50)\n",
      "Valid:         AUC: 0.9155 | AUPR: 0.6608 | Acc: 89.50%\n",
      "model(criterion=entropy, n_estimators=100)\n",
      "Valid:         AUC: 0.9167 | AUPR: 0.6612 | Acc: 89.91%\n",
      "model(criterion=entropy, n_estimators=200)\n",
      "Valid:         AUC: 0.9170 | AUPR: 0.6629 | Acc: 89.62%\n",
      "=======================================================\n",
      "best model(criterion=gini, n_estimators=200)\n",
      "Valid:         AUC: 0.9175 | AUPR: 0.6624 | Acc: 89.48%\n",
      "Internal test: AUC: 0.9247 | AUPR: 0.6984 | Acc: 89.51%\n",
      "External test: AUC: 0.9137 | AUPR: 0.6600 | Acc: 88.66%\n"
     ]
    }
   ],
   "source": [
    "from sklearn.ensemble import RandomForestClassifier\n",
    "\n",
    "model_fn = functools.partial(\n",
    "    RandomForestClassifier, random_state=SEED, n_jobs=-1,\n",
    "    ccp_alpha=0.0, class_weight='balanced', max_depth=5, bootstrap=False)\n",
    "param_grid_list = [{\n",
    "        'criterion': ['gini', 'log_loss', 'entropy'],\n",
    "        'n_estimators': [50, 100, 200],\n",
    "    }\n",
    "]\n",
    "best_metrics, best_params, best_model = classification_dataset.perform_grid_search(model_fn, param_grid_list)\n",
    "metrics_internal, metrics_external = classification_dataset.evaluate_test_sets(best_model)\n",
    "results_dict[get_model_name(model_fn)] = np.concatenate([best_metrics, metrics_internal, metrics_external], axis=0)"
   ]
  },
  {
   "cell_type": "code",
   "execution_count": 7,
   "metadata": {},
   "outputs": [
    {
     "name": "stdout",
     "output_type": "stream",
     "text": [
      "SVC\n",
      "model(kernel=linear, C=0.01)\n",
      "Valid:         AUC: 0.9232 | AUPR: 0.6298 | Acc: 95.07%\n",
      "model(kernel=linear, C=0.1)\n",
      "Valid:         AUC: 0.9251 | AUPR: 0.6243 | Acc: 94.93%\n",
      "model(kernel=linear, C=1)\n",
      "Valid:         AUC: 0.9245 | AUPR: 0.6255 | Acc: 94.91%\n",
      "=======================================================\n",
      "best model(kernel=linear, C=0.1)\n",
      "Valid:         AUC: 0.9251 | AUPR: 0.6243 | Acc: 94.93%\n",
      "Internal test: AUC: 0.9295 | AUPR: 0.6662 | Acc: 94.84%\n",
      "External test: AUC: 0.9186 | AUPR: 0.6088 | Acc: 94.71%\n"
     ]
    }
   ],
   "source": [
    "from sklearn.svm import SVC\n",
    "\n",
    "model_fn = functools.partial(\n",
    "    SVC, random_state=SEED, probability=True,\n",
    "    class_weight='balanced')\n",
    "param_grid_list = [{\n",
    "    'kernel': ['linear'],\n",
    "    'C': [0.01, 0.1, 1],\n",
    "}]\n",
    "best_metrics, best_params, best_model = classification_dataset.perform_grid_search(model_fn, param_grid_list)\n",
    "metrics_internal, metrics_external = classification_dataset.evaluate_test_sets(best_model)\n",
    "results_dict[get_model_name(model_fn)] = np.concatenate([best_metrics, metrics_internal, metrics_external], axis=0)"
   ]
  },
  {
   "cell_type": "code",
   "execution_count": 8,
   "metadata": {},
   "outputs": [
    {
     "name": "stdout",
     "output_type": "stream",
     "text": [
      "GradientBoostingClassifier\n",
      "model(criterion=friedman_mse)\n",
      "Valid:         AUC: 0.9232 | AUPR: 0.6595 | Acc: 95.38%\n",
      "model(criterion=squared_error)\n",
      "Valid:         AUC: 0.9233 | AUPR: 0.6601 | Acc: 95.38%\n",
      "=======================================================\n",
      "best model(criterion=squared_error)\n",
      "Valid:         AUC: 0.9233 | AUPR: 0.6601 | Acc: 95.38%\n",
      "Internal test: AUC: 0.9264 | AUPR: 0.6982 | Acc: 95.26%\n",
      "External test: AUC: 0.9221 | AUPR: 0.6536 | Acc: 95.10%\n"
     ]
    }
   ],
   "source": [
    "from sklearn.ensemble import GradientBoostingClassifier\n",
    "\n",
    "model_fn = functools.partial(\n",
    "    GradientBoostingClassifier, random_state=SEED,\n",
    "    learning_rate=0.1, max_depth=5, loss='log_loss', \n",
    "    n_estimators=100)\n",
    "param_grid_list = [{\n",
    "        'criterion': ['friedman_mse', 'squared_error'],\n",
    "    }\n",
    "]\n",
    "best_metrics, best_params, best_model = classification_dataset.perform_grid_search(model_fn, param_grid_list)\n",
    "metrics_internal, metrics_external = classification_dataset.evaluate_test_sets(best_model)\n",
    "results_dict[get_model_name(model_fn)] = np.concatenate([best_metrics, metrics_internal, metrics_external], axis=0)"
   ]
  },
  {
   "cell_type": "code",
   "execution_count": 9,
   "metadata": {},
   "outputs": [
    {
     "name": "stdout",
     "output_type": "stream",
     "text": [
      "AdaBoostClassifier\n",
      "model(n_estimators=100, learning_rate=1.0)\n",
      "Valid:         AUC: 0.9172 | AUPR: 0.6320 | Acc: 95.08%\n",
      "model(n_estimators=200, learning_rate=1.0)\n",
      "Valid:         AUC: 0.9193 | AUPR: 0.6377 | Acc: 95.13%\n",
      "model(n_estimators=500, learning_rate=1.0)\n",
      "Valid:         AUC: 0.9211 | AUPR: 0.6400 | Acc: 95.13%\n",
      "=======================================================\n",
      "best model(n_estimators=500, learning_rate=1.0)\n",
      "Valid:         AUC: 0.9211 | AUPR: 0.6400 | Acc: 95.13%\n",
      "Internal test: AUC: 0.9247 | AUPR: 0.6803 | Acc: 95.04%\n",
      "External test: AUC: 0.9154 | AUPR: 0.6203 | Acc: 94.80%\n"
     ]
    }
   ],
   "source": [
    "from sklearn.ensemble import AdaBoostClassifier\n",
    "model_fn = functools.partial(AdaBoostClassifier, random_state=SEED, algorithm=\"SAMME\")\n",
    "param_grid_list = [{\n",
    "    'n_estimators': [100, 200, 500],\n",
    "    'learning_rate': [1.0],\n",
    "}]\n",
    "best_metrics, best_params, best_model = classification_dataset.perform_grid_search(model_fn, param_grid_list)\n",
    "metrics_internal, metrics_external = classification_dataset.evaluate_test_sets(best_model)\n",
    "results_dict[get_model_name(model_fn)] = np.concatenate([best_metrics, metrics_internal, metrics_external], axis=0)"
   ]
  },
  {
   "cell_type": "code",
   "execution_count": 10,
   "metadata": {},
   "outputs": [
    {
     "name": "stdout",
     "output_type": "stream",
     "text": [
      "KNeighborsClassifier\n",
      "model(n_neighbors=3)\n",
      "Valid:         AUC: 0.7704 | AUPR: 0.4441 | Acc: 94.91%\n",
      "model(n_neighbors=5)\n",
      "Valid:         AUC: 0.7951 | AUPR: 0.4957 | Acc: 95.10%\n",
      "model(n_neighbors=7)\n",
      "Valid:         AUC: 0.8079 | AUPR: 0.5225 | Acc: 95.16%\n",
      "=======================================================\n",
      "best model(n_neighbors=7)\n",
      "Valid:         AUC: 0.8079 | AUPR: 0.5225 | Acc: 95.16%\n",
      "Internal test: AUC: 0.8202 | AUPR: 0.5510 | Acc: 94.91%\n",
      "External test: AUC: 0.8134 | AUPR: 0.5265 | Acc: 94.94%\n"
     ]
    }
   ],
   "source": [
    "from sklearn.neighbors import KNeighborsClassifier\n",
    "\n",
    "model_fn = functools.partial(\n",
    "    KNeighborsClassifier, n_jobs=-1, algorithm='auto', p=2)\n",
    "param_grid_list = [{\n",
    "    'n_neighbors': [3, 5, 7],\n",
    "}]\n",
    "best_metrics, best_params, best_model = classification_dataset.perform_grid_search(model_fn, param_grid_list)\n",
    "metrics_internal, metrics_external = classification_dataset.evaluate_test_sets(best_model)\n",
    "results_dict[get_model_name(model_fn)] = np.concatenate([best_metrics, metrics_internal, metrics_external], axis=0)"
   ]
  },
  {
   "cell_type": "code",
   "execution_count": 11,
   "metadata": {},
   "outputs": [
    {
     "name": "stdout",
     "output_type": "stream",
     "text": [
      "DecisionTreeClassifier\n",
      "model(criterion=gini)\n",
      "Valid:         AUC: 0.8600 | AUPR: 0.5693 | Acc: 88.03%\n",
      "model(criterion=log_loss)\n",
      "Valid:         AUC: 0.8624 | AUPR: 0.5750 | Acc: 89.06%\n",
      "model(criterion=entropy)\n",
      "Valid:         AUC: 0.8624 | AUPR: 0.5750 | Acc: 89.06%\n",
      "=======================================================\n",
      "best model(criterion=log_loss)\n",
      "Valid:         AUC: 0.8624 | AUPR: 0.5750 | Acc: 89.06%\n",
      "Internal test: AUC: 0.8781 | AUPR: 0.6228 | Acc: 90.75%\n",
      "External test: AUC: 0.8681 | AUPR: 0.5884 | Acc: 89.99%\n"
     ]
    }
   ],
   "source": [
    "from sklearn.tree import DecisionTreeClassifier\n",
    "\n",
    "model_fn = functools.partial(\n",
    "    DecisionTreeClassifier, random_state=SEED,\n",
    "    ccp_alpha=0.0, class_weight='balanced', max_depth=5)\n",
    "param_grid_list = [{\n",
    "        'criterion': ['gini', 'log_loss', 'entropy'],\n",
    "    }\n",
    "]\n",
    "best_metrics, best_params, best_model = classification_dataset.perform_grid_search(model_fn, param_grid_list)\n",
    "metrics_internal, metrics_external = classification_dataset.evaluate_test_sets(best_model)\n",
    "results_dict[get_model_name(model_fn)] = np.concatenate([best_metrics, metrics_internal, metrics_external], axis=0)"
   ]
  },
  {
   "cell_type": "code",
   "execution_count": 12,
   "metadata": {},
   "outputs": [
    {
     "name": "stdout",
     "output_type": "stream",
     "text": [
      "GaussianNB\n",
      "model()\n",
      "Valid:         AUC: 0.8901 | AUPR: 0.4676 | Acc: 86.62%\n",
      "=======================================================\n",
      "best model()\n",
      "Valid:         AUC: 0.8901 | AUPR: 0.4676 | Acc: 86.62%\n",
      "Internal test: AUC: 0.9029 | AUPR: 0.5200 | Acc: 87.79%\n",
      "External test: AUC: 0.8903 | AUPR: 0.4574 | Acc: 86.64%\n"
     ]
    }
   ],
   "source": [
    "from sklearn.naive_bayes import GaussianNB\n",
    "\n",
    "model_fn = GaussianNB\n",
    "param_grid_list = [{}]\n",
    "best_metrics, best_params, best_model = classification_dataset.perform_grid_search(model_fn, param_grid_list)\n",
    "metrics_internal, metrics_external = classification_dataset.evaluate_test_sets(best_model)\n",
    "results_dict[get_model_name(model_fn)] = np.concatenate([best_metrics, metrics_internal, metrics_external], axis=0)"
   ]
  },
  {
   "cell_type": "code",
   "execution_count": 13,
   "metadata": {},
   "outputs": [],
   "source": [
    "dataframe = pd.DataFrame(results_dict).transpose().reset_index()\n",
    "dataframe.columns = ['model', 'val_auc', 'val_aupr', 'val_acc', 'intest_auc', 'intest_aupr', 'intest_acc', 'extest_auc', 'extest_aupr', 'extest_acc']\n",
    "# dataframe.to_csv()\n",
    "filename = os.path.join(RESULTS_DIR, encode_method, impute_method, f'{fs_method}{int(fs_ratio * 142)}.csv')\n",
    "dirname = os.path.dirname(filename)\n",
    "if not os.path.exists(dirname):\n",
    "    os.makedirs(dirname)\n",
    "dataframe.to_csv(filename, index=False)"
   ]
  },
  {
   "cell_type": "code",
   "execution_count": null,
   "metadata": {},
   "outputs": [],
   "source": []
  }
 ],
 "metadata": {
  "kernelspec": {
   "display_name": "Python 3 (ipykernel)",
   "language": "python",
   "name": "python3"
  },
  "language_info": {
   "codemirror_mode": {
    "name": "ipython",
    "version": 3
   },
   "file_extension": ".py",
   "mimetype": "text/x-python",
   "name": "python",
   "nbconvert_exporter": "python",
   "pygments_lexer": "ipython3",
   "version": "3.10.6"
  }
 },
 "nbformat": 4,
 "nbformat_minor": 4
}
