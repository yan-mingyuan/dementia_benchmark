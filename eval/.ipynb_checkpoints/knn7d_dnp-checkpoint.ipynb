{
 "cells": [
  {
   "cell_type": "code",
   "execution_count": 1,
   "metadata": {},
   "outputs": [],
   "source": [
    "import os\n",
    "os.chdir('..')\n",
    "\n",
    "from config import *\n",
    "from utilities import get_model_name\n",
    "from dataset import ClassificationDataset\n",
    "\n",
    "import functools\n",
    "import numpy as np\n",
    "import pandas as pd\n",
    "\n",
    "results_dict = {}\n",
    "internal, external = 11, 12\n",
    "encode_method = \"dummy\"\n",
    "impute_method = \"mean\"\n",
    "fs_method, fs_ratio = \"dnp\", 50/142\n",
    "norm_method = \"maxmin\"\n",
    "classification_dataset = ClassificationDataset(\n",
    "    internal, external, encode_method, impute_method, fs_method, fs_ratio, norm_method, random_state=SEED)"
   ]
  },
  {
   "cell_type": "code",
   "execution_count": 2,
   "metadata": {},
   "outputs": [
    {
     "name": "stdout",
     "output_type": "stream",
     "text": [
      "GNNClassifier\n",
      "model(hidden_layer_sizes=(128, 128), learning_rate=0.005)\n",
      "Valid:         AUC: 0.9108 | AUPR: 0.5972 | Acc: 94.84%\n",
      "model(hidden_layer_sizes=(128, 128), learning_rate=0.01)\n",
      "Valid:         AUC: 0.9168 | AUPR: 0.6168 | Acc: 95.10%\n",
      "model(hidden_layer_sizes=(128, 128), learning_rate=0.02)\n",
      "Valid:         AUC: 0.9193 | AUPR: 0.6295 | Acc: 95.13%\n",
      "model(hidden_layer_sizes=(64, 64, 64), learning_rate=0.005)\n",
      "Valid:         AUC: 0.9100 | AUPR: 0.5937 | Acc: 94.81%\n",
      "model(hidden_layer_sizes=(64, 64, 64), learning_rate=0.01)\n",
      "Valid:         AUC: 0.9170 | AUPR: 0.6143 | Acc: 95.01%\n",
      "model(hidden_layer_sizes=(64, 64, 64), learning_rate=0.02)\n",
      "Valid:         AUC: 0.9206 | AUPR: 0.6319 | Acc: 95.08%\n",
      "=======================================================\n",
      "best model(hidden_layer_sizes=(64, 64, 64), learning_rate=0.02)\n",
      "Valid:         AUC: 0.9206 | AUPR: 0.6319 | Acc: 95.08%\n",
      "Internal test: AUC: 0.9189 | AUPR: 0.6627 | Acc: 94.91%\n",
      "External test: AUC: 0.9163 | AUPR: 0.6186 | Acc: 94.78%\n"
     ]
    }
   ],
   "source": [
    "from utilities import GNNClassifier\n",
    "\n",
    "model_fn = functools.partial(\n",
    "    GNNClassifier, random_state=SEED, max_iter=50,\n",
    "    momentum=0.9, squares=0.999, optimizer_t='sgdm',\n",
    "    use_residual=True, use_batch_norm=False)\n",
    "param_grid_list = [{\n",
    "    'hidden_layer_sizes': [(128, 128), (64, 64, 64)],\n",
    "    'learning_rate': [5e-3, 1e-2, 2e-2],\n",
    "}]\n",
    "best_metrics, best_params, best_model = classification_dataset.perform_grid_search(model_fn, param_grid_list)\n",
    "metrics_internal, metrics_external = classification_dataset.evaluate_test_sets(best_model)\n",
    "results_dict[get_model_name(model_fn)] = np.concatenate([best_metrics, metrics_internal, metrics_external], axis=0)"
   ]
  },
  {
   "cell_type": "code",
   "execution_count": 3,
   "metadata": {},
   "outputs": [
    {
     "name": "stdout",
     "output_type": "stream",
     "text": [
      "MLPClassifier\n",
      "model(hidden_layer_sizes=(128, 128), learning_rate=0.005)\n",
      "Valid:         AUC: 0.9068 | AUPR: 0.5903 | Acc: 94.82%\n",
      "model(hidden_layer_sizes=(128, 128), learning_rate=0.01)\n",
      "Valid:         AUC: 0.9153 | AUPR: 0.6148 | Acc: 95.11%\n",
      "model(hidden_layer_sizes=(128, 128), learning_rate=0.02)\n",
      "Valid:         AUC: 0.9183 | AUPR: 0.6295 | Acc: 95.16%\n",
      "model(hidden_layer_sizes=(64, 64, 64), learning_rate=0.005)\n",
      "Valid:         AUC: 0.9084 | AUPR: 0.5840 | Acc: 94.70%\n",
      "model(hidden_layer_sizes=(64, 64, 64), learning_rate=0.01)\n",
      "Valid:         AUC: 0.9149 | AUPR: 0.6084 | Acc: 94.99%\n",
      "model(hidden_layer_sizes=(64, 64, 64), learning_rate=0.02)\n",
      "Valid:         AUC: 0.9187 | AUPR: 0.6232 | Acc: 95.04%\n",
      "=======================================================\n",
      "best model(hidden_layer_sizes=(64, 64, 64), learning_rate=0.02)\n",
      "Valid:         AUC: 0.9187 | AUPR: 0.6232 | Acc: 95.04%\n",
      "Internal test: AUC: 0.9199 | AUPR: 0.6611 | Acc: 94.96%\n",
      "External test: AUC: 0.9197 | AUPR: 0.6222 | Acc: 94.82%\n"
     ]
    }
   ],
   "source": [
    "# from sklearn.neural_network import MLPClassifier\n",
    "from utilities import MLPClassifier\n",
    "\n",
    "model_fn = functools.partial(\n",
    "    MLPClassifier, random_state=SEED, max_iter=50,\n",
    "    momentum=0.9, squares=0.999, optimizer_t='sgdm',\n",
    "    use_residual=True, use_batch_norm=False)\n",
    "param_grid_list = [{\n",
    "    # hidden_layer_sizes = (64, 32)\n",
    "    # config       lr_range            worst_auc\n",
    "    # adam w/ bn:  [2e-5, 5e-5, 1e-4]  0.8942\n",
    "    # adam w/o bn: [5e-5, 1e-4, 2e-4]  0.9148\n",
    "    # sgdm w/ bn:  [1e-3, 2e-3, 5e-3]  0.8982\n",
    "    # sgdm w/o bn: [5e-3, 1e-2, 2e-2]  0.9177\n",
    "\n",
    "    'hidden_layer_sizes': [(128, 128), (64, 64, 64)],\n",
    "    'learning_rate': [5e-3, 1e-2, 2e-2],\n",
    "}]\n",
    "best_metrics, best_params, best_model = classification_dataset.perform_grid_search(model_fn, param_grid_list)\n",
    "metrics_internal, metrics_external = classification_dataset.evaluate_test_sets(best_model)\n",
    "results_dict[get_model_name(model_fn)] = np.concatenate([best_metrics, metrics_internal, metrics_external], axis=0)"
   ]
  },
  {
   "cell_type": "code",
   "execution_count": 4,
   "metadata": {},
   "outputs": [
    {
     "name": "stdout",
     "output_type": "stream",
     "text": [
      "LogisticRegression\n",
      "model(C=1.0)\n",
      "Valid:         AUC: 0.9148 | AUPR: 0.6051 | Acc: 95.00%\n",
      "model(C=10.0)\n",
      "Valid:         AUC: 0.9147 | AUPR: 0.6049 | Acc: 94.99%\n",
      "model(C=100.0)\n",
      "Valid:         AUC: 0.9146 | AUPR: 0.6048 | Acc: 94.96%\n",
      "=======================================================\n",
      "best model(C=1.0)\n",
      "Valid:         AUC: 0.9148 | AUPR: 0.6051 | Acc: 95.00%\n",
      "Internal test: AUC: 0.9148 | AUPR: 0.6454 | Acc: 94.89%\n",
      "External test: AUC: 0.9138 | AUPR: 0.5883 | Acc: 94.59%\n"
     ]
    }
   ],
   "source": [
    "# from sklearn.exceptions import ConvergenceWarning\n",
    "# import warnings\n",
    "# warnings.filterwarnings(\"ignore\", category=ConvergenceWarning)\n",
    "from sklearn.linear_model import LogisticRegression\n",
    "\n",
    "model_fn = functools.partial(\n",
    "    LogisticRegression, random_state=SEED, n_jobs=-1, \n",
    "    max_iter=2000, solver='saga', penalty='l2',\n",
    "    )\n",
    "param_grid_list = [{\n",
    "    'C': [1.0, 10.0, 100.0],\n",
    "}]\n",
    "best_metrics, best_params, best_model = classification_dataset.perform_grid_search(\n",
    "    model_fn, param_grid_list)\n",
    "metrics_internal, metrics_external = classification_dataset.evaluate_test_sets(\n",
    "    best_model)\n",
    "results_dict[get_model_name(model_fn)] = np.concatenate([best_metrics, metrics_internal, metrics_external], axis=0)"
   ]
  },
  {
   "cell_type": "code",
   "execution_count": 5,
   "metadata": {},
   "outputs": [
    {
     "name": "stdout",
     "output_type": "stream",
     "text": [
      "TabNetClassifier\n",
      "model(optimizer_params={'lr': 0.05}, gamma=1.5)\n",
      "Valid:         AUC: 0.8992 | AUPR: 0.5763 | Acc: 94.43%\n",
      "model(optimizer_params={'lr': 0.05}, gamma=1.75)\n",
      "Valid:         AUC: 0.8957 | AUPR: 0.5659 | Acc: 94.81%\n",
      "model(optimizer_params={'lr': 0.05}, gamma=2.0)\n",
      "Valid:         AUC: 0.8975 | AUPR: 0.5657 | Acc: 94.63%\n",
      "=======================================================\n",
      "best model(optimizer_params={'lr': 0.05}, gamma=1.5)\n",
      "Valid:         AUC: 0.8992 | AUPR: 0.5763 | Acc: 94.43%\n",
      "Internal test: AUC: 0.9098 | AUPR: 0.6249 | Acc: 94.70%\n",
      "External test: AUC: 0.9029 | AUPR: 0.5795 | Acc: 94.51%\n"
     ]
    }
   ],
   "source": [
    "import warnings\n",
    "from pytorch_tabnet.tab_model import TabNetClassifier\n",
    "warnings.filterwarnings(\"ignore\", category=UserWarning)\n",
    "\n",
    "model_fn = functools.partial(\n",
    "    TabNetClassifier, seed=SEED, \n",
    "    n_d=4, n_a=4, momentum=0.05, \n",
    "    n_steps=3, gamma=1.75, cat_emb_dim=1,\n",
    "    n_independent=2, n_shared=2,\n",
    "    verbose=0)\n",
    "param_grid_list = [{\n",
    "    'optimizer_params': [dict(lr=lr) for lr in [5e-2]],\n",
    "    'gamma': [1.5, 1.75, 2.0],\n",
    "}]\n",
    "best_metrics, best_params, best_model = classification_dataset.perform_grid_search(model_fn, param_grid_list)\n",
    "metrics_internal, metrics_external = classification_dataset.evaluate_test_sets(best_model)\n",
    "results_dict[get_model_name(model_fn)] = np.concatenate([best_metrics, metrics_internal, metrics_external], axis=0)\n",
    "warnings.resetwarnings()"
   ]
  },
  {
   "cell_type": "code",
   "execution_count": 6,
   "metadata": {},
   "outputs": [
    {
     "name": "stdout",
     "output_type": "stream",
     "text": [
      "RandomForestClassifier\n",
      "model(criterion=gini, n_estimators=50)\n",
      "Valid:         AUC: 0.9062 | AUPR: 0.6195 | Acc: 86.77%\n",
      "model(criterion=gini, n_estimators=100)\n",
      "Valid:         AUC: 0.9067 | AUPR: 0.6220 | Acc: 87.27%\n",
      "model(criterion=gini, n_estimators=200)\n",
      "Valid:         AUC: 0.9074 | AUPR: 0.6217 | Acc: 87.30%\n",
      "model(criterion=log_loss, n_estimators=50)\n",
      "Valid:         AUC: 0.9073 | AUPR: 0.6192 | Acc: 86.74%\n",
      "model(criterion=log_loss, n_estimators=100)\n",
      "Valid:         AUC: 0.9077 | AUPR: 0.6224 | Acc: 87.38%\n",
      "model(criterion=log_loss, n_estimators=200)\n",
      "Valid:         AUC: 0.9079 | AUPR: 0.6224 | Acc: 87.19%\n",
      "model(criterion=entropy, n_estimators=50)\n",
      "Valid:         AUC: 0.9073 | AUPR: 0.6192 | Acc: 86.74%\n",
      "model(criterion=entropy, n_estimators=100)\n",
      "Valid:         AUC: 0.9077 | AUPR: 0.6224 | Acc: 87.38%\n",
      "model(criterion=entropy, n_estimators=200)\n",
      "Valid:         AUC: 0.9079 | AUPR: 0.6224 | Acc: 87.19%\n",
      "=======================================================\n",
      "best model(criterion=log_loss, n_estimators=200)\n",
      "Valid:         AUC: 0.9079 | AUPR: 0.6224 | Acc: 87.19%\n",
      "Internal test: AUC: 0.9108 | AUPR: 0.6572 | Acc: 86.76%\n",
      "External test: AUC: 0.9013 | AUPR: 0.6072 | Acc: 86.07%\n"
     ]
    }
   ],
   "source": [
    "from sklearn.ensemble import RandomForestClassifier\n",
    "\n",
    "model_fn = functools.partial(\n",
    "    RandomForestClassifier, random_state=SEED, n_jobs=-1,\n",
    "    ccp_alpha=0.0, class_weight='balanced', max_depth=5, bootstrap=False)\n",
    "param_grid_list = [{\n",
    "        'criterion': ['gini', 'log_loss', 'entropy'],\n",
    "        'n_estimators': [50, 100, 200],\n",
    "    }\n",
    "]\n",
    "best_metrics, best_params, best_model = classification_dataset.perform_grid_search(model_fn, param_grid_list)\n",
    "metrics_internal, metrics_external = classification_dataset.evaluate_test_sets(best_model)\n",
    "results_dict[get_model_name(model_fn)] = np.concatenate([best_metrics, metrics_internal, metrics_external], axis=0)"
   ]
  },
  {
   "cell_type": "code",
   "execution_count": 7,
   "metadata": {},
   "outputs": [
    {
     "name": "stdout",
     "output_type": "stream",
     "text": [
      "SVC\n",
      "model(kernel=linear, C=0.01)\n",
      "Valid:         AUC: 0.9126 | AUPR: 0.5574 | Acc: 94.49%\n",
      "model(kernel=linear, C=0.1)\n",
      "Valid:         AUC: 0.9147 | AUPR: 0.5658 | Acc: 94.47%\n",
      "model(kernel=linear, C=1)\n",
      "Valid:         AUC: 0.9144 | AUPR: 0.5646 | Acc: 94.43%\n",
      "=======================================================\n",
      "best model(kernel=linear, C=0.1)\n",
      "Valid:         AUC: 0.9147 | AUPR: 0.5658 | Acc: 94.47%\n",
      "Internal test: AUC: 0.9150 | AUPR: 0.6223 | Acc: 94.50%\n",
      "External test: AUC: 0.9157 | AUPR: 0.5582 | Acc: 94.15%\n"
     ]
    }
   ],
   "source": [
    "from sklearn.svm import SVC\n",
    "\n",
    "model_fn = functools.partial(\n",
    "    SVC, random_state=SEED, probability=True,\n",
    "    class_weight='balanced')\n",
    "param_grid_list = [{\n",
    "    'kernel': ['linear'],\n",
    "    'C': [0.01, 0.1, 1],\n",
    "}]\n",
    "best_metrics, best_params, best_model = classification_dataset.perform_grid_search(model_fn, param_grid_list)\n",
    "metrics_internal, metrics_external = classification_dataset.evaluate_test_sets(best_model)\n",
    "results_dict[get_model_name(model_fn)] = np.concatenate([best_metrics, metrics_internal, metrics_external], axis=0)"
   ]
  },
  {
   "cell_type": "code",
   "execution_count": 8,
   "metadata": {},
   "outputs": [
    {
     "name": "stdout",
     "output_type": "stream",
     "text": [
      "GradientBoostingClassifier\n",
      "model(criterion=friedman_mse)\n",
      "Valid:         AUC: 0.9154 | AUPR: 0.6094 | Acc: 94.95%\n",
      "model(criterion=squared_error)\n",
      "Valid:         AUC: 0.9152 | AUPR: 0.6092 | Acc: 94.94%\n",
      "=======================================================\n",
      "best model(criterion=friedman_mse)\n",
      "Valid:         AUC: 0.9154 | AUPR: 0.6094 | Acc: 94.95%\n",
      "Internal test: AUC: 0.9170 | AUPR: 0.6584 | Acc: 94.99%\n",
      "External test: AUC: 0.9177 | AUPR: 0.6236 | Acc: 94.79%\n"
     ]
    }
   ],
   "source": [
    "from sklearn.ensemble import GradientBoostingClassifier\n",
    "\n",
    "model_fn = functools.partial(\n",
    "    GradientBoostingClassifier, random_state=SEED,\n",
    "    learning_rate=0.1, max_depth=5, loss='log_loss', \n",
    "    n_estimators=100)\n",
    "param_grid_list = [{\n",
    "        'criterion': ['friedman_mse', 'squared_error'],\n",
    "    }\n",
    "]\n",
    "best_metrics, best_params, best_model = classification_dataset.perform_grid_search(model_fn, param_grid_list)\n",
    "metrics_internal, metrics_external = classification_dataset.evaluate_test_sets(best_model)\n",
    "results_dict[get_model_name(model_fn)] = np.concatenate([best_metrics, metrics_internal, metrics_external], axis=0)"
   ]
  },
  {
   "cell_type": "code",
   "execution_count": 9,
   "metadata": {},
   "outputs": [
    {
     "name": "stdout",
     "output_type": "stream",
     "text": [
      "AdaBoostClassifier\n",
      "model(n_estimators=100, learning_rate=1.0)\n",
      "Valid:         AUC: 0.9142 | AUPR: 0.5926 | Acc: 94.82%\n",
      "model(n_estimators=200, learning_rate=1.0)\n",
      "Valid:         AUC: 0.9147 | AUPR: 0.5925 | Acc: 94.85%\n",
      "model(n_estimators=500, learning_rate=1.0)\n",
      "Valid:         AUC: 0.9138 | AUPR: 0.5907 | Acc: 94.88%\n",
      "=======================================================\n",
      "best model(n_estimators=200, learning_rate=1.0)\n",
      "Valid:         AUC: 0.9147 | AUPR: 0.5925 | Acc: 94.85%\n",
      "Internal test: AUC: 0.9090 | AUPR: 0.6323 | Acc: 94.74%\n",
      "External test: AUC: 0.9128 | AUPR: 0.5768 | Acc: 94.48%\n"
     ]
    }
   ],
   "source": [
    "from sklearn.ensemble import AdaBoostClassifier\n",
    "model_fn = functools.partial(AdaBoostClassifier, random_state=SEED, algorithm=\"SAMME\")\n",
    "param_grid_list = [{\n",
    "    'n_estimators': [100, 200, 500],\n",
    "    'learning_rate': [1.0],\n",
    "}]\n",
    "best_metrics, best_params, best_model = classification_dataset.perform_grid_search(model_fn, param_grid_list)\n",
    "metrics_internal, metrics_external = classification_dataset.evaluate_test_sets(best_model)\n",
    "results_dict[get_model_name(model_fn)] = np.concatenate([best_metrics, metrics_internal, metrics_external], axis=0)"
   ]
  },
  {
   "cell_type": "code",
   "execution_count": 10,
   "metadata": {},
   "outputs": [
    {
     "name": "stdout",
     "output_type": "stream",
     "text": [
      "KNeighborsClassifier\n",
      "model(n_neighbors=3)\n",
      "Valid:         AUC: 0.7598 | AUPR: 0.3490 | Acc: 93.67%\n",
      "model(n_neighbors=5)\n",
      "Valid:         AUC: 0.7966 | AUPR: 0.4064 | Acc: 94.13%\n",
      "model(n_neighbors=7)\n",
      "Valid:         AUC: 0.8145 | AUPR: 0.4347 | Acc: 94.38%\n",
      "=======================================================\n",
      "best model(n_neighbors=7)\n",
      "Valid:         AUC: 0.8145 | AUPR: 0.4347 | Acc: 94.38%\n",
      "Internal test: AUC: 0.8189 | AUPR: 0.4960 | Acc: 94.53%\n",
      "External test: AUC: 0.8212 | AUPR: 0.4574 | Acc: 94.13%\n"
     ]
    }
   ],
   "source": [
    "from sklearn.neighbors import KNeighborsClassifier\n",
    "\n",
    "model_fn = functools.partial(\n",
    "    KNeighborsClassifier, n_jobs=-1, algorithm='auto', p=2)\n",
    "param_grid_list = [{\n",
    "    'n_neighbors': [3, 5, 7],\n",
    "}]\n",
    "best_metrics, best_params, best_model = classification_dataset.perform_grid_search(model_fn, param_grid_list)\n",
    "metrics_internal, metrics_external = classification_dataset.evaluate_test_sets(best_model)\n",
    "results_dict[get_model_name(model_fn)] = np.concatenate([best_metrics, metrics_internal, metrics_external], axis=0)"
   ]
  },
  {
   "cell_type": "code",
   "execution_count": 11,
   "metadata": {},
   "outputs": [
    {
     "name": "stdout",
     "output_type": "stream",
     "text": [
      "DecisionTreeClassifier\n",
      "model(criterion=gini)\n",
      "Valid:         AUC: 0.8846 | AUPR: 0.5360 | Acc: 80.20%\n",
      "model(criterion=log_loss)\n",
      "Valid:         AUC: 0.8830 | AUPR: 0.5433 | Acc: 81.74%\n",
      "model(criterion=entropy)\n",
      "Valid:         AUC: 0.8830 | AUPR: 0.5433 | Acc: 81.74%\n",
      "=======================================================\n",
      "best model(criterion=gini)\n",
      "Valid:         AUC: 0.8846 | AUPR: 0.5360 | Acc: 80.20%\n",
      "Internal test: AUC: 0.8558 | AUPR: 0.5167 | Acc: 81.22%\n",
      "External test: AUC: 0.8602 | AUPR: 0.4855 | Acc: 81.21%\n"
     ]
    }
   ],
   "source": [
    "from sklearn.tree import DecisionTreeClassifier\n",
    "\n",
    "model_fn = functools.partial(\n",
    "    DecisionTreeClassifier, random_state=SEED,\n",
    "    ccp_alpha=0.0, class_weight='balanced', max_depth=5)\n",
    "param_grid_list = [{\n",
    "        'criterion': ['gini', 'log_loss', 'entropy'],\n",
    "    }\n",
    "]\n",
    "best_metrics, best_params, best_model = classification_dataset.perform_grid_search(model_fn, param_grid_list)\n",
    "metrics_internal, metrics_external = classification_dataset.evaluate_test_sets(best_model)\n",
    "results_dict[get_model_name(model_fn)] = np.concatenate([best_metrics, metrics_internal, metrics_external], axis=0)"
   ]
  },
  {
   "cell_type": "code",
   "execution_count": 12,
   "metadata": {},
   "outputs": [
    {
     "name": "stdout",
     "output_type": "stream",
     "text": [
      "GaussianNB\n",
      "model()\n",
      "Valid:         AUC: 0.8553 | AUPR: 0.3260 | Acc: 82.38%\n",
      "=======================================================\n",
      "best model()\n",
      "Valid:         AUC: 0.8553 | AUPR: 0.3260 | Acc: 82.38%\n",
      "Internal test: AUC: 0.8641 | AUPR: 0.3708 | Acc: 82.26%\n",
      "External test: AUC: 0.8504 | AUPR: 0.3348 | Acc: 80.82%\n"
     ]
    }
   ],
   "source": [
    "from sklearn.naive_bayes import GaussianNB\n",
    "\n",
    "model_fn = GaussianNB\n",
    "param_grid_list = [{}]\n",
    "best_metrics, best_params, best_model = classification_dataset.perform_grid_search(model_fn, param_grid_list)\n",
    "metrics_internal, metrics_external = classification_dataset.evaluate_test_sets(best_model)\n",
    "results_dict[get_model_name(model_fn)] = np.concatenate([best_metrics, metrics_internal, metrics_external], axis=0)"
   ]
  },
  {
   "cell_type": "code",
   "execution_count": 13,
   "metadata": {},
   "outputs": [],
   "source": [
    "dataframe = pd.DataFrame(results_dict).transpose().reset_index()\n",
    "dataframe.columns = ['model', 'val_auc', 'val_aupr', 'val_acc', 'intest_auc', 'intest_aupr', 'intest_acc', 'extest_auc', 'extest_aupr', 'extest_acc']\n",
    "# dataframe.to_csv()\n",
    "filename = os.path.join(RESULTS_DIR, encode_method, impute_method, f'{fs_method}{int(fs_ratio * 142)}.csv')\n",
    "dirname = os.path.dirname(filename)\n",
    "if not os.path.exists(dirname):\n",
    "    os.makedirs(dirname)\n",
    "dataframe.to_csv(filename, index=False)"
   ]
  },
  {
   "cell_type": "code",
   "execution_count": null,
   "metadata": {},
   "outputs": [],
   "source": []
  }
 ],
 "metadata": {
  "kernelspec": {
   "display_name": "Python 3 (ipykernel)",
   "language": "python",
   "name": "python3"
  },
  "language_info": {
   "codemirror_mode": {
    "name": "ipython",
    "version": 3
   },
   "file_extension": ".py",
   "mimetype": "text/x-python",
   "name": "python",
   "nbconvert_exporter": "python",
   "pygments_lexer": "ipython3",
   "version": "3.10.6"
  }
 },
 "nbformat": 4,
 "nbformat_minor": 4
}
