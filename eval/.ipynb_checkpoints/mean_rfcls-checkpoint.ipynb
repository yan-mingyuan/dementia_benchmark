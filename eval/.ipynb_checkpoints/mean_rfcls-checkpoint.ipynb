{
 "cells": [
  {
   "cell_type": "code",
   "execution_count": 1,
   "metadata": {},
   "outputs": [],
   "source": [
    "import os\n",
    "os.chdir('..')\n",
    "\n",
    "from config import *\n",
    "from utilities import get_model_name\n",
    "from dataset import ClassificationDataset\n",
    "\n",
    "import functools\n",
    "import numpy as np\n",
    "import pandas as pd\n",
    "\n",
    "results_dict = {}\n",
    "internal, external = 11, 12\n",
    "encode_method = \"dummy\"\n",
    "impute_method = \"itenet\"\n",
    "fs_method, fs_ratio = \"rfcls\", 50/142\n",
    "norm_method = \"maxmin\"\n",
    "classification_dataset = ClassificationDataset(\n",
    "    internal, external, encode_method, impute_method, fs_method, fs_ratio, norm_method, random_state=SEED)"
   ]
  },
  {
   "cell_type": "code",
   "execution_count": 2,
   "metadata": {},
   "outputs": [
    {
     "name": "stdout",
     "output_type": "stream",
     "text": [
      "GNNClassifier\n"
     ]
    },
    {
     "name": "stderr",
     "output_type": "stream",
     "text": [
      "                                                                            \r"
     ]
    },
    {
     "name": "stdout",
     "output_type": "stream",
     "text": [
      "model(hidden_layer_sizes=(128, 128), learning_rate=0.005)\n",
      "Valid:         AUC: 0.9101 | AUPR: 0.6517 | Acc: 95.47%\n"
     ]
    },
    {
     "name": "stderr",
     "output_type": "stream",
     "text": [
      "                                                                            \r"
     ]
    },
    {
     "name": "stdout",
     "output_type": "stream",
     "text": [
      "model(hidden_layer_sizes=(128, 128), learning_rate=0.01)\n",
      "Valid:         AUC: 0.9154 | AUPR: 0.6648 | Acc: 95.36%\n"
     ]
    },
    {
     "name": "stderr",
     "output_type": "stream",
     "text": [
      "                                                                            \r"
     ]
    },
    {
     "name": "stdout",
     "output_type": "stream",
     "text": [
      "model(hidden_layer_sizes=(128, 128), learning_rate=0.02)\n",
      "Valid:         AUC: 0.9192 | AUPR: 0.6741 | Acc: 95.44%\n"
     ]
    },
    {
     "name": "stderr",
     "output_type": "stream",
     "text": [
      "                                                                            \r"
     ]
    },
    {
     "name": "stdout",
     "output_type": "stream",
     "text": [
      "model(hidden_layer_sizes=(64, 64, 64), learning_rate=0.005)\n",
      "Valid:         AUC: 0.9096 | AUPR: 0.6498 | Acc: 95.49%\n"
     ]
    },
    {
     "name": "stderr",
     "output_type": "stream",
     "text": [
      "                                                                            \r"
     ]
    },
    {
     "name": "stdout",
     "output_type": "stream",
     "text": [
      "model(hidden_layer_sizes=(64, 64, 64), learning_rate=0.01)\n",
      "Valid:         AUC: 0.9161 | AUPR: 0.6682 | Acc: 95.43%\n"
     ]
    },
    {
     "name": "stderr",
     "output_type": "stream",
     "text": [
      "                                                                            \r"
     ]
    },
    {
     "name": "stdout",
     "output_type": "stream",
     "text": [
      "model(hidden_layer_sizes=(64, 64, 64), learning_rate=0.02)\n",
      "Valid:         AUC: 0.9198 | AUPR: 0.6779 | Acc: 95.57%\n",
      "=======================================================\n",
      "best model(hidden_layer_sizes=(64, 64, 64), learning_rate=0.02)\n",
      "Valid:         AUC: 0.9198 | AUPR: 0.6779 | Acc: 95.57%\n",
      "Internal test: AUC: 0.9262 | AUPR: 0.7001 | Acc: 95.21%\n",
      "External test: AUC: 0.9157 | AUPR: 0.6640 | Acc: 95.15%\n"
     ]
    }
   ],
   "source": [
    "from utilities import GNNClassifier\n",
    "\n",
    "model_fn = functools.partial(\n",
    "    GNNClassifier, random_state=SEED, max_iter=50,\n",
    "    momentum=0.9, squares=0.999, optimizer_t='sgdm',\n",
    "    use_residual=True, use_batch_norm=False)\n",
    "param_grid_list = [{\n",
    "    'hidden_layer_sizes': [(128, 128), (64, 64, 64)],\n",
    "    'learning_rate': [5e-3, 1e-2, 2e-2],\n",
    "}]\n",
    "best_metrics, best_params, best_model = classification_dataset.perform_grid_search(model_fn, param_grid_list)\n",
    "metrics_internal, metrics_external = classification_dataset.evaluate_test_sets(best_model)\n",
    "results_dict[get_model_name(model_fn)] = np.concatenate([best_metrics, metrics_internal, metrics_external], axis=0)"
   ]
  },
  {
   "cell_type": "code",
   "execution_count": 3,
   "metadata": {},
   "outputs": [
    {
     "name": "stdout",
     "output_type": "stream",
     "text": [
      "MLPClassifier\n"
     ]
    },
    {
     "name": "stderr",
     "output_type": "stream",
     "text": [
      "                                                                             \r"
     ]
    },
    {
     "name": "stdout",
     "output_type": "stream",
     "text": [
      "model(hidden_layer_sizes=(128, 128), learning_rate=0.005)\n",
      "Valid:         AUC: 0.9119 | AUPR: 0.6542 | Acc: 95.46%\n"
     ]
    },
    {
     "name": "stderr",
     "output_type": "stream",
     "text": [
      "                                                                             \r"
     ]
    },
    {
     "name": "stdout",
     "output_type": "stream",
     "text": [
      "model(hidden_layer_sizes=(128, 128), learning_rate=0.01)\n",
      "Valid:         AUC: 0.9163 | AUPR: 0.6663 | Acc: 95.46%\n"
     ]
    },
    {
     "name": "stderr",
     "output_type": "stream",
     "text": [
      "                                                                             \r"
     ]
    },
    {
     "name": "stdout",
     "output_type": "stream",
     "text": [
      "model(hidden_layer_sizes=(128, 128), learning_rate=0.02)\n",
      "Valid:         AUC: 0.9201 | AUPR: 0.6777 | Acc: 95.52%\n"
     ]
    },
    {
     "name": "stderr",
     "output_type": "stream",
     "text": [
      "                                                                             \r"
     ]
    },
    {
     "name": "stdout",
     "output_type": "stream",
     "text": [
      "model(hidden_layer_sizes=(64, 64, 64), learning_rate=0.005)\n",
      "Valid:         AUC: 0.9115 | AUPR: 0.6513 | Acc: 95.43%\n"
     ]
    },
    {
     "name": "stderr",
     "output_type": "stream",
     "text": [
      "                                                                             \r"
     ]
    },
    {
     "name": "stdout",
     "output_type": "stream",
     "text": [
      "model(hidden_layer_sizes=(64, 64, 64), learning_rate=0.01)\n",
      "Valid:         AUC: 0.9166 | AUPR: 0.6660 | Acc: 95.46%\n"
     ]
    },
    {
     "name": "stderr",
     "output_type": "stream",
     "text": [
      "                                                                             \r"
     ]
    },
    {
     "name": "stdout",
     "output_type": "stream",
     "text": [
      "model(hidden_layer_sizes=(64, 64, 64), learning_rate=0.02)\n",
      "Valid:         AUC: 0.9205 | AUPR: 0.6786 | Acc: 95.53%\n",
      "=======================================================\n",
      "best model(hidden_layer_sizes=(64, 64, 64), learning_rate=0.02)\n",
      "Valid:         AUC: 0.9205 | AUPR: 0.6786 | Acc: 95.53%\n",
      "Internal test: AUC: 0.9281 | AUPR: 0.7078 | Acc: 95.40%\n",
      "External test: AUC: 0.9166 | AUPR: 0.6695 | Acc: 95.22%\n"
     ]
    }
   ],
   "source": [
    "# from sklearn.neural_network import MLPClassifier\n",
    "from utilities import MLPClassifier\n",
    "\n",
    "model_fn = functools.partial(\n",
    "    MLPClassifier, random_state=SEED, max_iter=50,\n",
    "    momentum=0.9, squares=0.999, optimizer_t='sgdm',\n",
    "    use_residual=True, use_batch_norm=False)\n",
    "param_grid_list = [{\n",
    "    # hidden_layer_sizes = (64, 32)\n",
    "    # config       lr_range            worst_auc\n",
    "    # adam w/ bn:  [2e-5, 5e-5, 1e-4]  0.8942\n",
    "    # adam w/o bn: [5e-5, 1e-4, 2e-4]  0.9148\n",
    "    # sgdm w/ bn:  [1e-3, 2e-3, 5e-3]  0.8982\n",
    "    # sgdm w/o bn: [5e-3, 1e-2, 2e-2]  0.9177\n",
    "\n",
    "    'hidden_layer_sizes': [(128, 128), (64, 64, 64)],\n",
    "    'learning_rate': [5e-3, 1e-2, 2e-2],\n",
    "}]\n",
    "best_metrics, best_params, best_model = classification_dataset.perform_grid_search(model_fn, param_grid_list)\n",
    "metrics_internal, metrics_external = classification_dataset.evaluate_test_sets(best_model)\n",
    "results_dict[get_model_name(model_fn)] = np.concatenate([best_metrics, metrics_internal, metrics_external], axis=0)"
   ]
  },
  {
   "cell_type": "code",
   "execution_count": 4,
   "metadata": {},
   "outputs": [
    {
     "name": "stdout",
     "output_type": "stream",
     "text": [
      "LogisticRegression\n",
      "model(C=1.0)\n",
      "Valid:         AUC: 0.9119 | AUPR: 0.6481 | Acc: 95.34%\n",
      "model(C=10.0)\n",
      "Valid:         AUC: 0.9115 | AUPR: 0.6476 | Acc: 95.29%\n",
      "model(C=100.0)\n",
      "Valid:         AUC: 0.9114 | AUPR: 0.6471 | Acc: 95.30%\n",
      "=======================================================\n",
      "best model(C=1.0)\n",
      "Valid:         AUC: 0.9119 | AUPR: 0.6481 | Acc: 95.34%\n",
      "Internal test: AUC: 0.9203 | AUPR: 0.6833 | Acc: 95.33%\n",
      "External test: AUC: 0.9062 | AUPR: 0.6240 | Acc: 94.82%\n"
     ]
    }
   ],
   "source": [
    "# from sklearn.exceptions import ConvergenceWarning\n",
    "# import warnings\n",
    "# warnings.filterwarnings(\"ignore\", category=ConvergenceWarning)\n",
    "from sklearn.linear_model import LogisticRegression\n",
    "\n",
    "model_fn = functools.partial(\n",
    "    LogisticRegression, random_state=SEED, n_jobs=-1, \n",
    "    max_iter=2000, solver='saga', penalty='l2',\n",
    "    )\n",
    "param_grid_list = [{\n",
    "    'C': [1.0, 10.0, 100.0],\n",
    "}]\n",
    "best_metrics, best_params, best_model = classification_dataset.perform_grid_search(\n",
    "    model_fn, param_grid_list)\n",
    "metrics_internal, metrics_external = classification_dataset.evaluate_test_sets(\n",
    "    best_model)\n",
    "results_dict[get_model_name(model_fn)] = np.concatenate([best_metrics, metrics_internal, metrics_external], axis=0)"
   ]
  },
  {
   "cell_type": "code",
   "execution_count": 5,
   "metadata": {},
   "outputs": [
    {
     "name": "stdout",
     "output_type": "stream",
     "text": [
      "TabNetClassifier\n",
      "model(optimizer_params={'lr': 0.05}, gamma=1.5)\n",
      "Valid:         AUC: 0.9061 | AUPR: 0.6412 | Acc: 95.27%\n",
      "model(optimizer_params={'lr': 0.05}, gamma=1.75)\n",
      "Valid:         AUC: 0.9073 | AUPR: 0.6308 | Acc: 95.24%\n",
      "model(optimizer_params={'lr': 0.05}, gamma=2.0)\n",
      "Valid:         AUC: 0.9096 | AUPR: 0.6290 | Acc: 95.15%\n",
      "=======================================================\n",
      "best model(optimizer_params={'lr': 0.05}, gamma=2.0)\n",
      "Valid:         AUC: 0.9096 | AUPR: 0.6290 | Acc: 95.15%\n",
      "Internal test: AUC: 0.9216 | AUPR: 0.6585 | Acc: 95.11%\n",
      "External test: AUC: 0.9125 | AUPR: 0.5995 | Acc: 94.78%\n"
     ]
    }
   ],
   "source": [
    "import warnings\n",
    "from pytorch_tabnet.tab_model import TabNetClassifier\n",
    "warnings.filterwarnings(\"ignore\", category=UserWarning)\n",
    "\n",
    "model_fn = functools.partial(\n",
    "    TabNetClassifier, seed=SEED, \n",
    "    n_d=4, n_a=4, momentum=0.05, \n",
    "    n_steps=3, gamma=1.75, cat_emb_dim=1,\n",
    "    n_independent=2, n_shared=2,\n",
    "    verbose=0)\n",
    "param_grid_list = [{\n",
    "    'optimizer_params': [dict(lr=lr) for lr in [5e-2]],\n",
    "    'gamma': [1.5, 1.75, 2.0],\n",
    "}]\n",
    "best_metrics, best_params, best_model = classification_dataset.perform_grid_search(model_fn, param_grid_list)\n",
    "metrics_internal, metrics_external = classification_dataset.evaluate_test_sets(best_model)\n",
    "results_dict[get_model_name(model_fn)] = np.concatenate([best_metrics, metrics_internal, metrics_external], axis=0)\n",
    "warnings.resetwarnings()"
   ]
  },
  {
   "cell_type": "code",
   "execution_count": 6,
   "metadata": {},
   "outputs": [
    {
     "name": "stdout",
     "output_type": "stream",
     "text": [
      "RandomForestClassifier\n",
      "model(criterion=gini, n_estimators=50)\n",
      "Valid:         AUC: 0.9135 | AUPR: 0.6548 | Acc: 88.68%\n",
      "model(criterion=gini, n_estimators=100)\n",
      "Valid:         AUC: 0.9145 | AUPR: 0.6583 | Acc: 89.13%\n",
      "model(criterion=gini, n_estimators=200)\n",
      "Valid:         AUC: 0.9146 | AUPR: 0.6590 | Acc: 89.20%\n",
      "model(criterion=log_loss, n_estimators=50)\n",
      "Valid:         AUC: 0.9136 | AUPR: 0.6576 | Acc: 89.01%\n",
      "model(criterion=log_loss, n_estimators=100)\n",
      "Valid:         AUC: 0.9144 | AUPR: 0.6599 | Acc: 89.27%\n",
      "model(criterion=log_loss, n_estimators=200)\n",
      "Valid:         AUC: 0.9144 | AUPR: 0.6600 | Acc: 89.32%\n",
      "model(criterion=entropy, n_estimators=50)\n",
      "Valid:         AUC: 0.9136 | AUPR: 0.6576 | Acc: 89.01%\n",
      "model(criterion=entropy, n_estimators=100)\n",
      "Valid:         AUC: 0.9144 | AUPR: 0.6599 | Acc: 89.27%\n",
      "model(criterion=entropy, n_estimators=200)\n",
      "Valid:         AUC: 0.9144 | AUPR: 0.6600 | Acc: 89.32%\n",
      "=======================================================\n",
      "best model(criterion=gini, n_estimators=200)\n",
      "Valid:         AUC: 0.9146 | AUPR: 0.6590 | Acc: 89.20%\n",
      "Internal test: AUC: 0.9224 | AUPR: 0.6933 | Acc: 89.12%\n",
      "External test: AUC: 0.9103 | AUPR: 0.6515 | Acc: 88.15%\n"
     ]
    }
   ],
   "source": [
    "from sklearn.ensemble import RandomForestClassifier\n",
    "\n",
    "model_fn = functools.partial(\n",
    "    RandomForestClassifier, random_state=SEED, n_jobs=-1,\n",
    "    ccp_alpha=0.0, class_weight='balanced', max_depth=5, bootstrap=False)\n",
    "param_grid_list = [{\n",
    "        'criterion': ['gini', 'log_loss', 'entropy'],\n",
    "        'n_estimators': [50, 100, 200],\n",
    "    }\n",
    "]\n",
    "best_metrics, best_params, best_model = classification_dataset.perform_grid_search(model_fn, param_grid_list)\n",
    "metrics_internal, metrics_external = classification_dataset.evaluate_test_sets(best_model)\n",
    "results_dict[get_model_name(model_fn)] = np.concatenate([best_metrics, metrics_internal, metrics_external], axis=0)"
   ]
  },
  {
   "cell_type": "code",
   "execution_count": 7,
   "metadata": {},
   "outputs": [
    {
     "name": "stdout",
     "output_type": "stream",
     "text": [
      "SVC\n",
      "model(kernel=linear, C=0.01)\n",
      "Valid:         AUC: 0.9120 | AUPR: 0.6104 | Acc: 94.99%\n",
      "model(kernel=linear, C=0.1)\n",
      "Valid:         AUC: 0.9118 | AUPR: 0.6010 | Acc: 94.85%\n",
      "model(kernel=linear, C=1)\n",
      "Valid:         AUC: 0.9106 | AUPR: 0.6030 | Acc: 94.84%\n",
      "=======================================================\n",
      "best model(kernel=linear, C=0.01)\n",
      "Valid:         AUC: 0.9120 | AUPR: 0.6104 | Acc: 94.99%\n",
      "Internal test: AUC: 0.9197 | AUPR: 0.6432 | Acc: 94.74%\n",
      "External test: AUC: 0.9093 | AUPR: 0.5889 | Acc: 94.47%\n"
     ]
    }
   ],
   "source": [
    "from sklearn.svm import SVC\n",
    "\n",
    "model_fn = functools.partial(\n",
    "    SVC, random_state=SEED, probability=True,\n",
    "    class_weight='balanced')\n",
    "param_grid_list = [{\n",
    "    'kernel': ['linear'],\n",
    "    'C': [0.01, 0.1, 1],\n",
    "}]\n",
    "best_metrics, best_params, best_model = classification_dataset.perform_grid_search(model_fn, param_grid_list)\n",
    "metrics_internal, metrics_external = classification_dataset.evaluate_test_sets(best_model)\n",
    "results_dict[get_model_name(model_fn)] = np.concatenate([best_metrics, metrics_internal, metrics_external], axis=0)"
   ]
  },
  {
   "cell_type": "code",
   "execution_count": 8,
   "metadata": {},
   "outputs": [
    {
     "name": "stdout",
     "output_type": "stream",
     "text": [
      "GradientBoostingClassifier\n",
      "model(criterion=friedman_mse)\n",
      "Valid:         AUC: 0.9169 | AUPR: 0.6456 | Acc: 95.33%\n",
      "model(criterion=squared_error)\n",
      "Valid:         AUC: 0.9174 | AUPR: 0.6438 | Acc: 95.33%\n",
      "=======================================================\n",
      "best model(criterion=squared_error)\n",
      "Valid:         AUC: 0.9174 | AUPR: 0.6438 | Acc: 95.33%\n",
      "Internal test: AUC: 0.9264 | AUPR: 0.6884 | Acc: 95.23%\n",
      "External test: AUC: 0.9191 | AUPR: 0.6643 | Acc: 95.21%\n"
     ]
    }
   ],
   "source": [
    "from sklearn.ensemble import GradientBoostingClassifier\n",
    "\n",
    "model_fn = functools.partial(\n",
    "    GradientBoostingClassifier, random_state=SEED,\n",
    "    learning_rate=0.1, max_depth=5, loss='log_loss', \n",
    "    n_estimators=100)\n",
    "param_grid_list = [{\n",
    "        'criterion': ['friedman_mse', 'squared_error'],\n",
    "    }\n",
    "]\n",
    "best_metrics, best_params, best_model = classification_dataset.perform_grid_search(model_fn, param_grid_list)\n",
    "metrics_internal, metrics_external = classification_dataset.evaluate_test_sets(best_model)\n",
    "results_dict[get_model_name(model_fn)] = np.concatenate([best_metrics, metrics_internal, metrics_external], axis=0)"
   ]
  },
  {
   "cell_type": "code",
   "execution_count": 9,
   "metadata": {},
   "outputs": [
    {
     "name": "stdout",
     "output_type": "stream",
     "text": [
      "AdaBoostClassifier\n",
      "model(n_estimators=100, learning_rate=1.0)\n",
      "Valid:         AUC: 0.9120 | AUPR: 0.6296 | Acc: 95.07%\n",
      "model(n_estimators=200, learning_rate=1.0)\n",
      "Valid:         AUC: 0.9136 | AUPR: 0.6326 | Acc: 95.11%\n",
      "model(n_estimators=500, learning_rate=1.0)\n",
      "Valid:         AUC: 0.9128 | AUPR: 0.6280 | Acc: 95.11%\n",
      "=======================================================\n",
      "best model(n_estimators=200, learning_rate=1.0)\n",
      "Valid:         AUC: 0.9136 | AUPR: 0.6326 | Acc: 95.11%\n",
      "Internal test: AUC: 0.9197 | AUPR: 0.6671 | Acc: 94.96%\n",
      "External test: AUC: 0.9083 | AUPR: 0.6167 | Acc: 94.73%\n"
     ]
    }
   ],
   "source": [
    "from sklearn.ensemble import AdaBoostClassifier\n",
    "model_fn = functools.partial(AdaBoostClassifier, random_state=SEED, algorithm=\"SAMME\")\n",
    "param_grid_list = [{\n",
    "    'n_estimators': [100, 200, 500],\n",
    "    'learning_rate': [1.0],\n",
    "}]\n",
    "best_metrics, best_params, best_model = classification_dataset.perform_grid_search(model_fn, param_grid_list)\n",
    "metrics_internal, metrics_external = classification_dataset.evaluate_test_sets(best_model)\n",
    "results_dict[get_model_name(model_fn)] = np.concatenate([best_metrics, metrics_internal, metrics_external], axis=0)"
   ]
  },
  {
   "cell_type": "code",
   "execution_count": 10,
   "metadata": {},
   "outputs": [
    {
     "name": "stdout",
     "output_type": "stream",
     "text": [
      "KNeighborsClassifier\n",
      "model(n_neighbors=3)\n",
      "Valid:         AUC: 0.7772 | AUPR: 0.4586 | Acc: 94.99%\n",
      "model(n_neighbors=5)\n",
      "Valid:         AUC: 0.8002 | AUPR: 0.5078 | Acc: 95.19%\n",
      "model(n_neighbors=7)\n",
      "Valid:         AUC: 0.8156 | AUPR: 0.5313 | Acc: 95.36%\n",
      "=======================================================\n",
      "best model(n_neighbors=7)\n",
      "Valid:         AUC: 0.8156 | AUPR: 0.5313 | Acc: 95.36%\n",
      "Internal test: AUC: 0.8350 | AUPR: 0.5586 | Acc: 95.11%\n",
      "External test: AUC: 0.8188 | AUPR: 0.5351 | Acc: 95.12%\n"
     ]
    }
   ],
   "source": [
    "from sklearn.neighbors import KNeighborsClassifier\n",
    "\n",
    "model_fn = functools.partial(\n",
    "    KNeighborsClassifier, n_jobs=-1, algorithm='auto', p=2)\n",
    "param_grid_list = [{\n",
    "    'n_neighbors': [3, 5, 7],\n",
    "}]\n",
    "best_metrics, best_params, best_model = classification_dataset.perform_grid_search(model_fn, param_grid_list)\n",
    "metrics_internal, metrics_external = classification_dataset.evaluate_test_sets(best_model)\n",
    "results_dict[get_model_name(model_fn)] = np.concatenate([best_metrics, metrics_internal, metrics_external], axis=0)"
   ]
  },
  {
   "cell_type": "code",
   "execution_count": 11,
   "metadata": {},
   "outputs": [
    {
     "name": "stdout",
     "output_type": "stream",
     "text": [
      "DecisionTreeClassifier\n",
      "model(criterion=gini)\n",
      "Valid:         AUC: 0.8618 | AUPR: 0.5540 | Acc: 89.04%\n",
      "model(criterion=log_loss)\n",
      "Valid:         AUC: 0.8617 | AUPR: 0.5733 | Acc: 89.35%\n",
      "model(criterion=entropy)\n",
      "Valid:         AUC: 0.8617 | AUPR: 0.5733 | Acc: 89.35%\n",
      "=======================================================\n",
      "best model(criterion=gini)\n",
      "Valid:         AUC: 0.8618 | AUPR: 0.5540 | Acc: 89.04%\n",
      "Internal test: AUC: 0.8808 | AUPR: 0.6105 | Acc: 90.36%\n",
      "External test: AUC: 0.8686 | AUPR: 0.5854 | Acc: 90.03%\n"
     ]
    }
   ],
   "source": [
    "from sklearn.tree import DecisionTreeClassifier\n",
    "\n",
    "model_fn = functools.partial(\n",
    "    DecisionTreeClassifier, random_state=SEED,\n",
    "    ccp_alpha=0.0, class_weight='balanced', max_depth=5)\n",
    "param_grid_list = [{\n",
    "        'criterion': ['gini', 'log_loss', 'entropy'],\n",
    "    }\n",
    "]\n",
    "best_metrics, best_params, best_model = classification_dataset.perform_grid_search(model_fn, param_grid_list)\n",
    "metrics_internal, metrics_external = classification_dataset.evaluate_test_sets(best_model)\n",
    "results_dict[get_model_name(model_fn)] = np.concatenate([best_metrics, metrics_internal, metrics_external], axis=0)"
   ]
  },
  {
   "cell_type": "code",
   "execution_count": 12,
   "metadata": {},
   "outputs": [],
   "source": [
    "from sklearn.naive_bayes import GaussianNB\n",
    "\n",
    "model_fn = GaussianNB\n",
    "param_grid_list = [{}]\n",
    "best_metrics, best_params, best_model = classification_dataset.perform_grid_search(model_fn, param_grid_list)\n",
    "metrics_internal, metrics_external = classification_dataset.evaluate_test_sets(best_model)\n",
    "results_dict[get_model_name(model_fn)] = np.concatenate([best_metrics, metrics_internal, metrics_external], axis=0)"
   ]
  },
  {
   "cell_type": "code",
   "execution_count": 13,
   "metadata": {},
   "outputs": [],
   "source": [
    "dataframe = pd.DataFrame(results_dict).transpose().reset_index()\n",
    "dataframe.columns = ['model', 'val_auc', 'val_aupr', 'val_acc', 'intest_auc', 'intest_aupr', 'intest_acc', 'extest_auc', 'extest_aupr', 'extest_acc']\n",
    "# dataframe.to_csv()\n",
    "filename = os.path.join(RESULTS_DIR, encode_method, impute_method, f'{fs_method}{int(fs_ratio * 142)}.csv')\n",
    "dirname = os.path.dirname(filename)\n",
    "if not os.path.exists(dirname):\n",
    "    os.makedirs(dirname)\n",
    "dataframe.to_csv(filename, index=False)"
   ]
  },
  {
   "cell_type": "code",
   "execution_count": null,
   "metadata": {},
   "outputs": [],
   "source": []
  }
 ],
 "metadata": {
  "kernelspec": {
   "display_name": "Python 3 (ipykernel)",
   "language": "python",
   "name": "python3"
  },
  "language_info": {
   "codemirror_mode": {
    "name": "ipython",
    "version": 3
   },
   "file_extension": ".py",
   "mimetype": "text/x-python",
   "name": "python",
   "nbconvert_exporter": "python",
   "pygments_lexer": "ipython3",
   "version": "3.10.6"
  }
 },
 "nbformat": 4,
 "nbformat_minor": 4
}
