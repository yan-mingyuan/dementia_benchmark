{
 "cells": [
  {
   "cell_type": "code",
   "execution_count": 1,
   "metadata": {},
   "outputs": [],
   "source": [
    "from config import *\n",
    "from dataset import ClassificationDataset\n",
    "\n",
    "import functools\n",
    "\n",
    "internal, external = 11, 12\n",
    "encode_method = \"dummy\"\n",
    "impute_method = \"knn7d\"\n",
    "fs_method, fs_ratio = \"ftest\", 0.5\n",
    "norm_method = \"maxmin\"\n",
    "classification_dataset = ClassificationDataset(\n",
    "    internal, external, encode_method, impute_method, fs_method, fs_ratio, norm_method, random_state=SEED)"
   ]
  },
  {
   "cell_type": "code",
   "execution_count": 2,
   "metadata": {},
   "outputs": [
    {
     "name": "stdout",
     "output_type": "stream",
     "text": [
      "model()\n",
      "Valid:         AUC: 0.7925 | AUPR: 0.2334 | Acc: 86.21%\n",
      "=======================================================\n",
      "best model()\n",
      "Valid:         AUC: 0.7925 | AUPR: 0.2334 | Acc: 86.21%\n",
      "Internal test: AUC: 0.8043 | AUPR: 0.2585 | Acc: 86.25%\n",
      "External test: AUC: 0.7873 | AUPR: 0.2251 | Acc: 84.63%\n"
     ]
    }
   ],
   "source": [
    "from sklearn.naive_bayes import GaussianNB\n",
    "\n",
    "model_fn = GaussianNB\n",
    "param_grid_list = [{}]\n",
    "best_metrics, best_params, best_model = classification_dataset.perform_grid_search(model_fn, param_grid_list)\n",
    "metrics_internal, metrics_external = classification_dataset.evaluate_test_sets(best_model)"
   ]
  },
  {
   "cell_type": "code",
   "execution_count": 3,
   "metadata": {},
   "outputs": [
    {
     "name": "stdout",
     "output_type": "stream",
     "text": [
      "model()\n",
      "Valid:         AUC: 0.7688 | AUPR: 0.1856 | Acc: 81.03%\n",
      "=======================================================\n",
      "best model()\n",
      "Valid:         AUC: 0.7688 | AUPR: 0.1856 | Acc: 81.03%\n",
      "Internal test: AUC: 0.7661 | AUPR: 0.1971 | Acc: 81.07%\n",
      "External test: AUC: 0.7616 | AUPR: 0.1823 | Acc: 79.55%\n"
     ]
    }
   ],
   "source": [
    "from sklearn.naive_bayes import ComplementNB\n",
    "\n",
    "model_fn = ComplementNB\n",
    "param_grid_list = [{}]\n",
    "best_metrics, best_params, best_model = classification_dataset.perform_grid_search(model_fn, param_grid_list)\n",
    "metrics_internal, metrics_external = classification_dataset.evaluate_test_sets(best_model)"
   ]
  },
  {
   "cell_type": "code",
   "execution_count": 4,
   "metadata": {},
   "outputs": [
    {
     "name": "stdout",
     "output_type": "stream",
     "text": [
      "model(p=1)\n",
      "Valid:         AUC: 0.6979 | AUPR: 0.2728 | Acc: 93.48%\n",
      "model(p=2)\n",
      "Valid:         AUC: 0.7011 | AUPR: 0.2702 | Acc: 93.33%\n",
      "=======================================================\n",
      "best model(p=2)\n",
      "Valid:         AUC: 0.7011 | AUPR: 0.2702 | Acc: 93.33%\n",
      "Internal test: AUC: 0.6979 | AUPR: 0.2909 | Acc: 93.31%\n",
      "External test: AUC: 0.7048 | AUPR: 0.2906 | Acc: 93.44%\n"
     ]
    }
   ],
   "source": [
    "from sklearn.neighbors import KNeighborsClassifier\n",
    "\n",
    "model_fn = functools.partial(\n",
    "    KNeighborsClassifier, n_jobs=-1, algorithm='auto',\n",
    "    n_neighbors=1, )\n",
    "param_grid_list = [{\n",
    "    'p': [1, 2],\n",
    "}]\n",
    "best_metrics, best_params, best_model = classification_dataset.perform_grid_search(model_fn, param_grid_list)\n",
    "metrics_internal, metrics_external = classification_dataset.evaluate_test_sets(best_model)"
   ]
  },
  {
   "cell_type": "code",
   "execution_count": 5,
   "metadata": {},
   "outputs": [
    {
     "name": "stdout",
     "output_type": "stream",
     "text": [
      "model(C=1.0)\n",
      "Valid:         AUC: 0.7245 | AUPR: 0.3907 | Acc: 95.19%\n",
      "model(C=10.0)\n",
      "Valid:         AUC: 0.7265 | AUPR: 0.3939 | Acc: 95.21%\n",
      "model(C=100.0)\n",
      "Valid:         AUC: 0.7261 | AUPR: 0.3920 | Acc: 95.19%\n",
      "=======================================================\n",
      "best model(C=10.0)\n",
      "Valid:         AUC: 0.7265 | AUPR: 0.3939 | Acc: 95.21%\n",
      "Internal test: AUC: 0.7318 | AUPR: 0.4345 | Acc: 95.26%\n",
      "External test: AUC: 0.7168 | AUPR: 0.3730 | Acc: 94.80%\n"
     ]
    }
   ],
   "source": [
    "# from sklearn.exceptions import ConvergenceWarning\n",
    "# import warnings\n",
    "# warnings.filterwarnings(\"ignore\", category=ConvergenceWarning)\n",
    "from sklearn.linear_model import LogisticRegression\n",
    "\n",
    "model_fn = functools.partial(\n",
    "    LogisticRegression, random_state=SEED, n_jobs=-1, \n",
    "    max_iter=2000, solver='saga', penalty='l2',\n",
    "    )\n",
    "param_grid_list = [{\n",
    "    'C': [1.0, 10.0, 100.0],\n",
    "}]\n",
    "best_metrics, best_params, best_model = classification_dataset.perform_grid_search(\n",
    "    model_fn, param_grid_list)\n",
    "metrics_internal, metrics_external = classification_dataset.evaluate_test_sets(\n",
    "    best_model)"
   ]
  },
  {
   "cell_type": "code",
   "execution_count": 6,
   "metadata": {},
   "outputs": [
    {
     "name": "stdout",
     "output_type": "stream",
     "text": [
      "model(C=0.01)\n",
      "Valid:         AUC: 0.8281 | AUPR: 0.2592 | Acc: 86.04%\n",
      "model(C=0.1)\n",
      "Valid:         AUC: 0.8297 | AUPR: 0.2586 | Acc: 85.86%\n",
      "model(C=1)\n",
      "Valid:         AUC: 0.8278 | AUPR: 0.2547 | Acc: 85.59%\n",
      "=======================================================\n",
      "best model(C=0.1)\n",
      "Valid:         AUC: 0.8297 | AUPR: 0.2586 | Acc: 85.86%\n",
      "Internal test: AUC: 0.8398 | AUPR: 0.2904 | Acc: 86.59%\n",
      "External test: AUC: 0.8361 | AUPR: 0.2673 | Acc: 85.33%\n"
     ]
    }
   ],
   "source": [
    "from sklearn.svm import SVC\n",
    "\n",
    "model_fn = functools.partial(\n",
    "    SVC, random_state=SEED, \n",
    "    class_weight='balanced', kernel='linear',\n",
    "    )\n",
    "param_grid_list = [{\n",
    "    'C': [0.01, 0.1, 1],\n",
    "}]\n",
    "best_metrics, best_params, best_model = classification_dataset.perform_grid_search(model_fn, param_grid_list)\n",
    "metrics_internal, metrics_external = classification_dataset.evaluate_test_sets(best_model)"
   ]
  },
  {
   "cell_type": "code",
   "execution_count": 7,
   "metadata": {},
   "outputs": [],
   "source": [
    "# from sklearn.neural_network import MLPClassifier\n",
    "\n",
    "# model_fn = functools.partial(MLPClassifier, random_state=SEED, max_iter=1000)\n",
    "# param_grid_list = [{\n",
    "#     'hidden_layer_sizes': [(100,), (50, 50), (50, 100, 50)],\n",
    "#     'activation': ['logistic', 'relu'],\n",
    "#     'solver': ['adam', 'sgd'],\n",
    "#     'alpha': [0.0001, 0.001, 0.01],\n",
    "# }]\n",
    "# best_metrics, best_params, best_model = classification_dataset.perform_grid_search(model_fn, param_grid_list)\n",
    "# metrics_internal, metrics_external = classification_dataset.evaluate_test_sets(best_model)"
   ]
  },
  {
   "cell_type": "code",
   "execution_count": 8,
   "metadata": {},
   "outputs": [
    {
     "name": "stdout",
     "output_type": "stream",
     "text": [
      "model(criterion=gini)\n",
      "Valid:         AUC: 0.7814 | AUPR: 0.2404 | Acc: 87.58%\n",
      "model(criterion=log_loss)\n",
      "Valid:         AUC: 0.7815 | AUPR: 0.2422 | Acc: 87.58%\n",
      "model(criterion=entropy)\n",
      "Valid:         AUC: 0.7815 | AUPR: 0.2422 | Acc: 87.58%\n",
      "=======================================================\n",
      "best model(criterion=log_loss)\n",
      "Valid:         AUC: 0.7815 | AUPR: 0.2422 | Acc: 87.58%\n",
      "Internal test: AUC: 0.8005 | AUPR: 0.2539 | Acc: 86.08%\n",
      "External test: AUC: 0.7894 | AUPR: 0.2374 | Acc: 86.01%\n"
     ]
    }
   ],
   "source": [
    "from sklearn.tree import DecisionTreeClassifier\n",
    "\n",
    "model_fn = functools.partial(\n",
    "    DecisionTreeClassifier, random_state=SEED,\n",
    "    ccp_alpha=0.0, class_weight='balanced', max_depth=5)\n",
    "param_grid_list = [{\n",
    "        'criterion': ['gini', 'log_loss', 'entropy'],\n",
    "    }\n",
    "]\n",
    "best_metrics, best_params, best_model = classification_dataset.perform_grid_search(model_fn, param_grid_list)\n",
    "metrics_internal, metrics_external = classification_dataset.evaluate_test_sets(best_model)"
   ]
  },
  {
   "cell_type": "code",
   "execution_count": 9,
   "metadata": {},
   "outputs": [
    {
     "name": "stdout",
     "output_type": "stream",
     "text": [
      "model(criterion=gini, n_estimators=50)\n",
      "Valid:         AUC: 0.8146 | AUPR: 0.2817 | Acc: 88.99%\n",
      "model(criterion=gini, n_estimators=100)\n",
      "Valid:         AUC: 0.8152 | AUPR: 0.2853 | Acc: 89.17%\n",
      "model(criterion=gini, n_estimators=200)\n",
      "Valid:         AUC: 0.8155 | AUPR: 0.2862 | Acc: 89.23%\n",
      "model(criterion=log_loss, n_estimators=50)\n",
      "Valid:         AUC: 0.8123 | AUPR: 0.2809 | Acc: 89.04%\n",
      "model(criterion=log_loss, n_estimators=100)\n",
      "Valid:         AUC: 0.8171 | AUPR: 0.2902 | Acc: 89.39%\n",
      "model(criterion=log_loss, n_estimators=200)\n",
      "Valid:         AUC: 0.8194 | AUPR: 0.2940 | Acc: 89.52%\n",
      "model(criterion=entropy, n_estimators=50)\n",
      "Valid:         AUC: 0.8123 | AUPR: 0.2809 | Acc: 89.04%\n",
      "model(criterion=entropy, n_estimators=100)\n",
      "Valid:         AUC: 0.8171 | AUPR: 0.2902 | Acc: 89.39%\n",
      "model(criterion=entropy, n_estimators=200)\n",
      "Valid:         AUC: 0.8194 | AUPR: 0.2940 | Acc: 89.52%\n",
      "=======================================================\n",
      "best model(criterion=log_loss, n_estimators=200)\n",
      "Valid:         AUC: 0.8194 | AUPR: 0.2940 | Acc: 89.52%\n",
      "Internal test: AUC: 0.8345 | AUPR: 0.3185 | Acc: 89.12%\n",
      "External test: AUC: 0.8120 | AUPR: 0.2777 | Acc: 88.15%\n"
     ]
    }
   ],
   "source": [
    "from sklearn.ensemble import RandomForestClassifier\n",
    "\n",
    "model_fn = functools.partial(\n",
    "    RandomForestClassifier, random_state=SEED, n_jobs=-1,\n",
    "    ccp_alpha=0.0, class_weight='balanced', max_depth=5, bootstrap=False)\n",
    "param_grid_list = [{\n",
    "        'criterion': ['gini', 'log_loss', 'entropy'],\n",
    "        'n_estimators': [50, 100, 200],\n",
    "    }\n",
    "]\n",
    "best_metrics, best_params, best_model = classification_dataset.perform_grid_search(model_fn, param_grid_list)\n",
    "metrics_internal, metrics_external = classification_dataset.evaluate_test_sets(best_model)"
   ]
  },
  {
   "cell_type": "code",
   "execution_count": 10,
   "metadata": {},
   "outputs": [
    {
     "name": "stdout",
     "output_type": "stream",
     "text": [
      "model(criterion=friedman_mse)\n",
      "Valid:         AUC: 0.7377 | AUPR: 0.4066 | Acc: 95.29%\n",
      "model(criterion=squared_error)\n",
      "Valid:         AUC: 0.7378 | AUPR: 0.4060 | Acc: 95.28%\n",
      "=======================================================\n",
      "best model(criterion=squared_error)\n",
      "Valid:         AUC: 0.7378 | AUPR: 0.4060 | Acc: 95.28%\n",
      "Internal test: AUC: 0.7405 | AUPR: 0.4364 | Acc: 95.23%\n",
      "External test: AUC: 0.7446 | AUPR: 0.4197 | Acc: 95.19%\n"
     ]
    }
   ],
   "source": [
    "from sklearn.ensemble import GradientBoostingClassifier\n",
    "\n",
    "model = functools.partial(\n",
    "    GradientBoostingClassifier, random_state=SEED,\n",
    "    learning_rate=0.1, max_depth=5, loss='log_loss', \n",
    "    n_estimators=100)\n",
    "param_grid_list = [{\n",
    "        'criterion': ['friedman_mse', 'squared_error'],\n",
    "    }\n",
    "]\n",
    "best_metrics, best_params, best_model = classification_dataset.perform_grid_search(model, param_grid_list)\n",
    "metrics_internal, metrics_external = classification_dataset.evaluate_test_sets(best_model)"
   ]
  },
  {
   "cell_type": "code",
   "execution_count": 11,
   "metadata": {},
   "outputs": [
    {
     "name": "stdout",
     "output_type": "stream",
     "text": [
      "model(n_estimators=100, learning_rate=1.0)\n",
      "Valid:         AUC: 0.7262 | AUPR: 0.3805 | Acc: 95.05%\n",
      "model(n_estimators=200, learning_rate=1.0)\n",
      "Valid:         AUC: 0.7284 | AUPR: 0.3838 | Acc: 95.07%\n",
      "model(n_estimators=500, learning_rate=1.0)\n",
      "Valid:         AUC: 0.7269 | AUPR: 0.3830 | Acc: 95.07%\n",
      "=======================================================\n",
      "best model(n_estimators=200, learning_rate=1.0)\n",
      "Valid:         AUC: 0.7284 | AUPR: 0.3838 | Acc: 95.07%\n",
      "Internal test: AUC: 0.7451 | AUPR: 0.4428 | Acc: 95.28%\n",
      "External test: AUC: 0.7171 | AUPR: 0.3609 | Acc: 94.62%\n"
     ]
    }
   ],
   "source": [
    "from sklearn.ensemble import AdaBoostClassifier\n",
    "model = functools.partial(AdaBoostClassifier, random_state=SEED, algorithm=\"SAMME\")\n",
    "param_grid_list = [{\n",
    "    'n_estimators': [100, 200, 500],\n",
    "    'learning_rate': [1.0],\n",
    "}]\n",
    "best_metrics, best_params, best_model = classification_dataset.perform_grid_search(model, param_grid_list)\n",
    "metrics_internal, metrics_external = classification_dataset.evaluate_test_sets(best_model)"
   ]
  },
  {
   "cell_type": "code",
   "execution_count": null,
   "metadata": {},
   "outputs": [],
   "source": []
  }
 ],
 "metadata": {
  "kernelspec": {
   "display_name": "py310",
   "language": "python",
   "name": "python3"
  },
  "language_info": {
   "codemirror_mode": {
    "name": "ipython",
    "version": 3
   },
   "file_extension": ".py",
   "mimetype": "text/x-python",
   "name": "python",
   "nbconvert_exporter": "python",
   "pygments_lexer": "ipython3",
   "version": "3.10.13"
  }
 },
 "nbformat": 4,
 "nbformat_minor": 2
}
