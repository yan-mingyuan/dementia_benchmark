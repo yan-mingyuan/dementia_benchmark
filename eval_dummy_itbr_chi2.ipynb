{
 "cells": [
  {
   "cell_type": "code",
   "execution_count": 1,
   "metadata": {},
   "outputs": [],
   "source": [
    "from config import *\n",
    "from utilities import get_model_name\n",
    "from dataset import ClassificationDataset\n",
    "\n",
    "import functools\n",
    "import numpy as np\n",
    "import pandas as pd\n",
    "\n",
    "results_dict = {}\n",
    "internal, external = 11, 12\n",
    "encode_method = \"dummy\"\n",
    "impute_method = \"itbr\"\n",
    "fs_method, fs_ratio = \"chi2\", 0.5\n",
    "norm_method = \"maxmin\"\n",
    "classification_dataset = ClassificationDataset(\n",
    "    internal, external, encode_method, impute_method, fs_method, fs_ratio, norm_method, random_state=SEED)"
   ]
  },
  {
   "cell_type": "code",
   "execution_count": 2,
   "metadata": {},
   "outputs": [
    {
     "name": "stdout",
     "output_type": "stream",
     "text": [
      "SVC\n",
      "model(kernel=linear, C=0.01)\n",
      "Valid:         AUC: 0.9121 | AUPR: 0.6148 | Acc: 94.89%\n",
      "model(kernel=linear, C=0.1)\n",
      "Valid:         AUC: 0.9134 | AUPR: 0.6162 | Acc: 94.91%\n",
      "model(kernel=linear, C=1)\n",
      "Valid:         AUC: 0.9133 | AUPR: 0.6148 | Acc: 94.88%\n",
      "=======================================================\n",
      "best model(kernel=linear, C=0.1)\n",
      "Valid:         AUC: 0.9134 | AUPR: 0.6162 | Acc: 94.91%\n",
      "Internal test: AUC: 0.9120 | AUPR: 0.6351 | Acc: 94.67%\n",
      "External test: AUC: 0.9099 | AUPR: 0.5848 | Acc: 94.30%\n"
     ]
    }
   ],
   "source": [
    "from sklearn.svm import SVC\n",
    "\n",
    "model_fn = functools.partial(\n",
    "    SVC, random_state=SEED, probability=True,\n",
    "    class_weight='balanced')\n",
    "param_grid_list = [{\n",
    "    'kernel': ['linear'],\n",
    "    'C': [0.01, 0.1, 1],\n",
    "}]\n",
    "best_metrics, best_params, best_model = classification_dataset.perform_grid_search(model_fn, param_grid_list)\n",
    "metrics_internal, metrics_external = classification_dataset.evaluate_test_sets(best_model)\n",
    "results_dict[get_model_name(model_fn)] = np.concatenate([best_metrics, metrics_internal, metrics_external], axis=0)"
   ]
  },
  {
   "cell_type": "code",
   "execution_count": 3,
   "metadata": {},
   "outputs": [
    {
     "name": "stdout",
     "output_type": "stream",
     "text": [
      "KNeighborsClassifier\n",
      "model(n_neighbors=3)\n",
      "Valid:         AUC: 0.7400 | AUPR: 0.4064 | Acc: 94.48%\n",
      "model(n_neighbors=5)\n",
      "Valid:         AUC: 0.7689 | AUPR: 0.4543 | Acc: 94.92%\n",
      "model(n_neighbors=7)\n",
      "Valid:         AUC: 0.7861 | AUPR: 0.4783 | Acc: 94.95%\n",
      "=======================================================\n",
      "best model(n_neighbors=7)\n",
      "Valid:         AUC: 0.7861 | AUPR: 0.4783 | Acc: 94.95%\n",
      "Internal test: AUC: 0.7905 | AUPR: 0.4760 | Acc: 94.50%\n",
      "External test: AUC: 0.7955 | AUPR: 0.4747 | Acc: 94.76%\n"
     ]
    }
   ],
   "source": [
    "from sklearn.neighbors import KNeighborsClassifier\n",
    "\n",
    "model_fn = functools.partial(\n",
    "    KNeighborsClassifier, n_jobs=-1, algorithm='auto', p=2)\n",
    "param_grid_list = [{\n",
    "    'n_neighbors': [3, 5, 7],\n",
    "}]\n",
    "best_metrics, best_params, best_model = classification_dataset.perform_grid_search(model_fn, param_grid_list)\n",
    "metrics_internal, metrics_external = classification_dataset.evaluate_test_sets(best_model)\n",
    "results_dict[get_model_name(model_fn)] = np.concatenate([best_metrics, metrics_internal, metrics_external], axis=0)"
   ]
  },
  {
   "cell_type": "code",
   "execution_count": 4,
   "metadata": {},
   "outputs": [
    {
     "name": "stdout",
     "output_type": "stream",
     "text": [
      "GaussianNB\n",
      "model()\n",
      "Valid:         AUC: 0.8583 | AUPR: 0.3688 | Acc: 84.01%\n",
      "=======================================================\n",
      "best model()\n",
      "Valid:         AUC: 0.8583 | AUPR: 0.3688 | Acc: 84.01%\n",
      "Internal test: AUC: 0.8665 | AUPR: 0.3875 | Acc: 84.18%\n",
      "External test: AUC: 0.8513 | AUPR: 0.3425 | Acc: 82.67%\n"
     ]
    }
   ],
   "source": [
    "from sklearn.naive_bayes import GaussianNB\n",
    "\n",
    "model_fn = GaussianNB\n",
    "param_grid_list = [{}]\n",
    "best_metrics, best_params, best_model = classification_dataset.perform_grid_search(model_fn, param_grid_list)\n",
    "metrics_internal, metrics_external = classification_dataset.evaluate_test_sets(best_model)\n",
    "results_dict[get_model_name(model_fn)] = np.concatenate([best_metrics, metrics_internal, metrics_external], axis=0)"
   ]
  },
  {
   "cell_type": "code",
   "execution_count": 5,
   "metadata": {},
   "outputs": [
    {
     "name": "stdout",
     "output_type": "stream",
     "text": [
      "LogisticRegression\n",
      "model(C=1.0)\n",
      "Valid:         AUC: 0.9138 | AUPR: 0.6366 | Acc: 95.16%\n",
      "model(C=10.0)\n",
      "Valid:         AUC: 0.9136 | AUPR: 0.6353 | Acc: 95.15%\n",
      "model(C=100.0)\n",
      "Valid:         AUC: 0.9135 | AUPR: 0.6351 | Acc: 95.15%\n",
      "=======================================================\n",
      "best model(C=1.0)\n",
      "Valid:         AUC: 0.9138 | AUPR: 0.6366 | Acc: 95.16%\n",
      "Internal test: AUC: 0.9146 | AUPR: 0.6522 | Acc: 94.79%\n",
      "External test: AUC: 0.9092 | AUPR: 0.6089 | Acc: 94.58%\n"
     ]
    }
   ],
   "source": [
    "# from sklearn.exceptions import ConvergenceWarning\n",
    "# import warnings\n",
    "# warnings.filterwarnings(\"ignore\", category=ConvergenceWarning)\n",
    "from sklearn.linear_model import LogisticRegression\n",
    "\n",
    "model_fn = functools.partial(\n",
    "    LogisticRegression, random_state=SEED, n_jobs=-1, \n",
    "    max_iter=2000, solver='saga', penalty='l2',\n",
    "    )\n",
    "param_grid_list = [{\n",
    "    'C': [1.0, 10.0, 100.0],\n",
    "}]\n",
    "best_metrics, best_params, best_model = classification_dataset.perform_grid_search(\n",
    "    model_fn, param_grid_list)\n",
    "metrics_internal, metrics_external = classification_dataset.evaluate_test_sets(\n",
    "    best_model)\n",
    "results_dict[get_model_name(model_fn)] = np.concatenate([best_metrics, metrics_internal, metrics_external], axis=0)"
   ]
  },
  {
   "cell_type": "code",
   "execution_count": 6,
   "metadata": {},
   "outputs": [
    {
     "name": "stdout",
     "output_type": "stream",
     "text": [
      "MLPClassifier\n",
      "model(hidden_layer_sizes=(50, 50), momentum=0.9, learning_rate_init=0.0003)\n",
      "Valid:         AUC: 0.9019 | AUPR: 0.6102 | Acc: 95.03%\n",
      "model(hidden_layer_sizes=(50, 50), momentum=0.9, learning_rate_init=0.001)\n",
      "Valid:         AUC: 0.9099 | AUPR: 0.6343 | Acc: 95.19%\n",
      "model(hidden_layer_sizes=(50, 50), momentum=0.9, learning_rate_init=0.003)\n",
      "Valid:         AUC: 0.8486 | AUPR: 0.5189 | Acc: 93.00%\n",
      "model(hidden_layer_sizes=(50, 50), momentum=0.95, learning_rate_init=0.0003)\n",
      "Valid:         AUC: 0.9065 | AUPR: 0.6229 | Acc: 95.10%\n",
      "model(hidden_layer_sizes=(50, 50), momentum=0.95, learning_rate_init=0.001)\n",
      "Valid:         AUC: 0.8676 | AUPR: 0.5561 | Acc: 93.84%\n",
      "model(hidden_layer_sizes=(50, 50), momentum=0.95, learning_rate_init=0.003)\n",
      "Valid:         AUC: 0.8460 | AUPR: 0.5229 | Acc: 92.96%\n",
      "model(hidden_layer_sizes=(50, 50), momentum=0.99, learning_rate_init=0.0003)\n",
      "Valid:         AUC: 0.8472 | AUPR: 0.5291 | Acc: 93.53%\n",
      "model(hidden_layer_sizes=(50, 50), momentum=0.99, learning_rate_init=0.001)\n",
      "Valid:         AUC: 0.8487 | AUPR: 0.5258 | Acc: 93.00%\n",
      "model(hidden_layer_sizes=(50, 50), momentum=0.99, learning_rate_init=0.003)\n",
      "Valid:         AUC: 0.8413 | AUPR: 0.5056 | Acc: 92.98%\n",
      "=======================================================\n",
      "best model(hidden_layer_sizes=(50, 50), momentum=0.9, learning_rate_init=0.001)\n",
      "Valid:         AUC: 0.9099 | AUPR: 0.6343 | Acc: 95.19%\n",
      "Internal test: AUC: 0.9145 | AUPR: 0.6473 | Acc: 94.89%\n",
      "External test: AUC: 0.9081 | AUPR: 0.6129 | Acc: 94.67%\n"
     ]
    }
   ],
   "source": [
    "from sklearn.neural_network import MLPClassifier\n",
    "\n",
    "model_fn = functools.partial(\n",
    "    MLPClassifier, random_state=SEED, max_iter=1000,\n",
    "    activation='relu',\n",
    "    solver='sgd', nesterovs_momentum=True, momentum=0.9)\n",
    "param_grid_list = [{\n",
    "    # 'hidden_layer_sizes': [(100,), (50, 50), (50, 100, 50)],\n",
    "    'hidden_layer_sizes': [(50, 50)],\n",
    "    'learning_rate_init': [0.0003, 0.001],\n",
    "}]\n",
    "best_metrics, best_params, best_model = classification_dataset.perform_grid_search(model_fn, param_grid_list)\n",
    "metrics_internal, metrics_external = classification_dataset.evaluate_test_sets(best_model)\n",
    "results_dict[get_model_name(model_fn)] = np.concatenate([best_metrics, metrics_internal, metrics_external], axis=0)"
   ]
  },
  {
   "cell_type": "code",
   "execution_count": 7,
   "metadata": {},
   "outputs": [
    {
     "name": "stdout",
     "output_type": "stream",
     "text": [
      "DecisionTreeClassifier\n",
      "model(criterion=gini)\n",
      "Valid:         AUC: 0.8730 | AUPR: 0.5383 | Acc: 84.12%\n",
      "model(criterion=log_loss)\n",
      "Valid:         AUC: 0.8768 | AUPR: 0.5623 | Acc: 85.43%\n",
      "model(criterion=entropy)\n",
      "Valid:         AUC: 0.8768 | AUPR: 0.5623 | Acc: 85.43%\n",
      "=======================================================\n",
      "best model(criterion=log_loss)\n",
      "Valid:         AUC: 0.8768 | AUPR: 0.5623 | Acc: 85.43%\n",
      "Internal test: AUC: 0.8950 | AUPR: 0.6167 | Acc: 84.87%\n",
      "External test: AUC: 0.8837 | AUPR: 0.5803 | Acc: 84.57%\n"
     ]
    }
   ],
   "source": [
    "from sklearn.tree import DecisionTreeClassifier\n",
    "\n",
    "model_fn = functools.partial(\n",
    "    DecisionTreeClassifier, random_state=SEED,\n",
    "    ccp_alpha=0.0, class_weight='balanced', max_depth=5)\n",
    "param_grid_list = [{\n",
    "        'criterion': ['gini', 'log_loss', 'entropy'],\n",
    "    }\n",
    "]\n",
    "best_metrics, best_params, best_model = classification_dataset.perform_grid_search(model_fn, param_grid_list)\n",
    "metrics_internal, metrics_external = classification_dataset.evaluate_test_sets(best_model)\n",
    "results_dict[get_model_name(model_fn)] = np.concatenate([best_metrics, metrics_internal, metrics_external], axis=0)"
   ]
  },
  {
   "cell_type": "code",
   "execution_count": 8,
   "metadata": {},
   "outputs": [
    {
     "name": "stdout",
     "output_type": "stream",
     "text": [
      "RandomForestClassifier\n",
      "model(criterion=gini, n_estimators=50)\n",
      "Valid:         AUC: 0.9104 | AUPR: 0.6351 | Acc: 87.75%\n",
      "model(criterion=gini, n_estimators=100)\n",
      "Valid:         AUC: 0.9117 | AUPR: 0.6367 | Acc: 88.03%\n",
      "model(criterion=gini, n_estimators=200)\n",
      "Valid:         AUC: 0.9122 | AUPR: 0.6370 | Acc: 88.02%\n",
      "model(criterion=log_loss, n_estimators=50)\n",
      "Valid:         AUC: 0.9098 | AUPR: 0.6362 | Acc: 88.00%\n",
      "model(criterion=log_loss, n_estimators=100)\n",
      "Valid:         AUC: 0.9117 | AUPR: 0.6394 | Acc: 88.19%\n",
      "model(criterion=log_loss, n_estimators=200)\n",
      "Valid:         AUC: 0.9121 | AUPR: 0.6396 | Acc: 88.16%\n",
      "model(criterion=entropy, n_estimators=50)\n",
      "Valid:         AUC: 0.9098 | AUPR: 0.6362 | Acc: 88.00%\n",
      "model(criterion=entropy, n_estimators=100)\n",
      "Valid:         AUC: 0.9117 | AUPR: 0.6394 | Acc: 88.19%\n",
      "model(criterion=entropy, n_estimators=200)\n",
      "Valid:         AUC: 0.9121 | AUPR: 0.6396 | Acc: 88.16%\n",
      "=======================================================\n",
      "best model(criterion=gini, n_estimators=200)\n",
      "Valid:         AUC: 0.9122 | AUPR: 0.6370 | Acc: 88.02%\n",
      "Internal test: AUC: 0.9130 | AUPR: 0.6597 | Acc: 87.15%\n",
      "External test: AUC: 0.9038 | AUPR: 0.6205 | Acc: 86.75%\n"
     ]
    }
   ],
   "source": [
    "from sklearn.ensemble import RandomForestClassifier\n",
    "\n",
    "model_fn = functools.partial(\n",
    "    RandomForestClassifier, random_state=SEED, n_jobs=-1,\n",
    "    ccp_alpha=0.0, class_weight='balanced', max_depth=5, bootstrap=False)\n",
    "param_grid_list = [{\n",
    "        'criterion': ['gini', 'log_loss', 'entropy'],\n",
    "        'n_estimators': [50, 100, 200],\n",
    "    }\n",
    "]\n",
    "best_metrics, best_params, best_model = classification_dataset.perform_grid_search(model_fn, param_grid_list)\n",
    "metrics_internal, metrics_external = classification_dataset.evaluate_test_sets(best_model)\n",
    "results_dict[get_model_name(model_fn)] = np.concatenate([best_metrics, metrics_internal, metrics_external], axis=0)"
   ]
  },
  {
   "cell_type": "code",
   "execution_count": 9,
   "metadata": {},
   "outputs": [
    {
     "name": "stdout",
     "output_type": "stream",
     "text": [
      "GradientBoostingClassifier\n",
      "model(criterion=friedman_mse)\n",
      "Valid:         AUC: 0.9180 | AUPR: 0.6432 | Acc: 95.11%\n",
      "model(criterion=squared_error)\n",
      "Valid:         AUC: 0.9184 | AUPR: 0.6484 | Acc: 95.15%\n",
      "=======================================================\n",
      "best model(criterion=squared_error)\n",
      "Valid:         AUC: 0.9184 | AUPR: 0.6484 | Acc: 95.15%\n",
      "Internal test: AUC: 0.9168 | AUPR: 0.6401 | Acc: 94.84%\n",
      "External test: AUC: 0.9122 | AUPR: 0.6177 | Acc: 94.82%\n"
     ]
    }
   ],
   "source": [
    "from sklearn.ensemble import GradientBoostingClassifier\n",
    "\n",
    "model = functools.partial(\n",
    "    GradientBoostingClassifier, random_state=SEED,\n",
    "    learning_rate=0.1, max_depth=5, loss='log_loss', \n",
    "    n_estimators=100)\n",
    "param_grid_list = [{\n",
    "        'criterion': ['friedman_mse', 'squared_error'],\n",
    "    }\n",
    "]\n",
    "best_metrics, best_params, best_model = classification_dataset.perform_grid_search(model, param_grid_list)\n",
    "metrics_internal, metrics_external = classification_dataset.evaluate_test_sets(best_model)\n",
    "results_dict[get_model_name(model_fn)] = np.concatenate([best_metrics, metrics_internal, metrics_external], axis=0)"
   ]
  },
  {
   "cell_type": "code",
   "execution_count": 10,
   "metadata": {},
   "outputs": [
    {
     "name": "stdout",
     "output_type": "stream",
     "text": [
      "AdaBoostClassifier\n",
      "model(n_estimators=100, learning_rate=1.0)\n",
      "Valid:         AUC: 0.9098 | AUPR: 0.6226 | Acc: 94.98%\n",
      "model(n_estimators=200, learning_rate=1.0)\n",
      "Valid:         AUC: 0.9125 | AUPR: 0.6273 | Acc: 94.96%\n",
      "model(n_estimators=500, learning_rate=1.0)\n",
      "Valid:         AUC: 0.9147 | AUPR: 0.6315 | Acc: 94.99%\n",
      "=======================================================\n",
      "best model(n_estimators=500, learning_rate=1.0)\n",
      "Valid:         AUC: 0.9147 | AUPR: 0.6315 | Acc: 94.99%\n",
      "Internal test: AUC: 0.9095 | AUPR: 0.6430 | Acc: 94.65%\n",
      "External test: AUC: 0.9073 | AUPR: 0.5987 | Acc: 94.44%\n"
     ]
    }
   ],
   "source": [
    "from sklearn.ensemble import AdaBoostClassifier\n",
    "model = functools.partial(AdaBoostClassifier, random_state=SEED, algorithm=\"SAMME\")\n",
    "param_grid_list = [{\n",
    "    'n_estimators': [100, 200, 500],\n",
    "    'learning_rate': [1.0],\n",
    "}]\n",
    "best_metrics, best_params, best_model = classification_dataset.perform_grid_search(model, param_grid_list)\n",
    "metrics_internal, metrics_external = classification_dataset.evaluate_test_sets(best_model)\n",
    "results_dict[get_model_name(model_fn)] = np.concatenate([best_metrics, metrics_internal, metrics_external], axis=0)"
   ]
  },
  {
   "cell_type": "code",
   "execution_count": 11,
   "metadata": {},
   "outputs": [],
   "source": [
    "dataframe = pd.DataFrame(results_dict).transpose().reset_index()\n",
    "dataframe.columns = ['model', 'val_auc', 'val_aupr', 'val_acc', 'intest_auc', 'intest_aupr', 'intest_acc', 'extest_auc', 'extest_aupr', 'extest_acc']\n",
    "# dataframe.to_csv()\n",
    "filename = os.path.join(RESULTS_DIR, encode_method, impute_method, f'{fs_method}{int(fs_ratio * 142)}.csv')\n",
    "dirname = os.path.dirname(filename)\n",
    "if not os.path.exists(dirname):\n",
    "    os.makedirs(dirname)\n",
    "dataframe.to_csv(filename, index=False)"
   ]
  },
  {
   "cell_type": "code",
   "execution_count": null,
   "metadata": {},
   "outputs": [],
   "source": []
  }
 ],
 "metadata": {
  "kernelspec": {
   "display_name": "py310",
   "language": "python",
   "name": "python3"
  },
  "language_info": {
   "codemirror_mode": {
    "name": "ipython",
    "version": 3
   },
   "file_extension": ".py",
   "mimetype": "text/x-python",
   "name": "python",
   "nbconvert_exporter": "python",
   "pygments_lexer": "ipython3",
   "version": "3.10.13"
  }
 },
 "nbformat": 4,
 "nbformat_minor": 2
}
