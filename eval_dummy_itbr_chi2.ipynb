{
 "cells": [
  {
   "cell_type": "code",
   "execution_count": 1,
   "metadata": {},
   "outputs": [],
   "source": [
    "from config import *\n",
    "from dataset import ClassificationDataset\n",
    "\n",
    "import functools\n",
    "\n",
    "internal, external = 11, 12\n",
    "encode_method = \"dummy\"\n",
    "impute_method = \"itbr\"\n",
    "fs_method, fs_ratio = \"chi2\", 0.5\n",
    "norm_method = \"maxmin\"\n",
    "classification_dataset = ClassificationDataset(\n",
    "    internal, external, encode_method, impute_method, fs_method, fs_ratio, norm_method, random_state=SEED)"
   ]
  },
  {
   "cell_type": "code",
   "execution_count": 2,
   "metadata": {},
   "outputs": [
    {
     "name": "stdout",
     "output_type": "stream",
     "text": [
      "model()\n",
      "Valid:         AUC: 0.7634 | AUPR: 0.1971 | Acc: 84.01%\n",
      "=======================================================\n",
      "best model()\n",
      "Valid:         AUC: 0.7634 | AUPR: 0.1971 | Acc: 84.01%\n",
      "Internal test: AUC: 0.7742 | AUPR: 0.2194 | Acc: 84.18%\n",
      "External test: AUC: 0.7554 | AUPR: 0.1915 | Acc: 82.67%\n"
     ]
    }
   ],
   "source": [
    "from sklearn.naive_bayes import GaussianNB\n",
    "\n",
    "model_fn = GaussianNB\n",
    "param_grid_list = [{}]\n",
    "best_metrics, best_params, best_model = classification_dataset.perform_grid_search(model_fn, param_grid_list)\n",
    "metrics_internal, metrics_external = classification_dataset.evaluate_test_sets(best_model)"
   ]
  },
  {
   "cell_type": "code",
   "execution_count": 3,
   "metadata": {},
   "outputs": [
    {
     "name": "stdout",
     "output_type": "stream",
     "text": [
      "model()\n",
      "Valid:         AUC: 0.7756 | AUPR: 0.1938 | Acc: 81.87%\n",
      "=======================================================\n",
      "best model()\n",
      "Valid:         AUC: 0.7756 | AUPR: 0.1938 | Acc: 81.87%\n",
      "Internal test: AUC: 0.7724 | AUPR: 0.2042 | Acc: 81.70%\n",
      "External test: AUC: 0.7614 | AUPR: 0.1849 | Acc: 80.27%\n"
     ]
    }
   ],
   "source": [
    "from sklearn.naive_bayes import ComplementNB\n",
    "\n",
    "model_fn = ComplementNB\n",
    "param_grid_list = [{}]\n",
    "best_metrics, best_params, best_model = classification_dataset.perform_grid_search(model_fn, param_grid_list)\n",
    "metrics_internal, metrics_external = classification_dataset.evaluate_test_sets(best_model)"
   ]
  },
  {
   "cell_type": "code",
   "execution_count": 4,
   "metadata": {},
   "outputs": [
    {
     "name": "stdout",
     "output_type": "stream",
     "text": [
      "model(p=1)\n",
      "Valid:         AUC: 0.6880 | AUPR: 0.2458 | Acc: 92.96%\n",
      "model(p=2)\n",
      "Valid:         AUC: 0.6813 | AUPR: 0.2313 | Acc: 92.65%\n",
      "=======================================================\n",
      "best model(p=1)\n",
      "Valid:         AUC: 0.6880 | AUPR: 0.2458 | Acc: 92.96%\n",
      "Internal test: AUC: 0.7025 | AUPR: 0.2857 | Acc: 93.07%\n",
      "External test: AUC: 0.7071 | AUPR: 0.2856 | Acc: 93.25%\n"
     ]
    }
   ],
   "source": [
    "from sklearn.neighbors import KNeighborsClassifier\n",
    "\n",
    "model_fn = functools.partial(\n",
    "    KNeighborsClassifier, n_jobs=-1, algorithm='auto',\n",
    "    n_neighbors=1, )\n",
    "param_grid_list = [{\n",
    "    'p': [1, 2],\n",
    "}]\n",
    "best_metrics, best_params, best_model = classification_dataset.perform_grid_search(model_fn, param_grid_list)\n",
    "metrics_internal, metrics_external = classification_dataset.evaluate_test_sets(best_model)"
   ]
  },
  {
   "cell_type": "code",
   "execution_count": 5,
   "metadata": {},
   "outputs": [
    {
     "name": "stdout",
     "output_type": "stream",
     "text": [
      "model(C=1.0)\n",
      "Valid:         AUC: 0.7163 | AUPR: 0.3828 | Acc: 95.16%\n",
      "model(C=10.0)\n",
      "Valid:         AUC: 0.7170 | AUPR: 0.3824 | Acc: 95.15%\n",
      "model(C=100.0)\n",
      "Valid:         AUC: 0.7173 | AUPR: 0.3823 | Acc: 95.15%\n",
      "=======================================================\n",
      "best model(C=100.0)\n",
      "Valid:         AUC: 0.7173 | AUPR: 0.3823 | Acc: 95.15%\n",
      "Internal test: AUC: 0.7143 | AUPR: 0.3816 | Acc: 94.72%\n",
      "External test: AUC: 0.7018 | AUPR: 0.3464 | Acc: 94.56%\n"
     ]
    }
   ],
   "source": [
    "# from sklearn.exceptions import ConvergenceWarning\n",
    "# import warnings\n",
    "# warnings.filterwarnings(\"ignore\", category=ConvergenceWarning)\n",
    "from sklearn.linear_model import LogisticRegression\n",
    "\n",
    "model_fn = functools.partial(\n",
    "    LogisticRegression, random_state=SEED, n_jobs=-1, \n",
    "    max_iter=2000, solver='saga', penalty='l2',\n",
    "    )\n",
    "param_grid_list = [{\n",
    "    'C': [1.0, 10.0, 100.0],\n",
    "}]\n",
    "best_metrics, best_params, best_model = classification_dataset.perform_grid_search(\n",
    "    model_fn, param_grid_list)\n",
    "metrics_internal, metrics_external = classification_dataset.evaluate_test_sets(\n",
    "    best_model)"
   ]
  },
  {
   "cell_type": "code",
   "execution_count": 6,
   "metadata": {},
   "outputs": [
    {
     "name": "stdout",
     "output_type": "stream",
     "text": [
      "model(C=0.01)\n",
      "Valid:         AUC: 0.8240 | AUPR: 0.2441 | Acc: 84.66%\n",
      "model(C=0.1)\n",
      "Valid:         AUC: 0.8274 | AUPR: 0.2483 | Acc: 84.87%\n",
      "model(C=1)\n",
      "Valid:         AUC: 0.8285 | AUPR: 0.2493 | Acc: 84.86%\n",
      "=======================================================\n",
      "best model(C=1)\n",
      "Valid:         AUC: 0.8285 | AUPR: 0.2493 | Acc: 84.86%\n",
      "Internal test: AUC: 0.8284 | AUPR: 0.2711 | Acc: 85.57%\n",
      "External test: AUC: 0.8317 | AUPR: 0.2535 | Acc: 84.08%\n"
     ]
    }
   ],
   "source": [
    "from sklearn.svm import SVC\n",
    "\n",
    "model_fn = functools.partial(\n",
    "    SVC, random_state=SEED, \n",
    "    class_weight='balanced', kernel='linear',\n",
    "    )\n",
    "param_grid_list = [{\n",
    "    'C': [0.01, 0.1, 1],\n",
    "}]\n",
    "best_metrics, best_params, best_model = classification_dataset.perform_grid_search(model_fn, param_grid_list)\n",
    "metrics_internal, metrics_external = classification_dataset.evaluate_test_sets(best_model)"
   ]
  },
  {
   "cell_type": "code",
   "execution_count": 7,
   "metadata": {},
   "outputs": [],
   "source": [
    "# from sklearn.neural_network import MLPClassifier\n",
    "\n",
    "# model_fn = functools.partial(MLPClassifier, random_state=SEED, max_iter=1000)\n",
    "# param_grid_list = [{\n",
    "#     'hidden_layer_sizes': [(100,), (50, 50), (50, 100, 50)],\n",
    "#     'activation': ['logistic', 'relu'],\n",
    "#     'solver': ['adam', 'sgd'],\n",
    "#     'alpha': [0.0001, 0.001, 0.01],\n",
    "# }]\n",
    "# best_metrics, best_params, best_model = classification_dataset.perform_grid_search(model_fn, param_grid_list)\n",
    "# metrics_internal, metrics_external = classification_dataset.evaluate_test_sets(best_model)"
   ]
  },
  {
   "cell_type": "code",
   "execution_count": 8,
   "metadata": {},
   "outputs": [
    {
     "name": "stdout",
     "output_type": "stream",
     "text": [
      "model(criterion=gini)\n",
      "Valid:         AUC: 0.8018 | AUPR: 0.2278 | Acc: 84.12%\n",
      "model(criterion=log_loss)\n",
      "Valid:         AUC: 0.7995 | AUPR: 0.2356 | Acc: 85.43%\n",
      "model(criterion=entropy)\n",
      "Valid:         AUC: 0.7995 | AUPR: 0.2356 | Acc: 85.43%\n",
      "=======================================================\n",
      "best model(criterion=gini)\n",
      "Valid:         AUC: 0.8018 | AUPR: 0.2278 | Acc: 84.12%\n",
      "Internal test: AUC: 0.7981 | AUPR: 0.2254 | Acc: 82.41%\n",
      "External test: AUC: 0.7931 | AUPR: 0.2157 | Acc: 82.48%\n"
     ]
    }
   ],
   "source": [
    "from sklearn.tree import DecisionTreeClassifier\n",
    "\n",
    "model_fn = functools.partial(\n",
    "    DecisionTreeClassifier, random_state=SEED,\n",
    "    ccp_alpha=0.0, class_weight='balanced', max_depth=5)\n",
    "param_grid_list = [{\n",
    "        'criterion': ['gini', 'log_loss', 'entropy'],\n",
    "    }\n",
    "]\n",
    "best_metrics, best_params, best_model = classification_dataset.perform_grid_search(model_fn, param_grid_list)\n",
    "metrics_internal, metrics_external = classification_dataset.evaluate_test_sets(best_model)"
   ]
  },
  {
   "cell_type": "code",
   "execution_count": 9,
   "metadata": {},
   "outputs": [
    {
     "name": "stdout",
     "output_type": "stream",
     "text": [
      "model(criterion=gini, n_estimators=50)\n",
      "Valid:         AUC: 0.8135 | AUPR: 0.2653 | Acc: 87.75%\n",
      "model(criterion=gini, n_estimators=100)\n",
      "Valid:         AUC: 0.8156 | AUPR: 0.2703 | Acc: 88.03%\n",
      "model(criterion=gini, n_estimators=200)\n",
      "Valid:         AUC: 0.8131 | AUPR: 0.2683 | Acc: 88.02%\n",
      "model(criterion=log_loss, n_estimators=50)\n",
      "Valid:         AUC: 0.8159 | AUPR: 0.2704 | Acc: 88.00%\n",
      "model(criterion=log_loss, n_estimators=100)\n",
      "Valid:         AUC: 0.8160 | AUPR: 0.2726 | Acc: 88.19%\n",
      "model(criterion=log_loss, n_estimators=200)\n",
      "Valid:         AUC: 0.8163 | AUPR: 0.2727 | Acc: 88.16%\n",
      "model(criterion=entropy, n_estimators=50)\n",
      "Valid:         AUC: 0.8159 | AUPR: 0.2704 | Acc: 88.00%\n",
      "model(criterion=entropy, n_estimators=100)\n",
      "Valid:         AUC: 0.8160 | AUPR: 0.2726 | Acc: 88.19%\n",
      "model(criterion=entropy, n_estimators=200)\n",
      "Valid:         AUC: 0.8163 | AUPR: 0.2727 | Acc: 88.16%\n",
      "=======================================================\n",
      "best model(criterion=log_loss, n_estimators=200)\n",
      "Valid:         AUC: 0.8163 | AUPR: 0.2727 | Acc: 88.16%\n",
      "Internal test: AUC: 0.8194 | AUPR: 0.2861 | Acc: 87.69%\n",
      "External test: AUC: 0.8105 | AUPR: 0.2627 | Acc: 86.95%\n"
     ]
    }
   ],
   "source": [
    "from sklearn.ensemble import RandomForestClassifier\n",
    "\n",
    "model_fn = functools.partial(\n",
    "    RandomForestClassifier, random_state=SEED, n_jobs=-1,\n",
    "    ccp_alpha=0.0, class_weight='balanced', max_depth=5, bootstrap=False)\n",
    "param_grid_list = [{\n",
    "        'criterion': ['gini', 'log_loss', 'entropy'],\n",
    "        'n_estimators': [50, 100, 200],\n",
    "    }\n",
    "]\n",
    "best_metrics, best_params, best_model = classification_dataset.perform_grid_search(model_fn, param_grid_list)\n",
    "metrics_internal, metrics_external = classification_dataset.evaluate_test_sets(best_model)"
   ]
  },
  {
   "cell_type": "code",
   "execution_count": 10,
   "metadata": {},
   "outputs": [
    {
     "name": "stdout",
     "output_type": "stream",
     "text": [
      "model(criterion=friedman_mse)\n",
      "Valid:         AUC: 0.7252 | AUPR: 0.3853 | Acc: 95.11%\n",
      "model(criterion=squared_error)\n",
      "Valid:         AUC: 0.7258 | AUPR: 0.3874 | Acc: 95.15%\n",
      "=======================================================\n",
      "best model(criterion=squared_error)\n",
      "Valid:         AUC: 0.7258 | AUPR: 0.3874 | Acc: 95.15%\n",
      "Internal test: AUC: 0.7325 | AUPR: 0.4018 | Acc: 94.84%\n",
      "External test: AUC: 0.7242 | AUPR: 0.3796 | Acc: 94.82%\n"
     ]
    }
   ],
   "source": [
    "from sklearn.ensemble import GradientBoostingClassifier\n",
    "\n",
    "model = functools.partial(\n",
    "    GradientBoostingClassifier, random_state=SEED,\n",
    "    learning_rate=0.1, max_depth=5, loss='log_loss', \n",
    "    n_estimators=100)\n",
    "param_grid_list = [{\n",
    "        'criterion': ['friedman_mse', 'squared_error'],\n",
    "    }\n",
    "]\n",
    "best_metrics, best_params, best_model = classification_dataset.perform_grid_search(model, param_grid_list)\n",
    "metrics_internal, metrics_external = classification_dataset.evaluate_test_sets(best_model)"
   ]
  },
  {
   "cell_type": "code",
   "execution_count": 11,
   "metadata": {},
   "outputs": [
    {
     "name": "stdout",
     "output_type": "stream",
     "text": [
      "model(n_estimators=100, learning_rate=1.0)\n",
      "Valid:         AUC: 0.7165 | AUPR: 0.3685 | Acc: 94.98%\n",
      "model(n_estimators=200, learning_rate=1.0)\n",
      "Valid:         AUC: 0.7125 | AUPR: 0.3644 | Acc: 94.96%\n",
      "model(n_estimators=500, learning_rate=1.0)\n",
      "Valid:         AUC: 0.7163 | AUPR: 0.3698 | Acc: 94.99%\n",
      "=======================================================\n",
      "best model(n_estimators=100, learning_rate=1.0)\n",
      "Valid:         AUC: 0.7165 | AUPR: 0.3685 | Acc: 94.98%\n",
      "Internal test: AUC: 0.7198 | AUPR: 0.3798 | Acc: 94.65%\n",
      "External test: AUC: 0.7051 | AUPR: 0.3483 | Acc: 94.56%\n"
     ]
    }
   ],
   "source": [
    "from sklearn.ensemble import AdaBoostClassifier\n",
    "model = functools.partial(AdaBoostClassifier, random_state=SEED, algorithm=\"SAMME\")\n",
    "param_grid_list = [{\n",
    "    'n_estimators': [100, 200, 500],\n",
    "    'learning_rate': [1.0],\n",
    "}]\n",
    "best_metrics, best_params, best_model = classification_dataset.perform_grid_search(model, param_grid_list)\n",
    "metrics_internal, metrics_external = classification_dataset.evaluate_test_sets(best_model)"
   ]
  },
  {
   "cell_type": "code",
   "execution_count": null,
   "metadata": {},
   "outputs": [],
   "source": []
  }
 ],
 "metadata": {
  "kernelspec": {
   "display_name": "py310",
   "language": "python",
   "name": "python3"
  },
  "language_info": {
   "codemirror_mode": {
    "name": "ipython",
    "version": 3
   },
   "file_extension": ".py",
   "mimetype": "text/x-python",
   "name": "python",
   "nbconvert_exporter": "python",
   "pygments_lexer": "ipython3",
   "version": "3.10.13"
  }
 },
 "nbformat": 4,
 "nbformat_minor": 2
}
