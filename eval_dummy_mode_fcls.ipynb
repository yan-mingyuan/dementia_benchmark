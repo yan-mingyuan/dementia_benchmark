{
 "cells": [
  {
   "cell_type": "code",
   "execution_count": 1,
   "metadata": {},
   "outputs": [],
   "source": [
    "from config import *\n",
    "from utilities import get_model_name\n",
    "from dataset import ClassificationDataset\n",
    "\n",
    "import functools\n",
    "import numpy as np\n",
    "import pandas as pd\n",
    "\n",
    "results_dict = {}\n",
    "internal, external = 11, 12\n",
    "encode_method = \"dummy\"\n",
    "impute_method = \"mode\"\n",
    "fs_method, fs_ratio = \"fcls\", 0.5\n",
    "norm_method = \"maxmin\"\n",
    "classification_dataset = ClassificationDataset(\n",
    "    internal, external, encode_method, impute_method, fs_method, fs_ratio, norm_method, random_state=SEED)"
   ]
  },
  {
   "cell_type": "code",
   "execution_count": 2,
   "metadata": {},
   "outputs": [
    {
     "name": "stdout",
     "output_type": "stream",
     "text": [
      "SVC\n",
      "model(kernel=linear, C=0.01)\n",
      "Valid:         AUC: 0.9151 | AUPR: 0.6206 | Acc: 94.91%\n",
      "model(kernel=linear, C=0.1)\n",
      "Valid:         AUC: 0.9155 | AUPR: 0.6148 | Acc: 94.93%\n",
      "model(kernel=linear, C=1)\n",
      "Valid:         AUC: 0.9152 | AUPR: 0.6111 | Acc: 94.94%\n",
      "=======================================================\n",
      "best model(kernel=linear, C=0.1)\n",
      "Valid:         AUC: 0.9155 | AUPR: 0.6148 | Acc: 94.93%\n",
      "Internal test: AUC: 0.9212 | AUPR: 0.6667 | Acc: 94.84%\n",
      "External test: AUC: 0.9164 | AUPR: 0.6001 | Acc: 94.50%\n"
     ]
    }
   ],
   "source": [
    "from sklearn.svm import SVC\n",
    "\n",
    "model_fn = functools.partial(\n",
    "    SVC, random_state=SEED, probability=True,\n",
    "    class_weight='balanced')\n",
    "param_grid_list = [{\n",
    "    'kernel': ['linear'],\n",
    "    'C': [0.01, 0.1, 1],\n",
    "}]\n",
    "best_metrics, best_params, best_model = classification_dataset.perform_grid_search(model_fn, param_grid_list)\n",
    "metrics_internal, metrics_external = classification_dataset.evaluate_test_sets(best_model)\n",
    "results_dict[get_model_name(model_fn)] = np.concatenate([best_metrics, metrics_internal, metrics_external], axis=0)"
   ]
  },
  {
   "cell_type": "code",
   "execution_count": 3,
   "metadata": {},
   "outputs": [
    {
     "name": "stdout",
     "output_type": "stream",
     "text": [
      "KNeighborsClassifier\n",
      "model(n_neighbors=3)\n",
      "Valid:         AUC: 0.7486 | AUPR: 0.4206 | Acc: 94.74%\n",
      "model(n_neighbors=5)\n",
      "Valid:         AUC: 0.7796 | AUPR: 0.4744 | Acc: 94.96%\n",
      "model(n_neighbors=7)\n",
      "Valid:         AUC: 0.7938 | AUPR: 0.4950 | Acc: 95.04%\n",
      "=======================================================\n",
      "best model(n_neighbors=7)\n",
      "Valid:         AUC: 0.7938 | AUPR: 0.4950 | Acc: 95.04%\n",
      "Internal test: AUC: 0.7909 | AUPR: 0.5141 | Acc: 94.91%\n",
      "External test: AUC: 0.8011 | AUPR: 0.5029 | Acc: 94.87%\n"
     ]
    }
   ],
   "source": [
    "from sklearn.neighbors import KNeighborsClassifier\n",
    "\n",
    "model_fn = functools.partial(\n",
    "    KNeighborsClassifier, n_jobs=-1, algorithm='auto', p=2)\n",
    "param_grid_list = [{\n",
    "    'n_neighbors': [3, 5, 7],\n",
    "}]\n",
    "best_metrics, best_params, best_model = classification_dataset.perform_grid_search(model_fn, param_grid_list)\n",
    "metrics_internal, metrics_external = classification_dataset.evaluate_test_sets(best_model)\n",
    "results_dict[get_model_name(model_fn)] = np.concatenate([best_metrics, metrics_internal, metrics_external], axis=0)"
   ]
  },
  {
   "cell_type": "code",
   "execution_count": 4,
   "metadata": {},
   "outputs": [
    {
     "name": "stdout",
     "output_type": "stream",
     "text": [
      "GaussianNB\n",
      "model()\n",
      "Valid:         AUC: 0.8719 | AUPR: 0.3981 | Acc: 86.03%\n",
      "=======================================================\n",
      "best model()\n",
      "Valid:         AUC: 0.8719 | AUPR: 0.3981 | Acc: 86.03%\n",
      "Internal test: AUC: 0.8846 | AUPR: 0.4294 | Acc: 85.79%\n",
      "External test: AUC: 0.8727 | AUPR: 0.3811 | Acc: 84.43%\n"
     ]
    }
   ],
   "source": [
    "from sklearn.naive_bayes import GaussianNB\n",
    "\n",
    "model_fn = GaussianNB\n",
    "param_grid_list = [{}]\n",
    "best_metrics, best_params, best_model = classification_dataset.perform_grid_search(model_fn, param_grid_list)\n",
    "metrics_internal, metrics_external = classification_dataset.evaluate_test_sets(best_model)\n",
    "results_dict[get_model_name(model_fn)] = np.concatenate([best_metrics, metrics_internal, metrics_external], axis=0)"
   ]
  },
  {
   "cell_type": "code",
   "execution_count": 5,
   "metadata": {},
   "outputs": [
    {
     "name": "stdout",
     "output_type": "stream",
     "text": [
      "LogisticRegression\n",
      "model(C=1.0)\n",
      "Valid:         AUC: 0.9165 | AUPR: 0.6487 | Acc: 95.20%\n",
      "model(C=10.0)\n",
      "Valid:         AUC: 0.9162 | AUPR: 0.6478 | Acc: 95.21%\n",
      "model(C=100.0)\n",
      "Valid:         AUC: 0.9157 | AUPR: 0.6476 | Acc: 95.19%\n",
      "=======================================================\n",
      "best model(C=1.0)\n",
      "Valid:         AUC: 0.9165 | AUPR: 0.6487 | Acc: 95.20%\n",
      "Internal test: AUC: 0.9222 | AUPR: 0.6847 | Acc: 95.18%\n",
      "External test: AUC: 0.9161 | AUPR: 0.6303 | Acc: 94.81%\n"
     ]
    }
   ],
   "source": [
    "# from sklearn.exceptions import ConvergenceWarning\n",
    "# import warnings\n",
    "# warnings.filterwarnings(\"ignore\", category=ConvergenceWarning)\n",
    "from sklearn.linear_model import LogisticRegression\n",
    "\n",
    "model_fn = functools.partial(\n",
    "    LogisticRegression, random_state=SEED, n_jobs=-1, \n",
    "    max_iter=2000, solver='saga', penalty='l2',\n",
    "    )\n",
    "param_grid_list = [{\n",
    "    'C': [1.0, 10.0, 100.0],\n",
    "}]\n",
    "best_metrics, best_params, best_model = classification_dataset.perform_grid_search(\n",
    "    model_fn, param_grid_list)\n",
    "metrics_internal, metrics_external = classification_dataset.evaluate_test_sets(\n",
    "    best_model)\n",
    "results_dict[get_model_name(model_fn)] = np.concatenate([best_metrics, metrics_internal, metrics_external], axis=0)"
   ]
  },
  {
   "cell_type": "code",
   "execution_count": 6,
   "metadata": {},
   "outputs": [
    {
     "name": "stdout",
     "output_type": "stream",
     "text": [
      "MLPClassifier\n",
      "model(hidden_layer_sizes=(50, 50), learning_rate_init=0.0003)\n",
      "Valid:         AUC: 0.9072 | AUPR: 0.6282 | Acc: 95.06%\n",
      "model(hidden_layer_sizes=(50, 50), learning_rate_init=0.001)\n",
      "Valid:         AUC: 0.9141 | AUPR: 0.6515 | Acc: 95.27%\n",
      "=======================================================\n",
      "best model(hidden_layer_sizes=(50, 50), learning_rate_init=0.001)\n",
      "Valid:         AUC: 0.9141 | AUPR: 0.6515 | Acc: 95.27%\n",
      "Internal test: AUC: 0.9248 | AUPR: 0.6842 | Acc: 95.01%\n",
      "External test: AUC: 0.9180 | AUPR: 0.6370 | Acc: 94.91%\n"
     ]
    }
   ],
   "source": [
    "from sklearn.neural_network import MLPClassifier\n",
    "\n",
    "model_fn = functools.partial(\n",
    "    MLPClassifier, random_state=SEED, max_iter=1000,\n",
    "    activation='relu',\n",
    "    solver='sgd', nesterovs_momentum=True, momentum=0.9)\n",
    "param_grid_list = [{\n",
    "    # 'hidden_layer_sizes': [(100,), (50, 50), (50, 100, 50)],\n",
    "    'hidden_layer_sizes': [(50, 50)],\n",
    "    'learning_rate_init': [0.0003, 0.001],\n",
    "}]\n",
    "best_metrics, best_params, best_model = classification_dataset.perform_grid_search(model_fn, param_grid_list)\n",
    "metrics_internal, metrics_external = classification_dataset.evaluate_test_sets(best_model)\n",
    "results_dict[get_model_name(model_fn)] = np.concatenate([best_metrics, metrics_internal, metrics_external], axis=0)"
   ]
  },
  {
   "cell_type": "code",
   "execution_count": 7,
   "metadata": {},
   "outputs": [
    {
     "name": "stdout",
     "output_type": "stream",
     "text": [
      "DecisionTreeClassifier\n",
      "model(criterion=gini)\n",
      "Valid:         AUC: 0.8619 | AUPR: 0.5267 | Acc: 80.90%\n",
      "model(criterion=log_loss)\n",
      "Valid:         AUC: 0.8665 | AUPR: 0.5683 | Acc: 78.17%\n",
      "model(criterion=entropy)\n",
      "Valid:         AUC: 0.8665 | AUPR: 0.5683 | Acc: 78.17%\n",
      "=======================================================\n",
      "best model(criterion=log_loss)\n",
      "Valid:         AUC: 0.8665 | AUPR: 0.5683 | Acc: 78.17%\n",
      "Internal test: AUC: 0.8603 | AUPR: 0.5969 | Acc: 79.66%\n",
      "External test: AUC: 0.8636 | AUPR: 0.5670 | Acc: 79.90%\n"
     ]
    }
   ],
   "source": [
    "from sklearn.tree import DecisionTreeClassifier\n",
    "\n",
    "model_fn = functools.partial(\n",
    "    DecisionTreeClassifier, random_state=SEED,\n",
    "    ccp_alpha=0.0, class_weight='balanced', max_depth=5)\n",
    "param_grid_list = [{\n",
    "        'criterion': ['gini', 'log_loss', 'entropy'],\n",
    "    }\n",
    "]\n",
    "best_metrics, best_params, best_model = classification_dataset.perform_grid_search(model_fn, param_grid_list)\n",
    "metrics_internal, metrics_external = classification_dataset.evaluate_test_sets(best_model)\n",
    "results_dict[get_model_name(model_fn)] = np.concatenate([best_metrics, metrics_internal, metrics_external], axis=0)"
   ]
  },
  {
   "cell_type": "code",
   "execution_count": 8,
   "metadata": {},
   "outputs": [
    {
     "name": "stdout",
     "output_type": "stream",
     "text": [
      "RandomForestClassifier\n",
      "model(criterion=gini, n_estimators=50)\n",
      "Valid:         AUC: 0.9082 | AUPR: 0.6487 | Acc: 88.76%\n",
      "model(criterion=gini, n_estimators=100)\n",
      "Valid:         AUC: 0.9092 | AUPR: 0.6478 | Acc: 88.78%\n",
      "model(criterion=gini, n_estimators=200)\n",
      "Valid:         AUC: 0.9099 | AUPR: 0.6474 | Acc: 88.64%\n",
      "model(criterion=log_loss, n_estimators=50)\n",
      "Valid:         AUC: 0.9081 | AUPR: 0.6531 | Acc: 89.41%\n",
      "model(criterion=log_loss, n_estimators=100)\n",
      "Valid:         AUC: 0.9095 | AUPR: 0.6532 | Acc: 89.26%\n",
      "model(criterion=log_loss, n_estimators=200)\n",
      "Valid:         AUC: 0.9098 | AUPR: 0.6497 | Acc: 88.98%\n",
      "model(criterion=entropy, n_estimators=50)\n",
      "Valid:         AUC: 0.9081 | AUPR: 0.6531 | Acc: 89.41%\n",
      "model(criterion=entropy, n_estimators=100)\n",
      "Valid:         AUC: 0.9095 | AUPR: 0.6532 | Acc: 89.26%\n",
      "model(criterion=entropy, n_estimators=200)\n",
      "Valid:         AUC: 0.9098 | AUPR: 0.6497 | Acc: 88.98%\n",
      "=======================================================\n",
      "best model(criterion=gini, n_estimators=200)\n",
      "Valid:         AUC: 0.9099 | AUPR: 0.6474 | Acc: 88.64%\n",
      "Internal test: AUC: 0.9151 | AUPR: 0.6729 | Acc: 87.98%\n",
      "External test: AUC: 0.9052 | AUPR: 0.6302 | Acc: 86.90%\n"
     ]
    }
   ],
   "source": [
    "from sklearn.ensemble import RandomForestClassifier\n",
    "\n",
    "model_fn = functools.partial(\n",
    "    RandomForestClassifier, random_state=SEED, n_jobs=-1,\n",
    "    ccp_alpha=0.0, class_weight='balanced', max_depth=5, bootstrap=False)\n",
    "param_grid_list = [{\n",
    "        'criterion': ['gini', 'log_loss', 'entropy'],\n",
    "        'n_estimators': [50, 100, 200],\n",
    "    }\n",
    "]\n",
    "best_metrics, best_params, best_model = classification_dataset.perform_grid_search(model_fn, param_grid_list)\n",
    "metrics_internal, metrics_external = classification_dataset.evaluate_test_sets(best_model)\n",
    "results_dict[get_model_name(model_fn)] = np.concatenate([best_metrics, metrics_internal, metrics_external], axis=0)"
   ]
  },
  {
   "cell_type": "code",
   "execution_count": 9,
   "metadata": {},
   "outputs": [
    {
     "name": "stdout",
     "output_type": "stream",
     "text": [
      "GradientBoostingClassifier\n",
      "model(criterion=friedman_mse)\n",
      "Valid:         AUC: 0.9167 | AUPR: 0.6514 | Acc: 95.18%\n",
      "model(criterion=squared_error)\n",
      "Valid:         AUC: 0.9166 | AUPR: 0.6510 | Acc: 95.16%\n",
      "=======================================================\n",
      "best model(criterion=friedman_mse)\n",
      "Valid:         AUC: 0.9167 | AUPR: 0.6514 | Acc: 95.18%\n",
      "Internal test: AUC: 0.9238 | AUPR: 0.6831 | Acc: 95.01%\n",
      "External test: AUC: 0.9200 | AUPR: 0.6636 | Acc: 95.05%\n"
     ]
    }
   ],
   "source": [
    "from sklearn.ensemble import GradientBoostingClassifier\n",
    "\n",
    "model = functools.partial(\n",
    "    GradientBoostingClassifier, random_state=SEED,\n",
    "    learning_rate=0.1, max_depth=5, loss='log_loss', \n",
    "    n_estimators=100)\n",
    "param_grid_list = [{\n",
    "        'criterion': ['friedman_mse', 'squared_error'],\n",
    "    }\n",
    "]\n",
    "best_metrics, best_params, best_model = classification_dataset.perform_grid_search(model, param_grid_list)\n",
    "metrics_internal, metrics_external = classification_dataset.evaluate_test_sets(best_model)\n",
    "results_dict[get_model_name(model_fn)] = np.concatenate([best_metrics, metrics_internal, metrics_external], axis=0)"
   ]
  },
  {
   "cell_type": "code",
   "execution_count": 10,
   "metadata": {},
   "outputs": [
    {
     "name": "stdout",
     "output_type": "stream",
     "text": [
      "AdaBoostClassifier\n",
      "model(n_estimators=100, learning_rate=1.0)\n",
      "Valid:         AUC: 0.9135 | AUPR: 0.6315 | Acc: 95.13%\n",
      "model(n_estimators=200, learning_rate=1.0)\n",
      "Valid:         AUC: 0.9143 | AUPR: 0.6340 | Acc: 95.19%\n",
      "model(n_estimators=500, learning_rate=1.0)\n",
      "Valid:         AUC: 0.9146 | AUPR: 0.6343 | Acc: 95.15%\n",
      "=======================================================\n",
      "best model(n_estimators=500, learning_rate=1.0)\n",
      "Valid:         AUC: 0.9146 | AUPR: 0.6343 | Acc: 95.15%\n",
      "Internal test: AUC: 0.9185 | AUPR: 0.6805 | Acc: 95.30%\n",
      "External test: AUC: 0.9153 | AUPR: 0.6218 | Acc: 94.58%\n"
     ]
    }
   ],
   "source": [
    "from sklearn.ensemble import AdaBoostClassifier\n",
    "model = functools.partial(AdaBoostClassifier, random_state=SEED, algorithm=\"SAMME\")\n",
    "param_grid_list = [{\n",
    "    'n_estimators': [100, 200, 500],\n",
    "    'learning_rate': [1.0],\n",
    "}]\n",
    "best_metrics, best_params, best_model = classification_dataset.perform_grid_search(model, param_grid_list)\n",
    "metrics_internal, metrics_external = classification_dataset.evaluate_test_sets(best_model)\n",
    "results_dict[get_model_name(model_fn)] = np.concatenate([best_metrics, metrics_internal, metrics_external], axis=0)"
   ]
  },
  {
   "cell_type": "code",
   "execution_count": 11,
   "metadata": {},
   "outputs": [],
   "source": [
    "dataframe = pd.DataFrame(results_dict).transpose().reset_index()\n",
    "dataframe.columns = ['model', 'val_auc', 'val_aupr', 'val_acc', 'intest_auc', 'intest_aupr', 'intest_acc', 'extest_auc', 'extest_aupr', 'extest_acc']\n",
    "# dataframe.to_csv()\n",
    "filename = os.path.join(RESULTS_DIR, encode_method, impute_method, f'{fs_method}{int(fs_ratio * 142)}.csv')\n",
    "dirname = os.path.dirname(filename)\n",
    "if not os.path.exists(dirname):\n",
    "    os.makedirs(dirname)\n",
    "dataframe.to_csv(filename, index=False)"
   ]
  },
  {
   "cell_type": "code",
   "execution_count": null,
   "metadata": {},
   "outputs": [],
   "source": []
  }
 ],
 "metadata": {
  "kernelspec": {
   "display_name": "py310",
   "language": "python",
   "name": "python3"
  },
  "language_info": {
   "codemirror_mode": {
    "name": "ipython",
    "version": 3
   },
   "file_extension": ".py",
   "mimetype": "text/x-python",
   "name": "python",
   "nbconvert_exporter": "python",
   "pygments_lexer": "ipython3",
   "version": "3.10.13"
  }
 },
 "nbformat": 4,
 "nbformat_minor": 2
}
