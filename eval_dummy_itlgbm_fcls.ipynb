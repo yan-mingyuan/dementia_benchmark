{
 "cells": [
  {
   "cell_type": "code",
   "execution_count": 1,
   "metadata": {},
   "outputs": [
    {
     "name": "stderr",
     "output_type": "stream",
     "text": [
      "/home/yan/anaconda3/envs/py310/lib/python3.10/site-packages/sklearn/impute/_iterative.py:801: ConvergenceWarning: [IterativeImputer] Early stopping criterion not reached.\n",
      "  warnings.warn(\n"
     ]
    }
   ],
   "source": [
    "from config import *\n",
    "from dataset import ClassificationDataset\n",
    "\n",
    "import functools\n",
    "\n",
    "internal, external = 11, 12\n",
    "encode_method = \"dummy\"\n",
    "impute_method = \"itlgbm\"\n",
    "fs_method, fs_ratio = \"fcls\", 0.5\n",
    "norm_method = \"maxmin\"\n",
    "classification_dataset = ClassificationDataset(\n",
    "    internal, external, encode_method, impute_method, fs_method, fs_ratio, norm_method, random_state=SEED)"
   ]
  },
  {
   "cell_type": "code",
   "execution_count": 2,
   "metadata": {},
   "outputs": [
    {
     "name": "stdout",
     "output_type": "stream",
     "text": [
      "model()\n",
      "Valid:         AUC: 0.7622 | AUPR: 0.2090 | Acc: 85.97%\n",
      "=======================================================\n",
      "best model()\n",
      "Valid:         AUC: 0.7622 | AUPR: 0.2090 | Acc: 85.97%\n",
      "Internal test: AUC: 0.7550 | AUPR: 0.2145 | Acc: 85.50%\n",
      "External test: AUC: 0.7402 | AUPR: 0.1900 | Acc: 84.31%\n"
     ]
    }
   ],
   "source": [
    "from sklearn.naive_bayes import GaussianNB\n",
    "\n",
    "model_fn = GaussianNB\n",
    "param_grid_list = [{}]\n",
    "best_metrics, best_params, best_model = classification_dataset.perform_grid_search(model_fn, param_grid_list)\n",
    "metrics_internal, metrics_external = classification_dataset.evaluate_test_sets(best_model)"
   ]
  },
  {
   "cell_type": "code",
   "execution_count": 3,
   "metadata": {},
   "outputs": [
    {
     "name": "stdout",
     "output_type": "stream",
     "text": [
      "model()\n",
      "Valid:         AUC: 0.7653 | AUPR: 0.1875 | Acc: 81.94%\n",
      "=======================================================\n",
      "best model()\n",
      "Valid:         AUC: 0.7653 | AUPR: 0.1875 | Acc: 81.94%\n",
      "Internal test: AUC: 0.7650 | AUPR: 0.1979 | Acc: 81.41%\n",
      "External test: AUC: 0.7564 | AUPR: 0.1833 | Acc: 80.64%\n"
     ]
    }
   ],
   "source": [
    "from sklearn.naive_bayes import ComplementNB\n",
    "\n",
    "model_fn = ComplementNB\n",
    "param_grid_list = [{}]\n",
    "best_metrics, best_params, best_model = classification_dataset.perform_grid_search(model_fn, param_grid_list)\n",
    "metrics_internal, metrics_external = classification_dataset.evaluate_test_sets(best_model)"
   ]
  },
  {
   "cell_type": "code",
   "execution_count": 4,
   "metadata": {},
   "outputs": [
    {
     "name": "stdout",
     "output_type": "stream",
     "text": [
      "model(p=1)\n",
      "Valid:         AUC: 0.6884 | AUPR: 0.2509 | Acc: 93.11%\n",
      "model(p=2)\n",
      "Valid:         AUC: 0.6893 | AUPR: 0.2471 | Acc: 92.97%\n",
      "=======================================================\n",
      "best model(p=2)\n",
      "Valid:         AUC: 0.6893 | AUPR: 0.2471 | Acc: 92.97%\n",
      "Internal test: AUC: 0.6946 | AUPR: 0.2751 | Acc: 92.97%\n",
      "External test: AUC: 0.6961 | AUPR: 0.2707 | Acc: 93.12%\n"
     ]
    }
   ],
   "source": [
    "from sklearn.neighbors import KNeighborsClassifier\n",
    "\n",
    "model_fn = functools.partial(\n",
    "    KNeighborsClassifier, n_jobs=-1, algorithm='auto',\n",
    "    n_neighbors=1, )\n",
    "param_grid_list = [{\n",
    "    'p': [1, 2],\n",
    "}]\n",
    "best_metrics, best_params, best_model = classification_dataset.perform_grid_search(model_fn, param_grid_list)\n",
    "metrics_internal, metrics_external = classification_dataset.evaluate_test_sets(best_model)"
   ]
  },
  {
   "cell_type": "code",
   "execution_count": 5,
   "metadata": {},
   "outputs": [
    {
     "name": "stdout",
     "output_type": "stream",
     "text": [
      "model(C=1.0)\n",
      "Valid:         AUC: 0.7153 | AUPR: 0.3797 | Acc: 95.13%\n",
      "model(C=10.0)\n",
      "Valid:         AUC: 0.7177 | AUPR: 0.3811 | Acc: 95.13%\n",
      "model(C=100.0)\n",
      "Valid:         AUC: 0.7181 | AUPR: 0.3808 | Acc: 95.12%\n",
      "=======================================================\n",
      "best model(C=100.0)\n",
      "Valid:         AUC: 0.7181 | AUPR: 0.3808 | Acc: 95.12%\n",
      "Internal test: AUC: 0.7151 | AUPR: 0.3934 | Acc: 94.87%\n",
      "External test: AUC: 0.7075 | AUPR: 0.3588 | Acc: 94.68%\n"
     ]
    }
   ],
   "source": [
    "# from sklearn.exceptions import ConvergenceWarning\n",
    "# import warnings\n",
    "# warnings.filterwarnings(\"ignore\", category=ConvergenceWarning)\n",
    "from sklearn.linear_model import LogisticRegression\n",
    "\n",
    "model_fn = functools.partial(\n",
    "    LogisticRegression, random_state=SEED, n_jobs=-1, \n",
    "    max_iter=2000, solver='saga', penalty='l2',\n",
    "    )\n",
    "param_grid_list = [{\n",
    "    'C': [1.0, 10.0, 100.0],\n",
    "}]\n",
    "best_metrics, best_params, best_model = classification_dataset.perform_grid_search(\n",
    "    model_fn, param_grid_list)\n",
    "metrics_internal, metrics_external = classification_dataset.evaluate_test_sets(\n",
    "    best_model)"
   ]
  },
  {
   "cell_type": "code",
   "execution_count": 6,
   "metadata": {},
   "outputs": [
    {
     "name": "stdout",
     "output_type": "stream",
     "text": [
      "model(C=0.01)\n",
      "Valid:         AUC: 0.8268 | AUPR: 0.2479 | Acc: 84.86%\n",
      "model(C=0.1)\n",
      "Valid:         AUC: 0.8274 | AUPR: 0.2517 | Acc: 85.24%\n",
      "model(C=1)\n",
      "Valid:         AUC: 0.8272 | AUPR: 0.2504 | Acc: 85.11%\n",
      "=======================================================\n",
      "best model(C=0.1)\n",
      "Valid:         AUC: 0.8274 | AUPR: 0.2517 | Acc: 85.24%\n",
      "Internal test: AUC: 0.8380 | AUPR: 0.2800 | Acc: 85.72%\n",
      "External test: AUC: 0.8334 | AUPR: 0.2579 | Acc: 84.46%\n"
     ]
    }
   ],
   "source": [
    "from sklearn.svm import SVC\n",
    "\n",
    "model_fn = functools.partial(\n",
    "    SVC, random_state=SEED, \n",
    "    class_weight='balanced', kernel='linear',\n",
    "    )\n",
    "param_grid_list = [{\n",
    "    'C': [0.01, 0.1, 1],\n",
    "}]\n",
    "best_metrics, best_params, best_model = classification_dataset.perform_grid_search(model_fn, param_grid_list)\n",
    "metrics_internal, metrics_external = classification_dataset.evaluate_test_sets(best_model)"
   ]
  },
  {
   "cell_type": "code",
   "execution_count": 7,
   "metadata": {},
   "outputs": [],
   "source": [
    "# from sklearn.neural_network import MLPClassifier\n",
    "\n",
    "# model_fn = functools.partial(MLPClassifier, random_state=SEED, max_iter=1000)\n",
    "# param_grid_list = [{\n",
    "#     'hidden_layer_sizes': [(100,), (50, 50), (50, 100, 50)],\n",
    "#     'activation': ['logistic', 'relu'],\n",
    "#     'solver': ['adam', 'sgd'],\n",
    "#     'alpha': [0.0001, 0.001, 0.01],\n",
    "# }]\n",
    "# best_metrics, best_params, best_model = classification_dataset.perform_grid_search(model_fn, param_grid_list)\n",
    "# metrics_internal, metrics_external = classification_dataset.evaluate_test_sets(best_model)"
   ]
  },
  {
   "cell_type": "code",
   "execution_count": 8,
   "metadata": {},
   "outputs": [
    {
     "name": "stdout",
     "output_type": "stream",
     "text": [
      "model(criterion=gini)\n",
      "Valid:         AUC: 0.7851 | AUPR: 0.2361 | Acc: 87.13%\n",
      "model(criterion=log_loss)\n",
      "Valid:         AUC: 0.7859 | AUPR: 0.2403 | Acc: 87.29%\n",
      "model(criterion=entropy)\n",
      "Valid:         AUC: 0.7859 | AUPR: 0.2403 | Acc: 87.29%\n",
      "=======================================================\n",
      "best model(criterion=log_loss)\n",
      "Valid:         AUC: 0.7859 | AUPR: 0.2403 | Acc: 87.29%\n",
      "Internal test: AUC: 0.7856 | AUPR: 0.2783 | Acc: 89.27%\n",
      "External test: AUC: 0.7792 | AUPR: 0.2569 | Acc: 88.68%\n"
     ]
    }
   ],
   "source": [
    "from sklearn.tree import DecisionTreeClassifier\n",
    "\n",
    "model_fn = functools.partial(\n",
    "    DecisionTreeClassifier, random_state=SEED,\n",
    "    ccp_alpha=0.0, class_weight='balanced', max_depth=5)\n",
    "param_grid_list = [{\n",
    "        'criterion': ['gini', 'log_loss', 'entropy'],\n",
    "    }\n",
    "]\n",
    "best_metrics, best_params, best_model = classification_dataset.perform_grid_search(model_fn, param_grid_list)\n",
    "metrics_internal, metrics_external = classification_dataset.evaluate_test_sets(best_model)"
   ]
  },
  {
   "cell_type": "code",
   "execution_count": 9,
   "metadata": {},
   "outputs": [
    {
     "name": "stdout",
     "output_type": "stream",
     "text": [
      "model(criterion=gini, n_estimators=50)\n",
      "Valid:         AUC: 0.8143 | AUPR: 0.2879 | Acc: 89.40%\n",
      "model(criterion=gini, n_estimators=100)\n",
      "Valid:         AUC: 0.8153 | AUPR: 0.2893 | Acc: 89.45%\n",
      "model(criterion=gini, n_estimators=200)\n",
      "Valid:         AUC: 0.8177 | AUPR: 0.2913 | Acc: 89.45%\n",
      "model(criterion=log_loss, n_estimators=50)\n",
      "Valid:         AUC: 0.8162 | AUPR: 0.2921 | Acc: 89.59%\n",
      "model(criterion=log_loss, n_estimators=100)\n",
      "Valid:         AUC: 0.8181 | AUPR: 0.2947 | Acc: 89.66%\n",
      "model(criterion=log_loss, n_estimators=200)\n",
      "Valid:         AUC: 0.8186 | AUPR: 0.2948 | Acc: 89.63%\n",
      "model(criterion=entropy, n_estimators=50)\n",
      "Valid:         AUC: 0.8162 | AUPR: 0.2921 | Acc: 89.59%\n",
      "model(criterion=entropy, n_estimators=100)\n",
      "Valid:         AUC: 0.8181 | AUPR: 0.2947 | Acc: 89.66%\n",
      "model(criterion=entropy, n_estimators=200)\n",
      "Valid:         AUC: 0.8186 | AUPR: 0.2948 | Acc: 89.63%\n",
      "=======================================================\n",
      "best model(criterion=log_loss, n_estimators=200)\n",
      "Valid:         AUC: 0.8186 | AUPR: 0.2948 | Acc: 89.63%\n",
      "Internal test: AUC: 0.8220 | AUPR: 0.3016 | Acc: 88.71%\n",
      "External test: AUC: 0.8160 | AUPR: 0.2858 | Acc: 88.53%\n"
     ]
    }
   ],
   "source": [
    "from sklearn.ensemble import RandomForestClassifier\n",
    "\n",
    "model_fn = functools.partial(\n",
    "    RandomForestClassifier, random_state=SEED, n_jobs=-1,\n",
    "    ccp_alpha=0.0, class_weight='balanced', max_depth=5, bootstrap=False)\n",
    "param_grid_list = [{\n",
    "        'criterion': ['gini', 'log_loss', 'entropy'],\n",
    "        'n_estimators': [50, 100, 200],\n",
    "    }\n",
    "]\n",
    "best_metrics, best_params, best_model = classification_dataset.perform_grid_search(model_fn, param_grid_list)\n",
    "metrics_internal, metrics_external = classification_dataset.evaluate_test_sets(best_model)"
   ]
  },
  {
   "cell_type": "code",
   "execution_count": 10,
   "metadata": {},
   "outputs": [
    {
     "name": "stdout",
     "output_type": "stream",
     "text": [
      "model(criterion=friedman_mse)\n",
      "Valid:         AUC: 0.7326 | AUPR: 0.3921 | Acc: 95.15%\n",
      "model(criterion=squared_error)\n",
      "Valid:         AUC: 0.7326 | AUPR: 0.3921 | Acc: 95.15%\n",
      "=======================================================\n",
      "best model(criterion=friedman_mse)\n",
      "Valid:         AUC: 0.7326 | AUPR: 0.3921 | Acc: 95.15%\n",
      "Internal test: AUC: 0.7422 | AUPR: 0.4414 | Acc: 95.28%\n",
      "External test: AUC: 0.7380 | AUPR: 0.4124 | Acc: 95.14%\n"
     ]
    }
   ],
   "source": [
    "from sklearn.ensemble import GradientBoostingClassifier\n",
    "\n",
    "model = functools.partial(\n",
    "    GradientBoostingClassifier, random_state=SEED,\n",
    "    learning_rate=0.1, max_depth=5, loss='log_loss', \n",
    "    n_estimators=100)\n",
    "param_grid_list = [{\n",
    "        'criterion': ['friedman_mse', 'squared_error'],\n",
    "    }\n",
    "]\n",
    "best_metrics, best_params, best_model = classification_dataset.perform_grid_search(model, param_grid_list)\n",
    "metrics_internal, metrics_external = classification_dataset.evaluate_test_sets(best_model)"
   ]
  },
  {
   "cell_type": "code",
   "execution_count": 11,
   "metadata": {},
   "outputs": [
    {
     "name": "stdout",
     "output_type": "stream",
     "text": [
      "model(n_estimators=100, learning_rate=1.0)\n",
      "Valid:         AUC: 0.7260 | AUPR: 0.3847 | Acc: 95.10%\n",
      "model(n_estimators=200, learning_rate=1.0)\n",
      "Valid:         AUC: 0.7247 | AUPR: 0.3796 | Acc: 95.05%\n",
      "model(n_estimators=500, learning_rate=1.0)\n",
      "Valid:         AUC: 0.7269 | AUPR: 0.3866 | Acc: 95.12%\n",
      "=======================================================\n",
      "best model(n_estimators=500, learning_rate=1.0)\n",
      "Valid:         AUC: 0.7269 | AUPR: 0.3866 | Acc: 95.12%\n",
      "Internal test: AUC: 0.7406 | AUPR: 0.4386 | Acc: 95.26%\n",
      "External test: AUC: 0.7153 | AUPR: 0.3613 | Acc: 94.64%\n"
     ]
    }
   ],
   "source": [
    "from sklearn.ensemble import AdaBoostClassifier\n",
    "model = functools.partial(AdaBoostClassifier, random_state=SEED, algorithm=\"SAMME\")\n",
    "param_grid_list = [{\n",
    "    'n_estimators': [100, 200, 500],\n",
    "    'learning_rate': [1.0],\n",
    "}]\n",
    "best_metrics, best_params, best_model = classification_dataset.perform_grid_search(model, param_grid_list)\n",
    "metrics_internal, metrics_external = classification_dataset.evaluate_test_sets(best_model)"
   ]
  },
  {
   "cell_type": "code",
   "execution_count": null,
   "metadata": {},
   "outputs": [],
   "source": []
  }
 ],
 "metadata": {
  "kernelspec": {
   "display_name": "py310",
   "language": "python",
   "name": "python3"
  },
  "language_info": {
   "codemirror_mode": {
    "name": "ipython",
    "version": 3
   },
   "file_extension": ".py",
   "mimetype": "text/x-python",
   "name": "python",
   "nbconvert_exporter": "python",
   "pygments_lexer": "ipython3",
   "version": "3.10.13"
  }
 },
 "nbformat": 4,
 "nbformat_minor": 2
}
