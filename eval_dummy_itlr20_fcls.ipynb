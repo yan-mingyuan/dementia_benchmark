{
 "cells": [
  {
   "cell_type": "code",
   "execution_count": 1,
   "metadata": {},
   "outputs": [
    {
     "name": "stderr",
     "output_type": "stream",
     "text": [
      "/home/yan/anaconda3/envs/py310/lib/python3.10/site-packages/sklearn/impute/_iterative.py:801: ConvergenceWarning: [IterativeImputer] Early stopping criterion not reached.\n",
      "  warnings.warn(\n"
     ]
    }
   ],
   "source": [
    "from config import *\n",
    "from dataset import ClassificationDataset\n",
    "\n",
    "import functools\n",
    "\n",
    "internal, external = 11, 12\n",
    "encode_method = \"dummy\"\n",
    "impute_method = \"itlr20\"\n",
    "fs_method, fs_ratio = \"fcls\", 0.5\n",
    "norm_method = \"maxmin\"\n",
    "classification_dataset = ClassificationDataset(\n",
    "    internal, external, encode_method, impute_method, fs_method, fs_ratio, norm_method, random_state=SEED)"
   ]
  },
  {
   "cell_type": "code",
   "execution_count": 2,
   "metadata": {},
   "outputs": [
    {
     "name": "stdout",
     "output_type": "stream",
     "text": [
      "model()\n",
      "Valid:         AUC: 0.7418 | AUPR: 0.2260 | Acc: 89.39%\n",
      "=======================================================\n",
      "best model()\n",
      "Valid:         AUC: 0.7418 | AUPR: 0.2260 | Acc: 89.39%\n",
      "Internal test: AUC: 0.7430 | AUPR: 0.2377 | Acc: 88.95%\n",
      "External test: AUC: 0.7213 | AUPR: 0.2041 | Acc: 88.15%\n"
     ]
    }
   ],
   "source": [
    "from sklearn.naive_bayes import GaussianNB\n",
    "\n",
    "model_fn = GaussianNB\n",
    "param_grid_list = [{}]\n",
    "best_metrics, best_params, best_model = classification_dataset.perform_grid_search(model_fn, param_grid_list)\n",
    "metrics_internal, metrics_external = classification_dataset.evaluate_test_sets(best_model)"
   ]
  },
  {
   "cell_type": "code",
   "execution_count": 3,
   "metadata": {},
   "outputs": [
    {
     "name": "stdout",
     "output_type": "stream",
     "text": [
      "model()\n",
      "Valid:         AUC: 0.7475 | AUPR: 0.2125 | Acc: 87.71%\n",
      "=======================================================\n",
      "best model()\n",
      "Valid:         AUC: 0.7475 | AUPR: 0.2125 | Acc: 87.71%\n",
      "Internal test: AUC: 0.7376 | AUPR: 0.2146 | Acc: 87.15%\n",
      "External test: AUC: 0.7279 | AUPR: 0.1930 | Acc: 86.17%\n"
     ]
    }
   ],
   "source": [
    "from sklearn.naive_bayes import ComplementNB\n",
    "\n",
    "model_fn = ComplementNB\n",
    "param_grid_list = [{}]\n",
    "best_metrics, best_params, best_model = classification_dataset.perform_grid_search(model_fn, param_grid_list)\n",
    "metrics_internal, metrics_external = classification_dataset.evaluate_test_sets(best_model)"
   ]
  },
  {
   "cell_type": "code",
   "execution_count": 4,
   "metadata": {},
   "outputs": [
    {
     "name": "stdout",
     "output_type": "stream",
     "text": [
      "model(p=1)\n",
      "Valid:         AUC: 0.6900 | AUPR: 0.2393 | Acc: 92.67%\n",
      "model(p=2)\n",
      "Valid:         AUC: 0.6921 | AUPR: 0.2346 | Acc: 92.42%\n",
      "=======================================================\n",
      "best model(p=2)\n",
      "Valid:         AUC: 0.6921 | AUPR: 0.2346 | Acc: 92.42%\n",
      "Internal test: AUC: 0.7001 | AUPR: 0.2612 | Acc: 92.36%\n",
      "External test: AUC: 0.6924 | AUPR: 0.2479 | Acc: 92.50%\n"
     ]
    }
   ],
   "source": [
    "from sklearn.neighbors import KNeighborsClassifier\n",
    "\n",
    "model_fn = functools.partial(\n",
    "    KNeighborsClassifier, n_jobs=-1, algorithm='auto',\n",
    "    n_neighbors=1, )\n",
    "param_grid_list = [{\n",
    "    'p': [1, 2],\n",
    "}]\n",
    "best_metrics, best_params, best_model = classification_dataset.perform_grid_search(model_fn, param_grid_list)\n",
    "metrics_internal, metrics_external = classification_dataset.evaluate_test_sets(best_model)"
   ]
  },
  {
   "cell_type": "code",
   "execution_count": 5,
   "metadata": {},
   "outputs": [
    {
     "name": "stdout",
     "output_type": "stream",
     "text": [
      "model(C=1.0)\n",
      "Valid:         AUC: 0.7009 | AUPR: 0.3605 | Acc: 95.00%\n",
      "model(C=10.0)\n",
      "Valid:         AUC: 0.7021 | AUPR: 0.3608 | Acc: 94.99%\n",
      "model(C=100.0)\n",
      "Valid:         AUC: 0.7030 | AUPR: 0.3639 | Acc: 95.02%\n",
      "=======================================================\n",
      "best model(C=100.0)\n",
      "Valid:         AUC: 0.7030 | AUPR: 0.3639 | Acc: 95.02%\n",
      "Internal test: AUC: 0.7090 | AUPR: 0.3862 | Acc: 94.82%\n",
      "External test: AUC: 0.6846 | AUPR: 0.3275 | Acc: 94.46%\n"
     ]
    }
   ],
   "source": [
    "# from sklearn.exceptions import ConvergenceWarning\n",
    "# import warnings\n",
    "# warnings.filterwarnings(\"ignore\", category=ConvergenceWarning)\n",
    "from sklearn.linear_model import LogisticRegression\n",
    "\n",
    "model_fn = functools.partial(\n",
    "    LogisticRegression, random_state=SEED, n_jobs=-1, \n",
    "    max_iter=2000, solver='saga', penalty='l2',\n",
    "    )\n",
    "param_grid_list = [{\n",
    "    'C': [1.0, 10.0, 100.0],\n",
    "}]\n",
    "best_metrics, best_params, best_model = classification_dataset.perform_grid_search(\n",
    "    model_fn, param_grid_list)\n",
    "metrics_internal, metrics_external = classification_dataset.evaluate_test_sets(\n",
    "    best_model)"
   ]
  },
  {
   "cell_type": "code",
   "execution_count": 6,
   "metadata": {},
   "outputs": [
    {
     "name": "stdout",
     "output_type": "stream",
     "text": [
      "model(C=0.01)\n",
      "Valid:         AUC: 0.8159 | AUPR: 0.2291 | Acc: 83.31%\n",
      "model(C=0.1)\n",
      "Valid:         AUC: 0.8184 | AUPR: 0.2320 | Acc: 83.50%\n",
      "model(C=1)\n",
      "Valid:         AUC: 0.8184 | AUPR: 0.2330 | Acc: 83.65%\n",
      "=======================================================\n",
      "best model(C=0.1)\n",
      "Valid:         AUC: 0.8184 | AUPR: 0.2320 | Acc: 83.50%\n",
      "Internal test: AUC: 0.8165 | AUPR: 0.2504 | Acc: 84.18%\n",
      "External test: AUC: 0.8121 | AUPR: 0.2287 | Acc: 82.49%\n"
     ]
    }
   ],
   "source": [
    "from sklearn.svm import SVC\n",
    "\n",
    "model_fn = functools.partial(\n",
    "    SVC, random_state=SEED, \n",
    "    class_weight='balanced', kernel='linear',\n",
    "    )\n",
    "param_grid_list = [{\n",
    "    'C': [0.01, 0.1, 1],\n",
    "}]\n",
    "best_metrics, best_params, best_model = classification_dataset.perform_grid_search(model_fn, param_grid_list)\n",
    "metrics_internal, metrics_external = classification_dataset.evaluate_test_sets(best_model)"
   ]
  },
  {
   "cell_type": "code",
   "execution_count": 7,
   "metadata": {},
   "outputs": [],
   "source": [
    "# from sklearn.neural_network import MLPClassifier\n",
    "\n",
    "# model_fn = functools.partial(MLPClassifier, random_state=SEED, max_iter=1000)\n",
    "# param_grid_list = [{\n",
    "#     'hidden_layer_sizes': [(100,), (50, 50), (50, 100, 50)],\n",
    "#     'activation': ['logistic', 'relu'],\n",
    "#     'solver': ['adam', 'sgd'],\n",
    "#     'alpha': [0.0001, 0.001, 0.01],\n",
    "# }]\n",
    "# best_metrics, best_params, best_model = classification_dataset.perform_grid_search(model_fn, param_grid_list)\n",
    "# metrics_internal, metrics_external = classification_dataset.evaluate_test_sets(best_model)"
   ]
  },
  {
   "cell_type": "code",
   "execution_count": 8,
   "metadata": {},
   "outputs": [
    {
     "name": "stdout",
     "output_type": "stream",
     "text": [
      "model(criterion=gini)\n",
      "Valid:         AUC: 0.7844 | AUPR: 0.1935 | Acc: 80.23%\n",
      "model(criterion=log_loss)\n",
      "Valid:         AUC: 0.7804 | AUPR: 0.1913 | Acc: 80.24%\n",
      "model(criterion=entropy)\n",
      "Valid:         AUC: 0.7804 | AUPR: 0.1913 | Acc: 80.24%\n",
      "=======================================================\n",
      "best model(criterion=gini)\n",
      "Valid:         AUC: 0.7844 | AUPR: 0.1935 | Acc: 80.23%\n",
      "Internal test: AUC: 0.7873 | AUPR: 0.2271 | Acc: 83.92%\n",
      "External test: AUC: 0.7799 | AUPR: 0.2063 | Acc: 82.40%\n"
     ]
    }
   ],
   "source": [
    "from sklearn.tree import DecisionTreeClassifier\n",
    "\n",
    "model_fn = functools.partial(\n",
    "    DecisionTreeClassifier, random_state=SEED,\n",
    "    ccp_alpha=0.0, class_weight='balanced', max_depth=5)\n",
    "param_grid_list = [{\n",
    "        'criterion': ['gini', 'log_loss', 'entropy'],\n",
    "    }\n",
    "]\n",
    "best_metrics, best_params, best_model = classification_dataset.perform_grid_search(model_fn, param_grid_list)\n",
    "metrics_internal, metrics_external = classification_dataset.evaluate_test_sets(best_model)"
   ]
  },
  {
   "cell_type": "code",
   "execution_count": 9,
   "metadata": {},
   "outputs": [
    {
     "name": "stdout",
     "output_type": "stream",
     "text": [
      "model(criterion=gini, n_estimators=50)\n",
      "Valid:         AUC: 0.7990 | AUPR: 0.2519 | Acc: 87.53%\n",
      "model(criterion=gini, n_estimators=100)\n",
      "Valid:         AUC: 0.7988 | AUPR: 0.2516 | Acc: 87.52%\n",
      "model(criterion=gini, n_estimators=200)\n",
      "Valid:         AUC: 0.7981 | AUPR: 0.2504 | Acc: 87.47%\n",
      "model(criterion=log_loss, n_estimators=50)\n",
      "Valid:         AUC: 0.8036 | AUPR: 0.2549 | Acc: 87.51%\n",
      "model(criterion=log_loss, n_estimators=100)\n",
      "Valid:         AUC: 0.8023 | AUPR: 0.2553 | Acc: 87.64%\n",
      "model(criterion=log_loss, n_estimators=200)\n",
      "Valid:         AUC: 0.8005 | AUPR: 0.2528 | Acc: 87.53%\n",
      "model(criterion=entropy, n_estimators=50)\n",
      "Valid:         AUC: 0.8036 | AUPR: 0.2549 | Acc: 87.51%\n",
      "model(criterion=entropy, n_estimators=100)\n",
      "Valid:         AUC: 0.8023 | AUPR: 0.2553 | Acc: 87.64%\n",
      "model(criterion=entropy, n_estimators=200)\n",
      "Valid:         AUC: 0.8005 | AUPR: 0.2528 | Acc: 87.53%\n",
      "=======================================================\n",
      "best model(criterion=log_loss, n_estimators=50)\n",
      "Valid:         AUC: 0.8036 | AUPR: 0.2549 | Acc: 87.51%\n",
      "Internal test: AUC: 0.8022 | AUPR: 0.2636 | Acc: 86.93%\n",
      "External test: AUC: 0.7914 | AUPR: 0.2378 | Acc: 85.88%\n"
     ]
    }
   ],
   "source": [
    "from sklearn.ensemble import RandomForestClassifier\n",
    "\n",
    "model_fn = functools.partial(\n",
    "    RandomForestClassifier, random_state=SEED, n_jobs=-1,\n",
    "    ccp_alpha=0.0, class_weight='balanced', max_depth=5, bootstrap=False)\n",
    "param_grid_list = [{\n",
    "        'criterion': ['gini', 'log_loss', 'entropy'],\n",
    "        'n_estimators': [50, 100, 200],\n",
    "    }\n",
    "]\n",
    "best_metrics, best_params, best_model = classification_dataset.perform_grid_search(model_fn, param_grid_list)\n",
    "metrics_internal, metrics_external = classification_dataset.evaluate_test_sets(best_model)"
   ]
  },
  {
   "cell_type": "code",
   "execution_count": 10,
   "metadata": {},
   "outputs": [
    {
     "name": "stdout",
     "output_type": "stream",
     "text": [
      "model(criterion=friedman_mse)\n",
      "Valid:         AUC: 0.7114 | AUPR: 0.3701 | Acc: 95.04%\n",
      "model(criterion=squared_error)\n",
      "Valid:         AUC: 0.7115 | AUPR: 0.3710 | Acc: 95.05%\n",
      "=======================================================\n",
      "best model(criterion=squared_error)\n",
      "Valid:         AUC: 0.7115 | AUPR: 0.3710 | Acc: 95.05%\n",
      "Internal test: AUC: 0.7242 | AUPR: 0.4022 | Acc: 94.91%\n",
      "External test: AUC: 0.7111 | AUPR: 0.3643 | Acc: 94.73%\n"
     ]
    }
   ],
   "source": [
    "from sklearn.ensemble import GradientBoostingClassifier\n",
    "\n",
    "model = functools.partial(\n",
    "    GradientBoostingClassifier, random_state=SEED,\n",
    "    learning_rate=0.1, max_depth=5, loss='log_loss', \n",
    "    n_estimators=100)\n",
    "param_grid_list = [{\n",
    "        'criterion': ['friedman_mse', 'squared_error'],\n",
    "    }\n",
    "]\n",
    "best_metrics, best_params, best_model = classification_dataset.perform_grid_search(model, param_grid_list)\n",
    "metrics_internal, metrics_external = classification_dataset.evaluate_test_sets(best_model)"
   ]
  },
  {
   "cell_type": "code",
   "execution_count": 11,
   "metadata": {},
   "outputs": [
    {
     "name": "stdout",
     "output_type": "stream",
     "text": [
      "model(n_estimators=100, learning_rate=1.0)\n",
      "Valid:         AUC: 0.7047 | AUPR: 0.3592 | Acc: 94.95%\n",
      "model(n_estimators=200, learning_rate=1.0)\n",
      "Valid:         AUC: 0.7043 | AUPR: 0.3620 | Acc: 94.99%\n",
      "model(n_estimators=500, learning_rate=1.0)\n",
      "Valid:         AUC: 0.7076 | AUPR: 0.3633 | Acc: 94.98%\n",
      "=======================================================\n",
      "best model(n_estimators=500, learning_rate=1.0)\n",
      "Valid:         AUC: 0.7076 | AUPR: 0.3633 | Acc: 94.98%\n",
      "Internal test: AUC: 0.7161 | AUPR: 0.3863 | Acc: 94.77%\n",
      "External test: AUC: 0.6878 | AUPR: 0.3201 | Acc: 94.32%\n"
     ]
    }
   ],
   "source": [
    "from sklearn.ensemble import AdaBoostClassifier\n",
    "model = functools.partial(AdaBoostClassifier, random_state=SEED, algorithm=\"SAMME\")\n",
    "param_grid_list = [{\n",
    "    'n_estimators': [100, 200, 500],\n",
    "    'learning_rate': [1.0],\n",
    "}]\n",
    "best_metrics, best_params, best_model = classification_dataset.perform_grid_search(model, param_grid_list)\n",
    "metrics_internal, metrics_external = classification_dataset.evaluate_test_sets(best_model)"
   ]
  },
  {
   "cell_type": "code",
   "execution_count": null,
   "metadata": {},
   "outputs": [],
   "source": []
  }
 ],
 "metadata": {
  "kernelspec": {
   "display_name": "py310",
   "language": "python",
   "name": "python3"
  },
  "language_info": {
   "codemirror_mode": {
    "name": "ipython",
    "version": 3
   },
   "file_extension": ".py",
   "mimetype": "text/x-python",
   "name": "python",
   "nbconvert_exporter": "python",
   "pygments_lexer": "ipython3",
   "version": "3.10.13"
  }
 },
 "nbformat": 4,
 "nbformat_minor": 2
}
