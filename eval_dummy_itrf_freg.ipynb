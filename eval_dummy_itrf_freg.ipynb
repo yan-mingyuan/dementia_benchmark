{
 "cells": [
  {
   "cell_type": "code",
   "execution_count": 12,
   "metadata": {},
   "outputs": [],
   "source": [
    "from config import *\n",
    "from dataset import ClassificationDataset\n",
    "\n",
    "import functools\n",
    "import warnings\n",
    "from sklearn.exceptions import ConvergenceWarning\n",
    "\n",
    "internal, external = 11, 12\n",
    "encode_method = \"dummy\"\n",
    "impute_method = \"itrf\"\n",
    "fs_method, fs_ratio = \"freg\", 0.5\n",
    "norm_method = \"maxmin\"\n",
    "warnings.filterwarnings(\"ignore\", category=ConvergenceWarning)\n",
    "classification_dataset = ClassificationDataset(\n",
    "    internal, external, encode_method, impute_method, fs_method, fs_ratio, norm_method, random_state=SEED)\n",
    "warnings.resetwarnings()"
   ]
  },
  {
   "cell_type": "code",
   "execution_count": 13,
   "metadata": {},
   "outputs": [
    {
     "name": "stdout",
     "output_type": "stream",
     "text": [
      "model()\n",
      "Valid:         AUC: 0.7900 | AUPR: 0.2335 | Acc: 86.44%\n",
      "=======================================================\n",
      "best model()\n",
      "Valid:         AUC: 0.7900 | AUPR: 0.2335 | Acc: 86.44%\n",
      "Internal test: AUC: 0.7929 | AUPR: 0.2500 | Acc: 86.30%\n",
      "External test: AUC: 0.7816 | AUPR: 0.2231 | Acc: 84.92%\n"
     ]
    }
   ],
   "source": [
    "from sklearn.naive_bayes import GaussianNB\n",
    "\n",
    "model_fn = GaussianNB\n",
    "param_grid_list = [{}]\n",
    "best_metrics, best_params, best_model = classification_dataset.perform_grid_search(model_fn, param_grid_list)\n",
    "metrics_internal, metrics_external = classification_dataset.evaluate_test_sets(best_model)"
   ]
  },
  {
   "cell_type": "code",
   "execution_count": 14,
   "metadata": {},
   "outputs": [
    {
     "name": "stdout",
     "output_type": "stream",
     "text": [
      "model()\n",
      "Valid:         AUC: 0.7670 | AUPR: 0.1873 | Acc: 81.66%\n",
      "=======================================================\n",
      "best model()\n",
      "Valid:         AUC: 0.7670 | AUPR: 0.1873 | Acc: 81.66%\n",
      "Internal test: AUC: 0.7674 | AUPR: 0.2003 | Acc: 81.58%\n",
      "External test: AUC: 0.7623 | AUPR: 0.1856 | Acc: 80.31%\n"
     ]
    }
   ],
   "source": [
    "from sklearn.naive_bayes import ComplementNB\n",
    "\n",
    "model_fn = ComplementNB\n",
    "param_grid_list = [{}]\n",
    "best_metrics, best_params, best_model = classification_dataset.perform_grid_search(model_fn, param_grid_list)\n",
    "metrics_internal, metrics_external = classification_dataset.evaluate_test_sets(best_model)"
   ]
  },
  {
   "cell_type": "code",
   "execution_count": 15,
   "metadata": {},
   "outputs": [
    {
     "name": "stdout",
     "output_type": "stream",
     "text": [
      "model(p=1)\n",
      "Valid:         AUC: 0.7030 | AUPR: 0.2777 | Acc: 93.48%\n",
      "model(p=2)\n",
      "Valid:         AUC: 0.7067 | AUPR: 0.2769 | Acc: 93.38%\n",
      "=======================================================\n",
      "best model(p=2)\n",
      "Valid:         AUC: 0.7067 | AUPR: 0.2769 | Acc: 93.38%\n",
      "Internal test: AUC: 0.7058 | AUPR: 0.2914 | Acc: 93.14%\n",
      "External test: AUC: 0.6999 | AUPR: 0.2850 | Acc: 93.41%\n"
     ]
    }
   ],
   "source": [
    "from sklearn.neighbors import KNeighborsClassifier\n",
    "\n",
    "model_fn = functools.partial(\n",
    "    KNeighborsClassifier, n_jobs=-1, algorithm='auto',\n",
    "    n_neighbors=1, )\n",
    "param_grid_list = [{\n",
    "    'p': [1, 2],\n",
    "}]\n",
    "best_metrics, best_params, best_model = classification_dataset.perform_grid_search(model_fn, param_grid_list)\n",
    "metrics_internal, metrics_external = classification_dataset.evaluate_test_sets(best_model)"
   ]
  },
  {
   "cell_type": "code",
   "execution_count": 16,
   "metadata": {},
   "outputs": [
    {
     "name": "stdout",
     "output_type": "stream",
     "text": [
      "model(C=1.0)\n",
      "Valid:         AUC: 0.7231 | AUPR: 0.3935 | Acc: 95.25%\n",
      "model(C=10.0)\n",
      "Valid:         AUC: 0.7232 | AUPR: 0.3907 | Acc: 95.21%\n",
      "model(C=100.0)\n",
      "Valid:         AUC: 0.7236 | AUPR: 0.3909 | Acc: 95.21%\n",
      "=======================================================\n",
      "best model(C=100.0)\n",
      "Valid:         AUC: 0.7236 | AUPR: 0.3909 | Acc: 95.21%\n",
      "Internal test: AUC: 0.7324 | AUPR: 0.4436 | Acc: 95.35%\n",
      "External test: AUC: 0.7126 | AUPR: 0.3723 | Acc: 94.82%\n"
     ]
    }
   ],
   "source": [
    "# from sklearn.exceptions import ConvergenceWarning\n",
    "# import warnings\n",
    "# warnings.filterwarnings(\"ignore\", category=ConvergenceWarning)\n",
    "from sklearn.linear_model import LogisticRegression\n",
    "\n",
    "model_fn = functools.partial(\n",
    "    LogisticRegression, random_state=SEED, n_jobs=-1, \n",
    "    max_iter=2000, solver='saga', penalty='l2',\n",
    "    )\n",
    "param_grid_list = [{\n",
    "    'C': [1.0, 10.0, 100.0],\n",
    "}]\n",
    "best_metrics, best_params, best_model = classification_dataset.perform_grid_search(\n",
    "    model_fn, param_grid_list)\n",
    "metrics_internal, metrics_external = classification_dataset.evaluate_test_sets(\n",
    "    best_model)"
   ]
  },
  {
   "cell_type": "code",
   "execution_count": 17,
   "metadata": {},
   "outputs": [
    {
     "name": "stdout",
     "output_type": "stream",
     "text": [
      "model(C=0.01)\n",
      "Valid:         AUC: 0.8292 | AUPR: 0.2589 | Acc: 85.87%\n",
      "model(C=0.1)\n",
      "Valid:         AUC: 0.8287 | AUPR: 0.2551 | Acc: 85.53%\n",
      "model(C=1)\n",
      "Valid:         AUC: 0.8309 | AUPR: 0.2565 | Acc: 85.51%\n",
      "=======================================================\n",
      "best model(C=1)\n",
      "Valid:         AUC: 0.8309 | AUPR: 0.2565 | Acc: 85.51%\n",
      "Internal test: AUC: 0.8434 | AUPR: 0.2889 | Acc: 86.18%\n",
      "External test: AUC: 0.8346 | AUPR: 0.2638 | Acc: 85.06%\n"
     ]
    }
   ],
   "source": [
    "from sklearn.svm import SVC\n",
    "\n",
    "model_fn = functools.partial(\n",
    "    SVC, random_state=SEED, \n",
    "    class_weight='balanced', kernel='linear',\n",
    "    )\n",
    "param_grid_list = [{\n",
    "    'C': [0.01, 0.1, 1],\n",
    "}]\n",
    "best_metrics, best_params, best_model = classification_dataset.perform_grid_search(model_fn, param_grid_list)\n",
    "metrics_internal, metrics_external = classification_dataset.evaluate_test_sets(best_model)"
   ]
  },
  {
   "cell_type": "code",
   "execution_count": 18,
   "metadata": {},
   "outputs": [],
   "source": [
    "# from sklearn.neural_network import MLPClassifier\n",
    "\n",
    "# model_fn = functools.partial(MLPClassifier, random_state=SEED, max_iter=1000)\n",
    "# param_grid_list = [{\n",
    "#     'hidden_layer_sizes': [(100,), (50, 50), (50, 100, 50)],\n",
    "#     'activation': ['logistic', 'relu'],\n",
    "#     'solver': ['adam', 'sgd'],\n",
    "#     'alpha': [0.0001, 0.001, 0.01],\n",
    "# }]\n",
    "# best_metrics, best_params, best_model = classification_dataset.perform_grid_search(model_fn, param_grid_list)\n",
    "# metrics_internal, metrics_external = classification_dataset.evaluate_test_sets(best_model)"
   ]
  },
  {
   "cell_type": "code",
   "execution_count": 19,
   "metadata": {},
   "outputs": [
    {
     "name": "stdout",
     "output_type": "stream",
     "text": [
      "model(criterion=gini)\n",
      "Valid:         AUC: 0.7913 | AUPR: 0.2433 | Acc: 87.33%\n",
      "model(criterion=log_loss)\n",
      "Valid:         AUC: 0.7868 | AUPR: 0.2430 | Acc: 86.85%\n",
      "model(criterion=entropy)\n",
      "Valid:         AUC: 0.7868 | AUPR: 0.2430 | Acc: 86.85%\n",
      "=======================================================\n",
      "best model(criterion=gini)\n",
      "Valid:         AUC: 0.7913 | AUPR: 0.2433 | Acc: 87.33%\n",
      "Internal test: AUC: 0.8144 | AUPR: 0.3022 | Acc: 89.20%\n",
      "External test: AUC: 0.7877 | AUPR: 0.2622 | Acc: 88.54%\n"
     ]
    }
   ],
   "source": [
    "from sklearn.tree import DecisionTreeClassifier\n",
    "\n",
    "model_fn = functools.partial(\n",
    "    DecisionTreeClassifier, random_state=SEED,\n",
    "    ccp_alpha=0.0, class_weight='balanced', max_depth=5)\n",
    "param_grid_list = [{\n",
    "        'criterion': ['gini', 'log_loss', 'entropy'],\n",
    "    }\n",
    "]\n",
    "best_metrics, best_params, best_model = classification_dataset.perform_grid_search(model_fn, param_grid_list)\n",
    "metrics_internal, metrics_external = classification_dataset.evaluate_test_sets(best_model)"
   ]
  },
  {
   "cell_type": "code",
   "execution_count": 20,
   "metadata": {},
   "outputs": [
    {
     "name": "stdout",
     "output_type": "stream",
     "text": [
      "model(criterion=gini, n_estimators=50)\n",
      "Valid:         AUC: 0.8179 | AUPR: 0.2943 | Acc: 89.62%\n",
      "model(criterion=gini, n_estimators=100)\n",
      "Valid:         AUC: 0.8175 | AUPR: 0.2948 | Acc: 89.68%\n",
      "model(criterion=gini, n_estimators=200)\n",
      "Valid:         AUC: 0.8160 | AUPR: 0.2960 | Acc: 89.85%\n",
      "model(criterion=log_loss, n_estimators=50)\n",
      "Valid:         AUC: 0.8162 | AUPR: 0.2944 | Acc: 89.72%\n",
      "model(criterion=log_loss, n_estimators=100)\n",
      "Valid:         AUC: 0.8174 | AUPR: 0.3012 | Acc: 90.10%\n",
      "model(criterion=log_loss, n_estimators=200)\n",
      "Valid:         AUC: 0.8170 | AUPR: 0.3022 | Acc: 90.18%\n",
      "model(criterion=entropy, n_estimators=50)\n",
      "Valid:         AUC: 0.8162 | AUPR: 0.2944 | Acc: 89.72%\n",
      "model(criterion=entropy, n_estimators=100)\n",
      "Valid:         AUC: 0.8174 | AUPR: 0.3012 | Acc: 90.10%\n",
      "model(criterion=entropy, n_estimators=200)\n",
      "Valid:         AUC: 0.8170 | AUPR: 0.3022 | Acc: 90.18%\n",
      "=======================================================\n",
      "best model(criterion=gini, n_estimators=50)\n",
      "Valid:         AUC: 0.8179 | AUPR: 0.2943 | Acc: 89.62%\n",
      "Internal test: AUC: 0.8227 | AUPR: 0.3039 | Acc: 88.83%\n",
      "External test: AUC: 0.8129 | AUPR: 0.2790 | Acc: 88.20%\n"
     ]
    }
   ],
   "source": [
    "from sklearn.ensemble import RandomForestClassifier\n",
    "\n",
    "model_fn = functools.partial(\n",
    "    RandomForestClassifier, random_state=SEED, n_jobs=-1,\n",
    "    ccp_alpha=0.0, class_weight='balanced', max_depth=5, bootstrap=False)\n",
    "param_grid_list = [{\n",
    "        'criterion': ['gini', 'log_loss', 'entropy'],\n",
    "        'n_estimators': [50, 100, 200],\n",
    "    }\n",
    "]\n",
    "best_metrics, best_params, best_model = classification_dataset.perform_grid_search(model_fn, param_grid_list)\n",
    "metrics_internal, metrics_external = classification_dataset.evaluate_test_sets(best_model)"
   ]
  },
  {
   "cell_type": "code",
   "execution_count": 21,
   "metadata": {},
   "outputs": [
    {
     "name": "stdout",
     "output_type": "stream",
     "text": [
      "model(criterion=friedman_mse)\n",
      "Valid:         AUC: 0.7380 | AUPR: 0.4020 | Acc: 95.23%\n",
      "model(criterion=squared_error)\n",
      "Valid:         AUC: 0.7384 | AUPR: 0.4028 | Acc: 95.24%\n",
      "=======================================================\n",
      "best model(criterion=squared_error)\n",
      "Valid:         AUC: 0.7384 | AUPR: 0.4028 | Acc: 95.24%\n",
      "Internal test: AUC: 0.7622 | AUPR: 0.4677 | Acc: 95.47%\n",
      "External test: AUC: 0.7349 | AUPR: 0.4044 | Acc: 95.06%\n"
     ]
    }
   ],
   "source": [
    "from sklearn.ensemble import GradientBoostingClassifier\n",
    "\n",
    "model = functools.partial(\n",
    "    GradientBoostingClassifier, random_state=SEED,\n",
    "    learning_rate=0.1, max_depth=5, loss='log_loss', \n",
    "    n_estimators=100)\n",
    "param_grid_list = [{\n",
    "        'criterion': ['friedman_mse', 'squared_error'],\n",
    "    }\n",
    "]\n",
    "best_metrics, best_params, best_model = classification_dataset.perform_grid_search(model, param_grid_list)\n",
    "metrics_internal, metrics_external = classification_dataset.evaluate_test_sets(best_model)"
   ]
  },
  {
   "cell_type": "code",
   "execution_count": 22,
   "metadata": {},
   "outputs": [
    {
     "name": "stdout",
     "output_type": "stream",
     "text": [
      "model(n_estimators=100, learning_rate=1.0)\n",
      "Valid:         AUC: 0.7256 | AUPR: 0.3835 | Acc: 95.10%\n",
      "model(n_estimators=200, learning_rate=1.0)\n",
      "Valid:         AUC: 0.7258 | AUPR: 0.3819 | Acc: 95.08%\n",
      "model(n_estimators=500, learning_rate=1.0)\n",
      "Valid:         AUC: 0.7247 | AUPR: 0.3845 | Acc: 95.12%\n",
      "=======================================================\n",
      "best model(n_estimators=200, learning_rate=1.0)\n",
      "Valid:         AUC: 0.7258 | AUPR: 0.3819 | Acc: 95.08%\n",
      "Internal test: AUC: 0.7324 | AUPR: 0.4203 | Acc: 95.09%\n",
      "External test: AUC: 0.7106 | AUPR: 0.3620 | Acc: 94.70%\n"
     ]
    }
   ],
   "source": [
    "from sklearn.ensemble import AdaBoostClassifier\n",
    "model = functools.partial(AdaBoostClassifier, random_state=SEED, algorithm=\"SAMME\")\n",
    "param_grid_list = [{\n",
    "    'n_estimators': [100, 200, 500],\n",
    "    'learning_rate': [1.0],\n",
    "}]\n",
    "best_metrics, best_params, best_model = classification_dataset.perform_grid_search(model, param_grid_list)\n",
    "metrics_internal, metrics_external = classification_dataset.evaluate_test_sets(best_model)"
   ]
  },
  {
   "cell_type": "code",
   "execution_count": null,
   "metadata": {},
   "outputs": [],
   "source": []
  }
 ],
 "metadata": {
  "kernelspec": {
   "display_name": "py310",
   "language": "python",
   "name": "python3"
  },
  "language_info": {
   "codemirror_mode": {
    "name": "ipython",
    "version": 3
   },
   "file_extension": ".py",
   "mimetype": "text/x-python",
   "name": "python",
   "nbconvert_exporter": "python",
   "pygments_lexer": "ipython3",
   "version": "3.10.13"
  }
 },
 "nbformat": 4,
 "nbformat_minor": 2
}
