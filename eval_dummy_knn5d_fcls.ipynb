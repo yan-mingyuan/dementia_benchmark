{
 "cells": [
  {
   "cell_type": "code",
   "execution_count": 1,
   "metadata": {},
   "outputs": [],
   "source": [
    "from config import *\n",
    "from utilities import get_model_name\n",
    "from dataset import ClassificationDataset\n",
    "\n",
    "import functools\n",
    "import numpy as np\n",
    "import pandas as pd\n",
    "\n",
    "results_dict = {}\n",
    "internal, external = 11, 12\n",
    "encode_method = \"dummy\"\n",
    "impute_method = \"knn5d\"\n",
    "fs_method, fs_ratio = \"fcls\", 0.5\n",
    "norm_method = \"maxmin\"\n",
    "classification_dataset = ClassificationDataset(\n",
    "    internal, external, encode_method, impute_method, fs_method, fs_ratio, norm_method, random_state=SEED)"
   ]
  },
  {
   "cell_type": "code",
   "execution_count": 2,
   "metadata": {},
   "outputs": [
    {
     "name": "stdout",
     "output_type": "stream",
     "text": [
      "SVC\n",
      "model(kernel=linear, C=0.01)\n",
      "Valid:         AUC: 0.9141 | AUPR: 0.6209 | Acc: 94.98%\n",
      "model(kernel=linear, C=0.1)\n",
      "Valid:         AUC: 0.9146 | AUPR: 0.6123 | Acc: 94.91%\n",
      "model(kernel=linear, C=1)\n",
      "Valid:         AUC: 0.9138 | AUPR: 0.6094 | Acc: 94.88%\n",
      "=======================================================\n",
      "best model(kernel=linear, C=0.1)\n",
      "Valid:         AUC: 0.9146 | AUPR: 0.6123 | Acc: 94.91%\n",
      "Internal test: AUC: 0.9211 | AUPR: 0.6675 | Acc: 94.87%\n",
      "External test: AUC: 0.9142 | AUPR: 0.6058 | Acc: 94.56%\n"
     ]
    }
   ],
   "source": [
    "from sklearn.svm import SVC\n",
    "\n",
    "model_fn = functools.partial(\n",
    "    SVC, random_state=SEED, probability=True,\n",
    "    class_weight='balanced')\n",
    "param_grid_list = [{\n",
    "    'kernel': ['linear'],\n",
    "    'C': [0.01, 0.1, 1],\n",
    "}]\n",
    "best_metrics, best_params, best_model = classification_dataset.perform_grid_search(model_fn, param_grid_list)\n",
    "metrics_internal, metrics_external = classification_dataset.evaluate_test_sets(best_model)\n",
    "results_dict[get_model_name(model_fn)] = np.concatenate([best_metrics, metrics_internal, metrics_external], axis=0)"
   ]
  },
  {
   "cell_type": "code",
   "execution_count": 3,
   "metadata": {},
   "outputs": [
    {
     "name": "stdout",
     "output_type": "stream",
     "text": [
      "KNeighborsClassifier\n",
      "model(n_neighbors=3)\n",
      "Valid:         AUC: 0.7460 | AUPR: 0.4208 | Acc: 94.66%\n",
      "model(n_neighbors=5)\n",
      "Valid:         AUC: 0.7766 | AUPR: 0.4687 | Acc: 94.94%\n",
      "model(n_neighbors=7)\n",
      "Valid:         AUC: 0.7926 | AUPR: 0.4962 | Acc: 95.11%\n",
      "=======================================================\n",
      "best model(n_neighbors=7)\n",
      "Valid:         AUC: 0.7926 | AUPR: 0.4962 | Acc: 95.11%\n",
      "Internal test: AUC: 0.7913 | AUPR: 0.5136 | Acc: 94.87%\n",
      "External test: AUC: 0.8035 | AUPR: 0.5052 | Acc: 94.89%\n"
     ]
    }
   ],
   "source": [
    "from sklearn.neighbors import KNeighborsClassifier\n",
    "\n",
    "model_fn = functools.partial(\n",
    "    KNeighborsClassifier, n_jobs=-1, algorithm='auto', p=2)\n",
    "param_grid_list = [{\n",
    "    'n_neighbors': [3, 5, 7],\n",
    "}]\n",
    "best_metrics, best_params, best_model = classification_dataset.perform_grid_search(model_fn, param_grid_list)\n",
    "metrics_internal, metrics_external = classification_dataset.evaluate_test_sets(best_model)\n",
    "results_dict[get_model_name(model_fn)] = np.concatenate([best_metrics, metrics_internal, metrics_external], axis=0)"
   ]
  },
  {
   "cell_type": "code",
   "execution_count": 4,
   "metadata": {},
   "outputs": [
    {
     "name": "stdout",
     "output_type": "stream",
     "text": [
      "GaussianNB\n",
      "model()\n",
      "Valid:         AUC: 0.8718 | AUPR: 0.3998 | Acc: 86.27%\n",
      "=======================================================\n",
      "best model()\n",
      "Valid:         AUC: 0.8718 | AUPR: 0.3998 | Acc: 86.27%\n",
      "Internal test: AUC: 0.8812 | AUPR: 0.4244 | Acc: 86.11%\n",
      "External test: AUC: 0.8688 | AUPR: 0.3807 | Acc: 84.71%\n"
     ]
    }
   ],
   "source": [
    "from sklearn.naive_bayes import GaussianNB\n",
    "\n",
    "model_fn = GaussianNB\n",
    "param_grid_list = [{}]\n",
    "best_metrics, best_params, best_model = classification_dataset.perform_grid_search(model_fn, param_grid_list)\n",
    "metrics_internal, metrics_external = classification_dataset.evaluate_test_sets(best_model)\n",
    "results_dict[get_model_name(model_fn)] = np.concatenate([best_metrics, metrics_internal, metrics_external], axis=0)"
   ]
  },
  {
   "cell_type": "code",
   "execution_count": 5,
   "metadata": {},
   "outputs": [
    {
     "name": "stdout",
     "output_type": "stream",
     "text": [
      "LogisticRegression\n",
      "model(C=1.0)\n",
      "Valid:         AUC: 0.9159 | AUPR: 0.6465 | Acc: 95.22%\n",
      "model(C=10.0)\n",
      "Valid:         AUC: 0.9156 | AUPR: 0.6459 | Acc: 95.25%\n",
      "model(C=100.0)\n",
      "Valid:         AUC: 0.9151 | AUPR: 0.6454 | Acc: 95.22%\n",
      "=======================================================\n",
      "best model(C=1.0)\n",
      "Valid:         AUC: 0.9159 | AUPR: 0.6465 | Acc: 95.22%\n",
      "Internal test: AUC: 0.9245 | AUPR: 0.6886 | Acc: 95.30%\n",
      "External test: AUC: 0.9139 | AUPR: 0.6322 | Acc: 94.78%\n"
     ]
    }
   ],
   "source": [
    "# from sklearn.exceptions import ConvergenceWarning\n",
    "# import warnings\n",
    "# warnings.filterwarnings(\"ignore\", category=ConvergenceWarning)\n",
    "from sklearn.linear_model import LogisticRegression\n",
    "\n",
    "model_fn = functools.partial(\n",
    "    LogisticRegression, random_state=SEED, n_jobs=-1, \n",
    "    max_iter=2000, solver='saga', penalty='l2',\n",
    "    )\n",
    "param_grid_list = [{\n",
    "    'C': [1.0, 10.0, 100.0],\n",
    "}]\n",
    "best_metrics, best_params, best_model = classification_dataset.perform_grid_search(\n",
    "    model_fn, param_grid_list)\n",
    "metrics_internal, metrics_external = classification_dataset.evaluate_test_sets(\n",
    "    best_model)\n",
    "results_dict[get_model_name(model_fn)] = np.concatenate([best_metrics, metrics_internal, metrics_external], axis=0)"
   ]
  },
  {
   "cell_type": "code",
   "execution_count": 6,
   "metadata": {},
   "outputs": [
    {
     "name": "stdout",
     "output_type": "stream",
     "text": [
      "MLPClassifier\n",
      "model(hidden_layer_sizes=(50, 50), learning_rate_init=0.0003)\n",
      "Valid:         AUC: 0.9076 | AUPR: 0.6365 | Acc: 95.29%\n",
      "model(hidden_layer_sizes=(50, 50), learning_rate_init=0.001)\n",
      "Valid:         AUC: 0.9144 | AUPR: 0.6522 | Acc: 95.38%\n",
      "=======================================================\n",
      "best model(hidden_layer_sizes=(50, 50), learning_rate_init=0.001)\n",
      "Valid:         AUC: 0.9144 | AUPR: 0.6522 | Acc: 95.38%\n",
      "Internal test: AUC: 0.9244 | AUPR: 0.6786 | Acc: 95.09%\n",
      "External test: AUC: 0.9165 | AUPR: 0.6399 | Acc: 94.90%\n"
     ]
    }
   ],
   "source": [
    "from sklearn.neural_network import MLPClassifier\n",
    "\n",
    "model_fn = functools.partial(\n",
    "    MLPClassifier, random_state=SEED, max_iter=1000,\n",
    "    activation='relu',\n",
    "    solver='sgd', nesterovs_momentum=True, momentum=0.9)\n",
    "param_grid_list = [{\n",
    "    # 'hidden_layer_sizes': [(100,), (50, 50), (50, 100, 50)],\n",
    "    'hidden_layer_sizes': [(50, 50)],\n",
    "    'learning_rate_init': [0.0003, 0.001],\n",
    "}]\n",
    "best_metrics, best_params, best_model = classification_dataset.perform_grid_search(model_fn, param_grid_list)\n",
    "metrics_internal, metrics_external = classification_dataset.evaluate_test_sets(best_model)\n",
    "results_dict[get_model_name(model_fn)] = np.concatenate([best_metrics, metrics_internal, metrics_external], axis=0)"
   ]
  },
  {
   "cell_type": "code",
   "execution_count": 7,
   "metadata": {},
   "outputs": [
    {
     "name": "stdout",
     "output_type": "stream",
     "text": [
      "DecisionTreeClassifier\n",
      "model(criterion=gini)\n",
      "Valid:         AUC: 0.8617 | AUPR: 0.5427 | Acc: 86.76%\n",
      "model(criterion=log_loss)\n",
      "Valid:         AUC: 0.8643 | AUPR: 0.5647 | Acc: 84.54%\n",
      "model(criterion=entropy)\n",
      "Valid:         AUC: 0.8643 | AUPR: 0.5647 | Acc: 84.54%\n",
      "=======================================================\n",
      "best model(criterion=log_loss)\n",
      "Valid:         AUC: 0.8643 | AUPR: 0.5647 | Acc: 84.54%\n",
      "Internal test: AUC: 0.8758 | AUPR: 0.6121 | Acc: 86.37%\n",
      "External test: AUC: 0.8664 | AUPR: 0.5737 | Acc: 85.16%\n"
     ]
    }
   ],
   "source": [
    "from sklearn.tree import DecisionTreeClassifier\n",
    "\n",
    "model_fn = functools.partial(\n",
    "    DecisionTreeClassifier, random_state=SEED,\n",
    "    ccp_alpha=0.0, class_weight='balanced', max_depth=5)\n",
    "param_grid_list = [{\n",
    "        'criterion': ['gini', 'log_loss', 'entropy'],\n",
    "    }\n",
    "]\n",
    "best_metrics, best_params, best_model = classification_dataset.perform_grid_search(model_fn, param_grid_list)\n",
    "metrics_internal, metrics_external = classification_dataset.evaluate_test_sets(best_model)\n",
    "results_dict[get_model_name(model_fn)] = np.concatenate([best_metrics, metrics_internal, metrics_external], axis=0)"
   ]
  },
  {
   "cell_type": "code",
   "execution_count": 8,
   "metadata": {},
   "outputs": [
    {
     "name": "stdout",
     "output_type": "stream",
     "text": [
      "RandomForestClassifier\n",
      "model(criterion=gini, n_estimators=50)\n",
      "Valid:         AUC: 0.9107 | AUPR: 0.6446 | Acc: 88.88%\n",
      "model(criterion=gini, n_estimators=100)\n",
      "Valid:         AUC: 0.9120 | AUPR: 0.6493 | Acc: 89.13%\n",
      "model(criterion=gini, n_estimators=200)\n",
      "Valid:         AUC: 0.9123 | AUPR: 0.6507 | Acc: 89.07%\n",
      "model(criterion=log_loss, n_estimators=50)\n",
      "Valid:         AUC: 0.9105 | AUPR: 0.6505 | Acc: 89.04%\n",
      "model(criterion=log_loss, n_estimators=100)\n",
      "Valid:         AUC: 0.9119 | AUPR: 0.6532 | Acc: 89.32%\n",
      "model(criterion=log_loss, n_estimators=200)\n",
      "Valid:         AUC: 0.9125 | AUPR: 0.6554 | Acc: 89.51%\n",
      "model(criterion=entropy, n_estimators=50)\n",
      "Valid:         AUC: 0.9105 | AUPR: 0.6505 | Acc: 89.04%\n",
      "model(criterion=entropy, n_estimators=100)\n",
      "Valid:         AUC: 0.9119 | AUPR: 0.6532 | Acc: 89.32%\n",
      "model(criterion=entropy, n_estimators=200)\n",
      "Valid:         AUC: 0.9125 | AUPR: 0.6554 | Acc: 89.51%\n",
      "=======================================================\n",
      "best model(criterion=log_loss, n_estimators=200)\n",
      "Valid:         AUC: 0.9125 | AUPR: 0.6554 | Acc: 89.51%\n",
      "Internal test: AUC: 0.9202 | AUPR: 0.6917 | Acc: 89.20%\n",
      "External test: AUC: 0.9099 | AUPR: 0.6483 | Acc: 88.29%\n"
     ]
    }
   ],
   "source": [
    "from sklearn.ensemble import RandomForestClassifier\n",
    "\n",
    "model_fn = functools.partial(\n",
    "    RandomForestClassifier, random_state=SEED, n_jobs=-1,\n",
    "    ccp_alpha=0.0, class_weight='balanced', max_depth=5, bootstrap=False)\n",
    "param_grid_list = [{\n",
    "        'criterion': ['gini', 'log_loss', 'entropy'],\n",
    "        'n_estimators': [50, 100, 200],\n",
    "    }\n",
    "]\n",
    "best_metrics, best_params, best_model = classification_dataset.perform_grid_search(model_fn, param_grid_list)\n",
    "metrics_internal, metrics_external = classification_dataset.evaluate_test_sets(best_model)\n",
    "results_dict[get_model_name(model_fn)] = np.concatenate([best_metrics, metrics_internal, metrics_external], axis=0)"
   ]
  },
  {
   "cell_type": "code",
   "execution_count": 9,
   "metadata": {},
   "outputs": [
    {
     "name": "stdout",
     "output_type": "stream",
     "text": [
      "GradientBoostingClassifier\n",
      "model(criterion=friedman_mse)\n",
      "Valid:         AUC: 0.9153 | AUPR: 0.6477 | Acc: 95.22%\n",
      "model(criterion=squared_error)\n",
      "Valid:         AUC: 0.9148 | AUPR: 0.6484 | Acc: 95.20%\n",
      "=======================================================\n",
      "best model(criterion=friedman_mse)\n",
      "Valid:         AUC: 0.9153 | AUPR: 0.6477 | Acc: 95.22%\n",
      "Internal test: AUC: 0.9228 | AUPR: 0.6752 | Acc: 95.45%\n",
      "External test: AUC: 0.9196 | AUPR: 0.6641 | Acc: 95.12%\n"
     ]
    }
   ],
   "source": [
    "from sklearn.ensemble import GradientBoostingClassifier\n",
    "\n",
    "model = functools.partial(\n",
    "    GradientBoostingClassifier, random_state=SEED,\n",
    "    learning_rate=0.1, max_depth=5, loss='log_loss', \n",
    "    n_estimators=100)\n",
    "param_grid_list = [{\n",
    "        'criterion': ['friedman_mse', 'squared_error'],\n",
    "    }\n",
    "]\n",
    "best_metrics, best_params, best_model = classification_dataset.perform_grid_search(model, param_grid_list)\n",
    "metrics_internal, metrics_external = classification_dataset.evaluate_test_sets(best_model)\n",
    "results_dict[get_model_name(model_fn)] = np.concatenate([best_metrics, metrics_internal, metrics_external], axis=0)"
   ]
  },
  {
   "cell_type": "code",
   "execution_count": 10,
   "metadata": {},
   "outputs": [
    {
     "name": "stdout",
     "output_type": "stream",
     "text": [
      "AdaBoostClassifier\n",
      "model(n_estimators=100, learning_rate=1.0)\n",
      "Valid:         AUC: 0.9106 | AUPR: 0.6208 | Acc: 95.04%\n",
      "model(n_estimators=200, learning_rate=1.0)\n",
      "Valid:         AUC: 0.9114 | AUPR: 0.6217 | Acc: 95.01%\n",
      "model(n_estimators=500, learning_rate=1.0)\n",
      "Valid:         AUC: 0.9117 | AUPR: 0.6218 | Acc: 94.99%\n",
      "=======================================================\n",
      "best model(n_estimators=500, learning_rate=1.0)\n",
      "Valid:         AUC: 0.9117 | AUPR: 0.6218 | Acc: 94.99%\n",
      "Internal test: AUC: 0.9183 | AUPR: 0.6772 | Acc: 95.28%\n",
      "External test: AUC: 0.9134 | AUPR: 0.6164 | Acc: 94.58%\n"
     ]
    }
   ],
   "source": [
    "from sklearn.ensemble import AdaBoostClassifier\n",
    "model = functools.partial(AdaBoostClassifier, random_state=SEED, algorithm=\"SAMME\")\n",
    "param_grid_list = [{\n",
    "    'n_estimators': [100, 200, 500],\n",
    "    'learning_rate': [1.0],\n",
    "}]\n",
    "best_metrics, best_params, best_model = classification_dataset.perform_grid_search(model, param_grid_list)\n",
    "metrics_internal, metrics_external = classification_dataset.evaluate_test_sets(best_model)\n",
    "results_dict[get_model_name(model_fn)] = np.concatenate([best_metrics, metrics_internal, metrics_external], axis=0)"
   ]
  },
  {
   "cell_type": "code",
   "execution_count": 11,
   "metadata": {},
   "outputs": [],
   "source": [
    "dataframe = pd.DataFrame(results_dict).transpose().reset_index()\n",
    "dataframe.columns = ['model', 'val_auc', 'val_aupr', 'val_acc', 'intest_auc', 'intest_aupr', 'intest_acc', 'extest_auc', 'extest_aupr', 'extest_acc']\n",
    "# dataframe.to_csv()\n",
    "filename = os.path.join(RESULTS_DIR, encode_method, impute_method, f'{fs_method}{int(fs_ratio * 142)}.csv')\n",
    "dirname = os.path.dirname(filename)\n",
    "if not os.path.exists(dirname):\n",
    "    os.makedirs(dirname)\n",
    "dataframe.to_csv(filename, index=False)"
   ]
  },
  {
   "cell_type": "code",
   "execution_count": null,
   "metadata": {},
   "outputs": [],
   "source": []
  }
 ],
 "metadata": {
  "kernelspec": {
   "display_name": "py310",
   "language": "python",
   "name": "python3"
  },
  "language_info": {
   "codemirror_mode": {
    "name": "ipython",
    "version": 3
   },
   "file_extension": ".py",
   "mimetype": "text/x-python",
   "name": "python",
   "nbconvert_exporter": "python",
   "pygments_lexer": "ipython3",
   "version": "3.10.13"
  }
 },
 "nbformat": 4,
 "nbformat_minor": 2
}
